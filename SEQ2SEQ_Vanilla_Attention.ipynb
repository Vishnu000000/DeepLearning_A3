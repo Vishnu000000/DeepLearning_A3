{
 "cells": [
  {
   "cell_type": "code",
   "execution_count": 2,
   "id": "6862e6ca",
   "metadata": {
    "execution": {
     "iopub.execute_input": "2025-05-20T22:40:14.130079Z",
     "iopub.status.busy": "2025-05-20T22:40:14.129522Z",
     "iopub.status.idle": "2025-05-20T22:40:14.135406Z",
     "shell.execute_reply": "2025-05-20T22:40:14.134541Z",
     "shell.execute_reply.started": "2025-05-20T22:40:14.130052Z"
    },
    "id": "6862e6ca",
    "papermill": {
     "duration": 13.758553,
     "end_time": "2025-05-14T06:23:01.207355",
     "exception": false,
     "start_time": "2025-05-14T06:22:47.448802",
     "status": "completed"
    },
    "tags": [],
    "trusted": true
   },
   "outputs": [],
   "source": [
    "# Core deep learning and data processing\n",
    "import torch\n",
    "import torch.nn as nn\n",
    "import torch.optim as optim\n",
    "from torch.utils.data import Dataset, DataLoader\n",
    "import numpy as np\n",
    "import pandas as pd\n",
    "\n",
    "# Training utilities\n",
    "import random\n",
    "import os\n",
    "import math\n",
    "from tqdm import tqdm"
   ]
  },
  {
   "cell_type": "code",
   "execution_count": null,
   "id": "c47bdcc7",
   "metadata": {},
   "outputs": [],
   "source": [
    "# Visualization tools\n",
    "import matplotlib.pyplot as plt\n",
    "from matplotlib.colors import LinearSegmentedColormap\n",
    "import matplotlib.font_manager as fm\n",
    "\n",
    "# Experiment tracking\n",
    "import wandb\n",
    "\n",
    "# Additional PyTorch utilities\n",
    "import torch.nn.functional as F\n",
    "from torch.nn.utils.rnn import pad_sequence"
   ]
  },
  {
   "cell_type": "code",
   "execution_count": 3,
   "id": "db365bbe",
   "metadata": {
    "colab": {
     "base_uri": "https://localhost:8080/"
    },
    "execution": {
     "iopub.execute_input": "2025-05-20T22:40:16.813387Z",
     "iopub.status.busy": "2025-05-20T22:40:16.812629Z",
     "iopub.status.idle": "2025-05-20T22:40:16.892206Z",
     "shell.execute_reply": "2025-05-20T22:40:16.891431Z",
     "shell.execute_reply.started": "2025-05-20T22:40:16.813352Z"
    },
    "id": "db365bbe",
    "outputId": "839f6fbd-2c34-49bf-d71b-b6d47b45643b",
    "papermill": {
     "duration": 0.062614,
     "end_time": "2025-05-14T06:23:01.274039",
     "exception": false,
     "start_time": "2025-05-14T06:23:01.211425",
     "status": "completed"
    },
    "tags": [],
    "trusted": true
   },
   "outputs": [
    {
     "data": {
      "text/plain": [
       "device(type='cuda')"
      ]
     },
     "execution_count": 3,
     "metadata": {},
     "output_type": "execute_result"
    }
   ],
   "source": [
    "# Configure computation device\n",
    "def setup_device():\n",
    "    if torch.cuda.is_available():\n",
    "        device = torch.device(\"cuda\")\n",
    "        print(\"Using GPU for computation\")\n",
    "    else:\n",
    "        device = torch.device(\"cpu\")\n",
    "        print(\"Using CPU for computation\")\n",
    "    return device\n",
    "\n",
    "# Initialize device\n",
    "device = setup_device()"
   ]
  },
  {
   "cell_type": "code",
   "execution_count": 4,
   "id": "9ea44e69",
   "metadata": {
    "execution": {
     "iopub.execute_input": "2025-05-20T22:40:20.092723Z",
     "iopub.status.busy": "2025-05-20T22:40:20.091949Z",
     "iopub.status.idle": "2025-05-20T22:40:26.460839Z",
     "shell.execute_reply": "2025-05-20T22:40:26.460138Z",
     "shell.execute_reply.started": "2025-05-20T22:40:20.092685Z"
    },
    "id": "9ea44e69",
    "outputId": "c17fd527-c7a0-487f-fd8c-17d5593f2278",
    "papermill": {
     "duration": 0.664727,
     "end_time": "2025-05-14T06:23:01.942299",
     "exception": false,
     "start_time": "2025-05-14T06:23:01.277572",
     "status": "completed"
    },
    "tags": [],
    "trusted": true
   },
   "outputs": [
    {
     "name": "stderr",
     "output_type": "stream",
     "text": [
      "\u001b[34m\u001b[1mwandb\u001b[0m: Using wandb-core as the SDK backend.  Please refer to https://wandb.me/wandb-core for more information.\n",
      "\u001b[34m\u001b[1mwandb\u001b[0m: \u001b[33mWARNING\u001b[0m If you're specifying your api key in code, ensure this code is not shared publicly.\n",
      "\u001b[34m\u001b[1mwandb\u001b[0m: \u001b[33mWARNING\u001b[0m Consider setting the WANDB_API_KEY environment variable, or running `wandb login` from the command line.\n",
      "\u001b[34m\u001b[1mwandb\u001b[0m: No netrc file found, creating one.\n",
      "\u001b[34m\u001b[1mwandb\u001b[0m: Appending key for api.wandb.ai to your netrc file: /root/.netrc\n",
      "\u001b[34m\u001b[1mwandb\u001b[0m: Currently logged in as: \u001b[33mcs24m022\u001b[0m (\u001b[33mcs24m022-iit-madras-foundation\u001b[0m) to \u001b[32mhttps://api.wandb.ai\u001b[0m. Use \u001b[1m`wandb login --relogin`\u001b[0m to force relogin\n"
     ]
    },
    {
     "data": {
      "text/plain": [
       "True"
      ]
     },
     "execution_count": 4,
     "metadata": {},
     "output_type": "execute_result"
    }
   ],
   "source": [
    "wandb.login(key= '1b5f670bdb4b8ed39a9bc34744dd738c9b33dede')"
   ]
  },
  {
   "cell_type": "markdown",
   "id": "ef179795",
   "metadata": {
    "id": "ef179795",
    "papermill": {
     "duration": 0.003879,
     "end_time": "2025-05-14T06:23:01.950700",
     "exception": false,
     "start_time": "2025-05-14T06:23:01.946821",
     "status": "completed"
    },
    "tags": []
   },
   "source": [
    "## Get Data"
   ]
  },
  {
   "cell_type": "code",
   "execution_count": 5,
   "id": "0f870962",
   "metadata": {
    "execution": {
     "iopub.execute_input": "2025-05-20T22:40:28.172077Z",
     "iopub.status.busy": "2025-05-20T22:40:28.171188Z",
     "iopub.status.idle": "2025-05-20T22:40:28.175642Z",
     "shell.execute_reply": "2025-05-20T22:40:28.174971Z",
     "shell.execute_reply.started": "2025-05-20T22:40:28.172051Z"
    },
    "id": "0f870962",
    "papermill": {
     "duration": 0.008659,
     "end_time": "2025-05-14T06:23:01.975505",
     "exception": false,
     "start_time": "2025-05-14T06:23:01.966846",
     "status": "completed"
    },
    "tags": [],
    "trusted": true
   },
   "outputs": [],
   "source": [
    "# Define data paths\n",
    "def get_data_paths():\n",
    "    base_path = \"/kaggle/input/dakshina22/hi/lexicons\"\n",
    "    return {\n",
    "        'train': f\"{base_path}/hi.translit.sampled.train.tsv\",\n",
    "        'dev': f\"{base_path}/hi.translit.sampled.dev.tsv\",\n",
    "        'test': f\"{base_path}/hi.translit.sampled.test.tsv\"\n",
    "    }\n",
    "\n",
    "# Initialize data paths\n",
    "data_paths = get_data_paths()\n",
    "train_path = data_paths['train']\n",
    "dev_path = data_paths['dev']\n",
    "test_path = data_paths['test']\n",
    "\n",
    "# Display paths\n",
    "print(\"Data paths configured:\")\n",
    "for key, path in data_paths.items():\n",
    "    print(f\"{key.capitalize()} data: {path}\")"
   ]
  },
  {
   "cell_type": "markdown",
   "id": "ddt9nJeFDR8S",
   "metadata": {
    "id": "ddt9nJeFDR8S"
   },
   "source": [
    "## Data Loading and Preprocessing"
   ]
  },
  {
   "cell_type": "code",
   "execution_count": 6,
   "id": "a694045c",
   "metadata": {
    "colab": {
     "base_uri": "https://localhost:8080/"
    },
    "execution": {
     "iopub.execute_input": "2025-05-20T22:40:31.907875Z",
     "iopub.status.busy": "2025-05-20T22:40:31.907586Z",
     "iopub.status.idle": "2025-05-20T22:40:32.032913Z",
     "shell.execute_reply": "2025-05-20T22:40:32.032148Z",
     "shell.execute_reply.started": "2025-05-20T22:40:31.907853Z"
    },
    "id": "a694045c",
    "outputId": "cc212941-0a6b-4b33-a84a-2265bdcb7b6f",
    "papermill": {
     "duration": 0.124762,
     "end_time": "2025-05-14T06:23:02.104297",
     "exception": false,
     "start_time": "2025-05-14T06:23:01.979535",
     "status": "completed"
    },
    "tags": [],
    "trusted": true
   },
   "outputs": [
    {
     "name": "stdout",
     "output_type": "stream",
     "text": [
      "Train Dataset Size : 44204\n",
      "Dev Dataset Size   : 4358\n",
      "Test Dataset Size  : 4502\n"
     ]
    }
   ],
   "source": [
    "def load_datasets(paths):\n",
    "    \"\"\"\n",
    "    Load and preprocess datasets from TSV files\n",
    "    \"\"\"\n",
    "    # Define column names\n",
    "    columns = ['devanagari', 'latin', 'frequency']\n",
    "    \n",
    "    # Load datasets with error handling\n",
    "    try:\n",
    "        datasets = {\n",
    "            'train': pd.read_csv(paths['train'], sep='\\t', header=None, names=columns),\n",
    "            'dev': pd.read_csv(paths['dev'], sep='\\t', header=None, names=columns),\n",
    "            'test': pd.read_csv(paths['test'], sep='\\t', header=None, names=columns)\n",
    "        }\n",
    "        \n",
    "        # Print dataset statistics\n",
    "        print(\"Dataset Statistics:\")\n",
    "        print(\"-\" * 50)\n",
    "        for name, df in datasets.items():\n",
    "            print(f\"{name.capitalize()} set: {len(df):,} examples\")\n",
    "            print(f\"Columns: {', '.join(df.columns)}\")\n",
    "            print(f\"Memory usage: {df.memory_usage().sum() / 1024**2:.2f} MB\")\n",
    "            print(\"-\" * 50)\n",
    "            \n",
    "        return datasets\n",
    "        \n",
    "    except Exception as e:\n",
    "        print(f\"Error loading datasets: {str(e)}\")\n",
    "        return None\n",
    "\n",
    "# Load all datasets\n",
    "datasets = load_datasets(data_paths)\n",
    "train_df = datasets['train']\n",
    "dev_df = datasets['dev']\n",
    "test_df = datasets['test']"
   ]
  },
  {
   "cell_type": "code",
   "execution_count": 8,
   "id": "4dcb9e23",
   "metadata": {
    "execution": {
     "iopub.execute_input": "2025-05-20T22:40:43.548727Z",
     "iopub.status.busy": "2025-05-20T22:40:43.547736Z",
     "iopub.status.idle": "2025-05-20T22:40:43.557168Z",
     "shell.execute_reply": "2025-05-20T22:40:43.556264Z",
     "shell.execute_reply.started": "2025-05-20T22:40:43.548682Z"
    },
    "id": "4dcb9e23",
    "papermill": {
     "duration": 0.012886,
     "end_time": "2025-05-14T06:23:02.151203",
     "exception": false,
     "start_time": "2025-05-14T06:23:02.138317",
     "status": "completed"
    },
    "tags": [],
    "trusted": true
   },
   "outputs": [],
   "source": [
    "class SequenceProcessor:\n",
    "    def __init__(self):\n",
    "        # Define control tokens with unique identifiers\n",
    "        self.control_tokens = {\n",
    "            'boundary_start': '<BOS>',  # Beginning of sequence\n",
    "            'boundary_end': '<EOS>',    # End of sequence\n",
    "            'padding': '<PAD>',         # Padding token\n",
    "            'unknown': '<UNK>'          # Unknown token\n",
    "        }\n",
    "        \n",
    "        # Initialize token registry\n",
    "        self.registry = {\n",
    "            self.control_tokens['boundary_start']: 0,\n",
    "            self.control_tokens['boundary_end']: 1,\n",
    "            self.control_tokens['padding']: 2,\n",
    "            self.control_tokens['unknown']: 3\n",
    "        }\n",
    "        \n",
    "        # Create reverse lookup\n",
    "        self.reverse_registry = {v: k for k, v in self.registry.items()}\n",
    "        \n",
    "        # Track total tokens\n",
    "        self.total_tokens = len(self.registry)\n",
    "    \n",
    "    def register_tokens(self, text_sequences):\n",
    "        \"\"\"\n",
    "        Register new tokens from input sequences\n",
    "        \"\"\"\n",
    "        for sequence in text_sequences:\n",
    "            sequence = str(sequence)\n",
    "            for token in sequence:\n",
    "                if token not in self.registry:\n",
    "                    self.registry[token] = self.total_tokens\n",
    "                    self.reverse_registry[self.total_tokens] = token\n",
    "                    self.total_tokens += 1\n",
    "    \n",
    "    def sequence_to_indices(self, sequence, wrap_boundaries=True):\n",
    "        \"\"\"\n",
    "        Convert text sequence to numerical indices\n",
    "        \"\"\"\n",
    "        sequence = str(sequence)\n",
    "        indices = []\n",
    "        \n",
    "        # Convert each token to its index\n",
    "        for token in sequence:\n",
    "            index = self.registry.get(token, self.registry[self.control_tokens['unknown']])\n",
    "            indices.append(index)\n",
    "        \n",
    "        # Add boundary tokens if requested\n",
    "        if wrap_boundaries:\n",
    "            indices = ([self.registry[self.control_tokens['boundary_start']]] + \n",
    "                      indices + \n",
    "                      [self.registry[self.control_tokens['boundary_end']]])\n",
    "        \n",
    "        return indices\n",
    "    \n",
    "    def indices_to_sequence(self, indices, strip_boundaries=True):\n",
    "        \"\"\"\n",
    "        Convert numerical indices back to text sequence\n",
    "        \"\"\"\n",
    "        sequence = []\n",
    "        \n",
    "        for index in indices:\n",
    "            # Handle tensor indices\n",
    "            if isinstance(index, torch.Tensor):\n",
    "                index = index.item()\n",
    "            \n",
    "            # Get token from index\n",
    "            if index in self.reverse_registry:\n",
    "                token = self.reverse_registry[index]\n",
    "                \n",
    "                # Skip control tokens if requested\n",
    "                if strip_boundaries and token in self.control_tokens.values():\n",
    "                    continue\n",
    "                    \n",
    "                sequence.append(token)\n",
    "        \n",
    "        return ''.join(sequence)\n",
    "    \n",
    "    def get_control_index(self, control_type):\n",
    "        \"\"\"\n",
    "        Get index for a specific control token\n",
    "        \"\"\"\n",
    "        return self.registry[self.control_tokens[control_type]]\n",
    "    \n",
    "    def get_sequence_length(self, sequence):\n",
    "        \"\"\"\n",
    "        Get length of sequence including boundary tokens\n",
    "        \"\"\"\n",
    "        return len(self.sequence_to_indices(sequence, wrap_boundaries=True))\n",
    "    \n",
    "    def is_control_token(self, token):\n",
    "        \"\"\"\n",
    "        Check if a token is a control token\n",
    "        \"\"\"\n",
    "        return token in self.control_tokens.values()"
   ]
  },
  {
   "cell_type": "code",
   "execution_count": 9,
   "id": "f01c9400",
   "metadata": {
    "execution": {
     "iopub.execute_input": "2025-05-20T22:40:47.374948Z",
     "iopub.status.busy": "2025-05-20T22:40:47.374187Z",
     "iopub.status.idle": "2025-05-20T22:40:47.380212Z",
     "shell.execute_reply": "2025-05-20T22:40:47.379582Z",
     "shell.execute_reply.started": "2025-05-20T22:40:47.374889Z"
    },
    "id": "f01c9400",
    "papermill": {
     "duration": 0.01062,
     "end_time": "2025-05-14T06:23:02.166005",
     "exception": false,
     "start_time": "2025-05-14T06:23:02.155385",
     "status": "completed"
    },
    "tags": [],
    "trusted": true
   },
   "outputs": [],
   "source": [
    "class BilingualPairDataset(Dataset):\n",
    "    def __init__(self, file_path, input_processor, output_processor):\n",
    "        \"\"\"\n",
    "        Initialize dataset for bilingual text pairs\n",
    "        \"\"\"\n",
    "        # Load and preprocess data\n",
    "        self.data = pd.read_csv(file_path, sep='\\t', header=None, \n",
    "                              names=['output', 'input', 'metadata'])\n",
    "        \n",
    "        # Initialize storage\n",
    "        self.pairs = []\n",
    "        self._process_pairs(input_processor, output_processor)\n",
    "        \n",
    "        # Track dataset statistics\n",
    "        self.stats = {\n",
    "            'total_pairs': 0,\n",
    "            'max_input_len': 0,\n",
    "            'max_output_len': 0,\n",
    "            'avg_input_len': 0,\n",
    "            'avg_output_len': 0\n",
    "        }\n",
    "        self._compute_statistics()\n",
    "    \n",
    "    def _process_pairs(self, input_processor, output_processor):\n",
    "        \"\"\"\n",
    "        Process input-output pairs\n",
    "        \"\"\"\n",
    "        for _, row in self.data.iterrows():\n",
    "            # Process input sequence\n",
    "            input_indices = input_processor.sequence_to_indices(row['input'])\n",
    "            \n",
    "            # Process output sequence\n",
    "            output_indices = output_processor.sequence_to_indices(row['output'])\n",
    "            \n",
    "            # Store processed pair\n",
    "            self.pairs.append({\n",
    "                'input': input_indices,\n",
    "                'output': output_indices,\n",
    "                'input_len': len(input_indices),\n",
    "                'output_len': len(output_indices)\n",
    "            })\n",
    "    \n",
    "    def _compute_statistics(self):\n",
    "        \"\"\"\n",
    "        Compute dataset statistics\n",
    "        \"\"\"\n",
    "        if not self.pairs:\n",
    "            return\n",
    "            \n",
    "        self.stats['total_pairs'] = len(self.pairs)\n",
    "        self.stats['max_input_len'] = max(pair['input_len'] for pair in self.pairs)\n",
    "        self.stats['max_output_len'] = max(pair['output_len'] for pair in self.pairs)\n",
    "        self.stats['avg_input_len'] = sum(pair['input_len'] for pair in self.pairs) / self.stats['total_pairs']\n",
    "        self.stats['avg_output_len'] = sum(pair['output_len'] for pair in self.pairs) / self.stats['total_pairs']\n",
    "    \n",
    "    def __len__(self):\n",
    "        \"\"\"\n",
    "        Return total number of pairs\n",
    "        \"\"\"\n",
    "        return self.stats['total_pairs']\n",
    "    \n",
    "    def __getitem__(self, idx):\n",
    "        \"\"\"\n",
    "        Get a specific pair by index\n",
    "        \"\"\"\n",
    "        pair = self.pairs[idx]\n",
    "        return (\n",
    "            torch.tensor(pair['input'], dtype=torch.long),\n",
    "            torch.tensor(pair['output'], dtype=torch.long)\n",
    "        )\n",
    "    \n",
    "    def get_statistics(self):\n",
    "        \"\"\"\n",
    "        Return dataset statistics\n",
    "        \"\"\"\n",
    "        return self.stats\n",
    "    \n",
    "    def get_pair_lengths(self, idx):\n",
    "        \"\"\"\n",
    "        Get lengths of input and output sequences for a pair\n",
    "        \"\"\"\n",
    "        pair = self.pairs[idx]\n",
    "        return pair['input_len'], pair['output_len']\n",
    "    \n",
    "    def get_max_lengths(self):\n",
    "        \"\"\"\n",
    "        Get maximum lengths of input and output sequences\n",
    "        \"\"\"\n",
    "        return self.stats['max_input_len'], self.stats['max_output_len']"
   ]
  },
  {
   "cell_type": "code",
   "execution_count": 10,
   "id": "45fc18f8",
   "metadata": {
    "execution": {
     "iopub.execute_input": "2025-05-20T22:40:50.153992Z",
     "iopub.status.busy": "2025-05-20T22:40:50.153648Z",
     "iopub.status.idle": "2025-05-20T22:40:50.159078Z",
     "shell.execute_reply": "2025-05-20T22:40:50.158234Z",
     "shell.execute_reply.started": "2025-05-20T22:40:50.153972Z"
    },
    "id": "45fc18f8",
    "papermill": {
     "duration": 0.009436,
     "end_time": "2025-05-14T06:23:02.179541",
     "exception": false,
     "start_time": "2025-05-14T06:23:02.170105",
     "status": "completed"
    },
    "tags": [],
    "trusted": true
   },
   "outputs": [],
   "source": [
    "def prepare_batch(batch_data):\n",
    "    \"\"\"\n",
    "    Prepare and pad batch data for model input\n",
    "    \"\"\"\n",
    "    # Separate input and output sequences\n",
    "    input_sequences = [pair[0] for pair in batch_data]\n",
    "    output_sequences = [pair[1] for pair in batch_data]\n",
    "    \n",
    "    # Calculate padding lengths\n",
    "    max_input_len = max(len(seq) for seq in input_sequences)\n",
    "    max_output_len = max(len(seq) for seq in output_sequences)\n",
    "    \n",
    "    # Pad sequences\n",
    "    padded_inputs = torch.zeros(len(input_sequences), max_input_len, dtype=torch.long)\n",
    "    padded_outputs = torch.zeros(len(output_sequences), max_output_len, dtype=torch.long)\n",
    "    \n",
    "    # Fill padded tensors\n",
    "    for i, (in_seq, out_seq) in enumerate(zip(input_sequences, output_sequences)):\n",
    "        padded_inputs[i, :len(in_seq)] = torch.tensor(in_seq)\n",
    "        padded_outputs[i, :len(out_seq)] = torch.tensor(out_seq)\n",
    "    \n",
    "    return padded_inputs, padded_outputs"
   ]
  },
  {
   "cell_type": "code",
   "execution_count": 11,
   "id": "7c39e868",
   "metadata": {
    "execution": {
     "iopub.execute_input": "2025-05-20T22:40:53.410986Z",
     "iopub.status.busy": "2025-05-20T22:40:53.410661Z",
     "iopub.status.idle": "2025-05-20T22:40:55.255589Z",
     "shell.execute_reply": "2025-05-20T22:40:55.254709Z",
     "shell.execute_reply.started": "2025-05-20T22:40:53.410962Z"
    },
    "id": "7c39e868",
    "papermill": {
     "duration": 1.745597,
     "end_time": "2025-05-14T06:23:03.929401",
     "exception": false,
     "start_time": "2025-05-14T06:23:02.183804",
     "status": "completed"
    },
    "tags": [],
    "trusted": true
   },
   "outputs": [],
   "source": [
    "def initialize_processors(train_data):\n",
    "    \"\"\"\n",
    "    Initialize and build token processors from training data\n",
    "    \"\"\"\n",
    "    # Create processors\n",
    "    input_processor = SequenceProcessor()\n",
    "    output_processor = SequenceProcessor()\n",
    "    \n",
    "    # Extract sequences\n",
    "    input_sequences = train_data['input'].tolist()\n",
    "    output_sequences = train_data['output'].tolist()\n",
    "    \n",
    "    # Build token mappings\n",
    "    input_processor.register_tokens(input_sequences)\n",
    "    output_processor.register_tokens(output_sequences)\n",
    "    \n",
    "    # Print statistics\n",
    "    print(\"Input Processor Statistics:\")\n",
    "    print(f\"Total tokens: {input_processor.total_tokens}\")\n",
    "    print(f\"Control tokens: {len(input_processor.control_tokens)}\")\n",
    "    print(\"\\nOutput Processor Statistics:\")\n",
    "    print(f\"Total tokens: {output_processor.total_tokens}\")\n",
    "    print(f\"Control tokens: {len(output_processor.control_tokens)}\")\n",
    "    \n",
    "    return input_processor, output_processor"
   ]
  },
  {
   "cell_type": "code",
   "execution_count": 12,
   "id": "15e651a8",
   "metadata": {
    "execution": {
     "iopub.execute_input": "2025-05-20T22:40:57.504829Z",
     "iopub.status.busy": "2025-05-20T22:40:57.504534Z",
     "iopub.status.idle": "2025-05-20T22:41:00.183834Z",
     "shell.execute_reply": "2025-05-20T22:41:00.183227Z",
     "shell.execute_reply.started": "2025-05-20T22:40:57.504807Z"
    },
    "id": "15e651a8",
    "papermill": {
     "duration": 2.488719,
     "end_time": "2025-05-14T06:23:06.422567",
     "exception": false,
     "start_time": "2025-05-14T06:23:03.933848",
     "status": "completed"
    },
    "tags": [],
    "trusted": true
   },
   "outputs": [],
   "source": [
    "def create_data_loaders(input_processor, output_processor, batch_size=32):\n",
    "    \"\"\"\n",
    "    Create and configure data loaders for all datasets\n",
    "    \"\"\"\n",
    "    # Create datasets\n",
    "    datasets = {\n",
    "        'train': BilingualPairDataset(train_path, input_processor, output_processor),\n",
    "        'dev': BilingualPairDataset(dev_path, input_processor, output_processor),\n",
    "        'test': BilingualPairDataset(test_path, input_processor, output_processor)\n",
    "    }\n",
    "    \n",
    "    # Create data loaders\n",
    "    loaders = {\n",
    "        'train': DataLoader(\n",
    "            datasets['train'],\n",
    "            batch_size=batch_size,\n",
    "            shuffle=True,\n",
    "            collate_fn=prepare_batch\n",
    "        ),\n",
    "        'dev': DataLoader(\n",
    "            datasets['dev'],\n",
    "            batch_size=batch_size,\n",
    "            shuffle=False,\n",
    "            collate_fn=prepare_batch\n",
    "        ),\n",
    "        'test': DataLoader(\n",
    "            datasets['test'],\n",
    "            batch_size=batch_size,\n",
    "            shuffle=False,\n",
    "            collate_fn=prepare_batch\n",
    "        )\n",
    "    }\n",
    "    \n",
    "    return datasets, loaders"
   ]
  },
  {
   "cell_type": "code",
   "execution_count": 13,
   "id": "52556cb0",
   "metadata": {
    "colab": {
     "base_uri": "https://localhost:8080/"
    },
    "execution": {
     "iopub.execute_input": "2025-05-20T22:41:01.349974Z",
     "iopub.status.busy": "2025-05-20T22:41:01.349639Z",
     "iopub.status.idle": "2025-05-20T22:41:01.429349Z",
     "shell.execute_reply": "2025-05-20T22:41:01.428620Z",
     "shell.execute_reply.started": "2025-05-20T22:41:01.349948Z"
    },
    "id": "52556cb0",
    "outputId": "a7e9039d-db47-46d4-e6a0-4e81d9e54456",
    "papermill": {
     "duration": 0.034179,
     "end_time": "2025-05-14T06:23:06.461952",
     "exception": false,
     "start_time": "2025-05-14T06:23:06.427773",
     "status": "completed"
    },
    "tags": [],
    "trusted": true
   },
   "outputs": [
    {
     "name": "stdout",
     "output_type": "stream",
     "text": [
      "Inputs shape: torch.Size([32, 14])\n",
      "Targets shape: torch.Size([32, 13])\n",
      "Sample input: tensor([ 1,  5,  8, 17,  4,  4,  5,  2,  0,  0,  0,  0,  0,  0])\n",
      "Sample target: tensor([ 1, 16,  9, 15, 21, 16,  2,  0,  0,  0,  0,  0,  0])\n",
      "nidaan\n",
      "निदान\n"
     ]
    }
   ],
   "source": [
    "def verify_data_loader(loader, input_processor, output_processor):\n",
    "    \"\"\"\n",
    "    Verify data loader configuration and sample data\n",
    "    \"\"\"\n",
    "    # Get a batch\n",
    "    for batch in loader:\n",
    "        inputs, outputs = batch\n",
    "        \n",
    "        # Print shapes\n",
    "        print(\"Batch Configuration:\")\n",
    "        print(f\"Input shape: {inputs.shape}\")\n",
    "        print(f\"Output shape: {outputs.shape}\")\n",
    "        \n",
    "        # Process first sample\n",
    "        sample_input = inputs[0]\n",
    "        sample_output = outputs[0]\n",
    "        \n",
    "        # Convert to text\n",
    "        input_text = input_processor.indices_to_sequence(sample_input)\n",
    "        output_text = output_processor.indices_to_sequence(sample_output)\n",
    "        \n",
    "        print(\"\\nSample Translation:\")\n",
    "        print(f\"Input:  {input_text}\")\n",
    "        print(f\"Output: {output_text}\")\n",
    "        \n",
    "        # Print sequence lengths\n",
    "        print(\"\\nSequence Lengths:\")\n",
    "        print(f\"Input length:  {len(input_text)}\")\n",
    "        print(f\"Output length: {len(output_text)}\")\n",
    "        \n",
    "        break"
   ]
  },
  {
   "cell_type": "markdown",
   "id": "fa9dd93e",
   "metadata": {
    "id": "fa9dd93e",
    "papermill": {
     "duration": 0.00403,
     "end_time": "2025-05-14T06:23:06.470260",
     "exception": false,
     "start_time": "2025-05-14T06:23:06.466230",
     "status": "completed"
    },
    "tags": []
   },
   "source": [
    "## With Out Attention (Vanilla) Model"
   ]
  },
  {
   "cell_type": "code",
   "execution_count": 15,
   "id": "f83ec17a",
   "metadata": {
    "execution": {
     "iopub.execute_input": "2025-05-20T20:58:45.577641Z",
     "iopub.status.busy": "2025-05-20T20:58:45.577381Z",
     "iopub.status.idle": "2025-05-20T20:58:45.583827Z",
     "shell.execute_reply": "2025-05-20T20:58:45.583138Z",
     "shell.execute_reply.started": "2025-05-20T20:58:45.577623Z"
    },
    "id": "f83ec17a",
    "papermill": {
     "duration": 0.011663,
     "end_time": "2025-05-14T06:23:06.485996",
     "exception": false,
     "start_time": "2025-05-14T06:23:06.474333",
     "status": "completed"
    },
    "tags": [],
    "trusted": true
   },
   "outputs": [],
   "source": [
    "class SequenceEncoder(nn.Module):\n",
    "    def __init__(self, vocab_size, embed_dim, hidden_dim, num_layers=1, rnn_type=\"gru\", drop_rate=0.0):\n",
    "        super().__init__()\n",
    "        \n",
    "        # Configuration\n",
    "        self.config = {\n",
    "            'vocab_size': vocab_size,\n",
    "            'embed_dim': embed_dim,\n",
    "            'hidden_dim': hidden_dim,\n",
    "            'num_layers': num_layers,\n",
    "            'rnn_type': rnn_type.lower(),\n",
    "            'drop_rate': drop_rate if num_layers > 1 else 0.0\n",
    "        }\n",
    "        \n",
    "        # Token embedding layer with layer normalization\n",
    "        self.token_embedding = nn.Sequential(\n",
    "            nn.Embedding(vocab_size, embed_dim),\n",
    "            nn.LayerNorm(embed_dim)\n",
    "        )\n",
    "        \n",
    "        # RNN layer selection and initialization\n",
    "        self._init_rnn_layer()\n",
    "        \n",
    "        # Dropout for regularization\n",
    "        self.dropout = nn.Dropout(self.config['drop_rate'])\n",
    "        \n",
    "        # Output projection layer\n",
    "        self.output_projection = nn.Sequential(\n",
    "            nn.Linear(hidden_dim, hidden_dim),\n",
    "            nn.ReLU(),\n",
    "            nn.Dropout(self.config['drop_rate']),\n",
    "            nn.LayerNorm(hidden_dim)\n",
    "        )\n",
    "    \n",
    "    def _init_rnn_layer(self):\n",
    "        \"\"\"\n",
    "        Initialize the appropriate RNN layer based on configuration\n",
    "        \"\"\"\n",
    "        rnn_config = {\n",
    "            'input_size': self.config['embed_dim'],\n",
    "            'hidden_size': self.config['hidden_dim'],\n",
    "            'num_layers': self.config['num_layers'],\n",
    "            'dropout': self.config['drop_rate'],\n",
    "            'batch_first': True\n",
    "        }\n",
    "        \n",
    "        if self.config['rnn_type'] == 'lstm':\n",
    "            self.rnn = nn.LSTM(**rnn_config)\n",
    "        elif self.config['rnn_type'] == 'gru':\n",
    "            self.rnn = nn.GRU(**rnn_config)\n",
    "        else:\n",
    "            self.rnn = nn.RNN(**rnn_config)\n",
    "    \n",
    "    def forward(self, x):\n",
    "        \"\"\"\n",
    "        Process input sequence through the encoder\n",
    "        \"\"\"\n",
    "        # Get sequence lengths for packing\n",
    "        lengths = (x != 0).sum(dim=1)\n",
    "        \n",
    "        # Embed tokens\n",
    "        embedded = self.token_embedding(x)\n",
    "        embedded = self.dropout(embedded)\n",
    "        \n",
    "        # Pack sequences for efficiency\n",
    "        packed_embedded = nn.utils.rnn.pack_padded_sequence(\n",
    "            embedded, lengths.cpu(), batch_first=True, enforce_sorted=False\n",
    "        )\n",
    "        \n",
    "        # Process through RNN\n",
    "        if self.config['rnn_type'] == 'lstm':\n",
    "            packed_outputs, (hidden, cell) = self.rnn(packed_embedded)\n",
    "            outputs, _ = nn.utils.rnn.pad_packed_sequence(packed_outputs, batch_first=True)\n",
    "            return self.output_projection(outputs), (hidden, cell)\n",
    "        else:\n",
    "            packed_outputs, hidden = self.rnn(packed_embedded)\n",
    "            outputs, _ = nn.utils.rnn.pad_packed_sequence(packed_outputs, batch_first=True)\n",
    "            return self.output_projection(outputs), hidden\n",
    "    \n",
    "    def get_config(self):\n",
    "        \"\"\"\n",
    "        Return encoder configuration\n",
    "        \"\"\"\n",
    "        return self.config.copy()\n",
    "    \n",
    "    def get_output_dim(self):\n",
    "        \"\"\"\n",
    "        Return output dimension\n",
    "        \"\"\"\n",
    "        return self.config['hidden_dim']"
   ]
  },
  {
   "cell_type": "code",
   "execution_count": 16,
   "id": "91907bce",
   "metadata": {
    "execution": {
     "iopub.execute_input": "2025-05-20T20:58:48.798347Z",
     "iopub.status.busy": "2025-05-20T20:58:48.798088Z",
     "iopub.status.idle": "2025-05-20T20:58:48.805141Z",
     "shell.execute_reply": "2025-05-20T20:58:48.804362Z",
     "shell.execute_reply.started": "2025-05-20T20:58:48.798327Z"
    },
    "id": "91907bce",
    "papermill": {
     "duration": 0.012052,
     "end_time": "2025-05-14T06:23:06.502316",
     "exception": false,
     "start_time": "2025-05-14T06:23:06.490264",
     "status": "completed"
    },
    "tags": [],
    "trusted": true
   },
   "outputs": [],
   "source": [
    "class SequenceDecoder(nn.Module):\n",
    "    def __init__(self, vocab_size, embed_dim, hidden_dim, num_layers=1, rnn_type=\"gru\", drop_rate=0.0):\n",
    "        super().__init__()\n",
    "        \n",
    "        # Store configuration\n",
    "        self.settings = {\n",
    "            'vocab_size': vocab_size,\n",
    "            'embed_dim': embed_dim,\n",
    "            'hidden_dim': hidden_dim,\n",
    "            'num_layers': num_layers,\n",
    "            'rnn_type': rnn_type.lower(),\n",
    "            'drop_rate': drop_rate if num_layers > 1 else 0.0\n",
    "        }\n",
    "        \n",
    "        # Token embedding with normalization\n",
    "        self.token_embedding = nn.Sequential(\n",
    "            nn.Embedding(vocab_size, embed_dim),\n",
    "            nn.LayerNorm(embed_dim)\n",
    "        )\n",
    "        \n",
    "        # Initialize RNN layer\n",
    "        self._setup_rnn()\n",
    "        \n",
    "        # Regularization\n",
    "        self.dropout = nn.Dropout(self.settings['drop_rate'])\n",
    "        \n",
    "        # Output layers\n",
    "        self.output_layers = nn.Sequential(\n",
    "            nn.Linear(hidden_dim, hidden_dim * 2),\n",
    "            nn.ReLU(),\n",
    "            nn.Dropout(self.settings['drop_rate']),\n",
    "            nn.Linear(hidden_dim * 2, vocab_size)\n",
    "        )\n",
    "    \n",
    "    def _setup_rnn(self):\n",
    "        \"\"\"\n",
    "        Configure and initialize the RNN layer\n",
    "        \"\"\"\n",
    "        rnn_params = {\n",
    "            'input_size': self.settings['embed_dim'],\n",
    "            'hidden_size': self.settings['hidden_dim'],\n",
    "            'num_layers': self.settings['num_layers'],\n",
    "            'dropout': self.settings['drop_rate'],\n",
    "            'batch_first': True\n",
    "        }\n",
    "        \n",
    "        if self.settings['rnn_type'] == 'lstm':\n",
    "            self.rnn = nn.LSTM(**rnn_params)\n",
    "        elif self.settings['rnn_type'] == 'gru':\n",
    "            self.rnn = nn.GRU(**rnn_params)\n",
    "        else:\n",
    "            self.rnn = nn.RNN(**rnn_params)\n",
    "    \n",
    "    def _process_hidden(self, hidden):\n",
    "        \"\"\"\n",
    "        Process hidden state based on RNN type\n",
    "        \"\"\"\n",
    "        if self.settings['rnn_type'] == 'lstm':\n",
    "            return (hidden[0], hidden[1])\n",
    "        return hidden\n",
    "    \n",
    "    def forward(self, x, hidden):\n",
    "        \"\"\"\n",
    "        Process single timestep through decoder\n",
    "        \"\"\"\n",
    "        # Add sequence dimension\n",
    "        x = x.unsqueeze(1)\n",
    "        \n",
    "        # Embed and normalize\n",
    "        embedded = self.token_embedding(x)\n",
    "        embedded = self.dropout(embedded)\n",
    "        \n",
    "        # Process through RNN\n",
    "        if self.settings['rnn_type'] == 'lstm':\n",
    "            hidden, cell = hidden\n",
    "            output, (hidden, cell) = self.rnn(embedded, (hidden, cell))\n",
    "            hidden = (hidden, cell)\n",
    "        else:\n",
    "            output, hidden = self.rnn(embedded, hidden)\n",
    "        \n",
    "        # Remove sequence dimension\n",
    "        output = output.squeeze(1)\n",
    "        \n",
    "        # Generate predictions\n",
    "        predictions = self.output_layers(output)\n",
    "        \n",
    "        return predictions, hidden\n",
    "    \n",
    "    def get_config(self):\n",
    "        \"\"\"\n",
    "        Return decoder configuration\n",
    "        \"\"\"\n",
    "        return self.settings.copy()\n",
    "    \n",
    "    def get_output_dim(self):\n",
    "        \"\"\"\n",
    "        Return output dimension\n",
    "        \"\"\"\n",
    "        return self.settings['vocab_size']"
   ]
  },
  {
   "cell_type": "code",
   "execution_count": 17,
   "id": "366f78d2",
   "metadata": {
    "execution": {
     "iopub.execute_input": "2025-05-20T20:58:52.086587Z",
     "iopub.status.busy": "2025-05-20T20:58:52.086136Z",
     "iopub.status.idle": "2025-05-20T20:58:52.094630Z",
     "shell.execute_reply": "2025-05-20T20:58:52.094042Z",
     "shell.execute_reply.started": "2025-05-20T20:58:52.086562Z"
    },
    "id": "366f78d2",
    "papermill": {
     "duration": 0.014223,
     "end_time": "2025-05-14T06:23:06.520725",
     "exception": false,
     "start_time": "2025-05-14T06:23:06.506502",
     "status": "completed"
    },
    "tags": [],
    "trusted": true
   },
   "outputs": [],
   "source": [
    "class NeuralTranslator(nn.Module):\n",
    "    def __init__(self, encoder, decoder, device):\n",
    "        super().__init__()\n",
    "        self.encoder = encoder\n",
    "        self.decoder = decoder\n",
    "        self.device = device\n",
    "        \n",
    "        # Add attention mechanism\n",
    "        self.attention = nn.Sequential(\n",
    "            nn.Linear(encoder.get_output_dim() + decoder.get_output_dim(), decoder.get_output_dim()),\n",
    "            nn.Tanh(),\n",
    "            nn.Linear(decoder.get_output_dim(), 1)\n",
    "        )\n",
    "        \n",
    "        # Add context vector processing\n",
    "        self.context_processor = nn.Sequential(\n",
    "            nn.Linear(encoder.get_output_dim() * 2, encoder.get_output_dim()),\n",
    "            nn.LayerNorm(encoder.get_output_dim()),\n",
    "            nn.ReLU()\n",
    "        )\n",
    "        \n",
    "        # Add output processing\n",
    "        self.output_processor = nn.Sequential(\n",
    "            nn.Linear(decoder.get_output_dim() * 2, decoder.get_output_dim()),\n",
    "            nn.LayerNorm(decoder.get_output_dim()),\n",
    "            nn.ReLU()\n",
    "        )\n",
    "    \n",
    "    def _compute_attention(self, decoder_hidden, encoder_outputs):\n",
    "        \"\"\"\n",
    "        Compute attention scores between decoder hidden state and encoder outputs\n",
    "        \"\"\"\n",
    "        # Expand decoder hidden state to match encoder outputs\n",
    "        decoder_hidden = decoder_hidden[-1].unsqueeze(1).expand(-1, encoder_outputs.size(1), -1)\n",
    "        \n",
    "        # Concatenate and compute attention scores\n",
    "        attention_input = torch.cat([decoder_hidden, encoder_outputs], dim=2)\n",
    "        attention_scores = self.attention(attention_input).squeeze(-1)\n",
    "        \n",
    "        # Apply softmax to get attention weights\n",
    "        attention_weights = F.softmax(attention_scores, dim=1)\n",
    "        \n",
    "        # Compute weighted context vector\n",
    "        context = torch.bmm(attention_weights.unsqueeze(1), encoder_outputs).squeeze(1)\n",
    "        return context, attention_weights\n",
    "    \n",
    "    def _process_decoder_step(self, decoder_input, decoder_hidden, encoder_outputs, context):\n",
    "        \"\"\"\n",
    "        Process a single decoder step with attention\n",
    "        \"\"\"\n",
    "        # Get decoder output\n",
    "        decoder_output, decoder_hidden = self.decoder(decoder_input, decoder_hidden)\n",
    "        \n",
    "        # Compute new attention context\n",
    "        new_context, _ = self._compute_attention(decoder_hidden, encoder_outputs)\n",
    "        \n",
    "        # Combine decoder output with context\n",
    "        combined = torch.cat([decoder_output, new_context], dim=1)\n",
    "        processed_output = self.output_processor(combined)\n",
    "        \n",
    "        return processed_output, decoder_hidden\n",
    "    \n",
    "    def forward(self, source, target, teacher_forcing_ratio=0.5):\n",
    "        \"\"\"\n",
    "        Training forward pass with attention and teacher forcing\n",
    "        \"\"\"\n",
    "        batch_size = source.size(0)\n",
    "        target_len = target.size(1)\n",
    "        vocab_size = self.decoder.get_output_dim()\n",
    "        \n",
    "        # Initialize output tensor\n",
    "        outputs = torch.zeros(batch_size, target_len, vocab_size).to(self.device)\n",
    "        \n",
    "        # Get encoder outputs\n",
    "        encoder_outputs, encoder_hidden = self.encoder(source)\n",
    "        \n",
    "        # Initialize decoder\n",
    "        decoder_hidden = self._initialize_decoder_state((encoder_outputs, encoder_hidden))\n",
    "        decoder_input = target[:, 0]\n",
    "        \n",
    "        # Process each timestep\n",
    "        for t in range(1, target_len):\n",
    "            # Compute attention context\n",
    "            context, _ = self._compute_attention(decoder_hidden, encoder_outputs)\n",
    "            \n",
    "            # Process decoder step\n",
    "            decoder_output, decoder_hidden = self._process_decoder_step(\n",
    "                decoder_input, decoder_hidden, encoder_outputs, context\n",
    "            )\n",
    "            \n",
    "            # Store output\n",
    "            outputs[:, t] = decoder_output\n",
    "            \n",
    "            # Determine next input\n",
    "            if self._should_use_teacher_forcing(teacher_forcing_ratio):\n",
    "                decoder_input = target[:, t]\n",
    "            else:\n",
    "                decoder_input = decoder_output.argmax(1)\n",
    "        \n",
    "        return outputs\n",
    "    \n",
    "    def _initialize_decoder_state(self, encoder_outputs):\n",
    "        \"\"\"\n",
    "        Initialize decoder state from encoder outputs\n",
    "        \"\"\"\n",
    "        if isinstance(encoder_outputs[1], tuple):\n",
    "            return encoder_outputs[1]\n",
    "        return encoder_outputs[1]\n",
    "    \n",
    "    def _should_use_teacher_forcing(self, teacher_forcing_ratio):\n",
    "        \"\"\"\n",
    "        Determine if teacher forcing should be used\n",
    "        \"\"\"\n",
    "        return random.random() < teacher_forcing_ratio\n",
    "    \n",
    "    def inference(self, source, max_len=50):\n",
    "        \"\"\"\n",
    "        Inference with attention mechanism\n",
    "        \"\"\"\n",
    "        batch_size = source.size(0)\n",
    "        vocab_size = self.decoder.get_output_dim()\n",
    "        \n",
    "        # Initialize output tensor\n",
    "        outputs = torch.zeros(batch_size, max_len, vocab_size).to(self.device)\n",
    "        \n",
    "        # Get encoder outputs\n",
    "        encoder_outputs, encoder_hidden = self.encoder(source)\n",
    "        \n",
    "        # Initialize decoder\n",
    "        decoder_hidden = self._initialize_decoder_state((encoder_outputs, encoder_hidden))\n",
    "        decoder_input = torch.tensor([self.config['sos_token']] * batch_size, device=self.device)\n",
    "        \n",
    "        # Process each timestep\n",
    "        for t in range(1, max_len):\n",
    "            # Compute attention context\n",
    "            context, _ = self._compute_attention(decoder_hidden, encoder_outputs)\n",
    "            \n",
    "            # Process decoder step\n",
    "            decoder_output, decoder_hidden = self._process_decoder_step(\n",
    "                decoder_input, decoder_hidden, encoder_outputs, context\n",
    "            )\n",
    "            \n",
    "            # Store output\n",
    "            outputs[:, t] = decoder_output\n",
    "            \n",
    "            # Update input\n",
    "            decoder_input = decoder_output.argmax(1)\n",
    "            \n",
    "            # Check for end of sequence\n",
    "            if (decoder_input == self.config['eos_token']).all():\n",
    "                break\n",
    "        \n",
    "        return outputs"
   ]
  },
  {
   "cell_type": "markdown",
   "id": "RF6x-HHaCsLc",
   "metadata": {
    "id": "RF6x-HHaCsLc"
   },
   "source": [
    "## Training and Evaluation of Vanilla Model"
   ]
  },
  {
   "cell_type": "code",
   "execution_count": 18,
   "id": "c9abfedf",
   "metadata": {
    "execution": {
     "iopub.execute_input": "2025-05-20T20:58:56.461409Z",
     "iopub.status.busy": "2025-05-20T20:58:56.460711Z",
     "iopub.status.idle": "2025-05-20T20:58:56.466752Z",
     "shell.execute_reply": "2025-05-20T20:58:56.465986Z",
     "shell.execute_reply.started": "2025-05-20T20:58:56.461384Z"
    },
    "id": "c9abfedf",
    "papermill": {
     "duration": 0.010952,
     "end_time": "2025-05-14T06:23:06.535885",
     "exception": false,
     "start_time": "2025-05-14T06:23:06.524933",
     "status": "completed"
    },
    "tags": [],
    "trusted": true
   },
   "outputs": [],
   "source": [
    "def train(model, train_loader, optimizer, criterion, clip=1.0, teacher_forcing_ratio=0.5):\n",
    "    model.train()\n",
    "    epoch_loss = 0\n",
    "\n",
    "    for i, (src, tgt) in enumerate(train_loader):\n",
    "        src = src.to(device)\n",
    "        tgt = tgt.to(device)\n",
    "        #print(\"tgt\", tgt)\n",
    "        optimizer.zero_grad()\n",
    "\n",
    "        output = model(src, tgt, teacher_forcing_ratio)\n",
    "        #print(\"output\", output)\n",
    "        output_dim = output.shape[-1]\n",
    "        output = output[:, 1:].reshape(-1, output_dim)\n",
    "        tgt = tgt[:, 1:].reshape(-1)\n",
    "        #print(\"tgt2\", tgt)\n",
    "        #print(\"output2\", output)\n",
    "        #break\n",
    "\n",
    "        # Calculate loss\n",
    "        loss = criterion(output, tgt)\n",
    "\n",
    "        # Backpropagation\n",
    "        loss.backward()\n",
    "\n",
    "        # Gradient clipping\n",
    "        torch.nn.utils.clip_grad_norm_(model.parameters(), clip)\n",
    "\n",
    "        # Update parameters\n",
    "        optimizer.step()\n",
    "\n",
    "        epoch_loss += loss.item()\n",
    "\n",
    "    return epoch_loss / len(train_loader)"
   ]
  },
  {
   "cell_type": "code",
   "execution_count": 19,
   "id": "c5774eab",
   "metadata": {
    "execution": {
     "iopub.execute_input": "2025-05-20T20:59:00.011493Z",
     "iopub.status.busy": "2025-05-20T20:59:00.011238Z",
     "iopub.status.idle": "2025-05-20T20:59:00.016361Z",
     "shell.execute_reply": "2025-05-20T20:59:00.015785Z",
     "shell.execute_reply.started": "2025-05-20T20:59:00.011475Z"
    },
    "id": "c5774eab",
    "papermill": {
     "duration": 0.010778,
     "end_time": "2025-05-14T06:23:06.551230",
     "exception": false,
     "start_time": "2025-05-14T06:23:06.540452",
     "status": "completed"
    },
    "tags": [],
    "trusted": true
   },
   "outputs": [],
   "source": [
    "def evaluate(model, val_loader, criterion):\n",
    "    model.eval()\n",
    "    epoch_loss = 0\n",
    "\n",
    "    with torch.no_grad():\n",
    "        for i, (src, tgt) in enumerate(val_loader):\n",
    "            src = src.to(device)\n",
    "            tgt = tgt.to(device)\n",
    "\n",
    "            output = model.inference(src, tgt.shape[1])\n",
    "\n",
    "            # Reshape output and target for loss calculation\n",
    "            output_dim = output.shape[-1]\n",
    "            output = output[:, 1:].reshape(-1, output_dim)\n",
    "            tgt = tgt[:, 1:].reshape(-1)\n",
    "\n",
    "            # Calculate loss\n",
    "            loss = criterion(output, tgt)\n",
    "            epoch_loss += loss.item()\n",
    "\n",
    "    return epoch_loss / len(val_loader)"
   ]
  },
  {
   "cell_type": "code",
   "execution_count": 20,
   "id": "1f1e2b4f",
   "metadata": {
    "execution": {
     "iopub.execute_input": "2025-05-20T20:59:02.600122Z",
     "iopub.status.busy": "2025-05-20T20:59:02.599452Z",
     "iopub.status.idle": "2025-05-20T20:59:02.606233Z",
     "shell.execute_reply": "2025-05-20T20:59:02.605398Z",
     "shell.execute_reply.started": "2025-05-20T20:59:02.600098Z"
    },
    "id": "1f1e2b4f",
    "papermill": {
     "duration": 0.01163,
     "end_time": "2025-05-14T06:23:06.567029",
     "exception": false,
     "start_time": "2025-05-14T06:23:06.555399",
     "status": "completed"
    },
    "tags": [],
    "trusted": true
   },
   "outputs": [],
   "source": [
    "def transliterate(model, src_text, src_vocab, tgt_vocab, device, max_length=100):\n",
    "    model.eval()\n",
    "\n",
    "    # Convert source text to tensor\n",
    "    src_indices = src_vocab.encode(src_text)\n",
    "    src_tensor = torch.tensor(src_indices, dtype=torch.long).unsqueeze(0).to(device)\n",
    "\n",
    "    # Get encoder outputs\n",
    "    with torch.no_grad():\n",
    "        if model.encoder.cell_type == 'LSTM':\n",
    "            encoder_outputs, (hidden, cell) = model.encoder(src_tensor)\n",
    "            decoder_hidden = (hidden, cell)\n",
    "        else:\n",
    "            encoder_outputs, hidden = model.encoder(src_tensor)\n",
    "            decoder_hidden = hidden\n",
    "\n",
    "    # Start with SOS token\n",
    "    decoder_input = torch.tensor([tgt_vocab.char2idx[tgt_vocab.sos_token]], device=device)\n",
    "\n",
    "    result_indices = [tgt_vocab.char2idx[tgt_vocab.sos_token]]\n",
    "\n",
    "    for _ in range(max_length):\n",
    "        with torch.no_grad():\n",
    "            decoder_output, decoder_hidden = model.decoder(decoder_input, decoder_hidden)\n",
    "\n",
    "        # Get the most likely next character\n",
    "        top_token = decoder_output.argmax(1).item()\n",
    "        result_indices.append(top_token)\n",
    "\n",
    "        # Stop if EOS token\n",
    "        if top_token == tgt_vocab.char2idx[tgt_vocab.eos_token]:\n",
    "            break\n",
    "\n",
    "        # Use predicted token as next input\n",
    "        decoder_input = torch.tensor([top_token], device=device)\n",
    "\n",
    "    # Convert indices to text\n",
    "    result_text = tgt_vocab.decode(result_indices, remove_special_tokens=True)\n",
    "\n",
    "    return result_text"
   ]
  },
  {
   "cell_type": "code",
   "execution_count": 21,
   "id": "A1ifqC7rJIsh",
   "metadata": {
    "execution": {
     "iopub.execute_input": "2025-05-20T20:59:05.719143Z",
     "iopub.status.busy": "2025-05-20T20:59:05.718447Z",
     "iopub.status.idle": "2025-05-20T20:59:05.724228Z",
     "shell.execute_reply": "2025-05-20T20:59:05.723420Z",
     "shell.execute_reply.started": "2025-05-20T20:59:05.719117Z"
    },
    "id": "A1ifqC7rJIsh",
    "trusted": true
   },
   "outputs": [],
   "source": [
    "# Accuracy calculation function\n",
    "def calculate_accuracy(model, data_loader, src_vocab, tgt_vocab, device):\n",
    "    model.eval()\n",
    "    correct = 0\n",
    "    total = 0\n",
    "\n",
    "    with torch.no_grad():\n",
    "        for src, tgt in data_loader:\n",
    "            src = src.to(device)\n",
    "            tgt = tgt.to(device)\n",
    "\n",
    "            batch_size = src.shape[0]\n",
    "\n",
    "            for i in range(batch_size):\n",
    "                # Get source text and actual target text\n",
    "                src_indices = src[i].tolist()\n",
    "                src_text = src_vocab.decode(src_indices)\n",
    "                actual_tgt_text = tgt_vocab.decode(tgt[i].tolist())\n",
    "\n",
    "                # Get predicted transliteration\n",
    "                predicted_tgt_text = transliterate(model, src_text, src_vocab, tgt_vocab, device)\n",
    "\n",
    "                # Check if prediction matches\n",
    "                if predicted_tgt_text == actual_tgt_text:\n",
    "                    correct += 1\n",
    "                total += 1\n",
    "\n",
    "    return correct / total"
   ]
  },
  {
   "cell_type": "markdown",
   "id": "z6-qKCu9JK9l",
   "metadata": {
    "id": "z6-qKCu9JK9l"
   },
   "source": [
    "## Sample Run of Vanilla Model"
   ]
  },
  {
   "cell_type": "markdown",
   "id": "grc8ukSVJWBt",
   "metadata": {
    "id": "grc8ukSVJWBt"
   },
   "source": [
    "## Hyperparameter Tuning of Vanilla Model"
   ]
  },
  {
   "cell_type": "code",
   "execution_count": 24,
   "id": "47e3f3e8",
   "metadata": {
    "execution": {
     "iopub.execute_input": "2025-05-20T10:27:21.889559Z",
     "iopub.status.busy": "2025-05-20T10:27:21.889267Z",
     "iopub.status.idle": "2025-05-20T10:27:21.899521Z",
     "shell.execute_reply": "2025-05-20T10:27:21.898776Z",
     "shell.execute_reply.started": "2025-05-20T10:27:21.889540Z"
    },
    "id": "47e3f3e8",
    "papermill": {
     "duration": 0.016525,
     "end_time": "2025-05-14T06:29:47.946720",
     "exception": false,
     "start_time": "2025-05-14T06:29:47.930195",
     "status": "completed"
    },
    "tags": [],
    "trusted": true
   },
   "outputs": [],
   "source": [
    "def sweep_hyperparameters(config=None):\n",
    "    with wandb.init(config=config):\n",
    "        config = wandb.config\n",
    "        wandb.run.name = f\"embedding_size_{str(config.embedding_size)}_num_layers_{str(config.num_layers)}_hidden_size_{config.hidden_size} \\\n",
    "                          _cell_type_{config.cell_type}_dp_{config.dropout}_lr_{config.learning_rate}_batch_{config.batch_size}\"\n",
    "\n",
    "        # Log in my details\n",
    "        wandb.config.update({\"NAME\": \"KILAPARTHI VISHNU VARDHAN\", \"ROLL NO.\": \"CS24M022\"})\n",
    "\n",
    "        train_dataset = TransliterationDataset(TRAIN_FilePath, src_vocab, tgt_vocab)\n",
    "        train_loader = DataLoader(train_dataset, batch_size=config.batch_size, shuffle=True, collate_fn=collate_fn)\n",
    "\n",
    "        dev_dataset = TransliterationDataset(DEV_FilePath, src_vocab, tgt_vocab)\n",
    "        dev_loader = DataLoader(dev_dataset, batch_size=config.batch_size, shuffle=False, collate_fn=collate_fn)\n",
    "\n",
    "        INPUT_SIZE = src_vocab.vocab_size\n",
    "        OUTPUT_SIZE = tgt_vocab.vocab_size\n",
    "\n",
    "        EMBEDDING_SIZE = config.embedding_size\n",
    "        HIDDEN_SIZE = config.hidden_size\n",
    "        NUM_LAYERS = config.num_layers\n",
    "        CELL_TYPE = config.cell_type\n",
    "        DROPOUT = config.dropout\n",
    "        LEARNING_RATE = config.learning_rate\n",
    "        NUM_EPOCHS = 10\n",
    "\n",
    "        # Initialize encoder, decoder, and seq2seq model\n",
    "        encoder = Encoder(\n",
    "            input_size=INPUT_SIZE,\n",
    "            embedding_size=EMBEDDING_SIZE,\n",
    "            hidden_size=HIDDEN_SIZE,\n",
    "            num_layers=NUM_LAYERS,\n",
    "            cell_type=CELL_TYPE,\n",
    "            dropout=DROPOUT\n",
    "        )\n",
    "\n",
    "        decoder = Decoder(\n",
    "            output_size=OUTPUT_SIZE,\n",
    "            embedding_size=EMBEDDING_SIZE,\n",
    "            hidden_size=HIDDEN_SIZE,\n",
    "            num_layers=NUM_LAYERS,\n",
    "            cell_type=CELL_TYPE,\n",
    "            dropout=DROPOUT\n",
    "        )\n",
    "\n",
    "        model = Seq2Seq(encoder, decoder, device).to(device)\n",
    "        criterion = nn.CrossEntropyLoss(ignore_index=0)\n",
    "        optimizer = optim.Adam(model.parameters(), lr=LEARNING_RATE)\n",
    "\n",
    "        criterion = nn.CrossEntropyLoss()\n",
    "        optimizer = optim.Adam(model.parameters(), lr=config.learning_rate)\n",
    "\n",
    "        for epoch in tqdm(range(NUM_EPOCHS)):\n",
    "            # Train model\n",
    "            train_loss = train(model, train_loader, optimizer, criterion)\n",
    "            # Evaluate model\n",
    "            valid_loss = evaluate(model, dev_loader, criterion)\n",
    "\n",
    "            print(f\"Train Loss: {train_loss:.4f} | Valid Loss: {valid_loss:.4f}\")\n",
    "            # Log the evaluation metrics\n",
    "            wandb.log({\n",
    "                \"epoch\": epoch,\n",
    "                \"train_loss\": train_loss,\n",
    "                \"validation_loss\": valid_loss,\n",
    "                })\n",
    "\n",
    "        # Calculate accuracy on validation set\n",
    "        val_accuracy = calculate_accuracy(model, dev_loader, src_vocab, tgt_vocab, device)\n",
    "        print(f\"\\nValidation Accuracy: {val_accuracy:.4f}\")\n",
    "        wandb.log({\n",
    "            \"val_accuracy\": val_accuracy\n",
    "        })"
   ]
  },
  {
   "cell_type": "code",
   "execution_count": 25,
   "id": "6fdcd984",
   "metadata": {
    "execution": {
     "iopub.execute_input": "2025-05-20T10:27:25.588541Z",
     "iopub.status.busy": "2025-05-20T10:27:25.587851Z",
     "iopub.status.idle": "2025-05-20T10:27:25.919551Z",
     "shell.execute_reply": "2025-05-20T10:27:25.918719Z",
     "shell.execute_reply.started": "2025-05-20T10:27:25.588520Z"
    },
    "id": "6fdcd984",
    "outputId": "c7877dab-520b-4918-c2d8-b535db0ea2eb",
    "papermill": {
     "duration": 41423.492896,
     "end_time": "2025-05-14T18:00:11.445221",
     "exception": false,
     "start_time": "2025-05-14T06:29:47.952325",
     "status": "completed"
    },
    "tags": [],
    "trusted": true
   },
   "outputs": [
    {
     "name": "stdout",
     "output_type": "stream",
     "text": [
      "Create sweep with ID: rxo139kw\n",
      "Sweep URL: https://wandb.ai/cs24m022-iit-madras-foundation/cs24m022_DA6401_Assignment3/sweeps/rxo139kw\n"
     ]
    }
   ],
   "source": [
    "sweep_config = {\n",
    "    \"method\" : \"bayes\",\n",
    "    \"metric\" : {\"name\": \"val_accuracy\", \"goal\": \"maximize\"},\n",
    "    \"parameters\" : {\n",
    "        \"embedding_size\" : {\"values\" : [16, 32, 64, 256]},\n",
    "        \"num_layers\" : {\"values\" : [2, 3]},\n",
    "        \"hidden_size\" : {\"values\" : [32, 128, 512]},\n",
    "        \"cell_type\" : {\"values\" : [\"RNN\", \"LSTM\", \"GRU\"]},\n",
    "        \"dropout\" : {\"values\" : [ 0.2, 0.3]},\n",
    "        \"learning_rate\" : {\"values\" : [0.001, 0.0005]},\n",
    "        \"batch_size\": {\"values\": [32, 64, 128]}\n",
    "    }\n",
    "}\n",
    "\n",
    "sweep_id = wandb.sweep(sweep_config, project = \"cs24m022_DA6401_Assignment3\")"
   ]
  },
  {
   "cell_type": "code",
   "execution_count": 26,
   "id": "f1c74b25-85e4-4a3c-bf19-1592a73c1c10",
   "metadata": {
    "execution": {
     "iopub.execute_input": "2025-05-20T10:27:33.719316Z",
     "iopub.status.busy": "2025-05-20T10:27:33.719035Z",
     "iopub.status.idle": "2025-05-20T12:55:51.821100Z",
     "shell.execute_reply": "2025-05-20T12:55:51.819678Z",
     "shell.execute_reply.started": "2025-05-20T10:27:33.719296Z"
    },
    "trusted": true
   },
   "outputs": [
    {
     "name": "stderr",
     "output_type": "stream",
     "text": [
      "\u001b[34m\u001b[1mwandb\u001b[0m: Agent Starting Run: ge8sbo9x with config:\n",
      "\u001b[34m\u001b[1mwandb\u001b[0m: \tbatch_size: 64\n",
      "\u001b[34m\u001b[1mwandb\u001b[0m: \tcell_type: GRU\n",
      "\u001b[34m\u001b[1mwandb\u001b[0m: \tdropout: 0.3\n",
      "\u001b[34m\u001b[1mwandb\u001b[0m: \tembedding_size: 16\n",
      "\u001b[34m\u001b[1mwandb\u001b[0m: \thidden_size: 512\n",
      "\u001b[34m\u001b[1mwandb\u001b[0m: \tlearning_rate: 0.0005\n",
      "\u001b[34m\u001b[1mwandb\u001b[0m: \tnum_layers: 2\n"
     ]
    },
    {
     "data": {
      "text/html": [
       "Tracking run with wandb version 0.19.9"
      ],
      "text/plain": [
       "<IPython.core.display.HTML object>"
      ]
     },
     "metadata": {},
     "output_type": "display_data"
    },
    {
     "data": {
      "text/html": [
       "Run data is saved locally in <code>/kaggle/working/wandb/run-20250520_102741-ge8sbo9x</code>"
      ],
      "text/plain": [
       "<IPython.core.display.HTML object>"
      ]
     },
     "metadata": {},
     "output_type": "display_data"
    },
    {
     "data": {
      "text/html": [
       "Syncing run <strong><a href='https://wandb.ai/cs24m022-iit-madras-foundation/cs24m022_DA6401_Assignment3/runs/ge8sbo9x' target=\"_blank\">scarlet-sweep-1</a></strong> to <a href='https://wandb.ai/cs24m022-iit-madras-foundation/cs24m022_DA6401_Assignment3' target=\"_blank\">Weights & Biases</a> (<a href='https://wandb.me/developer-guide' target=\"_blank\">docs</a>)<br>Sweep page: <a href='https://wandb.ai/cs24m022-iit-madras-foundation/cs24m022_DA6401_Assignment3/sweeps/rxo139kw' target=\"_blank\">https://wandb.ai/cs24m022-iit-madras-foundation/cs24m022_DA6401_Assignment3/sweeps/rxo139kw</a>"
      ],
      "text/plain": [
       "<IPython.core.display.HTML object>"
      ]
     },
     "metadata": {},
     "output_type": "display_data"
    },
    {
     "data": {
      "text/html": [
       " View project at <a href='https://wandb.ai/cs24m022-iit-madras-foundation/cs24m022_DA6401_Assignment3' target=\"_blank\">https://wandb.ai/cs24m022-iit-madras-foundation/cs24m022_DA6401_Assignment3</a>"
      ],
      "text/plain": [
       "<IPython.core.display.HTML object>"
      ]
     },
     "metadata": {},
     "output_type": "display_data"
    },
    {
     "data": {
      "text/html": [
       " View sweep at <a href='https://wandb.ai/cs24m022-iit-madras-foundation/cs24m022_DA6401_Assignment3/sweeps/rxo139kw' target=\"_blank\">https://wandb.ai/cs24m022-iit-madras-foundation/cs24m022_DA6401_Assignment3/sweeps/rxo139kw</a>"
      ],
      "text/plain": [
       "<IPython.core.display.HTML object>"
      ]
     },
     "metadata": {},
     "output_type": "display_data"
    },
    {
     "data": {
      "text/html": [
       " View run at <a href='https://wandb.ai/cs24m022-iit-madras-foundation/cs24m022_DA6401_Assignment3/runs/ge8sbo9x' target=\"_blank\">https://wandb.ai/cs24m022-iit-madras-foundation/cs24m022_DA6401_Assignment3/runs/ge8sbo9x</a>"
      ],
      "text/plain": [
       "<IPython.core.display.HTML object>"
      ]
     },
     "metadata": {},
     "output_type": "display_data"
    },
    {
     "name": "stderr",
     "output_type": "stream",
     "text": [
      " 10%|█         | 1/10 [00:20<03:06, 20.71s/it]"
     ]
    },
    {
     "name": "stdout",
     "output_type": "stream",
     "text": [
      "Train Loss: 1.5995 | Valid Loss: 1.3383\n"
     ]
    },
    {
     "name": "stderr",
     "output_type": "stream",
     "text": [
      " 20%|██        | 2/10 [00:40<02:41, 20.17s/it]"
     ]
    },
    {
     "name": "stdout",
     "output_type": "stream",
     "text": [
      "Train Loss: 0.8974 | Valid Loss: 0.9699\n"
     ]
    },
    {
     "name": "stderr",
     "output_type": "stream",
     "text": [
      " 30%|███       | 3/10 [01:00<02:20, 20.11s/it]"
     ]
    },
    {
     "name": "stdout",
     "output_type": "stream",
     "text": [
      "Train Loss: 0.6576 | Valid Loss: 0.8802\n"
     ]
    },
    {
     "name": "stderr",
     "output_type": "stream",
     "text": [
      " 40%|████      | 4/10 [01:20<02:00, 20.06s/it]"
     ]
    },
    {
     "name": "stdout",
     "output_type": "stream",
     "text": [
      "Train Loss: 0.5355 | Valid Loss: 0.8428\n"
     ]
    },
    {
     "name": "stderr",
     "output_type": "stream",
     "text": [
      " 50%|█████     | 5/10 [01:40<01:40, 20.13s/it]"
     ]
    },
    {
     "name": "stdout",
     "output_type": "stream",
     "text": [
      "Train Loss: 0.4676 | Valid Loss: 0.7875\n"
     ]
    },
    {
     "name": "stderr",
     "output_type": "stream",
     "text": [
      " 60%|██████    | 6/10 [02:00<01:20, 20.13s/it]"
     ]
    },
    {
     "name": "stdout",
     "output_type": "stream",
     "text": [
      "Train Loss: 0.4095 | Valid Loss: 0.8286\n"
     ]
    },
    {
     "name": "stderr",
     "output_type": "stream",
     "text": [
      " 70%|███████   | 7/10 [02:20<01:00, 20.11s/it]"
     ]
    },
    {
     "name": "stdout",
     "output_type": "stream",
     "text": [
      "Train Loss: 0.3650 | Valid Loss: 0.7641\n"
     ]
    },
    {
     "name": "stderr",
     "output_type": "stream",
     "text": [
      " 80%|████████  | 8/10 [02:40<00:40, 20.08s/it]"
     ]
    },
    {
     "name": "stdout",
     "output_type": "stream",
     "text": [
      "Train Loss: 0.3355 | Valid Loss: 0.7909\n"
     ]
    },
    {
     "name": "stderr",
     "output_type": "stream",
     "text": [
      " 90%|█████████ | 9/10 [03:01<00:20, 20.19s/it]"
     ]
    },
    {
     "name": "stdout",
     "output_type": "stream",
     "text": [
      "Train Loss: 0.2967 | Valid Loss: 0.7835\n"
     ]
    },
    {
     "name": "stderr",
     "output_type": "stream",
     "text": [
      "100%|██████████| 10/10 [03:21<00:00, 20.14s/it]"
     ]
    },
    {
     "name": "stdout",
     "output_type": "stream",
     "text": [
      "Train Loss: 0.2723 | Valid Loss: 0.7832\n"
     ]
    },
    {
     "name": "stderr",
     "output_type": "stream",
     "text": [
      "\n"
     ]
    },
    {
     "name": "stdout",
     "output_type": "stream",
     "text": [
      "\n",
      "Validation Accuracy: 0.2770\n"
     ]
    },
    {
     "data": {
      "text/html": [],
      "text/plain": [
       "<IPython.core.display.HTML object>"
      ]
     },
     "metadata": {},
     "output_type": "display_data"
    },
    {
     "data": {
      "text/html": [
       "<br>    <style><br>        .wandb-row {<br>            display: flex;<br>            flex-direction: row;<br>            flex-wrap: wrap;<br>            justify-content: flex-start;<br>            width: 100%;<br>        }<br>        .wandb-col {<br>            display: flex;<br>            flex-direction: column;<br>            flex-basis: 100%;<br>            flex: 1;<br>            padding: 10px;<br>        }<br>    </style><br><div class=\"wandb-row\"><div class=\"wandb-col\"><h3>Run history:</h3><br/><table class=\"wandb\"><tr><td>epoch</td><td>▁▂▃▃▄▅▆▆▇█</td></tr><tr><td>train_loss</td><td>█▄▃▂▂▂▁▁▁▁</td></tr><tr><td>val_accuracy</td><td>▁</td></tr><tr><td>validation_loss</td><td>█▄▂▂▁▂▁▁▁▁</td></tr></table><br/></div><div class=\"wandb-col\"><h3>Run summary:</h3><br/><table class=\"wandb\"><tr><td>epoch</td><td>9</td></tr><tr><td>train_loss</td><td>0.27232</td></tr><tr><td>val_accuracy</td><td>0.27696</td></tr><tr><td>validation_loss</td><td>0.78321</td></tr></table><br/></div></div>"
      ],
      "text/plain": [
       "<IPython.core.display.HTML object>"
      ]
     },
     "metadata": {},
     "output_type": "display_data"
    },
    {
     "data": {
      "text/html": [
       " View run <strong style=\"color:#cdcd00\">embedding_size_16_num_layers_2_hidden_size_512                           _cell_type_GRU_dp_0.3_lr_0.0005_batch_64</strong> at: <a href='https://wandb.ai/cs24m022-iit-madras-foundation/cs24m022_DA6401_Assignment3/runs/ge8sbo9x' target=\"_blank\">https://wandb.ai/cs24m022-iit-madras-foundation/cs24m022_DA6401_Assignment3/runs/ge8sbo9x</a><br> View project at: <a href='https://wandb.ai/cs24m022-iit-madras-foundation/cs24m022_DA6401_Assignment3' target=\"_blank\">https://wandb.ai/cs24m022-iit-madras-foundation/cs24m022_DA6401_Assignment3</a><br>Synced 5 W&B file(s), 0 media file(s), 0 artifact file(s) and 0 other file(s)"
      ],
      "text/plain": [
       "<IPython.core.display.HTML object>"
      ]
     },
     "metadata": {},
     "output_type": "display_data"
    },
    {
     "data": {
      "text/html": [
       "Find logs at: <code>./wandb/run-20250520_102741-ge8sbo9x/logs</code>"
      ],
      "text/plain": [
       "<IPython.core.display.HTML object>"
      ]
     },
     "metadata": {},
     "output_type": "display_data"
    },
    {
     "name": "stderr",
     "output_type": "stream",
     "text": [
      "\u001b[34m\u001b[1mwandb\u001b[0m: Sweep Agent: Waiting for job.\n",
      "\u001b[34m\u001b[1mwandb\u001b[0m: Job received.\n",
      "\u001b[34m\u001b[1mwandb\u001b[0m: Agent Starting Run: mmcrgn8q with config:\n",
      "\u001b[34m\u001b[1mwandb\u001b[0m: \tbatch_size: 32\n",
      "\u001b[34m\u001b[1mwandb\u001b[0m: \tcell_type: GRU\n",
      "\u001b[34m\u001b[1mwandb\u001b[0m: \tdropout: 0.2\n",
      "\u001b[34m\u001b[1mwandb\u001b[0m: \tembedding_size: 16\n",
      "\u001b[34m\u001b[1mwandb\u001b[0m: \thidden_size: 32\n",
      "\u001b[34m\u001b[1mwandb\u001b[0m: \tlearning_rate: 0.001\n",
      "\u001b[34m\u001b[1mwandb\u001b[0m: \tnum_layers: 2\n"
     ]
    },
    {
     "data": {
      "text/html": [
       "Tracking run with wandb version 0.19.9"
      ],
      "text/plain": [
       "<IPython.core.display.HTML object>"
      ]
     },
     "metadata": {},
     "output_type": "display_data"
    },
    {
     "data": {
      "text/html": [
       "Run data is saved locally in <code>/kaggle/working/wandb/run-20250520_103150-mmcrgn8q</code>"
      ],
      "text/plain": [
       "<IPython.core.display.HTML object>"
      ]
     },
     "metadata": {},
     "output_type": "display_data"
    },
    {
     "data": {
      "text/html": [
       "Syncing run <strong><a href='https://wandb.ai/cs24m022-iit-madras-foundation/cs24m022_DA6401_Assignment3/runs/mmcrgn8q' target=\"_blank\">gallant-sweep-2</a></strong> to <a href='https://wandb.ai/cs24m022-iit-madras-foundation/cs24m022_DA6401_Assignment3' target=\"_blank\">Weights & Biases</a> (<a href='https://wandb.me/developer-guide' target=\"_blank\">docs</a>)<br>Sweep page: <a href='https://wandb.ai/cs24m022-iit-madras-foundation/cs24m022_DA6401_Assignment3/sweeps/rxo139kw' target=\"_blank\">https://wandb.ai/cs24m022-iit-madras-foundation/cs24m022_DA6401_Assignment3/sweeps/rxo139kw</a>"
      ],
      "text/plain": [
       "<IPython.core.display.HTML object>"
      ]
     },
     "metadata": {},
     "output_type": "display_data"
    },
    {
     "data": {
      "text/html": [
       " View project at <a href='https://wandb.ai/cs24m022-iit-madras-foundation/cs24m022_DA6401_Assignment3' target=\"_blank\">https://wandb.ai/cs24m022-iit-madras-foundation/cs24m022_DA6401_Assignment3</a>"
      ],
      "text/plain": [
       "<IPython.core.display.HTML object>"
      ]
     },
     "metadata": {},
     "output_type": "display_data"
    },
    {
     "data": {
      "text/html": [
       " View sweep at <a href='https://wandb.ai/cs24m022-iit-madras-foundation/cs24m022_DA6401_Assignment3/sweeps/rxo139kw' target=\"_blank\">https://wandb.ai/cs24m022-iit-madras-foundation/cs24m022_DA6401_Assignment3/sweeps/rxo139kw</a>"
      ],
      "text/plain": [
       "<IPython.core.display.HTML object>"
      ]
     },
     "metadata": {},
     "output_type": "display_data"
    },
    {
     "data": {
      "text/html": [
       " View run at <a href='https://wandb.ai/cs24m022-iit-madras-foundation/cs24m022_DA6401_Assignment3/runs/mmcrgn8q' target=\"_blank\">https://wandb.ai/cs24m022-iit-madras-foundation/cs24m022_DA6401_Assignment3/runs/mmcrgn8q</a>"
      ],
      "text/plain": [
       "<IPython.core.display.HTML object>"
      ]
     },
     "metadata": {},
     "output_type": "display_data"
    },
    {
     "name": "stderr",
     "output_type": "stream",
     "text": [
      " 10%|█         | 1/10 [00:30<04:36, 30.68s/it]"
     ]
    },
    {
     "name": "stdout",
     "output_type": "stream",
     "text": [
      "Train Loss: 1.9813 | Valid Loss: 2.0590\n"
     ]
    },
    {
     "name": "stderr",
     "output_type": "stream",
     "text": [
      " 20%|██        | 2/10 [01:01<04:05, 30.73s/it]"
     ]
    },
    {
     "name": "stdout",
     "output_type": "stream",
     "text": [
      "Train Loss: 1.5976 | Valid Loss: 1.8324\n"
     ]
    },
    {
     "name": "stderr",
     "output_type": "stream",
     "text": [
      " 30%|███       | 3/10 [01:32<03:36, 30.97s/it]"
     ]
    },
    {
     "name": "stdout",
     "output_type": "stream",
     "text": [
      "Train Loss: 1.3809 | Valid Loss: 1.5859\n"
     ]
    },
    {
     "name": "stderr",
     "output_type": "stream",
     "text": [
      " 40%|████      | 4/10 [02:04<03:07, 31.17s/it]"
     ]
    },
    {
     "name": "stdout",
     "output_type": "stream",
     "text": [
      "Train Loss: 1.2196 | Valid Loss: 1.4483\n"
     ]
    },
    {
     "name": "stderr",
     "output_type": "stream",
     "text": [
      " 50%|█████     | 5/10 [02:35<02:35, 31.16s/it]"
     ]
    },
    {
     "name": "stdout",
     "output_type": "stream",
     "text": [
      "Train Loss: 1.1296 | Valid Loss: 1.3504\n"
     ]
    },
    {
     "name": "stderr",
     "output_type": "stream",
     "text": [
      " 60%|██████    | 6/10 [03:06<02:04, 31.20s/it]"
     ]
    },
    {
     "name": "stdout",
     "output_type": "stream",
     "text": [
      "Train Loss: 1.0619 | Valid Loss: 1.2973\n"
     ]
    },
    {
     "name": "stderr",
     "output_type": "stream",
     "text": [
      " 70%|███████   | 7/10 [03:37<01:33, 31.21s/it]"
     ]
    },
    {
     "name": "stdout",
     "output_type": "stream",
     "text": [
      "Train Loss: 1.0132 | Valid Loss: 1.2516\n"
     ]
    },
    {
     "name": "stderr",
     "output_type": "stream",
     "text": [
      " 80%|████████  | 8/10 [04:09<01:02, 31.23s/it]"
     ]
    },
    {
     "name": "stdout",
     "output_type": "stream",
     "text": [
      "Train Loss: 0.9666 | Valid Loss: 1.2214\n"
     ]
    },
    {
     "name": "stderr",
     "output_type": "stream",
     "text": [
      " 90%|█████████ | 9/10 [04:40<00:31, 31.28s/it]"
     ]
    },
    {
     "name": "stdout",
     "output_type": "stream",
     "text": [
      "Train Loss: 0.9317 | Valid Loss: 1.1904\n"
     ]
    },
    {
     "name": "stderr",
     "output_type": "stream",
     "text": [
      "100%|██████████| 10/10 [05:11<00:00, 31.20s/it]"
     ]
    },
    {
     "name": "stdout",
     "output_type": "stream",
     "text": [
      "Train Loss: 0.9057 | Valid Loss: 1.1955\n"
     ]
    },
    {
     "name": "stderr",
     "output_type": "stream",
     "text": [
      "\n"
     ]
    },
    {
     "name": "stdout",
     "output_type": "stream",
     "text": [
      "\n",
      "Validation Accuracy: 0.0771\n"
     ]
    },
    {
     "data": {
      "text/html": [],
      "text/plain": [
       "<IPython.core.display.HTML object>"
      ]
     },
     "metadata": {},
     "output_type": "display_data"
    },
    {
     "data": {
      "text/html": [
       "<br>    <style><br>        .wandb-row {<br>            display: flex;<br>            flex-direction: row;<br>            flex-wrap: wrap;<br>            justify-content: flex-start;<br>            width: 100%;<br>        }<br>        .wandb-col {<br>            display: flex;<br>            flex-direction: column;<br>            flex-basis: 100%;<br>            flex: 1;<br>            padding: 10px;<br>        }<br>    </style><br><div class=\"wandb-row\"><div class=\"wandb-col\"><h3>Run history:</h3><br/><table class=\"wandb\"><tr><td>epoch</td><td>▁▂▃▃▄▅▆▆▇█</td></tr><tr><td>train_loss</td><td>█▆▄▃▂▂▂▁▁▁</td></tr><tr><td>val_accuracy</td><td>▁</td></tr><tr><td>validation_loss</td><td>█▆▄▃▂▂▁▁▁▁</td></tr></table><br/></div><div class=\"wandb-col\"><h3>Run summary:</h3><br/><table class=\"wandb\"><tr><td>epoch</td><td>9</td></tr><tr><td>train_loss</td><td>0.90571</td></tr><tr><td>val_accuracy</td><td>0.0771</td></tr><tr><td>validation_loss</td><td>1.19547</td></tr></table><br/></div></div>"
      ],
      "text/plain": [
       "<IPython.core.display.HTML object>"
      ]
     },
     "metadata": {},
     "output_type": "display_data"
    },
    {
     "data": {
      "text/html": [
       " View run <strong style=\"color:#cdcd00\">embedding_size_16_num_layers_2_hidden_size_32                           _cell_type_GRU_dp_0.2_lr_0.001_batch_32</strong> at: <a href='https://wandb.ai/cs24m022-iit-madras-foundation/cs24m022_DA6401_Assignment3/runs/mmcrgn8q' target=\"_blank\">https://wandb.ai/cs24m022-iit-madras-foundation/cs24m022_DA6401_Assignment3/runs/mmcrgn8q</a><br> View project at: <a href='https://wandb.ai/cs24m022-iit-madras-foundation/cs24m022_DA6401_Assignment3' target=\"_blank\">https://wandb.ai/cs24m022-iit-madras-foundation/cs24m022_DA6401_Assignment3</a><br>Synced 5 W&B file(s), 0 media file(s), 0 artifact file(s) and 0 other file(s)"
      ],
      "text/plain": [
       "<IPython.core.display.HTML object>"
      ]
     },
     "metadata": {},
     "output_type": "display_data"
    },
    {
     "data": {
      "text/html": [
       "Find logs at: <code>./wandb/run-20250520_103150-mmcrgn8q/logs</code>"
      ],
      "text/plain": [
       "<IPython.core.display.HTML object>"
      ]
     },
     "metadata": {},
     "output_type": "display_data"
    },
    {
     "name": "stderr",
     "output_type": "stream",
     "text": [
      "\u001b[34m\u001b[1mwandb\u001b[0m: Agent Starting Run: 0rywvzki with config:\n",
      "\u001b[34m\u001b[1mwandb\u001b[0m: \tbatch_size: 32\n",
      "\u001b[34m\u001b[1mwandb\u001b[0m: \tcell_type: RNN\n",
      "\u001b[34m\u001b[1mwandb\u001b[0m: \tdropout: 0.3\n",
      "\u001b[34m\u001b[1mwandb\u001b[0m: \tembedding_size: 256\n",
      "\u001b[34m\u001b[1mwandb\u001b[0m: \thidden_size: 512\n",
      "\u001b[34m\u001b[1mwandb\u001b[0m: \tlearning_rate: 0.001\n",
      "\u001b[34m\u001b[1mwandb\u001b[0m: \tnum_layers: 3\n"
     ]
    },
    {
     "data": {
      "text/html": [
       "Tracking run with wandb version 0.19.9"
      ],
      "text/plain": [
       "<IPython.core.display.HTML object>"
      ]
     },
     "metadata": {},
     "output_type": "display_data"
    },
    {
     "data": {
      "text/html": [
       "Run data is saved locally in <code>/kaggle/working/wandb/run-20250520_103735-0rywvzki</code>"
      ],
      "text/plain": [
       "<IPython.core.display.HTML object>"
      ]
     },
     "metadata": {},
     "output_type": "display_data"
    },
    {
     "data": {
      "text/html": [
       "Syncing run <strong><a href='https://wandb.ai/cs24m022-iit-madras-foundation/cs24m022_DA6401_Assignment3/runs/0rywvzki' target=\"_blank\">rich-sweep-3</a></strong> to <a href='https://wandb.ai/cs24m022-iit-madras-foundation/cs24m022_DA6401_Assignment3' target=\"_blank\">Weights & Biases</a> (<a href='https://wandb.me/developer-guide' target=\"_blank\">docs</a>)<br>Sweep page: <a href='https://wandb.ai/cs24m022-iit-madras-foundation/cs24m022_DA6401_Assignment3/sweeps/rxo139kw' target=\"_blank\">https://wandb.ai/cs24m022-iit-madras-foundation/cs24m022_DA6401_Assignment3/sweeps/rxo139kw</a>"
      ],
      "text/plain": [
       "<IPython.core.display.HTML object>"
      ]
     },
     "metadata": {},
     "output_type": "display_data"
    },
    {
     "data": {
      "text/html": [
       " View project at <a href='https://wandb.ai/cs24m022-iit-madras-foundation/cs24m022_DA6401_Assignment3' target=\"_blank\">https://wandb.ai/cs24m022-iit-madras-foundation/cs24m022_DA6401_Assignment3</a>"
      ],
      "text/plain": [
       "<IPython.core.display.HTML object>"
      ]
     },
     "metadata": {},
     "output_type": "display_data"
    },
    {
     "data": {
      "text/html": [
       " View sweep at <a href='https://wandb.ai/cs24m022-iit-madras-foundation/cs24m022_DA6401_Assignment3/sweeps/rxo139kw' target=\"_blank\">https://wandb.ai/cs24m022-iit-madras-foundation/cs24m022_DA6401_Assignment3/sweeps/rxo139kw</a>"
      ],
      "text/plain": [
       "<IPython.core.display.HTML object>"
      ]
     },
     "metadata": {},
     "output_type": "display_data"
    },
    {
     "data": {
      "text/html": [
       " View run at <a href='https://wandb.ai/cs24m022-iit-madras-foundation/cs24m022_DA6401_Assignment3/runs/0rywvzki' target=\"_blank\">https://wandb.ai/cs24m022-iit-madras-foundation/cs24m022_DA6401_Assignment3/runs/0rywvzki</a>"
      ],
      "text/plain": [
       "<IPython.core.display.HTML object>"
      ]
     },
     "metadata": {},
     "output_type": "display_data"
    },
    {
     "name": "stderr",
     "output_type": "stream",
     "text": [
      " 10%|█         | 1/10 [00:35<05:19, 35.47s/it]"
     ]
    },
    {
     "name": "stdout",
     "output_type": "stream",
     "text": [
      "Train Loss: 1.8968 | Valid Loss: 2.8362\n"
     ]
    },
    {
     "name": "stderr",
     "output_type": "stream",
     "text": [
      " 20%|██        | 2/10 [01:10<04:43, 35.39s/it]"
     ]
    },
    {
     "name": "stdout",
     "output_type": "stream",
     "text": [
      "Train Loss: 1.8231 | Valid Loss: 2.5492\n"
     ]
    },
    {
     "name": "stderr",
     "output_type": "stream",
     "text": [
      " 30%|███       | 3/10 [01:46<04:08, 35.47s/it]"
     ]
    },
    {
     "name": "stdout",
     "output_type": "stream",
     "text": [
      "Train Loss: 1.8155 | Valid Loss: 2.4687\n"
     ]
    },
    {
     "name": "stderr",
     "output_type": "stream",
     "text": [
      " 40%|████      | 4/10 [02:22<03:33, 35.55s/it]"
     ]
    },
    {
     "name": "stdout",
     "output_type": "stream",
     "text": [
      "Train Loss: 1.8137 | Valid Loss: 2.8436\n"
     ]
    },
    {
     "name": "stderr",
     "output_type": "stream",
     "text": [
      " 50%|█████     | 5/10 [02:57<02:57, 35.58s/it]"
     ]
    },
    {
     "name": "stdout",
     "output_type": "stream",
     "text": [
      "Train Loss: 1.7999 | Valid Loss: 2.5776\n"
     ]
    },
    {
     "name": "stderr",
     "output_type": "stream",
     "text": [
      " 60%|██████    | 6/10 [03:32<02:21, 35.43s/it]"
     ]
    },
    {
     "name": "stdout",
     "output_type": "stream",
     "text": [
      "Train Loss: 1.8037 | Valid Loss: 2.5721\n"
     ]
    },
    {
     "name": "stderr",
     "output_type": "stream",
     "text": [
      " 70%|███████   | 7/10 [04:08<01:46, 35.50s/it]"
     ]
    },
    {
     "name": "stdout",
     "output_type": "stream",
     "text": [
      "Train Loss: 1.8141 | Valid Loss: 2.3972\n"
     ]
    },
    {
     "name": "stderr",
     "output_type": "stream",
     "text": [
      " 80%|████████  | 8/10 [04:44<01:11, 35.61s/it]"
     ]
    },
    {
     "name": "stdout",
     "output_type": "stream",
     "text": [
      "Train Loss: 1.8111 | Valid Loss: 2.4683\n"
     ]
    },
    {
     "name": "stderr",
     "output_type": "stream",
     "text": [
      " 90%|█████████ | 9/10 [05:20<00:35, 35.72s/it]"
     ]
    },
    {
     "name": "stdout",
     "output_type": "stream",
     "text": [
      "Train Loss: 1.8178 | Valid Loss: 2.4626\n"
     ]
    },
    {
     "name": "stderr",
     "output_type": "stream",
     "text": [
      "100%|██████████| 10/10 [05:55<00:00, 35.59s/it]"
     ]
    },
    {
     "name": "stdout",
     "output_type": "stream",
     "text": [
      "Train Loss: 1.8246 | Valid Loss: 2.5224\n"
     ]
    },
    {
     "name": "stderr",
     "output_type": "stream",
     "text": [
      "\n"
     ]
    },
    {
     "name": "stdout",
     "output_type": "stream",
     "text": [
      "\n",
      "Validation Accuracy: 0.0000\n"
     ]
    },
    {
     "data": {
      "text/html": [],
      "text/plain": [
       "<IPython.core.display.HTML object>"
      ]
     },
     "metadata": {},
     "output_type": "display_data"
    },
    {
     "data": {
      "text/html": [
       "<br>    <style><br>        .wandb-row {<br>            display: flex;<br>            flex-direction: row;<br>            flex-wrap: wrap;<br>            justify-content: flex-start;<br>            width: 100%;<br>        }<br>        .wandb-col {<br>            display: flex;<br>            flex-direction: column;<br>            flex-basis: 100%;<br>            flex: 1;<br>            padding: 10px;<br>        }<br>    </style><br><div class=\"wandb-row\"><div class=\"wandb-col\"><h3>Run history:</h3><br/><table class=\"wandb\"><tr><td>epoch</td><td>▁▂▃▃▄▅▆▆▇█</td></tr><tr><td>train_loss</td><td>█▃▂▂▁▁▂▂▂▃</td></tr><tr><td>val_accuracy</td><td>▁</td></tr><tr><td>validation_loss</td><td>█▃▂█▄▄▁▂▂▃</td></tr></table><br/></div><div class=\"wandb-col\"><h3>Run summary:</h3><br/><table class=\"wandb\"><tr><td>epoch</td><td>9</td></tr><tr><td>train_loss</td><td>1.82459</td></tr><tr><td>val_accuracy</td><td>0</td></tr><tr><td>validation_loss</td><td>2.52239</td></tr></table><br/></div></div>"
      ],
      "text/plain": [
       "<IPython.core.display.HTML object>"
      ]
     },
     "metadata": {},
     "output_type": "display_data"
    },
    {
     "data": {
      "text/html": [
       " View run <strong style=\"color:#cdcd00\">embedding_size_256_num_layers_3_hidden_size_512                           _cell_type_RNN_dp_0.3_lr_0.001_batch_32</strong> at: <a href='https://wandb.ai/cs24m022-iit-madras-foundation/cs24m022_DA6401_Assignment3/runs/0rywvzki' target=\"_blank\">https://wandb.ai/cs24m022-iit-madras-foundation/cs24m022_DA6401_Assignment3/runs/0rywvzki</a><br> View project at: <a href='https://wandb.ai/cs24m022-iit-madras-foundation/cs24m022_DA6401_Assignment3' target=\"_blank\">https://wandb.ai/cs24m022-iit-madras-foundation/cs24m022_DA6401_Assignment3</a><br>Synced 5 W&B file(s), 0 media file(s), 0 artifact file(s) and 0 other file(s)"
      ],
      "text/plain": [
       "<IPython.core.display.HTML object>"
      ]
     },
     "metadata": {},
     "output_type": "display_data"
    },
    {
     "data": {
      "text/html": [
       "Find logs at: <code>./wandb/run-20250520_103735-0rywvzki/logs</code>"
      ],
      "text/plain": [
       "<IPython.core.display.HTML object>"
      ]
     },
     "metadata": {},
     "output_type": "display_data"
    },
    {
     "name": "stderr",
     "output_type": "stream",
     "text": [
      "\u001b[34m\u001b[1mwandb\u001b[0m: Agent Starting Run: u70por9t with config:\n",
      "\u001b[34m\u001b[1mwandb\u001b[0m: \tbatch_size: 64\n",
      "\u001b[34m\u001b[1mwandb\u001b[0m: \tcell_type: RNN\n",
      "\u001b[34m\u001b[1mwandb\u001b[0m: \tdropout: 0.2\n",
      "\u001b[34m\u001b[1mwandb\u001b[0m: \tembedding_size: 64\n",
      "\u001b[34m\u001b[1mwandb\u001b[0m: \thidden_size: 32\n",
      "\u001b[34m\u001b[1mwandb\u001b[0m: \tlearning_rate: 0.001\n",
      "\u001b[34m\u001b[1mwandb\u001b[0m: \tnum_layers: 3\n"
     ]
    },
    {
     "data": {
      "text/html": [
       "Tracking run with wandb version 0.19.9"
      ],
      "text/plain": [
       "<IPython.core.display.HTML object>"
      ]
     },
     "metadata": {},
     "output_type": "display_data"
    },
    {
     "data": {
      "text/html": [
       "Run data is saved locally in <code>/kaggle/working/wandb/run-20250520_104416-u70por9t</code>"
      ],
      "text/plain": [
       "<IPython.core.display.HTML object>"
      ]
     },
     "metadata": {},
     "output_type": "display_data"
    },
    {
     "data": {
      "text/html": [
       "Syncing run <strong><a href='https://wandb.ai/cs24m022-iit-madras-foundation/cs24m022_DA6401_Assignment3/runs/u70por9t' target=\"_blank\">sweet-sweep-4</a></strong> to <a href='https://wandb.ai/cs24m022-iit-madras-foundation/cs24m022_DA6401_Assignment3' target=\"_blank\">Weights & Biases</a> (<a href='https://wandb.me/developer-guide' target=\"_blank\">docs</a>)<br>Sweep page: <a href='https://wandb.ai/cs24m022-iit-madras-foundation/cs24m022_DA6401_Assignment3/sweeps/rxo139kw' target=\"_blank\">https://wandb.ai/cs24m022-iit-madras-foundation/cs24m022_DA6401_Assignment3/sweeps/rxo139kw</a>"
      ],
      "text/plain": [
       "<IPython.core.display.HTML object>"
      ]
     },
     "metadata": {},
     "output_type": "display_data"
    },
    {
     "data": {
      "text/html": [
       " View project at <a href='https://wandb.ai/cs24m022-iit-madras-foundation/cs24m022_DA6401_Assignment3' target=\"_blank\">https://wandb.ai/cs24m022-iit-madras-foundation/cs24m022_DA6401_Assignment3</a>"
      ],
      "text/plain": [
       "<IPython.core.display.HTML object>"
      ]
     },
     "metadata": {},
     "output_type": "display_data"
    },
    {
     "data": {
      "text/html": [
       " View sweep at <a href='https://wandb.ai/cs24m022-iit-madras-foundation/cs24m022_DA6401_Assignment3/sweeps/rxo139kw' target=\"_blank\">https://wandb.ai/cs24m022-iit-madras-foundation/cs24m022_DA6401_Assignment3/sweeps/rxo139kw</a>"
      ],
      "text/plain": [
       "<IPython.core.display.HTML object>"
      ]
     },
     "metadata": {},
     "output_type": "display_data"
    },
    {
     "data": {
      "text/html": [
       " View run at <a href='https://wandb.ai/cs24m022-iit-madras-foundation/cs24m022_DA6401_Assignment3/runs/u70por9t' target=\"_blank\">https://wandb.ai/cs24m022-iit-madras-foundation/cs24m022_DA6401_Assignment3/runs/u70por9t</a>"
      ],
      "text/plain": [
       "<IPython.core.display.HTML object>"
      ]
     },
     "metadata": {},
     "output_type": "display_data"
    },
    {
     "name": "stderr",
     "output_type": "stream",
     "text": [
      " 10%|█         | 1/10 [00:17<02:34, 17.13s/it]"
     ]
    },
    {
     "name": "stdout",
     "output_type": "stream",
     "text": [
      "Train Loss: 1.9685 | Valid Loss: 2.2409\n"
     ]
    },
    {
     "name": "stderr",
     "output_type": "stream",
     "text": [
      " 20%|██        | 2/10 [00:33<02:15, 16.93s/it]"
     ]
    },
    {
     "name": "stdout",
     "output_type": "stream",
     "text": [
      "Train Loss: 1.7320 | Valid Loss: 2.1729\n"
     ]
    },
    {
     "name": "stderr",
     "output_type": "stream",
     "text": [
      " 30%|███       | 3/10 [00:51<02:00, 17.15s/it]"
     ]
    },
    {
     "name": "stdout",
     "output_type": "stream",
     "text": [
      "Train Loss: 1.6667 | Valid Loss: 2.0876\n"
     ]
    },
    {
     "name": "stderr",
     "output_type": "stream",
     "text": [
      " 40%|████      | 4/10 [01:08<01:42, 17.08s/it]"
     ]
    },
    {
     "name": "stdout",
     "output_type": "stream",
     "text": [
      "Train Loss: 1.6370 | Valid Loss: 2.0597\n"
     ]
    },
    {
     "name": "stderr",
     "output_type": "stream",
     "text": [
      " 50%|█████     | 5/10 [01:25<01:25, 17.00s/it]"
     ]
    },
    {
     "name": "stdout",
     "output_type": "stream",
     "text": [
      "Train Loss: 1.6267 | Valid Loss: 2.0491\n"
     ]
    },
    {
     "name": "stderr",
     "output_type": "stream",
     "text": [
      " 60%|██████    | 6/10 [01:42<01:07, 16.96s/it]"
     ]
    },
    {
     "name": "stdout",
     "output_type": "stream",
     "text": [
      "Train Loss: 1.6032 | Valid Loss: 2.0329\n"
     ]
    },
    {
     "name": "stderr",
     "output_type": "stream",
     "text": [
      " 70%|███████   | 7/10 [01:58<00:50, 16.95s/it]"
     ]
    },
    {
     "name": "stdout",
     "output_type": "stream",
     "text": [
      "Train Loss: 1.5989 | Valid Loss: 2.0235\n"
     ]
    },
    {
     "name": "stderr",
     "output_type": "stream",
     "text": [
      " 80%|████████  | 8/10 [02:16<00:34, 17.02s/it]"
     ]
    },
    {
     "name": "stdout",
     "output_type": "stream",
     "text": [
      "Train Loss: 1.5884 | Valid Loss: 2.0246\n"
     ]
    },
    {
     "name": "stderr",
     "output_type": "stream",
     "text": [
      " 90%|█████████ | 9/10 [02:33<00:17, 17.18s/it]"
     ]
    },
    {
     "name": "stdout",
     "output_type": "stream",
     "text": [
      "Train Loss: 1.5809 | Valid Loss: 2.0294\n"
     ]
    },
    {
     "name": "stderr",
     "output_type": "stream",
     "text": [
      "100%|██████████| 10/10 [02:50<00:00, 17.08s/it]"
     ]
    },
    {
     "name": "stdout",
     "output_type": "stream",
     "text": [
      "Train Loss: 1.5834 | Valid Loss: 2.0059\n"
     ]
    },
    {
     "name": "stderr",
     "output_type": "stream",
     "text": [
      "\n"
     ]
    },
    {
     "name": "stdout",
     "output_type": "stream",
     "text": [
      "\n",
      "Validation Accuracy: 0.0002\n"
     ]
    },
    {
     "data": {
      "text/html": [],
      "text/plain": [
       "<IPython.core.display.HTML object>"
      ]
     },
     "metadata": {},
     "output_type": "display_data"
    },
    {
     "data": {
      "text/html": [
       "<br>    <style><br>        .wandb-row {<br>            display: flex;<br>            flex-direction: row;<br>            flex-wrap: wrap;<br>            justify-content: flex-start;<br>            width: 100%;<br>        }<br>        .wandb-col {<br>            display: flex;<br>            flex-direction: column;<br>            flex-basis: 100%;<br>            flex: 1;<br>            padding: 10px;<br>        }<br>    </style><br><div class=\"wandb-row\"><div class=\"wandb-col\"><h3>Run history:</h3><br/><table class=\"wandb\"><tr><td>epoch</td><td>▁▂▃▃▄▅▆▆▇█</td></tr><tr><td>train_loss</td><td>█▄▃▂▂▁▁▁▁▁</td></tr><tr><td>val_accuracy</td><td>▁</td></tr><tr><td>validation_loss</td><td>█▆▃▃▂▂▂▂▂▁</td></tr></table><br/></div><div class=\"wandb-col\"><h3>Run summary:</h3><br/><table class=\"wandb\"><tr><td>epoch</td><td>9</td></tr><tr><td>train_loss</td><td>1.58342</td></tr><tr><td>val_accuracy</td><td>0.00023</td></tr><tr><td>validation_loss</td><td>2.00593</td></tr></table><br/></div></div>"
      ],
      "text/plain": [
       "<IPython.core.display.HTML object>"
      ]
     },
     "metadata": {},
     "output_type": "display_data"
    },
    {
     "data": {
      "text/html": [
       " View run <strong style=\"color:#cdcd00\">embedding_size_64_num_layers_3_hidden_size_32                           _cell_type_RNN_dp_0.2_lr_0.001_batch_64</strong> at: <a href='https://wandb.ai/cs24m022-iit-madras-foundation/cs24m022_DA6401_Assignment3/runs/u70por9t' target=\"_blank\">https://wandb.ai/cs24m022-iit-madras-foundation/cs24m022_DA6401_Assignment3/runs/u70por9t</a><br> View project at: <a href='https://wandb.ai/cs24m022-iit-madras-foundation/cs24m022_DA6401_Assignment3' target=\"_blank\">https://wandb.ai/cs24m022-iit-madras-foundation/cs24m022_DA6401_Assignment3</a><br>Synced 5 W&B file(s), 0 media file(s), 0 artifact file(s) and 0 other file(s)"
      ],
      "text/plain": [
       "<IPython.core.display.HTML object>"
      ]
     },
     "metadata": {},
     "output_type": "display_data"
    },
    {
     "data": {
      "text/html": [
       "Find logs at: <code>./wandb/run-20250520_104416-u70por9t/logs</code>"
      ],
      "text/plain": [
       "<IPython.core.display.HTML object>"
      ]
     },
     "metadata": {},
     "output_type": "display_data"
    },
    {
     "name": "stderr",
     "output_type": "stream",
     "text": [
      "\u001b[34m\u001b[1mwandb\u001b[0m: Agent Starting Run: k6d2hdjd with config:\n",
      "\u001b[34m\u001b[1mwandb\u001b[0m: \tbatch_size: 64\n",
      "\u001b[34m\u001b[1mwandb\u001b[0m: \tcell_type: GRU\n",
      "\u001b[34m\u001b[1mwandb\u001b[0m: \tdropout: 0.3\n",
      "\u001b[34m\u001b[1mwandb\u001b[0m: \tembedding_size: 16\n",
      "\u001b[34m\u001b[1mwandb\u001b[0m: \thidden_size: 512\n",
      "\u001b[34m\u001b[1mwandb\u001b[0m: \tlearning_rate: 0.0005\n",
      "\u001b[34m\u001b[1mwandb\u001b[0m: \tnum_layers: 2\n"
     ]
    },
    {
     "data": {
      "text/html": [
       "Tracking run with wandb version 0.19.9"
      ],
      "text/plain": [
       "<IPython.core.display.HTML object>"
      ]
     },
     "metadata": {},
     "output_type": "display_data"
    },
    {
     "data": {
      "text/html": [
       "Run data is saved locally in <code>/kaggle/working/wandb/run-20250520_104738-k6d2hdjd</code>"
      ],
      "text/plain": [
       "<IPython.core.display.HTML object>"
      ]
     },
     "metadata": {},
     "output_type": "display_data"
    },
    {
     "data": {
      "text/html": [
       "Syncing run <strong><a href='https://wandb.ai/cs24m022-iit-madras-foundation/cs24m022_DA6401_Assignment3/runs/k6d2hdjd' target=\"_blank\">deep-sweep-5</a></strong> to <a href='https://wandb.ai/cs24m022-iit-madras-foundation/cs24m022_DA6401_Assignment3' target=\"_blank\">Weights & Biases</a> (<a href='https://wandb.me/developer-guide' target=\"_blank\">docs</a>)<br>Sweep page: <a href='https://wandb.ai/cs24m022-iit-madras-foundation/cs24m022_DA6401_Assignment3/sweeps/rxo139kw' target=\"_blank\">https://wandb.ai/cs24m022-iit-madras-foundation/cs24m022_DA6401_Assignment3/sweeps/rxo139kw</a>"
      ],
      "text/plain": [
       "<IPython.core.display.HTML object>"
      ]
     },
     "metadata": {},
     "output_type": "display_data"
    },
    {
     "data": {
      "text/html": [
       " View project at <a href='https://wandb.ai/cs24m022-iit-madras-foundation/cs24m022_DA6401_Assignment3' target=\"_blank\">https://wandb.ai/cs24m022-iit-madras-foundation/cs24m022_DA6401_Assignment3</a>"
      ],
      "text/plain": [
       "<IPython.core.display.HTML object>"
      ]
     },
     "metadata": {},
     "output_type": "display_data"
    },
    {
     "data": {
      "text/html": [
       " View sweep at <a href='https://wandb.ai/cs24m022-iit-madras-foundation/cs24m022_DA6401_Assignment3/sweeps/rxo139kw' target=\"_blank\">https://wandb.ai/cs24m022-iit-madras-foundation/cs24m022_DA6401_Assignment3/sweeps/rxo139kw</a>"
      ],
      "text/plain": [
       "<IPython.core.display.HTML object>"
      ]
     },
     "metadata": {},
     "output_type": "display_data"
    },
    {
     "data": {
      "text/html": [
       " View run at <a href='https://wandb.ai/cs24m022-iit-madras-foundation/cs24m022_DA6401_Assignment3/runs/k6d2hdjd' target=\"_blank\">https://wandb.ai/cs24m022-iit-madras-foundation/cs24m022_DA6401_Assignment3/runs/k6d2hdjd</a>"
      ],
      "text/plain": [
       "<IPython.core.display.HTML object>"
      ]
     },
     "metadata": {},
     "output_type": "display_data"
    },
    {
     "name": "stderr",
     "output_type": "stream",
     "text": [
      " 10%|█         | 1/10 [00:20<03:00, 20.03s/it]"
     ]
    },
    {
     "name": "stdout",
     "output_type": "stream",
     "text": [
      "Train Loss: 1.5775 | Valid Loss: 1.3135\n"
     ]
    },
    {
     "name": "stderr",
     "output_type": "stream",
     "text": [
      " 20%|██        | 2/10 [00:40<02:40, 20.10s/it]"
     ]
    },
    {
     "name": "stdout",
     "output_type": "stream",
     "text": [
      "Train Loss: 0.8876 | Valid Loss: 0.9529\n"
     ]
    },
    {
     "name": "stderr",
     "output_type": "stream",
     "text": [
      " 30%|███       | 3/10 [01:00<02:20, 20.05s/it]"
     ]
    },
    {
     "name": "stdout",
     "output_type": "stream",
     "text": [
      "Train Loss: 0.6511 | Valid Loss: 0.8366\n"
     ]
    },
    {
     "name": "stderr",
     "output_type": "stream",
     "text": [
      " 40%|████      | 4/10 [01:21<02:03, 20.60s/it]"
     ]
    },
    {
     "name": "stdout",
     "output_type": "stream",
     "text": [
      "Train Loss: 0.5321 | Valid Loss: 0.8127\n"
     ]
    },
    {
     "name": "stderr",
     "output_type": "stream",
     "text": [
      " 50%|█████     | 5/10 [01:42<01:44, 20.84s/it]"
     ]
    },
    {
     "name": "stdout",
     "output_type": "stream",
     "text": [
      "Train Loss: 0.4591 | Valid Loss: 0.8320\n"
     ]
    },
    {
     "name": "stderr",
     "output_type": "stream",
     "text": [
      " 60%|██████    | 6/10 [02:03<01:22, 20.73s/it]"
     ]
    },
    {
     "name": "stdout",
     "output_type": "stream",
     "text": [
      "Train Loss: 0.4073 | Valid Loss: 0.7720\n"
     ]
    },
    {
     "name": "stderr",
     "output_type": "stream",
     "text": [
      " 70%|███████   | 7/10 [02:24<01:03, 21.00s/it]"
     ]
    },
    {
     "name": "stdout",
     "output_type": "stream",
     "text": [
      "Train Loss: 0.3590 | Valid Loss: 0.8127\n"
     ]
    },
    {
     "name": "stderr",
     "output_type": "stream",
     "text": [
      " 80%|████████  | 8/10 [02:46<00:42, 21.02s/it]"
     ]
    },
    {
     "name": "stdout",
     "output_type": "stream",
     "text": [
      "Train Loss: 0.3246 | Valid Loss: 0.7867\n"
     ]
    },
    {
     "name": "stderr",
     "output_type": "stream",
     "text": [
      " 90%|█████████ | 9/10 [03:07<00:21, 21.04s/it]"
     ]
    },
    {
     "name": "stdout",
     "output_type": "stream",
     "text": [
      "Train Loss: 0.2997 | Valid Loss: 0.7891\n"
     ]
    },
    {
     "name": "stderr",
     "output_type": "stream",
     "text": [
      "100%|██████████| 10/10 [03:28<00:00, 20.83s/it]"
     ]
    },
    {
     "name": "stdout",
     "output_type": "stream",
     "text": [
      "Train Loss: 0.2666 | Valid Loss: 0.7891\n"
     ]
    },
    {
     "name": "stderr",
     "output_type": "stream",
     "text": [
      "\n"
     ]
    },
    {
     "name": "stdout",
     "output_type": "stream",
     "text": [
      "\n",
      "Validation Accuracy: 0.2978\n"
     ]
    },
    {
     "data": {
      "text/html": [],
      "text/plain": [
       "<IPython.core.display.HTML object>"
      ]
     },
     "metadata": {},
     "output_type": "display_data"
    },
    {
     "data": {
      "text/html": [
       "<br>    <style><br>        .wandb-row {<br>            display: flex;<br>            flex-direction: row;<br>            flex-wrap: wrap;<br>            justify-content: flex-start;<br>            width: 100%;<br>        }<br>        .wandb-col {<br>            display: flex;<br>            flex-direction: column;<br>            flex-basis: 100%;<br>            flex: 1;<br>            padding: 10px;<br>        }<br>    </style><br><div class=\"wandb-row\"><div class=\"wandb-col\"><h3>Run history:</h3><br/><table class=\"wandb\"><tr><td>epoch</td><td>▁▂▃▃▄▅▆▆▇█</td></tr><tr><td>train_loss</td><td>█▄▃▂▂▂▁▁▁▁</td></tr><tr><td>val_accuracy</td><td>▁</td></tr><tr><td>validation_loss</td><td>█▃▂▂▂▁▂▁▁▁</td></tr></table><br/></div><div class=\"wandb-col\"><h3>Run summary:</h3><br/><table class=\"wandb\"><tr><td>epoch</td><td>9</td></tr><tr><td>train_loss</td><td>0.26656</td></tr><tr><td>val_accuracy</td><td>0.29784</td></tr><tr><td>validation_loss</td><td>0.78914</td></tr></table><br/></div></div>"
      ],
      "text/plain": [
       "<IPython.core.display.HTML object>"
      ]
     },
     "metadata": {},
     "output_type": "display_data"
    },
    {
     "data": {
      "text/html": [
       " View run <strong style=\"color:#cdcd00\">embedding_size_16_num_layers_2_hidden_size_512                           _cell_type_GRU_dp_0.3_lr_0.0005_batch_64</strong> at: <a href='https://wandb.ai/cs24m022-iit-madras-foundation/cs24m022_DA6401_Assignment3/runs/k6d2hdjd' target=\"_blank\">https://wandb.ai/cs24m022-iit-madras-foundation/cs24m022_DA6401_Assignment3/runs/k6d2hdjd</a><br> View project at: <a href='https://wandb.ai/cs24m022-iit-madras-foundation/cs24m022_DA6401_Assignment3' target=\"_blank\">https://wandb.ai/cs24m022-iit-madras-foundation/cs24m022_DA6401_Assignment3</a><br>Synced 5 W&B file(s), 0 media file(s), 0 artifact file(s) and 0 other file(s)"
      ],
      "text/plain": [
       "<IPython.core.display.HTML object>"
      ]
     },
     "metadata": {},
     "output_type": "display_data"
    },
    {
     "data": {
      "text/html": [
       "Find logs at: <code>./wandb/run-20250520_104738-k6d2hdjd/logs</code>"
      ],
      "text/plain": [
       "<IPython.core.display.HTML object>"
      ]
     },
     "metadata": {},
     "output_type": "display_data"
    },
    {
     "name": "stderr",
     "output_type": "stream",
     "text": [
      "\u001b[34m\u001b[1mwandb\u001b[0m: Agent Starting Run: tngjv42q with config:\n",
      "\u001b[34m\u001b[1mwandb\u001b[0m: \tbatch_size: 64\n",
      "\u001b[34m\u001b[1mwandb\u001b[0m: \tcell_type: GRU\n",
      "\u001b[34m\u001b[1mwandb\u001b[0m: \tdropout: 0.3\n",
      "\u001b[34m\u001b[1mwandb\u001b[0m: \tembedding_size: 16\n",
      "\u001b[34m\u001b[1mwandb\u001b[0m: \thidden_size: 512\n",
      "\u001b[34m\u001b[1mwandb\u001b[0m: \tlearning_rate: 0.0005\n",
      "\u001b[34m\u001b[1mwandb\u001b[0m: \tnum_layers: 3\n"
     ]
    },
    {
     "data": {
      "text/html": [
       "Tracking run with wandb version 0.19.9"
      ],
      "text/plain": [
       "<IPython.core.display.HTML object>"
      ]
     },
     "metadata": {},
     "output_type": "display_data"
    },
    {
     "data": {
      "text/html": [
       "Run data is saved locally in <code>/kaggle/working/wandb/run-20250520_105142-tngjv42q</code>"
      ],
      "text/plain": [
       "<IPython.core.display.HTML object>"
      ]
     },
     "metadata": {},
     "output_type": "display_data"
    },
    {
     "data": {
      "text/html": [
       "Syncing run <strong><a href='https://wandb.ai/cs24m022-iit-madras-foundation/cs24m022_DA6401_Assignment3/runs/tngjv42q' target=\"_blank\">scarlet-sweep-6</a></strong> to <a href='https://wandb.ai/cs24m022-iit-madras-foundation/cs24m022_DA6401_Assignment3' target=\"_blank\">Weights & Biases</a> (<a href='https://wandb.me/developer-guide' target=\"_blank\">docs</a>)<br>Sweep page: <a href='https://wandb.ai/cs24m022-iit-madras-foundation/cs24m022_DA6401_Assignment3/sweeps/rxo139kw' target=\"_blank\">https://wandb.ai/cs24m022-iit-madras-foundation/cs24m022_DA6401_Assignment3/sweeps/rxo139kw</a>"
      ],
      "text/plain": [
       "<IPython.core.display.HTML object>"
      ]
     },
     "metadata": {},
     "output_type": "display_data"
    },
    {
     "data": {
      "text/html": [
       " View project at <a href='https://wandb.ai/cs24m022-iit-madras-foundation/cs24m022_DA6401_Assignment3' target=\"_blank\">https://wandb.ai/cs24m022-iit-madras-foundation/cs24m022_DA6401_Assignment3</a>"
      ],
      "text/plain": [
       "<IPython.core.display.HTML object>"
      ]
     },
     "metadata": {},
     "output_type": "display_data"
    },
    {
     "data": {
      "text/html": [
       " View sweep at <a href='https://wandb.ai/cs24m022-iit-madras-foundation/cs24m022_DA6401_Assignment3/sweeps/rxo139kw' target=\"_blank\">https://wandb.ai/cs24m022-iit-madras-foundation/cs24m022_DA6401_Assignment3/sweeps/rxo139kw</a>"
      ],
      "text/plain": [
       "<IPython.core.display.HTML object>"
      ]
     },
     "metadata": {},
     "output_type": "display_data"
    },
    {
     "data": {
      "text/html": [
       " View run at <a href='https://wandb.ai/cs24m022-iit-madras-foundation/cs24m022_DA6401_Assignment3/runs/tngjv42q' target=\"_blank\">https://wandb.ai/cs24m022-iit-madras-foundation/cs24m022_DA6401_Assignment3/runs/tngjv42q</a>"
      ],
      "text/plain": [
       "<IPython.core.display.HTML object>"
      ]
     },
     "metadata": {},
     "output_type": "display_data"
    },
    {
     "name": "stderr",
     "output_type": "stream",
     "text": [
      " 10%|█         | 1/10 [00:24<03:42, 24.77s/it]"
     ]
    },
    {
     "name": "stdout",
     "output_type": "stream",
     "text": [
      "Train Loss: 1.5215 | Valid Loss: 1.1388\n"
     ]
    },
    {
     "name": "stderr",
     "output_type": "stream",
     "text": [
      " 20%|██        | 2/10 [00:49<03:18, 24.84s/it]"
     ]
    },
    {
     "name": "stdout",
     "output_type": "stream",
     "text": [
      "Train Loss: 0.7751 | Valid Loss: 0.8652\n"
     ]
    },
    {
     "name": "stderr",
     "output_type": "stream",
     "text": [
      " 30%|███       | 3/10 [01:14<02:54, 25.00s/it]"
     ]
    },
    {
     "name": "stdout",
     "output_type": "stream",
     "text": [
      "Train Loss: 0.5674 | Valid Loss: 0.8277\n"
     ]
    },
    {
     "name": "stderr",
     "output_type": "stream",
     "text": [
      " 40%|████      | 4/10 [01:39<02:29, 24.86s/it]"
     ]
    },
    {
     "name": "stdout",
     "output_type": "stream",
     "text": [
      "Train Loss: 0.4665 | Valid Loss: 0.7782\n"
     ]
    },
    {
     "name": "stderr",
     "output_type": "stream",
     "text": [
      " 50%|█████     | 5/10 [02:04<02:04, 24.87s/it]"
     ]
    },
    {
     "name": "stdout",
     "output_type": "stream",
     "text": [
      "Train Loss: 0.3970 | Valid Loss: 0.7647\n"
     ]
    },
    {
     "name": "stderr",
     "output_type": "stream",
     "text": [
      " 60%|██████    | 6/10 [02:29<01:39, 24.80s/it]"
     ]
    },
    {
     "name": "stdout",
     "output_type": "stream",
     "text": [
      "Train Loss: 0.3521 | Valid Loss: 0.7528\n"
     ]
    },
    {
     "name": "stderr",
     "output_type": "stream",
     "text": [
      " 70%|███████   | 7/10 [02:53<01:14, 24.83s/it]"
     ]
    },
    {
     "name": "stdout",
     "output_type": "stream",
     "text": [
      "Train Loss: 0.3157 | Valid Loss: 0.7513\n"
     ]
    },
    {
     "name": "stderr",
     "output_type": "stream",
     "text": [
      " 80%|████████  | 8/10 [03:18<00:49, 24.85s/it]"
     ]
    },
    {
     "name": "stdout",
     "output_type": "stream",
     "text": [
      "Train Loss: 0.2797 | Valid Loss: 0.7776\n"
     ]
    },
    {
     "name": "stderr",
     "output_type": "stream",
     "text": [
      " 90%|█████████ | 9/10 [03:43<00:24, 24.82s/it]"
     ]
    },
    {
     "name": "stdout",
     "output_type": "stream",
     "text": [
      "Train Loss: 0.2537 | Valid Loss: 0.8011\n"
     ]
    },
    {
     "name": "stderr",
     "output_type": "stream",
     "text": [
      "100%|██████████| 10/10 [04:08<00:00, 24.87s/it]"
     ]
    },
    {
     "name": "stdout",
     "output_type": "stream",
     "text": [
      "Train Loss: 0.2304 | Valid Loss: 0.7823\n"
     ]
    },
    {
     "name": "stderr",
     "output_type": "stream",
     "text": [
      "\n"
     ]
    },
    {
     "name": "stdout",
     "output_type": "stream",
     "text": [
      "\n",
      "Validation Accuracy: 0.3486\n"
     ]
    },
    {
     "data": {
      "text/html": [],
      "text/plain": [
       "<IPython.core.display.HTML object>"
      ]
     },
     "metadata": {},
     "output_type": "display_data"
    },
    {
     "data": {
      "text/html": [
       "<br>    <style><br>        .wandb-row {<br>            display: flex;<br>            flex-direction: row;<br>            flex-wrap: wrap;<br>            justify-content: flex-start;<br>            width: 100%;<br>        }<br>        .wandb-col {<br>            display: flex;<br>            flex-direction: column;<br>            flex-basis: 100%;<br>            flex: 1;<br>            padding: 10px;<br>        }<br>    </style><br><div class=\"wandb-row\"><div class=\"wandb-col\"><h3>Run history:</h3><br/><table class=\"wandb\"><tr><td>epoch</td><td>▁▂▃▃▄▅▆▆▇█</td></tr><tr><td>train_loss</td><td>█▄▃▂▂▂▁▁▁▁</td></tr><tr><td>val_accuracy</td><td>▁</td></tr><tr><td>validation_loss</td><td>█▃▂▁▁▁▁▁▂▂</td></tr></table><br/></div><div class=\"wandb-col\"><h3>Run summary:</h3><br/><table class=\"wandb\"><tr><td>epoch</td><td>9</td></tr><tr><td>train_loss</td><td>0.23036</td></tr><tr><td>val_accuracy</td><td>0.34855</td></tr><tr><td>validation_loss</td><td>0.7823</td></tr></table><br/></div></div>"
      ],
      "text/plain": [
       "<IPython.core.display.HTML object>"
      ]
     },
     "metadata": {},
     "output_type": "display_data"
    },
    {
     "data": {
      "text/html": [
       " View run <strong style=\"color:#cdcd00\">embedding_size_16_num_layers_3_hidden_size_512                           _cell_type_GRU_dp_0.3_lr_0.0005_batch_64</strong> at: <a href='https://wandb.ai/cs24m022-iit-madras-foundation/cs24m022_DA6401_Assignment3/runs/tngjv42q' target=\"_blank\">https://wandb.ai/cs24m022-iit-madras-foundation/cs24m022_DA6401_Assignment3/runs/tngjv42q</a><br> View project at: <a href='https://wandb.ai/cs24m022-iit-madras-foundation/cs24m022_DA6401_Assignment3' target=\"_blank\">https://wandb.ai/cs24m022-iit-madras-foundation/cs24m022_DA6401_Assignment3</a><br>Synced 5 W&B file(s), 0 media file(s), 0 artifact file(s) and 0 other file(s)"
      ],
      "text/plain": [
       "<IPython.core.display.HTML object>"
      ]
     },
     "metadata": {},
     "output_type": "display_data"
    },
    {
     "data": {
      "text/html": [
       "Find logs at: <code>./wandb/run-20250520_105142-tngjv42q/logs</code>"
      ],
      "text/plain": [
       "<IPython.core.display.HTML object>"
      ]
     },
     "metadata": {},
     "output_type": "display_data"
    },
    {
     "name": "stderr",
     "output_type": "stream",
     "text": [
      "\u001b[34m\u001b[1mwandb\u001b[0m: Sweep Agent: Waiting for job.\n",
      "\u001b[34m\u001b[1mwandb\u001b[0m: Job received.\n",
      "\u001b[34m\u001b[1mwandb\u001b[0m: Agent Starting Run: 9q6vfnv1 with config:\n",
      "\u001b[34m\u001b[1mwandb\u001b[0m: \tbatch_size: 128\n",
      "\u001b[34m\u001b[1mwandb\u001b[0m: \tcell_type: GRU\n",
      "\u001b[34m\u001b[1mwandb\u001b[0m: \tdropout: 0.3\n",
      "\u001b[34m\u001b[1mwandb\u001b[0m: \tembedding_size: 16\n",
      "\u001b[34m\u001b[1mwandb\u001b[0m: \thidden_size: 512\n",
      "\u001b[34m\u001b[1mwandb\u001b[0m: \tlearning_rate: 0.0005\n",
      "\u001b[34m\u001b[1mwandb\u001b[0m: \tnum_layers: 3\n"
     ]
    },
    {
     "data": {
      "text/html": [
       "Tracking run with wandb version 0.19.9"
      ],
      "text/plain": [
       "<IPython.core.display.HTML object>"
      ]
     },
     "metadata": {},
     "output_type": "display_data"
    },
    {
     "data": {
      "text/html": [
       "Run data is saved locally in <code>/kaggle/working/wandb/run-20250520_105637-9q6vfnv1</code>"
      ],
      "text/plain": [
       "<IPython.core.display.HTML object>"
      ]
     },
     "metadata": {},
     "output_type": "display_data"
    },
    {
     "data": {
      "text/html": [
       "Syncing run <strong><a href='https://wandb.ai/cs24m022-iit-madras-foundation/cs24m022_DA6401_Assignment3/runs/9q6vfnv1' target=\"_blank\">giddy-sweep-7</a></strong> to <a href='https://wandb.ai/cs24m022-iit-madras-foundation/cs24m022_DA6401_Assignment3' target=\"_blank\">Weights & Biases</a> (<a href='https://wandb.me/developer-guide' target=\"_blank\">docs</a>)<br>Sweep page: <a href='https://wandb.ai/cs24m022-iit-madras-foundation/cs24m022_DA6401_Assignment3/sweeps/rxo139kw' target=\"_blank\">https://wandb.ai/cs24m022-iit-madras-foundation/cs24m022_DA6401_Assignment3/sweeps/rxo139kw</a>"
      ],
      "text/plain": [
       "<IPython.core.display.HTML object>"
      ]
     },
     "metadata": {},
     "output_type": "display_data"
    },
    {
     "data": {
      "text/html": [
       " View project at <a href='https://wandb.ai/cs24m022-iit-madras-foundation/cs24m022_DA6401_Assignment3' target=\"_blank\">https://wandb.ai/cs24m022-iit-madras-foundation/cs24m022_DA6401_Assignment3</a>"
      ],
      "text/plain": [
       "<IPython.core.display.HTML object>"
      ]
     },
     "metadata": {},
     "output_type": "display_data"
    },
    {
     "data": {
      "text/html": [
       " View sweep at <a href='https://wandb.ai/cs24m022-iit-madras-foundation/cs24m022_DA6401_Assignment3/sweeps/rxo139kw' target=\"_blank\">https://wandb.ai/cs24m022-iit-madras-foundation/cs24m022_DA6401_Assignment3/sweeps/rxo139kw</a>"
      ],
      "text/plain": [
       "<IPython.core.display.HTML object>"
      ]
     },
     "metadata": {},
     "output_type": "display_data"
    },
    {
     "data": {
      "text/html": [
       " View run at <a href='https://wandb.ai/cs24m022-iit-madras-foundation/cs24m022_DA6401_Assignment3/runs/9q6vfnv1' target=\"_blank\">https://wandb.ai/cs24m022-iit-madras-foundation/cs24m022_DA6401_Assignment3/runs/9q6vfnv1</a>"
      ],
      "text/plain": [
       "<IPython.core.display.HTML object>"
      ]
     },
     "metadata": {},
     "output_type": "display_data"
    },
    {
     "name": "stderr",
     "output_type": "stream",
     "text": [
      " 10%|█         | 1/10 [00:14<02:13, 14.84s/it]"
     ]
    },
    {
     "name": "stdout",
     "output_type": "stream",
     "text": [
      "Train Loss: 1.6872 | Valid Loss: 1.5923\n"
     ]
    },
    {
     "name": "stderr",
     "output_type": "stream",
     "text": [
      " 20%|██        | 2/10 [00:29<01:58, 14.75s/it]"
     ]
    },
    {
     "name": "stdout",
     "output_type": "stream",
     "text": [
      "Train Loss: 1.0598 | Valid Loss: 1.0315\n"
     ]
    },
    {
     "name": "stderr",
     "output_type": "stream",
     "text": [
      " 30%|███       | 3/10 [00:44<01:43, 14.82s/it]"
     ]
    },
    {
     "name": "stdout",
     "output_type": "stream",
     "text": [
      "Train Loss: 0.7224 | Valid Loss: 0.8638\n"
     ]
    },
    {
     "name": "stderr",
     "output_type": "stream",
     "text": [
      " 40%|████      | 4/10 [00:59<01:28, 14.79s/it]"
     ]
    },
    {
     "name": "stdout",
     "output_type": "stream",
     "text": [
      "Train Loss: 0.5650 | Valid Loss: 0.7956\n"
     ]
    },
    {
     "name": "stderr",
     "output_type": "stream",
     "text": [
      " 50%|█████     | 5/10 [01:14<01:14, 14.85s/it]"
     ]
    },
    {
     "name": "stdout",
     "output_type": "stream",
     "text": [
      "Train Loss: 0.4681 | Valid Loss: 0.7509\n"
     ]
    },
    {
     "name": "stderr",
     "output_type": "stream",
     "text": [
      " 60%|██████    | 6/10 [01:28<00:59, 14.80s/it]"
     ]
    },
    {
     "name": "stdout",
     "output_type": "stream",
     "text": [
      "Train Loss: 0.4063 | Valid Loss: 0.7268\n"
     ]
    },
    {
     "name": "stderr",
     "output_type": "stream",
     "text": [
      " 70%|███████   | 7/10 [01:43<00:44, 14.77s/it]"
     ]
    },
    {
     "name": "stdout",
     "output_type": "stream",
     "text": [
      "Train Loss: 0.3633 | Valid Loss: 0.7083\n"
     ]
    },
    {
     "name": "stderr",
     "output_type": "stream",
     "text": [
      " 80%|████████  | 8/10 [01:58<00:29, 14.85s/it]"
     ]
    },
    {
     "name": "stdout",
     "output_type": "stream",
     "text": [
      "Train Loss: 0.3273 | Valid Loss: 0.7345\n"
     ]
    },
    {
     "name": "stderr",
     "output_type": "stream",
     "text": [
      " 90%|█████████ | 9/10 [02:13<00:14, 14.86s/it]"
     ]
    },
    {
     "name": "stdout",
     "output_type": "stream",
     "text": [
      "Train Loss: 0.2912 | Valid Loss: 0.7314\n"
     ]
    },
    {
     "name": "stderr",
     "output_type": "stream",
     "text": [
      "100%|██████████| 10/10 [02:28<00:00, 14.83s/it]"
     ]
    },
    {
     "name": "stdout",
     "output_type": "stream",
     "text": [
      "Train Loss: 0.2706 | Valid Loss: 0.7347\n"
     ]
    },
    {
     "name": "stderr",
     "output_type": "stream",
     "text": [
      "\n"
     ]
    },
    {
     "name": "stdout",
     "output_type": "stream",
     "text": [
      "\n",
      "Validation Accuracy: 0.3284\n"
     ]
    },
    {
     "data": {
      "text/html": [],
      "text/plain": [
       "<IPython.core.display.HTML object>"
      ]
     },
     "metadata": {},
     "output_type": "display_data"
    },
    {
     "data": {
      "text/html": [
       "<br>    <style><br>        .wandb-row {<br>            display: flex;<br>            flex-direction: row;<br>            flex-wrap: wrap;<br>            justify-content: flex-start;<br>            width: 100%;<br>        }<br>        .wandb-col {<br>            display: flex;<br>            flex-direction: column;<br>            flex-basis: 100%;<br>            flex: 1;<br>            padding: 10px;<br>        }<br>    </style><br><div class=\"wandb-row\"><div class=\"wandb-col\"><h3>Run history:</h3><br/><table class=\"wandb\"><tr><td>epoch</td><td>▁▂▃▃▄▅▆▆▇█</td></tr><tr><td>train_loss</td><td>█▅▃▂▂▂▁▁▁▁</td></tr><tr><td>val_accuracy</td><td>▁</td></tr><tr><td>validation_loss</td><td>█▄▂▂▁▁▁▁▁▁</td></tr></table><br/></div><div class=\"wandb-col\"><h3>Run summary:</h3><br/><table class=\"wandb\"><tr><td>epoch</td><td>9</td></tr><tr><td>train_loss</td><td>0.27061</td></tr><tr><td>val_accuracy</td><td>0.32836</td></tr><tr><td>validation_loss</td><td>0.73468</td></tr></table><br/></div></div>"
      ],
      "text/plain": [
       "<IPython.core.display.HTML object>"
      ]
     },
     "metadata": {},
     "output_type": "display_data"
    },
    {
     "data": {
      "text/html": [
       " View run <strong style=\"color:#cdcd00\">embedding_size_16_num_layers_3_hidden_size_512                           _cell_type_GRU_dp_0.3_lr_0.0005_batch_128</strong> at: <a href='https://wandb.ai/cs24m022-iit-madras-foundation/cs24m022_DA6401_Assignment3/runs/9q6vfnv1' target=\"_blank\">https://wandb.ai/cs24m022-iit-madras-foundation/cs24m022_DA6401_Assignment3/runs/9q6vfnv1</a><br> View project at: <a href='https://wandb.ai/cs24m022-iit-madras-foundation/cs24m022_DA6401_Assignment3' target=\"_blank\">https://wandb.ai/cs24m022-iit-madras-foundation/cs24m022_DA6401_Assignment3</a><br>Synced 5 W&B file(s), 0 media file(s), 0 artifact file(s) and 0 other file(s)"
      ],
      "text/plain": [
       "<IPython.core.display.HTML object>"
      ]
     },
     "metadata": {},
     "output_type": "display_data"
    },
    {
     "data": {
      "text/html": [
       "Find logs at: <code>./wandb/run-20250520_105637-9q6vfnv1/logs</code>"
      ],
      "text/plain": [
       "<IPython.core.display.HTML object>"
      ]
     },
     "metadata": {},
     "output_type": "display_data"
    },
    {
     "name": "stderr",
     "output_type": "stream",
     "text": [
      "\u001b[34m\u001b[1mwandb\u001b[0m: Agent Starting Run: 1c1tpku2 with config:\n",
      "\u001b[34m\u001b[1mwandb\u001b[0m: \tbatch_size: 128\n",
      "\u001b[34m\u001b[1mwandb\u001b[0m: \tcell_type: GRU\n",
      "\u001b[34m\u001b[1mwandb\u001b[0m: \tdropout: 0.3\n",
      "\u001b[34m\u001b[1mwandb\u001b[0m: \tembedding_size: 16\n",
      "\u001b[34m\u001b[1mwandb\u001b[0m: \thidden_size: 512\n",
      "\u001b[34m\u001b[1mwandb\u001b[0m: \tlearning_rate: 0.0005\n",
      "\u001b[34m\u001b[1mwandb\u001b[0m: \tnum_layers: 3\n"
     ]
    },
    {
     "data": {
      "text/html": [
       "Tracking run with wandb version 0.19.9"
      ],
      "text/plain": [
       "<IPython.core.display.HTML object>"
      ]
     },
     "metadata": {},
     "output_type": "display_data"
    },
    {
     "data": {
      "text/html": [
       "Run data is saved locally in <code>/kaggle/working/wandb/run-20250520_105945-1c1tpku2</code>"
      ],
      "text/plain": [
       "<IPython.core.display.HTML object>"
      ]
     },
     "metadata": {},
     "output_type": "display_data"
    },
    {
     "data": {
      "text/html": [
       "Syncing run <strong><a href='https://wandb.ai/cs24m022-iit-madras-foundation/cs24m022_DA6401_Assignment3/runs/1c1tpku2' target=\"_blank\">comfy-sweep-8</a></strong> to <a href='https://wandb.ai/cs24m022-iit-madras-foundation/cs24m022_DA6401_Assignment3' target=\"_blank\">Weights & Biases</a> (<a href='https://wandb.me/developer-guide' target=\"_blank\">docs</a>)<br>Sweep page: <a href='https://wandb.ai/cs24m022-iit-madras-foundation/cs24m022_DA6401_Assignment3/sweeps/rxo139kw' target=\"_blank\">https://wandb.ai/cs24m022-iit-madras-foundation/cs24m022_DA6401_Assignment3/sweeps/rxo139kw</a>"
      ],
      "text/plain": [
       "<IPython.core.display.HTML object>"
      ]
     },
     "metadata": {},
     "output_type": "display_data"
    },
    {
     "data": {
      "text/html": [
       " View project at <a href='https://wandb.ai/cs24m022-iit-madras-foundation/cs24m022_DA6401_Assignment3' target=\"_blank\">https://wandb.ai/cs24m022-iit-madras-foundation/cs24m022_DA6401_Assignment3</a>"
      ],
      "text/plain": [
       "<IPython.core.display.HTML object>"
      ]
     },
     "metadata": {},
     "output_type": "display_data"
    },
    {
     "data": {
      "text/html": [
       " View sweep at <a href='https://wandb.ai/cs24m022-iit-madras-foundation/cs24m022_DA6401_Assignment3/sweeps/rxo139kw' target=\"_blank\">https://wandb.ai/cs24m022-iit-madras-foundation/cs24m022_DA6401_Assignment3/sweeps/rxo139kw</a>"
      ],
      "text/plain": [
       "<IPython.core.display.HTML object>"
      ]
     },
     "metadata": {},
     "output_type": "display_data"
    },
    {
     "data": {
      "text/html": [
       " View run at <a href='https://wandb.ai/cs24m022-iit-madras-foundation/cs24m022_DA6401_Assignment3/runs/1c1tpku2' target=\"_blank\">https://wandb.ai/cs24m022-iit-madras-foundation/cs24m022_DA6401_Assignment3/runs/1c1tpku2</a>"
      ],
      "text/plain": [
       "<IPython.core.display.HTML object>"
      ]
     },
     "metadata": {},
     "output_type": "display_data"
    },
    {
     "name": "stderr",
     "output_type": "stream",
     "text": [
      " 10%|█         | 1/10 [00:14<02:12, 14.67s/it]"
     ]
    },
    {
     "name": "stdout",
     "output_type": "stream",
     "text": [
      "Train Loss: 1.7159 | Valid Loss: 1.5507\n"
     ]
    },
    {
     "name": "stderr",
     "output_type": "stream",
     "text": [
      " 20%|██        | 2/10 [00:29<01:57, 14.75s/it]"
     ]
    },
    {
     "name": "stdout",
     "output_type": "stream",
     "text": [
      "Train Loss: 1.0654 | Valid Loss: 1.0047\n"
     ]
    },
    {
     "name": "stderr",
     "output_type": "stream",
     "text": [
      " 30%|███       | 3/10 [00:44<01:44, 14.88s/it]"
     ]
    },
    {
     "name": "stdout",
     "output_type": "stream",
     "text": [
      "Train Loss: 0.7296 | Valid Loss: 0.8598\n"
     ]
    },
    {
     "name": "stderr",
     "output_type": "stream",
     "text": [
      " 40%|████      | 4/10 [00:59<01:29, 14.90s/it]"
     ]
    },
    {
     "name": "stdout",
     "output_type": "stream",
     "text": [
      "Train Loss: 0.5783 | Valid Loss: 0.7757\n"
     ]
    },
    {
     "name": "stderr",
     "output_type": "stream",
     "text": [
      " 50%|█████     | 5/10 [01:14<01:14, 14.89s/it]"
     ]
    },
    {
     "name": "stdout",
     "output_type": "stream",
     "text": [
      "Train Loss: 0.4923 | Valid Loss: 0.7336\n"
     ]
    },
    {
     "name": "stderr",
     "output_type": "stream",
     "text": [
      " 60%|██████    | 6/10 [01:29<00:59, 14.82s/it]"
     ]
    },
    {
     "name": "stdout",
     "output_type": "stream",
     "text": [
      "Train Loss: 0.4195 | Valid Loss: 0.7560\n"
     ]
    },
    {
     "name": "stderr",
     "output_type": "stream",
     "text": [
      " 70%|███████   | 7/10 [01:43<00:44, 14.87s/it]"
     ]
    },
    {
     "name": "stdout",
     "output_type": "stream",
     "text": [
      "Train Loss: 0.3827 | Valid Loss: 0.7235\n"
     ]
    },
    {
     "name": "stderr",
     "output_type": "stream",
     "text": [
      " 80%|████████  | 8/10 [01:58<00:29, 14.86s/it]"
     ]
    },
    {
     "name": "stdout",
     "output_type": "stream",
     "text": [
      "Train Loss: 0.3432 | Valid Loss: 0.7349\n"
     ]
    },
    {
     "name": "stderr",
     "output_type": "stream",
     "text": [
      " 90%|█████████ | 9/10 [02:13<00:14, 14.92s/it]"
     ]
    },
    {
     "name": "stdout",
     "output_type": "stream",
     "text": [
      "Train Loss: 0.3062 | Valid Loss: 0.7241\n"
     ]
    },
    {
     "name": "stderr",
     "output_type": "stream",
     "text": [
      "100%|██████████| 10/10 [02:28<00:00, 14.87s/it]"
     ]
    },
    {
     "name": "stdout",
     "output_type": "stream",
     "text": [
      "Train Loss: 0.2805 | Valid Loss: 0.7145\n"
     ]
    },
    {
     "name": "stderr",
     "output_type": "stream",
     "text": [
      "\n"
     ]
    },
    {
     "name": "stdout",
     "output_type": "stream",
     "text": [
      "\n",
      "Validation Accuracy: 0.3038\n"
     ]
    },
    {
     "data": {
      "text/html": [],
      "text/plain": [
       "<IPython.core.display.HTML object>"
      ]
     },
     "metadata": {},
     "output_type": "display_data"
    },
    {
     "data": {
      "text/html": [
       "<br>    <style><br>        .wandb-row {<br>            display: flex;<br>            flex-direction: row;<br>            flex-wrap: wrap;<br>            justify-content: flex-start;<br>            width: 100%;<br>        }<br>        .wandb-col {<br>            display: flex;<br>            flex-direction: column;<br>            flex-basis: 100%;<br>            flex: 1;<br>            padding: 10px;<br>        }<br>    </style><br><div class=\"wandb-row\"><div class=\"wandb-col\"><h3>Run history:</h3><br/><table class=\"wandb\"><tr><td>epoch</td><td>▁▂▃▃▄▅▆▆▇█</td></tr><tr><td>train_loss</td><td>█▅▃▂▂▂▁▁▁▁</td></tr><tr><td>val_accuracy</td><td>▁</td></tr><tr><td>validation_loss</td><td>█▃▂▂▁▁▁▁▁▁</td></tr></table><br/></div><div class=\"wandb-col\"><h3>Run summary:</h3><br/><table class=\"wandb\"><tr><td>epoch</td><td>9</td></tr><tr><td>train_loss</td><td>0.28049</td></tr><tr><td>val_accuracy</td><td>0.30381</td></tr><tr><td>validation_loss</td><td>0.71454</td></tr></table><br/></div></div>"
      ],
      "text/plain": [
       "<IPython.core.display.HTML object>"
      ]
     },
     "metadata": {},
     "output_type": "display_data"
    },
    {
     "data": {
      "text/html": [
       " View run <strong style=\"color:#cdcd00\">embedding_size_16_num_layers_3_hidden_size_512                           _cell_type_GRU_dp_0.3_lr_0.0005_batch_128</strong> at: <a href='https://wandb.ai/cs24m022-iit-madras-foundation/cs24m022_DA6401_Assignment3/runs/1c1tpku2' target=\"_blank\">https://wandb.ai/cs24m022-iit-madras-foundation/cs24m022_DA6401_Assignment3/runs/1c1tpku2</a><br> View project at: <a href='https://wandb.ai/cs24m022-iit-madras-foundation/cs24m022_DA6401_Assignment3' target=\"_blank\">https://wandb.ai/cs24m022-iit-madras-foundation/cs24m022_DA6401_Assignment3</a><br>Synced 5 W&B file(s), 0 media file(s), 0 artifact file(s) and 0 other file(s)"
      ],
      "text/plain": [
       "<IPython.core.display.HTML object>"
      ]
     },
     "metadata": {},
     "output_type": "display_data"
    },
    {
     "data": {
      "text/html": [
       "Find logs at: <code>./wandb/run-20250520_105945-1c1tpku2/logs</code>"
      ],
      "text/plain": [
       "<IPython.core.display.HTML object>"
      ]
     },
     "metadata": {},
     "output_type": "display_data"
    },
    {
     "name": "stderr",
     "output_type": "stream",
     "text": [
      "\u001b[34m\u001b[1mwandb\u001b[0m: Agent Starting Run: 8eamdjj0 with config:\n",
      "\u001b[34m\u001b[1mwandb\u001b[0m: \tbatch_size: 128\n",
      "\u001b[34m\u001b[1mwandb\u001b[0m: \tcell_type: GRU\n",
      "\u001b[34m\u001b[1mwandb\u001b[0m: \tdropout: 0.2\n",
      "\u001b[34m\u001b[1mwandb\u001b[0m: \tembedding_size: 16\n",
      "\u001b[34m\u001b[1mwandb\u001b[0m: \thidden_size: 512\n",
      "\u001b[34m\u001b[1mwandb\u001b[0m: \tlearning_rate: 0.0005\n",
      "\u001b[34m\u001b[1mwandb\u001b[0m: \tnum_layers: 3\n"
     ]
    },
    {
     "data": {
      "text/html": [
       "Tracking run with wandb version 0.19.9"
      ],
      "text/plain": [
       "<IPython.core.display.HTML object>"
      ]
     },
     "metadata": {},
     "output_type": "display_data"
    },
    {
     "data": {
      "text/html": [
       "Run data is saved locally in <code>/kaggle/working/wandb/run-20250520_110253-8eamdjj0</code>"
      ],
      "text/plain": [
       "<IPython.core.display.HTML object>"
      ]
     },
     "metadata": {},
     "output_type": "display_data"
    },
    {
     "data": {
      "text/html": [
       "Syncing run <strong><a href='https://wandb.ai/cs24m022-iit-madras-foundation/cs24m022_DA6401_Assignment3/runs/8eamdjj0' target=\"_blank\">stoic-sweep-9</a></strong> to <a href='https://wandb.ai/cs24m022-iit-madras-foundation/cs24m022_DA6401_Assignment3' target=\"_blank\">Weights & Biases</a> (<a href='https://wandb.me/developer-guide' target=\"_blank\">docs</a>)<br>Sweep page: <a href='https://wandb.ai/cs24m022-iit-madras-foundation/cs24m022_DA6401_Assignment3/sweeps/rxo139kw' target=\"_blank\">https://wandb.ai/cs24m022-iit-madras-foundation/cs24m022_DA6401_Assignment3/sweeps/rxo139kw</a>"
      ],
      "text/plain": [
       "<IPython.core.display.HTML object>"
      ]
     },
     "metadata": {},
     "output_type": "display_data"
    },
    {
     "data": {
      "text/html": [
       " View project at <a href='https://wandb.ai/cs24m022-iit-madras-foundation/cs24m022_DA6401_Assignment3' target=\"_blank\">https://wandb.ai/cs24m022-iit-madras-foundation/cs24m022_DA6401_Assignment3</a>"
      ],
      "text/plain": [
       "<IPython.core.display.HTML object>"
      ]
     },
     "metadata": {},
     "output_type": "display_data"
    },
    {
     "data": {
      "text/html": [
       " View sweep at <a href='https://wandb.ai/cs24m022-iit-madras-foundation/cs24m022_DA6401_Assignment3/sweeps/rxo139kw' target=\"_blank\">https://wandb.ai/cs24m022-iit-madras-foundation/cs24m022_DA6401_Assignment3/sweeps/rxo139kw</a>"
      ],
      "text/plain": [
       "<IPython.core.display.HTML object>"
      ]
     },
     "metadata": {},
     "output_type": "display_data"
    },
    {
     "data": {
      "text/html": [
       " View run at <a href='https://wandb.ai/cs24m022-iit-madras-foundation/cs24m022_DA6401_Assignment3/runs/8eamdjj0' target=\"_blank\">https://wandb.ai/cs24m022-iit-madras-foundation/cs24m022_DA6401_Assignment3/runs/8eamdjj0</a>"
      ],
      "text/plain": [
       "<IPython.core.display.HTML object>"
      ]
     },
     "metadata": {},
     "output_type": "display_data"
    },
    {
     "name": "stderr",
     "output_type": "stream",
     "text": [
      " 10%|█         | 1/10 [00:15<02:22, 15.87s/it]"
     ]
    },
    {
     "name": "stdout",
     "output_type": "stream",
     "text": [
      "Train Loss: 1.6951 | Valid Loss: 1.5405\n"
     ]
    },
    {
     "name": "stderr",
     "output_type": "stream",
     "text": [
      " 20%|██        | 2/10 [00:30<02:03, 15.41s/it]"
     ]
    },
    {
     "name": "stdout",
     "output_type": "stream",
     "text": [
      "Train Loss: 0.9948 | Valid Loss: 0.9612\n"
     ]
    },
    {
     "name": "stderr",
     "output_type": "stream",
     "text": [
      " 30%|███       | 3/10 [00:46<01:47, 15.31s/it]"
     ]
    },
    {
     "name": "stdout",
     "output_type": "stream",
     "text": [
      "Train Loss: 0.6466 | Valid Loss: 0.8375\n"
     ]
    },
    {
     "name": "stderr",
     "output_type": "stream",
     "text": [
      " 40%|████      | 4/10 [01:01<01:31, 15.23s/it]"
     ]
    },
    {
     "name": "stdout",
     "output_type": "stream",
     "text": [
      "Train Loss: 0.5036 | Valid Loss: 0.7657\n"
     ]
    },
    {
     "name": "stderr",
     "output_type": "stream",
     "text": [
      " 50%|█████     | 5/10 [01:16<01:16, 15.20s/it]"
     ]
    },
    {
     "name": "stdout",
     "output_type": "stream",
     "text": [
      "Train Loss: 0.4216 | Valid Loss: 0.7839\n"
     ]
    },
    {
     "name": "stderr",
     "output_type": "stream",
     "text": [
      " 60%|██████    | 6/10 [01:31<01:00, 15.09s/it]"
     ]
    },
    {
     "name": "stdout",
     "output_type": "stream",
     "text": [
      "Train Loss: 0.3550 | Valid Loss: 0.7545\n"
     ]
    },
    {
     "name": "stderr",
     "output_type": "stream",
     "text": [
      " 70%|███████   | 7/10 [01:46<00:45, 15.07s/it]"
     ]
    },
    {
     "name": "stdout",
     "output_type": "stream",
     "text": [
      "Train Loss: 0.3056 | Valid Loss: 0.7353\n"
     ]
    },
    {
     "name": "stderr",
     "output_type": "stream",
     "text": [
      " 80%|████████  | 8/10 [02:01<00:30, 15.03s/it]"
     ]
    },
    {
     "name": "stdout",
     "output_type": "stream",
     "text": [
      "Train Loss: 0.2773 | Valid Loss: 0.7382\n"
     ]
    },
    {
     "name": "stderr",
     "output_type": "stream",
     "text": [
      " 90%|█████████ | 9/10 [02:16<00:15, 15.10s/it]"
     ]
    },
    {
     "name": "stdout",
     "output_type": "stream",
     "text": [
      "Train Loss: 0.2462 | Valid Loss: 0.7668\n"
     ]
    },
    {
     "name": "stderr",
     "output_type": "stream",
     "text": [
      "100%|██████████| 10/10 [02:31<00:00, 15.15s/it]"
     ]
    },
    {
     "name": "stdout",
     "output_type": "stream",
     "text": [
      "Train Loss: 0.2170 | Valid Loss: 0.7692\n"
     ]
    },
    {
     "name": "stderr",
     "output_type": "stream",
     "text": [
      "\n"
     ]
    },
    {
     "name": "stdout",
     "output_type": "stream",
     "text": [
      "\n",
      "Validation Accuracy: 0.3061\n"
     ]
    },
    {
     "data": {
      "text/html": [],
      "text/plain": [
       "<IPython.core.display.HTML object>"
      ]
     },
     "metadata": {},
     "output_type": "display_data"
    },
    {
     "data": {
      "text/html": [
       "<br>    <style><br>        .wandb-row {<br>            display: flex;<br>            flex-direction: row;<br>            flex-wrap: wrap;<br>            justify-content: flex-start;<br>            width: 100%;<br>        }<br>        .wandb-col {<br>            display: flex;<br>            flex-direction: column;<br>            flex-basis: 100%;<br>            flex: 1;<br>            padding: 10px;<br>        }<br>    </style><br><div class=\"wandb-row\"><div class=\"wandb-col\"><h3>Run history:</h3><br/><table class=\"wandb\"><tr><td>epoch</td><td>▁▂▃▃▄▅▆▆▇█</td></tr><tr><td>train_loss</td><td>█▅▃▂▂▂▁▁▁▁</td></tr><tr><td>val_accuracy</td><td>▁</td></tr><tr><td>validation_loss</td><td>█▃▂▁▁▁▁▁▁▁</td></tr></table><br/></div><div class=\"wandb-col\"><h3>Run summary:</h3><br/><table class=\"wandb\"><tr><td>epoch</td><td>9</td></tr><tr><td>train_loss</td><td>0.21701</td></tr><tr><td>val_accuracy</td><td>0.3061</td></tr><tr><td>validation_loss</td><td>0.76919</td></tr></table><br/></div></div>"
      ],
      "text/plain": [
       "<IPython.core.display.HTML object>"
      ]
     },
     "metadata": {},
     "output_type": "display_data"
    },
    {
     "data": {
      "text/html": [
       " View run <strong style=\"color:#cdcd00\">embedding_size_16_num_layers_3_hidden_size_512                           _cell_type_GRU_dp_0.2_lr_0.0005_batch_128</strong> at: <a href='https://wandb.ai/cs24m022-iit-madras-foundation/cs24m022_DA6401_Assignment3/runs/8eamdjj0' target=\"_blank\">https://wandb.ai/cs24m022-iit-madras-foundation/cs24m022_DA6401_Assignment3/runs/8eamdjj0</a><br> View project at: <a href='https://wandb.ai/cs24m022-iit-madras-foundation/cs24m022_DA6401_Assignment3' target=\"_blank\">https://wandb.ai/cs24m022-iit-madras-foundation/cs24m022_DA6401_Assignment3</a><br>Synced 5 W&B file(s), 0 media file(s), 0 artifact file(s) and 0 other file(s)"
      ],
      "text/plain": [
       "<IPython.core.display.HTML object>"
      ]
     },
     "metadata": {},
     "output_type": "display_data"
    },
    {
     "data": {
      "text/html": [
       "Find logs at: <code>./wandb/run-20250520_110253-8eamdjj0/logs</code>"
      ],
      "text/plain": [
       "<IPython.core.display.HTML object>"
      ]
     },
     "metadata": {},
     "output_type": "display_data"
    },
    {
     "name": "stderr",
     "output_type": "stream",
     "text": [
      "\u001b[34m\u001b[1mwandb\u001b[0m: Agent Starting Run: basw97ok with config:\n",
      "\u001b[34m\u001b[1mwandb\u001b[0m: \tbatch_size: 128\n",
      "\u001b[34m\u001b[1mwandb\u001b[0m: \tcell_type: RNN\n",
      "\u001b[34m\u001b[1mwandb\u001b[0m: \tdropout: 0.3\n",
      "\u001b[34m\u001b[1mwandb\u001b[0m: \tembedding_size: 16\n",
      "\u001b[34m\u001b[1mwandb\u001b[0m: \thidden_size: 512\n",
      "\u001b[34m\u001b[1mwandb\u001b[0m: \tlearning_rate: 0.0005\n",
      "\u001b[34m\u001b[1mwandb\u001b[0m: \tnum_layers: 3\n"
     ]
    },
    {
     "data": {
      "text/html": [
       "Tracking run with wandb version 0.19.9"
      ],
      "text/plain": [
       "<IPython.core.display.HTML object>"
      ]
     },
     "metadata": {},
     "output_type": "display_data"
    },
    {
     "data": {
      "text/html": [
       "Run data is saved locally in <code>/kaggle/working/wandb/run-20250520_110607-basw97ok</code>"
      ],
      "text/plain": [
       "<IPython.core.display.HTML object>"
      ]
     },
     "metadata": {},
     "output_type": "display_data"
    },
    {
     "data": {
      "text/html": [
       "Syncing run <strong><a href='https://wandb.ai/cs24m022-iit-madras-foundation/cs24m022_DA6401_Assignment3/runs/basw97ok' target=\"_blank\">clean-sweep-10</a></strong> to <a href='https://wandb.ai/cs24m022-iit-madras-foundation/cs24m022_DA6401_Assignment3' target=\"_blank\">Weights & Biases</a> (<a href='https://wandb.me/developer-guide' target=\"_blank\">docs</a>)<br>Sweep page: <a href='https://wandb.ai/cs24m022-iit-madras-foundation/cs24m022_DA6401_Assignment3/sweeps/rxo139kw' target=\"_blank\">https://wandb.ai/cs24m022-iit-madras-foundation/cs24m022_DA6401_Assignment3/sweeps/rxo139kw</a>"
      ],
      "text/plain": [
       "<IPython.core.display.HTML object>"
      ]
     },
     "metadata": {},
     "output_type": "display_data"
    },
    {
     "data": {
      "text/html": [
       " View project at <a href='https://wandb.ai/cs24m022-iit-madras-foundation/cs24m022_DA6401_Assignment3' target=\"_blank\">https://wandb.ai/cs24m022-iit-madras-foundation/cs24m022_DA6401_Assignment3</a>"
      ],
      "text/plain": [
       "<IPython.core.display.HTML object>"
      ]
     },
     "metadata": {},
     "output_type": "display_data"
    },
    {
     "data": {
      "text/html": [
       " View sweep at <a href='https://wandb.ai/cs24m022-iit-madras-foundation/cs24m022_DA6401_Assignment3/sweeps/rxo139kw' target=\"_blank\">https://wandb.ai/cs24m022-iit-madras-foundation/cs24m022_DA6401_Assignment3/sweeps/rxo139kw</a>"
      ],
      "text/plain": [
       "<IPython.core.display.HTML object>"
      ]
     },
     "metadata": {},
     "output_type": "display_data"
    },
    {
     "data": {
      "text/html": [
       " View run at <a href='https://wandb.ai/cs24m022-iit-madras-foundation/cs24m022_DA6401_Assignment3/runs/basw97ok' target=\"_blank\">https://wandb.ai/cs24m022-iit-madras-foundation/cs24m022_DA6401_Assignment3/runs/basw97ok</a>"
      ],
      "text/plain": [
       "<IPython.core.display.HTML object>"
      ]
     },
     "metadata": {},
     "output_type": "display_data"
    },
    {
     "name": "stderr",
     "output_type": "stream",
     "text": [
      " 10%|█         | 1/10 [00:11<01:45, 11.67s/it]"
     ]
    },
    {
     "name": "stdout",
     "output_type": "stream",
     "text": [
      "Train Loss: 1.7635 | Valid Loss: 2.1641\n"
     ]
    },
    {
     "name": "stderr",
     "output_type": "stream",
     "text": [
      " 20%|██        | 2/10 [00:23<01:32, 11.61s/it]"
     ]
    },
    {
     "name": "stdout",
     "output_type": "stream",
     "text": [
      "Train Loss: 1.6393 | Valid Loss: 2.0442\n"
     ]
    },
    {
     "name": "stderr",
     "output_type": "stream",
     "text": [
      " 30%|███       | 3/10 [00:34<01:21, 11.65s/it]"
     ]
    },
    {
     "name": "stdout",
     "output_type": "stream",
     "text": [
      "Train Loss: 1.5889 | Valid Loss: 2.0030\n"
     ]
    },
    {
     "name": "stderr",
     "output_type": "stream",
     "text": [
      " 40%|████      | 4/10 [00:46<01:09, 11.66s/it]"
     ]
    },
    {
     "name": "stdout",
     "output_type": "stream",
     "text": [
      "Train Loss: 1.5482 | Valid Loss: 1.9944\n"
     ]
    },
    {
     "name": "stderr",
     "output_type": "stream",
     "text": [
      " 50%|█████     | 5/10 [00:58<00:58, 11.67s/it]"
     ]
    },
    {
     "name": "stdout",
     "output_type": "stream",
     "text": [
      "Train Loss: 1.5095 | Valid Loss: 1.9458\n"
     ]
    },
    {
     "name": "stderr",
     "output_type": "stream",
     "text": [
      " 60%|██████    | 6/10 [01:09<00:46, 11.64s/it]"
     ]
    },
    {
     "name": "stdout",
     "output_type": "stream",
     "text": [
      "Train Loss: 1.4539 | Valid Loss: 1.8899\n"
     ]
    },
    {
     "name": "stderr",
     "output_type": "stream",
     "text": [
      " 70%|███████   | 7/10 [01:21<00:34, 11.60s/it]"
     ]
    },
    {
     "name": "stdout",
     "output_type": "stream",
     "text": [
      "Train Loss: 1.4121 | Valid Loss: 1.8473\n"
     ]
    },
    {
     "name": "stderr",
     "output_type": "stream",
     "text": [
      " 80%|████████  | 8/10 [01:33<00:23, 11.60s/it]"
     ]
    },
    {
     "name": "stdout",
     "output_type": "stream",
     "text": [
      "Train Loss: 1.3885 | Valid Loss: 1.9331\n"
     ]
    },
    {
     "name": "stderr",
     "output_type": "stream",
     "text": [
      " 90%|█████████ | 9/10 [01:44<00:11, 11.62s/it]"
     ]
    },
    {
     "name": "stdout",
     "output_type": "stream",
     "text": [
      "Train Loss: 1.3626 | Valid Loss: 1.7928\n"
     ]
    },
    {
     "name": "stderr",
     "output_type": "stream",
     "text": [
      "100%|██████████| 10/10 [01:56<00:00, 11.64s/it]"
     ]
    },
    {
     "name": "stdout",
     "output_type": "stream",
     "text": [
      "Train Loss: 1.3232 | Valid Loss: 1.7618\n"
     ]
    },
    {
     "name": "stderr",
     "output_type": "stream",
     "text": [
      "\n"
     ]
    },
    {
     "name": "stdout",
     "output_type": "stream",
     "text": [
      "\n",
      "Validation Accuracy: 0.0000\n"
     ]
    },
    {
     "data": {
      "text/html": [],
      "text/plain": [
       "<IPython.core.display.HTML object>"
      ]
     },
     "metadata": {},
     "output_type": "display_data"
    },
    {
     "data": {
      "text/html": [
       "<br>    <style><br>        .wandb-row {<br>            display: flex;<br>            flex-direction: row;<br>            flex-wrap: wrap;<br>            justify-content: flex-start;<br>            width: 100%;<br>        }<br>        .wandb-col {<br>            display: flex;<br>            flex-direction: column;<br>            flex-basis: 100%;<br>            flex: 1;<br>            padding: 10px;<br>        }<br>    </style><br><div class=\"wandb-row\"><div class=\"wandb-col\"><h3>Run history:</h3><br/><table class=\"wandb\"><tr><td>epoch</td><td>▁▂▃▃▄▅▆▆▇█</td></tr><tr><td>train_loss</td><td>█▆▅▅▄▃▂▂▂▁</td></tr><tr><td>val_accuracy</td><td>▁</td></tr><tr><td>validation_loss</td><td>█▆▅▅▄▃▂▄▂▁</td></tr></table><br/></div><div class=\"wandb-col\"><h3>Run summary:</h3><br/><table class=\"wandb\"><tr><td>epoch</td><td>9</td></tr><tr><td>train_loss</td><td>1.32321</td></tr><tr><td>val_accuracy</td><td>0</td></tr><tr><td>validation_loss</td><td>1.76178</td></tr></table><br/></div></div>"
      ],
      "text/plain": [
       "<IPython.core.display.HTML object>"
      ]
     },
     "metadata": {},
     "output_type": "display_data"
    },
    {
     "data": {
      "text/html": [
       " View run <strong style=\"color:#cdcd00\">embedding_size_16_num_layers_3_hidden_size_512                           _cell_type_RNN_dp_0.3_lr_0.0005_batch_128</strong> at: <a href='https://wandb.ai/cs24m022-iit-madras-foundation/cs24m022_DA6401_Assignment3/runs/basw97ok' target=\"_blank\">https://wandb.ai/cs24m022-iit-madras-foundation/cs24m022_DA6401_Assignment3/runs/basw97ok</a><br> View project at: <a href='https://wandb.ai/cs24m022-iit-madras-foundation/cs24m022_DA6401_Assignment3' target=\"_blank\">https://wandb.ai/cs24m022-iit-madras-foundation/cs24m022_DA6401_Assignment3</a><br>Synced 5 W&B file(s), 0 media file(s), 0 artifact file(s) and 0 other file(s)"
      ],
      "text/plain": [
       "<IPython.core.display.HTML object>"
      ]
     },
     "metadata": {},
     "output_type": "display_data"
    },
    {
     "data": {
      "text/html": [
       "Find logs at: <code>./wandb/run-20250520_110607-basw97ok/logs</code>"
      ],
      "text/plain": [
       "<IPython.core.display.HTML object>"
      ]
     },
     "metadata": {},
     "output_type": "display_data"
    },
    {
     "name": "stderr",
     "output_type": "stream",
     "text": [
      "\u001b[34m\u001b[1mwandb\u001b[0m: Agent Starting Run: 3orejouy with config:\n",
      "\u001b[34m\u001b[1mwandb\u001b[0m: \tbatch_size: 128\n",
      "\u001b[34m\u001b[1mwandb\u001b[0m: \tcell_type: GRU\n",
      "\u001b[34m\u001b[1mwandb\u001b[0m: \tdropout: 0.2\n",
      "\u001b[34m\u001b[1mwandb\u001b[0m: \tembedding_size: 16\n",
      "\u001b[34m\u001b[1mwandb\u001b[0m: \thidden_size: 512\n",
      "\u001b[34m\u001b[1mwandb\u001b[0m: \tlearning_rate: 0.0005\n",
      "\u001b[34m\u001b[1mwandb\u001b[0m: \tnum_layers: 2\n"
     ]
    },
    {
     "data": {
      "text/html": [
       "Tracking run with wandb version 0.19.9"
      ],
      "text/plain": [
       "<IPython.core.display.HTML object>"
      ]
     },
     "metadata": {},
     "output_type": "display_data"
    },
    {
     "data": {
      "text/html": [
       "Run data is saved locally in <code>/kaggle/working/wandb/run-20250520_110849-3orejouy</code>"
      ],
      "text/plain": [
       "<IPython.core.display.HTML object>"
      ]
     },
     "metadata": {},
     "output_type": "display_data"
    },
    {
     "data": {
      "text/html": [
       "Syncing run <strong><a href='https://wandb.ai/cs24m022-iit-madras-foundation/cs24m022_DA6401_Assignment3/runs/3orejouy' target=\"_blank\">winter-sweep-11</a></strong> to <a href='https://wandb.ai/cs24m022-iit-madras-foundation/cs24m022_DA6401_Assignment3' target=\"_blank\">Weights & Biases</a> (<a href='https://wandb.me/developer-guide' target=\"_blank\">docs</a>)<br>Sweep page: <a href='https://wandb.ai/cs24m022-iit-madras-foundation/cs24m022_DA6401_Assignment3/sweeps/rxo139kw' target=\"_blank\">https://wandb.ai/cs24m022-iit-madras-foundation/cs24m022_DA6401_Assignment3/sweeps/rxo139kw</a>"
      ],
      "text/plain": [
       "<IPython.core.display.HTML object>"
      ]
     },
     "metadata": {},
     "output_type": "display_data"
    },
    {
     "data": {
      "text/html": [
       " View project at <a href='https://wandb.ai/cs24m022-iit-madras-foundation/cs24m022_DA6401_Assignment3' target=\"_blank\">https://wandb.ai/cs24m022-iit-madras-foundation/cs24m022_DA6401_Assignment3</a>"
      ],
      "text/plain": [
       "<IPython.core.display.HTML object>"
      ]
     },
     "metadata": {},
     "output_type": "display_data"
    },
    {
     "data": {
      "text/html": [
       " View sweep at <a href='https://wandb.ai/cs24m022-iit-madras-foundation/cs24m022_DA6401_Assignment3/sweeps/rxo139kw' target=\"_blank\">https://wandb.ai/cs24m022-iit-madras-foundation/cs24m022_DA6401_Assignment3/sweeps/rxo139kw</a>"
      ],
      "text/plain": [
       "<IPython.core.display.HTML object>"
      ]
     },
     "metadata": {},
     "output_type": "display_data"
    },
    {
     "data": {
      "text/html": [
       " View run at <a href='https://wandb.ai/cs24m022-iit-madras-foundation/cs24m022_DA6401_Assignment3/runs/3orejouy' target=\"_blank\">https://wandb.ai/cs24m022-iit-madras-foundation/cs24m022_DA6401_Assignment3/runs/3orejouy</a>"
      ],
      "text/plain": [
       "<IPython.core.display.HTML object>"
      ]
     },
     "metadata": {},
     "output_type": "display_data"
    },
    {
     "name": "stderr",
     "output_type": "stream",
     "text": [
      " 10%|█         | 1/10 [00:12<01:48, 12.01s/it]"
     ]
    },
    {
     "name": "stdout",
     "output_type": "stream",
     "text": [
      "Train Loss: 1.6869 | Valid Loss: 1.6194\n"
     ]
    },
    {
     "name": "stderr",
     "output_type": "stream",
     "text": [
      " 20%|██        | 2/10 [00:24<01:36, 12.07s/it]"
     ]
    },
    {
     "name": "stdout",
     "output_type": "stream",
     "text": [
      "Train Loss: 1.0947 | Valid Loss: 1.1048\n"
     ]
    },
    {
     "name": "stderr",
     "output_type": "stream",
     "text": [
      " 30%|███       | 3/10 [00:36<01:24, 12.11s/it]"
     ]
    },
    {
     "name": "stdout",
     "output_type": "stream",
     "text": [
      "Train Loss: 0.7590 | Valid Loss: 0.9350\n"
     ]
    },
    {
     "name": "stderr",
     "output_type": "stream",
     "text": [
      " 40%|████      | 4/10 [00:48<01:12, 12.10s/it]"
     ]
    },
    {
     "name": "stdout",
     "output_type": "stream",
     "text": [
      "Train Loss: 0.5972 | Valid Loss: 0.8272\n"
     ]
    },
    {
     "name": "stderr",
     "output_type": "stream",
     "text": [
      " 50%|█████     | 5/10 [01:00<01:01, 12.20s/it]"
     ]
    },
    {
     "name": "stdout",
     "output_type": "stream",
     "text": [
      "Train Loss: 0.5101 | Valid Loss: 0.7754\n"
     ]
    },
    {
     "name": "stderr",
     "output_type": "stream",
     "text": [
      " 60%|██████    | 6/10 [01:12<00:48, 12.17s/it]"
     ]
    },
    {
     "name": "stdout",
     "output_type": "stream",
     "text": [
      "Train Loss: 0.4331 | Valid Loss: 0.8379\n"
     ]
    },
    {
     "name": "stderr",
     "output_type": "stream",
     "text": [
      " 70%|███████   | 7/10 [01:24<00:36, 12.14s/it]"
     ]
    },
    {
     "name": "stdout",
     "output_type": "stream",
     "text": [
      "Train Loss: 0.3888 | Valid Loss: 0.8059\n"
     ]
    },
    {
     "name": "stderr",
     "output_type": "stream",
     "text": [
      " 80%|████████  | 8/10 [01:37<00:24, 12.22s/it]"
     ]
    },
    {
     "name": "stdout",
     "output_type": "stream",
     "text": [
      "Train Loss: 0.3425 | Valid Loss: 0.7552\n"
     ]
    },
    {
     "name": "stderr",
     "output_type": "stream",
     "text": [
      " 90%|█████████ | 9/10 [01:49<00:12, 12.22s/it]"
     ]
    },
    {
     "name": "stdout",
     "output_type": "stream",
     "text": [
      "Train Loss: 0.3084 | Valid Loss: 0.7459\n"
     ]
    },
    {
     "name": "stderr",
     "output_type": "stream",
     "text": [
      "100%|██████████| 10/10 [02:02<00:00, 12.21s/it]"
     ]
    },
    {
     "name": "stdout",
     "output_type": "stream",
     "text": [
      "Train Loss: 0.2768 | Valid Loss: 0.7720\n"
     ]
    },
    {
     "name": "stderr",
     "output_type": "stream",
     "text": [
      "\n"
     ]
    },
    {
     "name": "stdout",
     "output_type": "stream",
     "text": [
      "\n",
      "Validation Accuracy: 0.2811\n"
     ]
    },
    {
     "data": {
      "text/html": [],
      "text/plain": [
       "<IPython.core.display.HTML object>"
      ]
     },
     "metadata": {},
     "output_type": "display_data"
    },
    {
     "data": {
      "text/html": [
       "<br>    <style><br>        .wandb-row {<br>            display: flex;<br>            flex-direction: row;<br>            flex-wrap: wrap;<br>            justify-content: flex-start;<br>            width: 100%;<br>        }<br>        .wandb-col {<br>            display: flex;<br>            flex-direction: column;<br>            flex-basis: 100%;<br>            flex: 1;<br>            padding: 10px;<br>        }<br>    </style><br><div class=\"wandb-row\"><div class=\"wandb-col\"><h3>Run history:</h3><br/><table class=\"wandb\"><tr><td>epoch</td><td>▁▂▃▃▄▅▆▆▇█</td></tr><tr><td>train_loss</td><td>█▅▃▃▂▂▂▁▁▁</td></tr><tr><td>val_accuracy</td><td>▁</td></tr><tr><td>validation_loss</td><td>█▄▃▂▁▂▁▁▁▁</td></tr></table><br/></div><div class=\"wandb-col\"><h3>Run summary:</h3><br/><table class=\"wandb\"><tr><td>epoch</td><td>9</td></tr><tr><td>train_loss</td><td>0.27677</td></tr><tr><td>val_accuracy</td><td>0.28109</td></tr><tr><td>validation_loss</td><td>0.77204</td></tr></table><br/></div></div>"
      ],
      "text/plain": [
       "<IPython.core.display.HTML object>"
      ]
     },
     "metadata": {},
     "output_type": "display_data"
    },
    {
     "data": {
      "text/html": [
       " View run <strong style=\"color:#cdcd00\">embedding_size_16_num_layers_2_hidden_size_512                           _cell_type_GRU_dp_0.2_lr_0.0005_batch_128</strong> at: <a href='https://wandb.ai/cs24m022-iit-madras-foundation/cs24m022_DA6401_Assignment3/runs/3orejouy' target=\"_blank\">https://wandb.ai/cs24m022-iit-madras-foundation/cs24m022_DA6401_Assignment3/runs/3orejouy</a><br> View project at: <a href='https://wandb.ai/cs24m022-iit-madras-foundation/cs24m022_DA6401_Assignment3' target=\"_blank\">https://wandb.ai/cs24m022-iit-madras-foundation/cs24m022_DA6401_Assignment3</a><br>Synced 5 W&B file(s), 0 media file(s), 0 artifact file(s) and 0 other file(s)"
      ],
      "text/plain": [
       "<IPython.core.display.HTML object>"
      ]
     },
     "metadata": {},
     "output_type": "display_data"
    },
    {
     "data": {
      "text/html": [
       "Find logs at: <code>./wandb/run-20250520_110849-3orejouy/logs</code>"
      ],
      "text/plain": [
       "<IPython.core.display.HTML object>"
      ]
     },
     "metadata": {},
     "output_type": "display_data"
    },
    {
     "name": "stderr",
     "output_type": "stream",
     "text": [
      "\u001b[34m\u001b[1mwandb\u001b[0m: Agent Starting Run: mkz3rtjc with config:\n",
      "\u001b[34m\u001b[1mwandb\u001b[0m: \tbatch_size: 128\n",
      "\u001b[34m\u001b[1mwandb\u001b[0m: \tcell_type: GRU\n",
      "\u001b[34m\u001b[1mwandb\u001b[0m: \tdropout: 0.3\n",
      "\u001b[34m\u001b[1mwandb\u001b[0m: \tembedding_size: 16\n",
      "\u001b[34m\u001b[1mwandb\u001b[0m: \thidden_size: 512\n",
      "\u001b[34m\u001b[1mwandb\u001b[0m: \tlearning_rate: 0.001\n",
      "\u001b[34m\u001b[1mwandb\u001b[0m: \tnum_layers: 2\n"
     ]
    },
    {
     "data": {
      "text/html": [
       "Tracking run with wandb version 0.19.9"
      ],
      "text/plain": [
       "<IPython.core.display.HTML object>"
      ]
     },
     "metadata": {},
     "output_type": "display_data"
    },
    {
     "data": {
      "text/html": [
       "Run data is saved locally in <code>/kaggle/working/wandb/run-20250520_111127-mkz3rtjc</code>"
      ],
      "text/plain": [
       "<IPython.core.display.HTML object>"
      ]
     },
     "metadata": {},
     "output_type": "display_data"
    },
    {
     "data": {
      "text/html": [
       "Syncing run <strong><a href='https://wandb.ai/cs24m022-iit-madras-foundation/cs24m022_DA6401_Assignment3/runs/mkz3rtjc' target=\"_blank\">dauntless-sweep-12</a></strong> to <a href='https://wandb.ai/cs24m022-iit-madras-foundation/cs24m022_DA6401_Assignment3' target=\"_blank\">Weights & Biases</a> (<a href='https://wandb.me/developer-guide' target=\"_blank\">docs</a>)<br>Sweep page: <a href='https://wandb.ai/cs24m022-iit-madras-foundation/cs24m022_DA6401_Assignment3/sweeps/rxo139kw' target=\"_blank\">https://wandb.ai/cs24m022-iit-madras-foundation/cs24m022_DA6401_Assignment3/sweeps/rxo139kw</a>"
      ],
      "text/plain": [
       "<IPython.core.display.HTML object>"
      ]
     },
     "metadata": {},
     "output_type": "display_data"
    },
    {
     "data": {
      "text/html": [
       " View project at <a href='https://wandb.ai/cs24m022-iit-madras-foundation/cs24m022_DA6401_Assignment3' target=\"_blank\">https://wandb.ai/cs24m022-iit-madras-foundation/cs24m022_DA6401_Assignment3</a>"
      ],
      "text/plain": [
       "<IPython.core.display.HTML object>"
      ]
     },
     "metadata": {},
     "output_type": "display_data"
    },
    {
     "data": {
      "text/html": [
       " View sweep at <a href='https://wandb.ai/cs24m022-iit-madras-foundation/cs24m022_DA6401_Assignment3/sweeps/rxo139kw' target=\"_blank\">https://wandb.ai/cs24m022-iit-madras-foundation/cs24m022_DA6401_Assignment3/sweeps/rxo139kw</a>"
      ],
      "text/plain": [
       "<IPython.core.display.HTML object>"
      ]
     },
     "metadata": {},
     "output_type": "display_data"
    },
    {
     "data": {
      "text/html": [
       " View run at <a href='https://wandb.ai/cs24m022-iit-madras-foundation/cs24m022_DA6401_Assignment3/runs/mkz3rtjc' target=\"_blank\">https://wandb.ai/cs24m022-iit-madras-foundation/cs24m022_DA6401_Assignment3/runs/mkz3rtjc</a>"
      ],
      "text/plain": [
       "<IPython.core.display.HTML object>"
      ]
     },
     "metadata": {},
     "output_type": "display_data"
    },
    {
     "name": "stderr",
     "output_type": "stream",
     "text": [
      " 10%|█         | 1/10 [00:12<01:50, 12.28s/it]"
     ]
    },
    {
     "name": "stdout",
     "output_type": "stream",
     "text": [
      "Train Loss: 1.4975 | Valid Loss: 1.2376\n"
     ]
    },
    {
     "name": "stderr",
     "output_type": "stream",
     "text": [
      " 20%|██        | 2/10 [00:24<01:38, 12.27s/it]"
     ]
    },
    {
     "name": "stdout",
     "output_type": "stream",
     "text": [
      "Train Loss: 0.7973 | Valid Loss: 0.8659\n"
     ]
    },
    {
     "name": "stderr",
     "output_type": "stream",
     "text": [
      " 30%|███       | 3/10 [00:37<01:26, 12.38s/it]"
     ]
    },
    {
     "name": "stdout",
     "output_type": "stream",
     "text": [
      "Train Loss: 0.5894 | Valid Loss: 0.8319\n"
     ]
    },
    {
     "name": "stderr",
     "output_type": "stream",
     "text": [
      " 40%|████      | 4/10 [00:49<01:13, 12.32s/it]"
     ]
    },
    {
     "name": "stdout",
     "output_type": "stream",
     "text": [
      "Train Loss: 0.4848 | Valid Loss: 0.7899\n"
     ]
    },
    {
     "name": "stderr",
     "output_type": "stream",
     "text": [
      " 50%|█████     | 5/10 [01:01<01:01, 12.34s/it]"
     ]
    },
    {
     "name": "stdout",
     "output_type": "stream",
     "text": [
      "Train Loss: 0.4199 | Valid Loss: 0.8085\n"
     ]
    },
    {
     "name": "stderr",
     "output_type": "stream",
     "text": [
      " 60%|██████    | 6/10 [01:13<00:49, 12.27s/it]"
     ]
    },
    {
     "name": "stdout",
     "output_type": "stream",
     "text": [
      "Train Loss: 0.3725 | Valid Loss: 0.7794\n"
     ]
    },
    {
     "name": "stderr",
     "output_type": "stream",
     "text": [
      " 70%|███████   | 7/10 [01:26<00:36, 12.29s/it]"
     ]
    },
    {
     "name": "stdout",
     "output_type": "stream",
     "text": [
      "Train Loss: 0.3350 | Valid Loss: 0.7353\n"
     ]
    },
    {
     "name": "stderr",
     "output_type": "stream",
     "text": [
      " 80%|████████  | 8/10 [01:38<00:24, 12.33s/it]"
     ]
    },
    {
     "name": "stdout",
     "output_type": "stream",
     "text": [
      "Train Loss: 0.3000 | Valid Loss: 0.7702\n"
     ]
    },
    {
     "name": "stderr",
     "output_type": "stream",
     "text": [
      " 90%|█████████ | 9/10 [01:50<00:12, 12.30s/it]"
     ]
    },
    {
     "name": "stdout",
     "output_type": "stream",
     "text": [
      "Train Loss: 0.2778 | Valid Loss: 0.7785\n"
     ]
    },
    {
     "name": "stderr",
     "output_type": "stream",
     "text": [
      "100%|██████████| 10/10 [02:03<00:00, 12.32s/it]"
     ]
    },
    {
     "name": "stdout",
     "output_type": "stream",
     "text": [
      "Train Loss: 0.2452 | Valid Loss: 0.7766\n"
     ]
    },
    {
     "name": "stderr",
     "output_type": "stream",
     "text": [
      "\n"
     ]
    },
    {
     "name": "stdout",
     "output_type": "stream",
     "text": [
      "\n",
      "Validation Accuracy: 0.2625\n"
     ]
    },
    {
     "data": {
      "text/html": [],
      "text/plain": [
       "<IPython.core.display.HTML object>"
      ]
     },
     "metadata": {},
     "output_type": "display_data"
    },
    {
     "data": {
      "text/html": [
       "<br>    <style><br>        .wandb-row {<br>            display: flex;<br>            flex-direction: row;<br>            flex-wrap: wrap;<br>            justify-content: flex-start;<br>            width: 100%;<br>        }<br>        .wandb-col {<br>            display: flex;<br>            flex-direction: column;<br>            flex-basis: 100%;<br>            flex: 1;<br>            padding: 10px;<br>        }<br>    </style><br><div class=\"wandb-row\"><div class=\"wandb-col\"><h3>Run history:</h3><br/><table class=\"wandb\"><tr><td>epoch</td><td>▁▂▃▃▄▅▆▆▇█</td></tr><tr><td>train_loss</td><td>█▄▃▂▂▂▂▁▁▁</td></tr><tr><td>val_accuracy</td><td>▁</td></tr><tr><td>validation_loss</td><td>█▃▂▂▂▂▁▁▂▂</td></tr></table><br/></div><div class=\"wandb-col\"><h3>Run summary:</h3><br/><table class=\"wandb\"><tr><td>epoch</td><td>9</td></tr><tr><td>train_loss</td><td>0.24515</td></tr><tr><td>val_accuracy</td><td>0.26251</td></tr><tr><td>validation_loss</td><td>0.77655</td></tr></table><br/></div></div>"
      ],
      "text/plain": [
       "<IPython.core.display.HTML object>"
      ]
     },
     "metadata": {},
     "output_type": "display_data"
    },
    {
     "data": {
      "text/html": [
       " View run <strong style=\"color:#cdcd00\">embedding_size_16_num_layers_2_hidden_size_512                           _cell_type_GRU_dp_0.3_lr_0.001_batch_128</strong> at: <a href='https://wandb.ai/cs24m022-iit-madras-foundation/cs24m022_DA6401_Assignment3/runs/mkz3rtjc' target=\"_blank\">https://wandb.ai/cs24m022-iit-madras-foundation/cs24m022_DA6401_Assignment3/runs/mkz3rtjc</a><br> View project at: <a href='https://wandb.ai/cs24m022-iit-madras-foundation/cs24m022_DA6401_Assignment3' target=\"_blank\">https://wandb.ai/cs24m022-iit-madras-foundation/cs24m022_DA6401_Assignment3</a><br>Synced 5 W&B file(s), 0 media file(s), 0 artifact file(s) and 0 other file(s)"
      ],
      "text/plain": [
       "<IPython.core.display.HTML object>"
      ]
     },
     "metadata": {},
     "output_type": "display_data"
    },
    {
     "data": {
      "text/html": [
       "Find logs at: <code>./wandb/run-20250520_111127-mkz3rtjc/logs</code>"
      ],
      "text/plain": [
       "<IPython.core.display.HTML object>"
      ]
     },
     "metadata": {},
     "output_type": "display_data"
    },
    {
     "name": "stderr",
     "output_type": "stream",
     "text": [
      "\u001b[34m\u001b[1mwandb\u001b[0m: Sweep Agent: Waiting for job.\n",
      "\u001b[34m\u001b[1mwandb\u001b[0m: Job received.\n",
      "\u001b[34m\u001b[1mwandb\u001b[0m: Agent Starting Run: fzwc0ke9 with config:\n",
      "\u001b[34m\u001b[1mwandb\u001b[0m: \tbatch_size: 128\n",
      "\u001b[34m\u001b[1mwandb\u001b[0m: \tcell_type: GRU\n",
      "\u001b[34m\u001b[1mwandb\u001b[0m: \tdropout: 0.2\n",
      "\u001b[34m\u001b[1mwandb\u001b[0m: \tembedding_size: 64\n",
      "\u001b[34m\u001b[1mwandb\u001b[0m: \thidden_size: 512\n",
      "\u001b[34m\u001b[1mwandb\u001b[0m: \tlearning_rate: 0.0005\n",
      "\u001b[34m\u001b[1mwandb\u001b[0m: \tnum_layers: 2\n"
     ]
    },
    {
     "data": {
      "text/html": [
       "Tracking run with wandb version 0.19.9"
      ],
      "text/plain": [
       "<IPython.core.display.HTML object>"
      ]
     },
     "metadata": {},
     "output_type": "display_data"
    },
    {
     "data": {
      "text/html": [
       "Run data is saved locally in <code>/kaggle/working/wandb/run-20250520_111415-fzwc0ke9</code>"
      ],
      "text/plain": [
       "<IPython.core.display.HTML object>"
      ]
     },
     "metadata": {},
     "output_type": "display_data"
    },
    {
     "data": {
      "text/html": [
       "Syncing run <strong><a href='https://wandb.ai/cs24m022-iit-madras-foundation/cs24m022_DA6401_Assignment3/runs/fzwc0ke9' target=\"_blank\">iconic-sweep-13</a></strong> to <a href='https://wandb.ai/cs24m022-iit-madras-foundation/cs24m022_DA6401_Assignment3' target=\"_blank\">Weights & Biases</a> (<a href='https://wandb.me/developer-guide' target=\"_blank\">docs</a>)<br>Sweep page: <a href='https://wandb.ai/cs24m022-iit-madras-foundation/cs24m022_DA6401_Assignment3/sweeps/rxo139kw' target=\"_blank\">https://wandb.ai/cs24m022-iit-madras-foundation/cs24m022_DA6401_Assignment3/sweeps/rxo139kw</a>"
      ],
      "text/plain": [
       "<IPython.core.display.HTML object>"
      ]
     },
     "metadata": {},
     "output_type": "display_data"
    },
    {
     "data": {
      "text/html": [
       " View project at <a href='https://wandb.ai/cs24m022-iit-madras-foundation/cs24m022_DA6401_Assignment3' target=\"_blank\">https://wandb.ai/cs24m022-iit-madras-foundation/cs24m022_DA6401_Assignment3</a>"
      ],
      "text/plain": [
       "<IPython.core.display.HTML object>"
      ]
     },
     "metadata": {},
     "output_type": "display_data"
    },
    {
     "data": {
      "text/html": [
       " View sweep at <a href='https://wandb.ai/cs24m022-iit-madras-foundation/cs24m022_DA6401_Assignment3/sweeps/rxo139kw' target=\"_blank\">https://wandb.ai/cs24m022-iit-madras-foundation/cs24m022_DA6401_Assignment3/sweeps/rxo139kw</a>"
      ],
      "text/plain": [
       "<IPython.core.display.HTML object>"
      ]
     },
     "metadata": {},
     "output_type": "display_data"
    },
    {
     "data": {
      "text/html": [
       " View run at <a href='https://wandb.ai/cs24m022-iit-madras-foundation/cs24m022_DA6401_Assignment3/runs/fzwc0ke9' target=\"_blank\">https://wandb.ai/cs24m022-iit-madras-foundation/cs24m022_DA6401_Assignment3/runs/fzwc0ke9</a>"
      ],
      "text/plain": [
       "<IPython.core.display.HTML object>"
      ]
     },
     "metadata": {},
     "output_type": "display_data"
    },
    {
     "name": "stderr",
     "output_type": "stream",
     "text": [
      " 10%|█         | 1/10 [00:12<01:49, 12.21s/it]"
     ]
    },
    {
     "name": "stdout",
     "output_type": "stream",
     "text": [
      "Train Loss: 1.4822 | Valid Loss: 1.2347\n"
     ]
    },
    {
     "name": "stderr",
     "output_type": "stream",
     "text": [
      " 20%|██        | 2/10 [00:24<01:38, 12.29s/it]"
     ]
    },
    {
     "name": "stdout",
     "output_type": "stream",
     "text": [
      "Train Loss: 0.7175 | Valid Loss: 0.8983\n"
     ]
    },
    {
     "name": "stderr",
     "output_type": "stream",
     "text": [
      " 30%|███       | 3/10 [00:36<01:26, 12.29s/it]"
     ]
    },
    {
     "name": "stdout",
     "output_type": "stream",
     "text": [
      "Train Loss: 0.5022 | Valid Loss: 0.8062\n"
     ]
    },
    {
     "name": "stderr",
     "output_type": "stream",
     "text": [
      " 40%|████      | 4/10 [00:49<01:14, 12.35s/it]"
     ]
    },
    {
     "name": "stdout",
     "output_type": "stream",
     "text": [
      "Train Loss: 0.3996 | Valid Loss: 0.7713\n"
     ]
    },
    {
     "name": "stderr",
     "output_type": "stream",
     "text": [
      " 50%|█████     | 5/10 [01:01<01:01, 12.27s/it]"
     ]
    },
    {
     "name": "stdout",
     "output_type": "stream",
     "text": [
      "Train Loss: 0.3308 | Valid Loss: 0.7548\n"
     ]
    },
    {
     "name": "stderr",
     "output_type": "stream",
     "text": [
      " 60%|██████    | 6/10 [01:13<00:48, 12.21s/it]"
     ]
    },
    {
     "name": "stdout",
     "output_type": "stream",
     "text": [
      "Train Loss: 0.2881 | Valid Loss: 0.7501\n"
     ]
    },
    {
     "name": "stderr",
     "output_type": "stream",
     "text": [
      " 70%|███████   | 7/10 [01:25<00:36, 12.26s/it]"
     ]
    },
    {
     "name": "stdout",
     "output_type": "stream",
     "text": [
      "Train Loss: 0.2514 | Valid Loss: 0.7466\n"
     ]
    },
    {
     "name": "stderr",
     "output_type": "stream",
     "text": [
      " 80%|████████  | 8/10 [01:38<00:24, 12.27s/it]"
     ]
    },
    {
     "name": "stdout",
     "output_type": "stream",
     "text": [
      "Train Loss: 0.2205 | Valid Loss: 0.7121\n"
     ]
    },
    {
     "name": "stderr",
     "output_type": "stream",
     "text": [
      " 90%|█████████ | 9/10 [01:50<00:12, 12.21s/it]"
     ]
    },
    {
     "name": "stdout",
     "output_type": "stream",
     "text": [
      "Train Loss: 0.1934 | Valid Loss: 0.7411\n"
     ]
    },
    {
     "name": "stderr",
     "output_type": "stream",
     "text": [
      "100%|██████████| 10/10 [02:02<00:00, 12.24s/it]"
     ]
    },
    {
     "name": "stdout",
     "output_type": "stream",
     "text": [
      "Train Loss: 0.1666 | Valid Loss: 0.8168\n"
     ]
    },
    {
     "name": "stderr",
     "output_type": "stream",
     "text": [
      "\n"
     ]
    },
    {
     "name": "stdout",
     "output_type": "stream",
     "text": [
      "\n",
      "Validation Accuracy: 0.2607\n"
     ]
    },
    {
     "data": {
      "text/html": [],
      "text/plain": [
       "<IPython.core.display.HTML object>"
      ]
     },
     "metadata": {},
     "output_type": "display_data"
    },
    {
     "data": {
      "text/html": [
       "<br>    <style><br>        .wandb-row {<br>            display: flex;<br>            flex-direction: row;<br>            flex-wrap: wrap;<br>            justify-content: flex-start;<br>            width: 100%;<br>        }<br>        .wandb-col {<br>            display: flex;<br>            flex-direction: column;<br>            flex-basis: 100%;<br>            flex: 1;<br>            padding: 10px;<br>        }<br>    </style><br><div class=\"wandb-row\"><div class=\"wandb-col\"><h3>Run history:</h3><br/><table class=\"wandb\"><tr><td>epoch</td><td>▁▂▃▃▄▅▆▆▇█</td></tr><tr><td>train_loss</td><td>█▄▃▂▂▂▁▁▁▁</td></tr><tr><td>val_accuracy</td><td>▁</td></tr><tr><td>validation_loss</td><td>█▃▂▂▂▂▁▁▁▂</td></tr></table><br/></div><div class=\"wandb-col\"><h3>Run summary:</h3><br/><table class=\"wandb\"><tr><td>epoch</td><td>9</td></tr><tr><td>train_loss</td><td>0.16661</td></tr><tr><td>val_accuracy</td><td>0.26067</td></tr><tr><td>validation_loss</td><td>0.81678</td></tr></table><br/></div></div>"
      ],
      "text/plain": [
       "<IPython.core.display.HTML object>"
      ]
     },
     "metadata": {},
     "output_type": "display_data"
    },
    {
     "data": {
      "text/html": [
       " View run <strong style=\"color:#cdcd00\">embedding_size_64_num_layers_2_hidden_size_512                           _cell_type_GRU_dp_0.2_lr_0.0005_batch_128</strong> at: <a href='https://wandb.ai/cs24m022-iit-madras-foundation/cs24m022_DA6401_Assignment3/runs/fzwc0ke9' target=\"_blank\">https://wandb.ai/cs24m022-iit-madras-foundation/cs24m022_DA6401_Assignment3/runs/fzwc0ke9</a><br> View project at: <a href='https://wandb.ai/cs24m022-iit-madras-foundation/cs24m022_DA6401_Assignment3' target=\"_blank\">https://wandb.ai/cs24m022-iit-madras-foundation/cs24m022_DA6401_Assignment3</a><br>Synced 5 W&B file(s), 0 media file(s), 0 artifact file(s) and 0 other file(s)"
      ],
      "text/plain": [
       "<IPython.core.display.HTML object>"
      ]
     },
     "metadata": {},
     "output_type": "display_data"
    },
    {
     "data": {
      "text/html": [
       "Find logs at: <code>./wandb/run-20250520_111415-fzwc0ke9/logs</code>"
      ],
      "text/plain": [
       "<IPython.core.display.HTML object>"
      ]
     },
     "metadata": {},
     "output_type": "display_data"
    },
    {
     "name": "stderr",
     "output_type": "stream",
     "text": [
      "\u001b[34m\u001b[1mwandb\u001b[0m: Agent Starting Run: lj1a4ddm with config:\n",
      "\u001b[34m\u001b[1mwandb\u001b[0m: \tbatch_size: 32\n",
      "\u001b[34m\u001b[1mwandb\u001b[0m: \tcell_type: GRU\n",
      "\u001b[34m\u001b[1mwandb\u001b[0m: \tdropout: 0.2\n",
      "\u001b[34m\u001b[1mwandb\u001b[0m: \tembedding_size: 16\n",
      "\u001b[34m\u001b[1mwandb\u001b[0m: \thidden_size: 512\n",
      "\u001b[34m\u001b[1mwandb\u001b[0m: \tlearning_rate: 0.0005\n",
      "\u001b[34m\u001b[1mwandb\u001b[0m: \tnum_layers: 3\n"
     ]
    },
    {
     "data": {
      "text/html": [
       "Tracking run with wandb version 0.19.9"
      ],
      "text/plain": [
       "<IPython.core.display.HTML object>"
      ]
     },
     "metadata": {},
     "output_type": "display_data"
    },
    {
     "data": {
      "text/html": [
       "Run data is saved locally in <code>/kaggle/working/wandb/run-20250520_111652-lj1a4ddm</code>"
      ],
      "text/plain": [
       "<IPython.core.display.HTML object>"
      ]
     },
     "metadata": {},
     "output_type": "display_data"
    },
    {
     "data": {
      "text/html": [
       "Syncing run <strong><a href='https://wandb.ai/cs24m022-iit-madras-foundation/cs24m022_DA6401_Assignment3/runs/lj1a4ddm' target=\"_blank\">fresh-sweep-14</a></strong> to <a href='https://wandb.ai/cs24m022-iit-madras-foundation/cs24m022_DA6401_Assignment3' target=\"_blank\">Weights & Biases</a> (<a href='https://wandb.me/developer-guide' target=\"_blank\">docs</a>)<br>Sweep page: <a href='https://wandb.ai/cs24m022-iit-madras-foundation/cs24m022_DA6401_Assignment3/sweeps/rxo139kw' target=\"_blank\">https://wandb.ai/cs24m022-iit-madras-foundation/cs24m022_DA6401_Assignment3/sweeps/rxo139kw</a>"
      ],
      "text/plain": [
       "<IPython.core.display.HTML object>"
      ]
     },
     "metadata": {},
     "output_type": "display_data"
    },
    {
     "data": {
      "text/html": [
       " View project at <a href='https://wandb.ai/cs24m022-iit-madras-foundation/cs24m022_DA6401_Assignment3' target=\"_blank\">https://wandb.ai/cs24m022-iit-madras-foundation/cs24m022_DA6401_Assignment3</a>"
      ],
      "text/plain": [
       "<IPython.core.display.HTML object>"
      ]
     },
     "metadata": {},
     "output_type": "display_data"
    },
    {
     "data": {
      "text/html": [
       " View sweep at <a href='https://wandb.ai/cs24m022-iit-madras-foundation/cs24m022_DA6401_Assignment3/sweeps/rxo139kw' target=\"_blank\">https://wandb.ai/cs24m022-iit-madras-foundation/cs24m022_DA6401_Assignment3/sweeps/rxo139kw</a>"
      ],
      "text/plain": [
       "<IPython.core.display.HTML object>"
      ]
     },
     "metadata": {},
     "output_type": "display_data"
    },
    {
     "data": {
      "text/html": [
       " View run at <a href='https://wandb.ai/cs24m022-iit-madras-foundation/cs24m022_DA6401_Assignment3/runs/lj1a4ddm' target=\"_blank\">https://wandb.ai/cs24m022-iit-madras-foundation/cs24m022_DA6401_Assignment3/runs/lj1a4ddm</a>"
      ],
      "text/plain": [
       "<IPython.core.display.HTML object>"
      ]
     },
     "metadata": {},
     "output_type": "display_data"
    },
    {
     "name": "stderr",
     "output_type": "stream",
     "text": [
      " 10%|█         | 1/10 [00:42<06:26, 42.96s/it]"
     ]
    },
    {
     "name": "stdout",
     "output_type": "stream",
     "text": [
      "Train Loss: 1.2976 | Valid Loss: 1.0248\n"
     ]
    },
    {
     "name": "stderr",
     "output_type": "stream",
     "text": [
      " 20%|██        | 2/10 [01:26<05:47, 43.38s/it]"
     ]
    },
    {
     "name": "stdout",
     "output_type": "stream",
     "text": [
      "Train Loss: 0.6060 | Valid Loss: 0.9024\n"
     ]
    },
    {
     "name": "stderr",
     "output_type": "stream",
     "text": [
      " 30%|███       | 3/10 [02:09<05:01, 43.09s/it]"
     ]
    },
    {
     "name": "stdout",
     "output_type": "stream",
     "text": [
      "Train Loss: 0.4626 | Valid Loss: 0.8356\n"
     ]
    },
    {
     "name": "stderr",
     "output_type": "stream",
     "text": [
      " 40%|████      | 4/10 [02:53<04:20, 43.38s/it]"
     ]
    },
    {
     "name": "stdout",
     "output_type": "stream",
     "text": [
      "Train Loss: 0.3750 | Valid Loss: 0.8121\n"
     ]
    },
    {
     "name": "stderr",
     "output_type": "stream",
     "text": [
      " 50%|█████     | 5/10 [03:36<03:37, 43.44s/it]"
     ]
    },
    {
     "name": "stdout",
     "output_type": "stream",
     "text": [
      "Train Loss: 0.3226 | Valid Loss: 0.8378\n"
     ]
    },
    {
     "name": "stderr",
     "output_type": "stream",
     "text": [
      " 60%|██████    | 6/10 [04:19<02:53, 43.34s/it]"
     ]
    },
    {
     "name": "stdout",
     "output_type": "stream",
     "text": [
      "Train Loss: 0.2775 | Valid Loss: 0.8665\n"
     ]
    },
    {
     "name": "stderr",
     "output_type": "stream",
     "text": [
      " 70%|███████   | 7/10 [05:03<02:10, 43.49s/it]"
     ]
    },
    {
     "name": "stdout",
     "output_type": "stream",
     "text": [
      "Train Loss: 0.2467 | Valid Loss: 0.8586\n"
     ]
    },
    {
     "name": "stderr",
     "output_type": "stream",
     "text": [
      " 80%|████████  | 8/10 [05:46<01:26, 43.36s/it]"
     ]
    },
    {
     "name": "stdout",
     "output_type": "stream",
     "text": [
      "Train Loss: 0.2245 | Valid Loss: 0.8858\n"
     ]
    },
    {
     "name": "stderr",
     "output_type": "stream",
     "text": [
      " 90%|█████████ | 9/10 [06:29<00:43, 43.13s/it]"
     ]
    },
    {
     "name": "stdout",
     "output_type": "stream",
     "text": [
      "Train Loss: 0.2005 | Valid Loss: 0.8882\n"
     ]
    },
    {
     "name": "stderr",
     "output_type": "stream",
     "text": [
      "100%|██████████| 10/10 [07:12<00:00, 43.24s/it]"
     ]
    },
    {
     "name": "stdout",
     "output_type": "stream",
     "text": [
      "Train Loss: 0.1829 | Valid Loss: 0.9638\n"
     ]
    },
    {
     "name": "stderr",
     "output_type": "stream",
     "text": [
      "\n"
     ]
    },
    {
     "name": "stdout",
     "output_type": "stream",
     "text": [
      "\n",
      "Validation Accuracy: 0.3788\n"
     ]
    },
    {
     "data": {
      "text/html": [],
      "text/plain": [
       "<IPython.core.display.HTML object>"
      ]
     },
     "metadata": {},
     "output_type": "display_data"
    },
    {
     "data": {
      "text/html": [
       "<br>    <style><br>        .wandb-row {<br>            display: flex;<br>            flex-direction: row;<br>            flex-wrap: wrap;<br>            justify-content: flex-start;<br>            width: 100%;<br>        }<br>        .wandb-col {<br>            display: flex;<br>            flex-direction: column;<br>            flex-basis: 100%;<br>            flex: 1;<br>            padding: 10px;<br>        }<br>    </style><br><div class=\"wandb-row\"><div class=\"wandb-col\"><h3>Run history:</h3><br/><table class=\"wandb\"><tr><td>epoch</td><td>▁▂▃▃▄▅▆▆▇█</td></tr><tr><td>train_loss</td><td>█▄▃▂▂▂▁▁▁▁</td></tr><tr><td>val_accuracy</td><td>▁</td></tr><tr><td>validation_loss</td><td>█▄▂▁▂▃▃▃▄▆</td></tr></table><br/></div><div class=\"wandb-col\"><h3>Run summary:</h3><br/><table class=\"wandb\"><tr><td>epoch</td><td>9</td></tr><tr><td>train_loss</td><td>0.1829</td></tr><tr><td>val_accuracy</td><td>0.37884</td></tr><tr><td>validation_loss</td><td>0.96376</td></tr></table><br/></div></div>"
      ],
      "text/plain": [
       "<IPython.core.display.HTML object>"
      ]
     },
     "metadata": {},
     "output_type": "display_data"
    },
    {
     "data": {
      "text/html": [
       " View run <strong style=\"color:#cdcd00\">embedding_size_16_num_layers_3_hidden_size_512                           _cell_type_GRU_dp_0.2_lr_0.0005_batch_32</strong> at: <a href='https://wandb.ai/cs24m022-iit-madras-foundation/cs24m022_DA6401_Assignment3/runs/lj1a4ddm' target=\"_blank\">https://wandb.ai/cs24m022-iit-madras-foundation/cs24m022_DA6401_Assignment3/runs/lj1a4ddm</a><br> View project at: <a href='https://wandb.ai/cs24m022-iit-madras-foundation/cs24m022_DA6401_Assignment3' target=\"_blank\">https://wandb.ai/cs24m022-iit-madras-foundation/cs24m022_DA6401_Assignment3</a><br>Synced 5 W&B file(s), 0 media file(s), 0 artifact file(s) and 0 other file(s)"
      ],
      "text/plain": [
       "<IPython.core.display.HTML object>"
      ]
     },
     "metadata": {},
     "output_type": "display_data"
    },
    {
     "data": {
      "text/html": [
       "Find logs at: <code>./wandb/run-20250520_111652-lj1a4ddm/logs</code>"
      ],
      "text/plain": [
       "<IPython.core.display.HTML object>"
      ]
     },
     "metadata": {},
     "output_type": "display_data"
    },
    {
     "name": "stderr",
     "output_type": "stream",
     "text": [
      "\u001b[34m\u001b[1mwandb\u001b[0m: Agent Starting Run: tgranh7p with config:\n",
      "\u001b[34m\u001b[1mwandb\u001b[0m: \tbatch_size: 64\n",
      "\u001b[34m\u001b[1mwandb\u001b[0m: \tcell_type: GRU\n",
      "\u001b[34m\u001b[1mwandb\u001b[0m: \tdropout: 0.3\n",
      "\u001b[34m\u001b[1mwandb\u001b[0m: \tembedding_size: 16\n",
      "\u001b[34m\u001b[1mwandb\u001b[0m: \thidden_size: 512\n",
      "\u001b[34m\u001b[1mwandb\u001b[0m: \tlearning_rate: 0.0005\n",
      "\u001b[34m\u001b[1mwandb\u001b[0m: \tnum_layers: 3\n"
     ]
    },
    {
     "data": {
      "text/html": [
       "Tracking run with wandb version 0.19.9"
      ],
      "text/plain": [
       "<IPython.core.display.HTML object>"
      ]
     },
     "metadata": {},
     "output_type": "display_data"
    },
    {
     "data": {
      "text/html": [
       "Run data is saved locally in <code>/kaggle/working/wandb/run-20250520_112445-tgranh7p</code>"
      ],
      "text/plain": [
       "<IPython.core.display.HTML object>"
      ]
     },
     "metadata": {},
     "output_type": "display_data"
    },
    {
     "data": {
      "text/html": [
       "Syncing run <strong><a href='https://wandb.ai/cs24m022-iit-madras-foundation/cs24m022_DA6401_Assignment3/runs/tgranh7p' target=\"_blank\">pretty-sweep-15</a></strong> to <a href='https://wandb.ai/cs24m022-iit-madras-foundation/cs24m022_DA6401_Assignment3' target=\"_blank\">Weights & Biases</a> (<a href='https://wandb.me/developer-guide' target=\"_blank\">docs</a>)<br>Sweep page: <a href='https://wandb.ai/cs24m022-iit-madras-foundation/cs24m022_DA6401_Assignment3/sweeps/rxo139kw' target=\"_blank\">https://wandb.ai/cs24m022-iit-madras-foundation/cs24m022_DA6401_Assignment3/sweeps/rxo139kw</a>"
      ],
      "text/plain": [
       "<IPython.core.display.HTML object>"
      ]
     },
     "metadata": {},
     "output_type": "display_data"
    },
    {
     "data": {
      "text/html": [
       " View project at <a href='https://wandb.ai/cs24m022-iit-madras-foundation/cs24m022_DA6401_Assignment3' target=\"_blank\">https://wandb.ai/cs24m022-iit-madras-foundation/cs24m022_DA6401_Assignment3</a>"
      ],
      "text/plain": [
       "<IPython.core.display.HTML object>"
      ]
     },
     "metadata": {},
     "output_type": "display_data"
    },
    {
     "data": {
      "text/html": [
       " View sweep at <a href='https://wandb.ai/cs24m022-iit-madras-foundation/cs24m022_DA6401_Assignment3/sweeps/rxo139kw' target=\"_blank\">https://wandb.ai/cs24m022-iit-madras-foundation/cs24m022_DA6401_Assignment3/sweeps/rxo139kw</a>"
      ],
      "text/plain": [
       "<IPython.core.display.HTML object>"
      ]
     },
     "metadata": {},
     "output_type": "display_data"
    },
    {
     "data": {
      "text/html": [
       " View run at <a href='https://wandb.ai/cs24m022-iit-madras-foundation/cs24m022_DA6401_Assignment3/runs/tgranh7p' target=\"_blank\">https://wandb.ai/cs24m022-iit-madras-foundation/cs24m022_DA6401_Assignment3/runs/tgranh7p</a>"
      ],
      "text/plain": [
       "<IPython.core.display.HTML object>"
      ]
     },
     "metadata": {},
     "output_type": "display_data"
    },
    {
     "name": "stderr",
     "output_type": "stream",
     "text": [
      " 10%|█         | 1/10 [00:24<03:39, 24.34s/it]"
     ]
    },
    {
     "name": "stdout",
     "output_type": "stream",
     "text": [
      "Train Loss: 1.5244 | Valid Loss: 1.2002\n"
     ]
    },
    {
     "name": "stderr",
     "output_type": "stream",
     "text": [
      " 20%|██        | 2/10 [00:48<03:14, 24.30s/it]"
     ]
    },
    {
     "name": "stdout",
     "output_type": "stream",
     "text": [
      "Train Loss: 0.7713 | Valid Loss: 0.9271\n"
     ]
    },
    {
     "name": "stderr",
     "output_type": "stream",
     "text": [
      " 30%|███       | 3/10 [01:13<02:51, 24.45s/it]"
     ]
    },
    {
     "name": "stdout",
     "output_type": "stream",
     "text": [
      "Train Loss: 0.5583 | Valid Loss: 0.8164\n"
     ]
    },
    {
     "name": "stderr",
     "output_type": "stream",
     "text": [
      " 40%|████      | 4/10 [01:37<02:27, 24.54s/it]"
     ]
    },
    {
     "name": "stdout",
     "output_type": "stream",
     "text": [
      "Train Loss: 0.4640 | Valid Loss: 0.7881\n"
     ]
    },
    {
     "name": "stderr",
     "output_type": "stream",
     "text": [
      " 50%|█████     | 5/10 [02:02<02:02, 24.48s/it]"
     ]
    },
    {
     "name": "stdout",
     "output_type": "stream",
     "text": [
      "Train Loss: 0.3945 | Valid Loss: 0.7686\n"
     ]
    },
    {
     "name": "stderr",
     "output_type": "stream",
     "text": [
      " 60%|██████    | 6/10 [02:26<01:37, 24.43s/it]"
     ]
    },
    {
     "name": "stdout",
     "output_type": "stream",
     "text": [
      "Train Loss: 0.3477 | Valid Loss: 0.7696\n"
     ]
    },
    {
     "name": "stderr",
     "output_type": "stream",
     "text": [
      " 70%|███████   | 7/10 [02:51<01:13, 24.53s/it]"
     ]
    },
    {
     "name": "stdout",
     "output_type": "stream",
     "text": [
      "Train Loss: 0.3153 | Valid Loss: 0.7955\n"
     ]
    },
    {
     "name": "stderr",
     "output_type": "stream",
     "text": [
      " 80%|████████  | 8/10 [03:15<00:49, 24.51s/it]"
     ]
    },
    {
     "name": "stdout",
     "output_type": "stream",
     "text": [
      "Train Loss: 0.2800 | Valid Loss: 0.7588\n"
     ]
    },
    {
     "name": "stderr",
     "output_type": "stream",
     "text": [
      " 90%|█████████ | 9/10 [03:40<00:24, 24.52s/it]"
     ]
    },
    {
     "name": "stdout",
     "output_type": "stream",
     "text": [
      "Train Loss: 0.2575 | Valid Loss: 0.7581\n"
     ]
    },
    {
     "name": "stderr",
     "output_type": "stream",
     "text": [
      "100%|██████████| 10/10 [04:04<00:00, 24.48s/it]"
     ]
    },
    {
     "name": "stdout",
     "output_type": "stream",
     "text": [
      "Train Loss: 0.2336 | Valid Loss: 0.7958\n"
     ]
    },
    {
     "name": "stderr",
     "output_type": "stream",
     "text": [
      "\n"
     ]
    },
    {
     "name": "stdout",
     "output_type": "stream",
     "text": [
      "\n",
      "Validation Accuracy: 0.3566\n"
     ]
    },
    {
     "data": {
      "text/html": [],
      "text/plain": [
       "<IPython.core.display.HTML object>"
      ]
     },
     "metadata": {},
     "output_type": "display_data"
    },
    {
     "data": {
      "text/html": [
       "<br>    <style><br>        .wandb-row {<br>            display: flex;<br>            flex-direction: row;<br>            flex-wrap: wrap;<br>            justify-content: flex-start;<br>            width: 100%;<br>        }<br>        .wandb-col {<br>            display: flex;<br>            flex-direction: column;<br>            flex-basis: 100%;<br>            flex: 1;<br>            padding: 10px;<br>        }<br>    </style><br><div class=\"wandb-row\"><div class=\"wandb-col\"><h3>Run history:</h3><br/><table class=\"wandb\"><tr><td>epoch</td><td>▁▂▃▃▄▅▆▆▇█</td></tr><tr><td>train_loss</td><td>█▄▃▂▂▂▁▁▁▁</td></tr><tr><td>val_accuracy</td><td>▁</td></tr><tr><td>validation_loss</td><td>█▄▂▁▁▁▂▁▁▂</td></tr></table><br/></div><div class=\"wandb-col\"><h3>Run summary:</h3><br/><table class=\"wandb\"><tr><td>epoch</td><td>9</td></tr><tr><td>train_loss</td><td>0.23362</td></tr><tr><td>val_accuracy</td><td>0.35659</td></tr><tr><td>validation_loss</td><td>0.79582</td></tr></table><br/></div></div>"
      ],
      "text/plain": [
       "<IPython.core.display.HTML object>"
      ]
     },
     "metadata": {},
     "output_type": "display_data"
    },
    {
     "data": {
      "text/html": [
       " View run <strong style=\"color:#cdcd00\">embedding_size_16_num_layers_3_hidden_size_512                           _cell_type_GRU_dp_0.3_lr_0.0005_batch_64</strong> at: <a href='https://wandb.ai/cs24m022-iit-madras-foundation/cs24m022_DA6401_Assignment3/runs/tgranh7p' target=\"_blank\">https://wandb.ai/cs24m022-iit-madras-foundation/cs24m022_DA6401_Assignment3/runs/tgranh7p</a><br> View project at: <a href='https://wandb.ai/cs24m022-iit-madras-foundation/cs24m022_DA6401_Assignment3' target=\"_blank\">https://wandb.ai/cs24m022-iit-madras-foundation/cs24m022_DA6401_Assignment3</a><br>Synced 5 W&B file(s), 0 media file(s), 0 artifact file(s) and 0 other file(s)"
      ],
      "text/plain": [
       "<IPython.core.display.HTML object>"
      ]
     },
     "metadata": {},
     "output_type": "display_data"
    },
    {
     "data": {
      "text/html": [
       "Find logs at: <code>./wandb/run-20250520_112445-tgranh7p/logs</code>"
      ],
      "text/plain": [
       "<IPython.core.display.HTML object>"
      ]
     },
     "metadata": {},
     "output_type": "display_data"
    },
    {
     "name": "stderr",
     "output_type": "stream",
     "text": [
      "\u001b[34m\u001b[1mwandb\u001b[0m: Agent Starting Run: fmwwbqjg with config:\n",
      "\u001b[34m\u001b[1mwandb\u001b[0m: \tbatch_size: 32\n",
      "\u001b[34m\u001b[1mwandb\u001b[0m: \tcell_type: GRU\n",
      "\u001b[34m\u001b[1mwandb\u001b[0m: \tdropout: 0.2\n",
      "\u001b[34m\u001b[1mwandb\u001b[0m: \tembedding_size: 32\n",
      "\u001b[34m\u001b[1mwandb\u001b[0m: \thidden_size: 128\n",
      "\u001b[34m\u001b[1mwandb\u001b[0m: \tlearning_rate: 0.0005\n",
      "\u001b[34m\u001b[1mwandb\u001b[0m: \tnum_layers: 3\n"
     ]
    },
    {
     "data": {
      "text/html": [
       "Tracking run with wandb version 0.19.9"
      ],
      "text/plain": [
       "<IPython.core.display.HTML object>"
      ]
     },
     "metadata": {},
     "output_type": "display_data"
    },
    {
     "data": {
      "text/html": [
       "Run data is saved locally in <code>/kaggle/working/wandb/run-20250520_112929-fmwwbqjg</code>"
      ],
      "text/plain": [
       "<IPython.core.display.HTML object>"
      ]
     },
     "metadata": {},
     "output_type": "display_data"
    },
    {
     "data": {
      "text/html": [
       "Syncing run <strong><a href='https://wandb.ai/cs24m022-iit-madras-foundation/cs24m022_DA6401_Assignment3/runs/fmwwbqjg' target=\"_blank\">denim-sweep-16</a></strong> to <a href='https://wandb.ai/cs24m022-iit-madras-foundation/cs24m022_DA6401_Assignment3' target=\"_blank\">Weights & Biases</a> (<a href='https://wandb.me/developer-guide' target=\"_blank\">docs</a>)<br>Sweep page: <a href='https://wandb.ai/cs24m022-iit-madras-foundation/cs24m022_DA6401_Assignment3/sweeps/rxo139kw' target=\"_blank\">https://wandb.ai/cs24m022-iit-madras-foundation/cs24m022_DA6401_Assignment3/sweeps/rxo139kw</a>"
      ],
      "text/plain": [
       "<IPython.core.display.HTML object>"
      ]
     },
     "metadata": {},
     "output_type": "display_data"
    },
    {
     "data": {
      "text/html": [
       " View project at <a href='https://wandb.ai/cs24m022-iit-madras-foundation/cs24m022_DA6401_Assignment3' target=\"_blank\">https://wandb.ai/cs24m022-iit-madras-foundation/cs24m022_DA6401_Assignment3</a>"
      ],
      "text/plain": [
       "<IPython.core.display.HTML object>"
      ]
     },
     "metadata": {},
     "output_type": "display_data"
    },
    {
     "data": {
      "text/html": [
       " View sweep at <a href='https://wandb.ai/cs24m022-iit-madras-foundation/cs24m022_DA6401_Assignment3/sweeps/rxo139kw' target=\"_blank\">https://wandb.ai/cs24m022-iit-madras-foundation/cs24m022_DA6401_Assignment3/sweeps/rxo139kw</a>"
      ],
      "text/plain": [
       "<IPython.core.display.HTML object>"
      ]
     },
     "metadata": {},
     "output_type": "display_data"
    },
    {
     "data": {
      "text/html": [
       " View run at <a href='https://wandb.ai/cs24m022-iit-madras-foundation/cs24m022_DA6401_Assignment3/runs/fmwwbqjg' target=\"_blank\">https://wandb.ai/cs24m022-iit-madras-foundation/cs24m022_DA6401_Assignment3/runs/fmwwbqjg</a>"
      ],
      "text/plain": [
       "<IPython.core.display.HTML object>"
      ]
     },
     "metadata": {},
     "output_type": "display_data"
    },
    {
     "name": "stderr",
     "output_type": "stream",
     "text": [
      " 10%|█         | 1/10 [00:37<05:34, 37.18s/it]"
     ]
    },
    {
     "name": "stdout",
     "output_type": "stream",
     "text": [
      "Train Loss: 1.7212 | Valid Loss: 1.6471\n"
     ]
    },
    {
     "name": "stderr",
     "output_type": "stream",
     "text": [
      " 20%|██        | 2/10 [01:14<04:57, 37.15s/it]"
     ]
    },
    {
     "name": "stdout",
     "output_type": "stream",
     "text": [
      "Train Loss: 1.0221 | Valid Loss: 1.1893\n"
     ]
    },
    {
     "name": "stderr",
     "output_type": "stream",
     "text": [
      " 30%|███       | 3/10 [01:51<04:20, 37.18s/it]"
     ]
    },
    {
     "name": "stdout",
     "output_type": "stream",
     "text": [
      "Train Loss: 0.7630 | Valid Loss: 0.9980\n"
     ]
    },
    {
     "name": "stderr",
     "output_type": "stream",
     "text": [
      " 40%|████      | 4/10 [02:28<03:42, 37.14s/it]"
     ]
    },
    {
     "name": "stdout",
     "output_type": "stream",
     "text": [
      "Train Loss: 0.6477 | Valid Loss: 0.9659\n"
     ]
    },
    {
     "name": "stderr",
     "output_type": "stream",
     "text": [
      " 50%|█████     | 5/10 [03:05<03:05, 37.14s/it]"
     ]
    },
    {
     "name": "stdout",
     "output_type": "stream",
     "text": [
      "Train Loss: 0.5739 | Valid Loss: 0.9394\n"
     ]
    },
    {
     "name": "stderr",
     "output_type": "stream",
     "text": [
      " 60%|██████    | 6/10 [03:42<02:28, 37.08s/it]"
     ]
    },
    {
     "name": "stdout",
     "output_type": "stream",
     "text": [
      "Train Loss: 0.5258 | Valid Loss: 0.9155\n"
     ]
    },
    {
     "name": "stderr",
     "output_type": "stream",
     "text": [
      " 70%|███████   | 7/10 [04:19<01:51, 37.10s/it]"
     ]
    },
    {
     "name": "stdout",
     "output_type": "stream",
     "text": [
      "Train Loss: 0.4911 | Valid Loss: 0.8705\n"
     ]
    },
    {
     "name": "stderr",
     "output_type": "stream",
     "text": [
      " 80%|████████  | 8/10 [04:57<01:14, 37.23s/it]"
     ]
    },
    {
     "name": "stdout",
     "output_type": "stream",
     "text": [
      "Train Loss: 0.4628 | Valid Loss: 0.8820\n"
     ]
    },
    {
     "name": "stderr",
     "output_type": "stream",
     "text": [
      " 90%|█████████ | 9/10 [05:34<00:37, 37.28s/it]"
     ]
    },
    {
     "name": "stdout",
     "output_type": "stream",
     "text": [
      "Train Loss: 0.4408 | Valid Loss: 0.8599\n"
     ]
    },
    {
     "name": "stderr",
     "output_type": "stream",
     "text": [
      "100%|██████████| 10/10 [06:12<00:00, 37.21s/it]"
     ]
    },
    {
     "name": "stdout",
     "output_type": "stream",
     "text": [
      "Train Loss: 0.4171 | Valid Loss: 0.8565\n"
     ]
    },
    {
     "name": "stderr",
     "output_type": "stream",
     "text": [
      "\n"
     ]
    },
    {
     "name": "stdout",
     "output_type": "stream",
     "text": [
      "\n",
      "Validation Accuracy: 0.3077\n"
     ]
    },
    {
     "data": {
      "text/html": [],
      "text/plain": [
       "<IPython.core.display.HTML object>"
      ]
     },
     "metadata": {},
     "output_type": "display_data"
    },
    {
     "data": {
      "text/html": [
       "<br>    <style><br>        .wandb-row {<br>            display: flex;<br>            flex-direction: row;<br>            flex-wrap: wrap;<br>            justify-content: flex-start;<br>            width: 100%;<br>        }<br>        .wandb-col {<br>            display: flex;<br>            flex-direction: column;<br>            flex-basis: 100%;<br>            flex: 1;<br>            padding: 10px;<br>        }<br>    </style><br><div class=\"wandb-row\"><div class=\"wandb-col\"><h3>Run history:</h3><br/><table class=\"wandb\"><tr><td>epoch</td><td>▁▂▃▃▄▅▆▆▇█</td></tr><tr><td>train_loss</td><td>█▄▃▂▂▂▁▁▁▁</td></tr><tr><td>val_accuracy</td><td>▁</td></tr><tr><td>validation_loss</td><td>█▄▂▂▂▂▁▁▁▁</td></tr></table><br/></div><div class=\"wandb-col\"><h3>Run summary:</h3><br/><table class=\"wandb\"><tr><td>epoch</td><td>9</td></tr><tr><td>train_loss</td><td>0.41709</td></tr><tr><td>val_accuracy</td><td>0.30771</td></tr><tr><td>validation_loss</td><td>0.85646</td></tr></table><br/></div></div>"
      ],
      "text/plain": [
       "<IPython.core.display.HTML object>"
      ]
     },
     "metadata": {},
     "output_type": "display_data"
    },
    {
     "data": {
      "text/html": [
       " View run <strong style=\"color:#cdcd00\">embedding_size_32_num_layers_3_hidden_size_128                           _cell_type_GRU_dp_0.2_lr_0.0005_batch_32</strong> at: <a href='https://wandb.ai/cs24m022-iit-madras-foundation/cs24m022_DA6401_Assignment3/runs/fmwwbqjg' target=\"_blank\">https://wandb.ai/cs24m022-iit-madras-foundation/cs24m022_DA6401_Assignment3/runs/fmwwbqjg</a><br> View project at: <a href='https://wandb.ai/cs24m022-iit-madras-foundation/cs24m022_DA6401_Assignment3' target=\"_blank\">https://wandb.ai/cs24m022-iit-madras-foundation/cs24m022_DA6401_Assignment3</a><br>Synced 5 W&B file(s), 0 media file(s), 0 artifact file(s) and 0 other file(s)"
      ],
      "text/plain": [
       "<IPython.core.display.HTML object>"
      ]
     },
     "metadata": {},
     "output_type": "display_data"
    },
    {
     "data": {
      "text/html": [
       "Find logs at: <code>./wandb/run-20250520_112929-fmwwbqjg/logs</code>"
      ],
      "text/plain": [
       "<IPython.core.display.HTML object>"
      ]
     },
     "metadata": {},
     "output_type": "display_data"
    },
    {
     "name": "stderr",
     "output_type": "stream",
     "text": [
      "\u001b[34m\u001b[1mwandb\u001b[0m: Agent Starting Run: 07i1221b with config:\n",
      "\u001b[34m\u001b[1mwandb\u001b[0m: \tbatch_size: 32\n",
      "\u001b[34m\u001b[1mwandb\u001b[0m: \tcell_type: GRU\n",
      "\u001b[34m\u001b[1mwandb\u001b[0m: \tdropout: 0.2\n",
      "\u001b[34m\u001b[1mwandb\u001b[0m: \tembedding_size: 16\n",
      "\u001b[34m\u001b[1mwandb\u001b[0m: \thidden_size: 512\n",
      "\u001b[34m\u001b[1mwandb\u001b[0m: \tlearning_rate: 0.0005\n",
      "\u001b[34m\u001b[1mwandb\u001b[0m: \tnum_layers: 3\n"
     ]
    },
    {
     "data": {
      "text/html": [
       "Tracking run with wandb version 0.19.9"
      ],
      "text/plain": [
       "<IPython.core.display.HTML object>"
      ]
     },
     "metadata": {},
     "output_type": "display_data"
    },
    {
     "data": {
      "text/html": [
       "Run data is saved locally in <code>/kaggle/working/wandb/run-20250520_113616-07i1221b</code>"
      ],
      "text/plain": [
       "<IPython.core.display.HTML object>"
      ]
     },
     "metadata": {},
     "output_type": "display_data"
    },
    {
     "data": {
      "text/html": [
       "Syncing run <strong><a href='https://wandb.ai/cs24m022-iit-madras-foundation/cs24m022_DA6401_Assignment3/runs/07i1221b' target=\"_blank\">warm-sweep-17</a></strong> to <a href='https://wandb.ai/cs24m022-iit-madras-foundation/cs24m022_DA6401_Assignment3' target=\"_blank\">Weights & Biases</a> (<a href='https://wandb.me/developer-guide' target=\"_blank\">docs</a>)<br>Sweep page: <a href='https://wandb.ai/cs24m022-iit-madras-foundation/cs24m022_DA6401_Assignment3/sweeps/rxo139kw' target=\"_blank\">https://wandb.ai/cs24m022-iit-madras-foundation/cs24m022_DA6401_Assignment3/sweeps/rxo139kw</a>"
      ],
      "text/plain": [
       "<IPython.core.display.HTML object>"
      ]
     },
     "metadata": {},
     "output_type": "display_data"
    },
    {
     "data": {
      "text/html": [
       " View project at <a href='https://wandb.ai/cs24m022-iit-madras-foundation/cs24m022_DA6401_Assignment3' target=\"_blank\">https://wandb.ai/cs24m022-iit-madras-foundation/cs24m022_DA6401_Assignment3</a>"
      ],
      "text/plain": [
       "<IPython.core.display.HTML object>"
      ]
     },
     "metadata": {},
     "output_type": "display_data"
    },
    {
     "data": {
      "text/html": [
       " View sweep at <a href='https://wandb.ai/cs24m022-iit-madras-foundation/cs24m022_DA6401_Assignment3/sweeps/rxo139kw' target=\"_blank\">https://wandb.ai/cs24m022-iit-madras-foundation/cs24m022_DA6401_Assignment3/sweeps/rxo139kw</a>"
      ],
      "text/plain": [
       "<IPython.core.display.HTML object>"
      ]
     },
     "metadata": {},
     "output_type": "display_data"
    },
    {
     "data": {
      "text/html": [
       " View run at <a href='https://wandb.ai/cs24m022-iit-madras-foundation/cs24m022_DA6401_Assignment3/runs/07i1221b' target=\"_blank\">https://wandb.ai/cs24m022-iit-madras-foundation/cs24m022_DA6401_Assignment3/runs/07i1221b</a>"
      ],
      "text/plain": [
       "<IPython.core.display.HTML object>"
      ]
     },
     "metadata": {},
     "output_type": "display_data"
    },
    {
     "name": "stderr",
     "output_type": "stream",
     "text": [
      " 10%|█         | 1/10 [00:42<06:22, 42.49s/it]"
     ]
    },
    {
     "name": "stdout",
     "output_type": "stream",
     "text": [
      "Train Loss: 1.2520 | Valid Loss: 0.9785\n"
     ]
    },
    {
     "name": "stderr",
     "output_type": "stream",
     "text": [
      " 20%|██        | 2/10 [01:24<05:39, 42.44s/it]"
     ]
    },
    {
     "name": "stdout",
     "output_type": "stream",
     "text": [
      "Train Loss: 0.5860 | Valid Loss: 0.8520\n"
     ]
    },
    {
     "name": "stderr",
     "output_type": "stream",
     "text": [
      " 30%|███       | 3/10 [02:07<04:57, 42.52s/it]"
     ]
    },
    {
     "name": "stdout",
     "output_type": "stream",
     "text": [
      "Train Loss: 0.4438 | Valid Loss: 0.8401\n"
     ]
    },
    {
     "name": "stderr",
     "output_type": "stream",
     "text": [
      " 40%|████      | 4/10 [02:50<04:15, 42.60s/it]"
     ]
    },
    {
     "name": "stdout",
     "output_type": "stream",
     "text": [
      "Train Loss: 0.3678 | Valid Loss: 0.8528\n"
     ]
    },
    {
     "name": "stderr",
     "output_type": "stream",
     "text": [
      " 50%|█████     | 5/10 [03:32<03:32, 42.49s/it]"
     ]
    },
    {
     "name": "stdout",
     "output_type": "stream",
     "text": [
      "Train Loss: 0.3115 | Valid Loss: 0.8638\n"
     ]
    },
    {
     "name": "stderr",
     "output_type": "stream",
     "text": [
      " 60%|██████    | 6/10 [04:15<02:50, 42.54s/it]"
     ]
    },
    {
     "name": "stdout",
     "output_type": "stream",
     "text": [
      "Train Loss: 0.2705 | Valid Loss: 0.8510\n"
     ]
    },
    {
     "name": "stderr",
     "output_type": "stream",
     "text": [
      " 70%|███████   | 7/10 [04:57<02:07, 42.55s/it]"
     ]
    },
    {
     "name": "stdout",
     "output_type": "stream",
     "text": [
      "Train Loss: 0.2403 | Valid Loss: 0.8652\n"
     ]
    },
    {
     "name": "stderr",
     "output_type": "stream",
     "text": [
      " 80%|████████  | 8/10 [05:40<01:25, 42.54s/it]"
     ]
    },
    {
     "name": "stdout",
     "output_type": "stream",
     "text": [
      "Train Loss: 0.2133 | Valid Loss: 0.8968\n"
     ]
    },
    {
     "name": "stderr",
     "output_type": "stream",
     "text": [
      " 90%|█████████ | 9/10 [06:22<00:42, 42.55s/it]"
     ]
    },
    {
     "name": "stdout",
     "output_type": "stream",
     "text": [
      "Train Loss: 0.1943 | Valid Loss: 0.9083\n"
     ]
    },
    {
     "name": "stderr",
     "output_type": "stream",
     "text": [
      "100%|██████████| 10/10 [07:05<00:00, 42.53s/it]"
     ]
    },
    {
     "name": "stdout",
     "output_type": "stream",
     "text": [
      "Train Loss: 0.1722 | Valid Loss: 0.9781\n"
     ]
    },
    {
     "name": "stderr",
     "output_type": "stream",
     "text": [
      "\n"
     ]
    },
    {
     "name": "stdout",
     "output_type": "stream",
     "text": [
      "\n",
      "Validation Accuracy: 0.3772\n"
     ]
    },
    {
     "data": {
      "text/html": [],
      "text/plain": [
       "<IPython.core.display.HTML object>"
      ]
     },
     "metadata": {},
     "output_type": "display_data"
    },
    {
     "data": {
      "text/html": [
       "<br>    <style><br>        .wandb-row {<br>            display: flex;<br>            flex-direction: row;<br>            flex-wrap: wrap;<br>            justify-content: flex-start;<br>            width: 100%;<br>        }<br>        .wandb-col {<br>            display: flex;<br>            flex-direction: column;<br>            flex-basis: 100%;<br>            flex: 1;<br>            padding: 10px;<br>        }<br>    </style><br><div class=\"wandb-row\"><div class=\"wandb-col\"><h3>Run history:</h3><br/><table class=\"wandb\"><tr><td>epoch</td><td>▁▂▃▃▄▅▆▆▇█</td></tr><tr><td>train_loss</td><td>█▄▃▂▂▂▁▁▁▁</td></tr><tr><td>val_accuracy</td><td>▁</td></tr><tr><td>validation_loss</td><td>█▂▁▂▂▂▂▄▄█</td></tr></table><br/></div><div class=\"wandb-col\"><h3>Run summary:</h3><br/><table class=\"wandb\"><tr><td>epoch</td><td>9</td></tr><tr><td>train_loss</td><td>0.17224</td></tr><tr><td>val_accuracy</td><td>0.37724</td></tr><tr><td>validation_loss</td><td>0.97811</td></tr></table><br/></div></div>"
      ],
      "text/plain": [
       "<IPython.core.display.HTML object>"
      ]
     },
     "metadata": {},
     "output_type": "display_data"
    },
    {
     "data": {
      "text/html": [
       " View run <strong style=\"color:#cdcd00\">embedding_size_16_num_layers_3_hidden_size_512                           _cell_type_GRU_dp_0.2_lr_0.0005_batch_32</strong> at: <a href='https://wandb.ai/cs24m022-iit-madras-foundation/cs24m022_DA6401_Assignment3/runs/07i1221b' target=\"_blank\">https://wandb.ai/cs24m022-iit-madras-foundation/cs24m022_DA6401_Assignment3/runs/07i1221b</a><br> View project at: <a href='https://wandb.ai/cs24m022-iit-madras-foundation/cs24m022_DA6401_Assignment3' target=\"_blank\">https://wandb.ai/cs24m022-iit-madras-foundation/cs24m022_DA6401_Assignment3</a><br>Synced 5 W&B file(s), 0 media file(s), 0 artifact file(s) and 0 other file(s)"
      ],
      "text/plain": [
       "<IPython.core.display.HTML object>"
      ]
     },
     "metadata": {},
     "output_type": "display_data"
    },
    {
     "data": {
      "text/html": [
       "Find logs at: <code>./wandb/run-20250520_113616-07i1221b/logs</code>"
      ],
      "text/plain": [
       "<IPython.core.display.HTML object>"
      ]
     },
     "metadata": {},
     "output_type": "display_data"
    },
    {
     "name": "stderr",
     "output_type": "stream",
     "text": [
      "\u001b[34m\u001b[1mwandb\u001b[0m: Agent Starting Run: ufqz9jj1 with config:\n",
      "\u001b[34m\u001b[1mwandb\u001b[0m: \tbatch_size: 64\n",
      "\u001b[34m\u001b[1mwandb\u001b[0m: \tcell_type: GRU\n",
      "\u001b[34m\u001b[1mwandb\u001b[0m: \tdropout: 0.2\n",
      "\u001b[34m\u001b[1mwandb\u001b[0m: \tembedding_size: 32\n",
      "\u001b[34m\u001b[1mwandb\u001b[0m: \thidden_size: 512\n",
      "\u001b[34m\u001b[1mwandb\u001b[0m: \tlearning_rate: 0.0005\n",
      "\u001b[34m\u001b[1mwandb\u001b[0m: \tnum_layers: 3\n"
     ]
    },
    {
     "data": {
      "text/html": [
       "Tracking run with wandb version 0.19.9"
      ],
      "text/plain": [
       "<IPython.core.display.HTML object>"
      ]
     },
     "metadata": {},
     "output_type": "display_data"
    },
    {
     "data": {
      "text/html": [
       "Run data is saved locally in <code>/kaggle/working/wandb/run-20250520_114401-ufqz9jj1</code>"
      ],
      "text/plain": [
       "<IPython.core.display.HTML object>"
      ]
     },
     "metadata": {},
     "output_type": "display_data"
    },
    {
     "data": {
      "text/html": [
       "Syncing run <strong><a href='https://wandb.ai/cs24m022-iit-madras-foundation/cs24m022_DA6401_Assignment3/runs/ufqz9jj1' target=\"_blank\">vocal-sweep-18</a></strong> to <a href='https://wandb.ai/cs24m022-iit-madras-foundation/cs24m022_DA6401_Assignment3' target=\"_blank\">Weights & Biases</a> (<a href='https://wandb.me/developer-guide' target=\"_blank\">docs</a>)<br>Sweep page: <a href='https://wandb.ai/cs24m022-iit-madras-foundation/cs24m022_DA6401_Assignment3/sweeps/rxo139kw' target=\"_blank\">https://wandb.ai/cs24m022-iit-madras-foundation/cs24m022_DA6401_Assignment3/sweeps/rxo139kw</a>"
      ],
      "text/plain": [
       "<IPython.core.display.HTML object>"
      ]
     },
     "metadata": {},
     "output_type": "display_data"
    },
    {
     "data": {
      "text/html": [
       " View project at <a href='https://wandb.ai/cs24m022-iit-madras-foundation/cs24m022_DA6401_Assignment3' target=\"_blank\">https://wandb.ai/cs24m022-iit-madras-foundation/cs24m022_DA6401_Assignment3</a>"
      ],
      "text/plain": [
       "<IPython.core.display.HTML object>"
      ]
     },
     "metadata": {},
     "output_type": "display_data"
    },
    {
     "data": {
      "text/html": [
       " View sweep at <a href='https://wandb.ai/cs24m022-iit-madras-foundation/cs24m022_DA6401_Assignment3/sweeps/rxo139kw' target=\"_blank\">https://wandb.ai/cs24m022-iit-madras-foundation/cs24m022_DA6401_Assignment3/sweeps/rxo139kw</a>"
      ],
      "text/plain": [
       "<IPython.core.display.HTML object>"
      ]
     },
     "metadata": {},
     "output_type": "display_data"
    },
    {
     "data": {
      "text/html": [
       " View run at <a href='https://wandb.ai/cs24m022-iit-madras-foundation/cs24m022_DA6401_Assignment3/runs/ufqz9jj1' target=\"_blank\">https://wandb.ai/cs24m022-iit-madras-foundation/cs24m022_DA6401_Assignment3/runs/ufqz9jj1</a>"
      ],
      "text/plain": [
       "<IPython.core.display.HTML object>"
      ]
     },
     "metadata": {},
     "output_type": "display_data"
    },
    {
     "name": "stderr",
     "output_type": "stream",
     "text": [
      " 10%|█         | 1/10 [00:24<03:44, 24.95s/it]"
     ]
    },
    {
     "name": "stdout",
     "output_type": "stream",
     "text": [
      "Train Loss: 1.3209 | Valid Loss: 1.0268\n"
     ]
    },
    {
     "name": "stderr",
     "output_type": "stream",
     "text": [
      " 20%|██        | 2/10 [00:50<03:20, 25.03s/it]"
     ]
    },
    {
     "name": "stdout",
     "output_type": "stream",
     "text": [
      "Train Loss: 0.5880 | Valid Loss: 0.8508\n"
     ]
    },
    {
     "name": "stderr",
     "output_type": "stream",
     "text": [
      " 30%|███       | 3/10 [01:14<02:53, 24.74s/it]"
     ]
    },
    {
     "name": "stdout",
     "output_type": "stream",
     "text": [
      "Train Loss: 0.4295 | Valid Loss: 0.7877\n"
     ]
    },
    {
     "name": "stderr",
     "output_type": "stream",
     "text": [
      " 40%|████      | 4/10 [01:38<02:27, 24.66s/it]"
     ]
    },
    {
     "name": "stdout",
     "output_type": "stream",
     "text": [
      "Train Loss: 0.3478 | Valid Loss: 0.7615\n"
     ]
    },
    {
     "name": "stderr",
     "output_type": "stream",
     "text": [
      " 50%|█████     | 5/10 [02:03<02:02, 24.52s/it]"
     ]
    },
    {
     "name": "stdout",
     "output_type": "stream",
     "text": [
      "Train Loss: 0.2887 | Valid Loss: 0.7587\n"
     ]
    },
    {
     "name": "stderr",
     "output_type": "stream",
     "text": [
      " 60%|██████    | 6/10 [02:27<01:37, 24.47s/it]"
     ]
    },
    {
     "name": "stdout",
     "output_type": "stream",
     "text": [
      "Train Loss: 0.2498 | Valid Loss: 0.7582\n"
     ]
    },
    {
     "name": "stderr",
     "output_type": "stream",
     "text": [
      " 70%|███████   | 7/10 [02:52<01:13, 24.47s/it]"
     ]
    },
    {
     "name": "stdout",
     "output_type": "stream",
     "text": [
      "Train Loss: 0.2134 | Valid Loss: 0.8162\n"
     ]
    },
    {
     "name": "stderr",
     "output_type": "stream",
     "text": [
      " 80%|████████  | 8/10 [03:16<00:49, 24.53s/it]"
     ]
    },
    {
     "name": "stdout",
     "output_type": "stream",
     "text": [
      "Train Loss: 0.1870 | Valid Loss: 0.8207\n"
     ]
    },
    {
     "name": "stderr",
     "output_type": "stream",
     "text": [
      " 90%|█████████ | 9/10 [03:41<00:24, 24.53s/it]"
     ]
    },
    {
     "name": "stdout",
     "output_type": "stream",
     "text": [
      "Train Loss: 0.1647 | Valid Loss: 0.8262\n"
     ]
    },
    {
     "name": "stderr",
     "output_type": "stream",
     "text": [
      "100%|██████████| 10/10 [04:05<00:00, 24.55s/it]"
     ]
    },
    {
     "name": "stdout",
     "output_type": "stream",
     "text": [
      "Train Loss: 0.1484 | Valid Loss: 0.8597\n"
     ]
    },
    {
     "name": "stderr",
     "output_type": "stream",
     "text": [
      "\n"
     ]
    },
    {
     "name": "stdout",
     "output_type": "stream",
     "text": [
      "\n",
      "Validation Accuracy: 0.3784\n"
     ]
    },
    {
     "data": {
      "text/html": [],
      "text/plain": [
       "<IPython.core.display.HTML object>"
      ]
     },
     "metadata": {},
     "output_type": "display_data"
    },
    {
     "data": {
      "text/html": [
       "<br>    <style><br>        .wandb-row {<br>            display: flex;<br>            flex-direction: row;<br>            flex-wrap: wrap;<br>            justify-content: flex-start;<br>            width: 100%;<br>        }<br>        .wandb-col {<br>            display: flex;<br>            flex-direction: column;<br>            flex-basis: 100%;<br>            flex: 1;<br>            padding: 10px;<br>        }<br>    </style><br><div class=\"wandb-row\"><div class=\"wandb-col\"><h3>Run history:</h3><br/><table class=\"wandb\"><tr><td>epoch</td><td>▁▂▃▃▄▅▆▆▇█</td></tr><tr><td>train_loss</td><td>█▄▃▂▂▂▁▁▁▁</td></tr><tr><td>val_accuracy</td><td>▁</td></tr><tr><td>validation_loss</td><td>█▃▂▁▁▁▃▃▃▄</td></tr></table><br/></div><div class=\"wandb-col\"><h3>Run summary:</h3><br/><table class=\"wandb\"><tr><td>epoch</td><td>9</td></tr><tr><td>train_loss</td><td>0.14843</td></tr><tr><td>val_accuracy</td><td>0.37838</td></tr><tr><td>validation_loss</td><td>0.85974</td></tr></table><br/></div></div>"
      ],
      "text/plain": [
       "<IPython.core.display.HTML object>"
      ]
     },
     "metadata": {},
     "output_type": "display_data"
    },
    {
     "data": {
      "text/html": [
       " View run <strong style=\"color:#cdcd00\">embedding_size_32_num_layers_3_hidden_size_512                           _cell_type_GRU_dp_0.2_lr_0.0005_batch_64</strong> at: <a href='https://wandb.ai/cs24m022-iit-madras-foundation/cs24m022_DA6401_Assignment3/runs/ufqz9jj1' target=\"_blank\">https://wandb.ai/cs24m022-iit-madras-foundation/cs24m022_DA6401_Assignment3/runs/ufqz9jj1</a><br> View project at: <a href='https://wandb.ai/cs24m022-iit-madras-foundation/cs24m022_DA6401_Assignment3' target=\"_blank\">https://wandb.ai/cs24m022-iit-madras-foundation/cs24m022_DA6401_Assignment3</a><br>Synced 5 W&B file(s), 0 media file(s), 0 artifact file(s) and 0 other file(s)"
      ],
      "text/plain": [
       "<IPython.core.display.HTML object>"
      ]
     },
     "metadata": {},
     "output_type": "display_data"
    },
    {
     "data": {
      "text/html": [
       "Find logs at: <code>./wandb/run-20250520_114401-ufqz9jj1/logs</code>"
      ],
      "text/plain": [
       "<IPython.core.display.HTML object>"
      ]
     },
     "metadata": {},
     "output_type": "display_data"
    },
    {
     "name": "stderr",
     "output_type": "stream",
     "text": [
      "\u001b[34m\u001b[1mwandb\u001b[0m: Agent Starting Run: g115nymo with config:\n",
      "\u001b[34m\u001b[1mwandb\u001b[0m: \tbatch_size: 32\n",
      "\u001b[34m\u001b[1mwandb\u001b[0m: \tcell_type: GRU\n",
      "\u001b[34m\u001b[1mwandb\u001b[0m: \tdropout: 0.2\n",
      "\u001b[34m\u001b[1mwandb\u001b[0m: \tembedding_size: 16\n",
      "\u001b[34m\u001b[1mwandb\u001b[0m: \thidden_size: 512\n",
      "\u001b[34m\u001b[1mwandb\u001b[0m: \tlearning_rate: 0.0005\n",
      "\u001b[34m\u001b[1mwandb\u001b[0m: \tnum_layers: 3\n"
     ]
    },
    {
     "data": {
      "text/html": [
       "Tracking run with wandb version 0.19.9"
      ],
      "text/plain": [
       "<IPython.core.display.HTML object>"
      ]
     },
     "metadata": {},
     "output_type": "display_data"
    },
    {
     "data": {
      "text/html": [
       "Run data is saved locally in <code>/kaggle/working/wandb/run-20250520_114845-g115nymo</code>"
      ],
      "text/plain": [
       "<IPython.core.display.HTML object>"
      ]
     },
     "metadata": {},
     "output_type": "display_data"
    },
    {
     "data": {
      "text/html": [
       "Syncing run <strong><a href='https://wandb.ai/cs24m022-iit-madras-foundation/cs24m022_DA6401_Assignment3/runs/g115nymo' target=\"_blank\">fallen-sweep-19</a></strong> to <a href='https://wandb.ai/cs24m022-iit-madras-foundation/cs24m022_DA6401_Assignment3' target=\"_blank\">Weights & Biases</a> (<a href='https://wandb.me/developer-guide' target=\"_blank\">docs</a>)<br>Sweep page: <a href='https://wandb.ai/cs24m022-iit-madras-foundation/cs24m022_DA6401_Assignment3/sweeps/rxo139kw' target=\"_blank\">https://wandb.ai/cs24m022-iit-madras-foundation/cs24m022_DA6401_Assignment3/sweeps/rxo139kw</a>"
      ],
      "text/plain": [
       "<IPython.core.display.HTML object>"
      ]
     },
     "metadata": {},
     "output_type": "display_data"
    },
    {
     "data": {
      "text/html": [
       " View project at <a href='https://wandb.ai/cs24m022-iit-madras-foundation/cs24m022_DA6401_Assignment3' target=\"_blank\">https://wandb.ai/cs24m022-iit-madras-foundation/cs24m022_DA6401_Assignment3</a>"
      ],
      "text/plain": [
       "<IPython.core.display.HTML object>"
      ]
     },
     "metadata": {},
     "output_type": "display_data"
    },
    {
     "data": {
      "text/html": [
       " View sweep at <a href='https://wandb.ai/cs24m022-iit-madras-foundation/cs24m022_DA6401_Assignment3/sweeps/rxo139kw' target=\"_blank\">https://wandb.ai/cs24m022-iit-madras-foundation/cs24m022_DA6401_Assignment3/sweeps/rxo139kw</a>"
      ],
      "text/plain": [
       "<IPython.core.display.HTML object>"
      ]
     },
     "metadata": {},
     "output_type": "display_data"
    },
    {
     "data": {
      "text/html": [
       " View run at <a href='https://wandb.ai/cs24m022-iit-madras-foundation/cs24m022_DA6401_Assignment3/runs/g115nymo' target=\"_blank\">https://wandb.ai/cs24m022-iit-madras-foundation/cs24m022_DA6401_Assignment3/runs/g115nymo</a>"
      ],
      "text/plain": [
       "<IPython.core.display.HTML object>"
      ]
     },
     "metadata": {},
     "output_type": "display_data"
    },
    {
     "name": "stderr",
     "output_type": "stream",
     "text": [
      " 10%|█         | 1/10 [00:43<06:27, 43.03s/it]"
     ]
    },
    {
     "name": "stdout",
     "output_type": "stream",
     "text": [
      "Train Loss: 1.2979 | Valid Loss: 1.0188\n"
     ]
    },
    {
     "name": "stderr",
     "output_type": "stream",
     "text": [
      " 20%|██        | 2/10 [01:31<06:08, 46.10s/it]"
     ]
    },
    {
     "name": "stdout",
     "output_type": "stream",
     "text": [
      "Train Loss: 0.6049 | Valid Loss: 0.9151\n"
     ]
    },
    {
     "name": "stderr",
     "output_type": "stream",
     "text": [
      " 30%|███       | 3/10 [02:18<05:26, 46.62s/it]"
     ]
    },
    {
     "name": "stdout",
     "output_type": "stream",
     "text": [
      "Train Loss: 0.4562 | Valid Loss: 0.8513\n"
     ]
    },
    {
     "name": "stderr",
     "output_type": "stream",
     "text": [
      " 40%|████      | 4/10 [03:01<04:30, 45.02s/it]"
     ]
    },
    {
     "name": "stdout",
     "output_type": "stream",
     "text": [
      "Train Loss: 0.3754 | Valid Loss: 0.8472\n"
     ]
    },
    {
     "name": "stderr",
     "output_type": "stream",
     "text": [
      " 50%|█████     | 5/10 [03:43<03:39, 43.97s/it]"
     ]
    },
    {
     "name": "stdout",
     "output_type": "stream",
     "text": [
      "Train Loss: 0.3212 | Valid Loss: 0.8852\n"
     ]
    },
    {
     "name": "stderr",
     "output_type": "stream",
     "text": [
      " 60%|██████    | 6/10 [04:25<02:53, 43.45s/it]"
     ]
    },
    {
     "name": "stdout",
     "output_type": "stream",
     "text": [
      "Train Loss: 0.2770 | Valid Loss: 0.8479\n"
     ]
    },
    {
     "name": "stderr",
     "output_type": "stream",
     "text": [
      " 70%|███████   | 7/10 [05:07<02:09, 43.02s/it]"
     ]
    },
    {
     "name": "stdout",
     "output_type": "stream",
     "text": [
      "Train Loss: 0.2466 | Valid Loss: 0.8676\n"
     ]
    },
    {
     "name": "stderr",
     "output_type": "stream",
     "text": [
      " 80%|████████  | 8/10 [05:51<01:26, 43.29s/it]"
     ]
    },
    {
     "name": "stdout",
     "output_type": "stream",
     "text": [
      "Train Loss: 0.2202 | Valid Loss: 0.8726\n"
     ]
    },
    {
     "name": "stderr",
     "output_type": "stream",
     "text": [
      " 90%|█████████ | 9/10 [06:34<00:43, 43.26s/it]"
     ]
    },
    {
     "name": "stdout",
     "output_type": "stream",
     "text": [
      "Train Loss: 0.1994 | Valid Loss: 0.8844\n"
     ]
    },
    {
     "name": "stderr",
     "output_type": "stream",
     "text": [
      "100%|██████████| 10/10 [07:17<00:00, 43.79s/it]"
     ]
    },
    {
     "name": "stdout",
     "output_type": "stream",
     "text": [
      "Train Loss: 0.1822 | Valid Loss: 0.9551\n"
     ]
    },
    {
     "name": "stderr",
     "output_type": "stream",
     "text": [
      "\n"
     ]
    },
    {
     "name": "stdout",
     "output_type": "stream",
     "text": [
      "\n",
      "Validation Accuracy: 0.3598\n"
     ]
    },
    {
     "data": {
      "text/html": [],
      "text/plain": [
       "<IPython.core.display.HTML object>"
      ]
     },
     "metadata": {},
     "output_type": "display_data"
    },
    {
     "data": {
      "text/html": [
       "<br>    <style><br>        .wandb-row {<br>            display: flex;<br>            flex-direction: row;<br>            flex-wrap: wrap;<br>            justify-content: flex-start;<br>            width: 100%;<br>        }<br>        .wandb-col {<br>            display: flex;<br>            flex-direction: column;<br>            flex-basis: 100%;<br>            flex: 1;<br>            padding: 10px;<br>        }<br>    </style><br><div class=\"wandb-row\"><div class=\"wandb-col\"><h3>Run history:</h3><br/><table class=\"wandb\"><tr><td>epoch</td><td>▁▂▃▃▄▅▆▆▇█</td></tr><tr><td>train_loss</td><td>█▄▃▂▂▂▁▁▁▁</td></tr><tr><td>val_accuracy</td><td>▁</td></tr><tr><td>validation_loss</td><td>█▄▁▁▃▁▂▂▃▅</td></tr></table><br/></div><div class=\"wandb-col\"><h3>Run summary:</h3><br/><table class=\"wandb\"><tr><td>epoch</td><td>9</td></tr><tr><td>train_loss</td><td>0.18217</td></tr><tr><td>val_accuracy</td><td>0.3598</td></tr><tr><td>validation_loss</td><td>0.95506</td></tr></table><br/></div></div>"
      ],
      "text/plain": [
       "<IPython.core.display.HTML object>"
      ]
     },
     "metadata": {},
     "output_type": "display_data"
    },
    {
     "data": {
      "text/html": [
       " View run <strong style=\"color:#cdcd00\">embedding_size_16_num_layers_3_hidden_size_512                           _cell_type_GRU_dp_0.2_lr_0.0005_batch_32</strong> at: <a href='https://wandb.ai/cs24m022-iit-madras-foundation/cs24m022_DA6401_Assignment3/runs/g115nymo' target=\"_blank\">https://wandb.ai/cs24m022-iit-madras-foundation/cs24m022_DA6401_Assignment3/runs/g115nymo</a><br> View project at: <a href='https://wandb.ai/cs24m022-iit-madras-foundation/cs24m022_DA6401_Assignment3' target=\"_blank\">https://wandb.ai/cs24m022-iit-madras-foundation/cs24m022_DA6401_Assignment3</a><br>Synced 5 W&B file(s), 0 media file(s), 0 artifact file(s) and 0 other file(s)"
      ],
      "text/plain": [
       "<IPython.core.display.HTML object>"
      ]
     },
     "metadata": {},
     "output_type": "display_data"
    },
    {
     "data": {
      "text/html": [
       "Find logs at: <code>./wandb/run-20250520_114845-g115nymo/logs</code>"
      ],
      "text/plain": [
       "<IPython.core.display.HTML object>"
      ]
     },
     "metadata": {},
     "output_type": "display_data"
    },
    {
     "name": "stderr",
     "output_type": "stream",
     "text": [
      "\u001b[34m\u001b[1mwandb\u001b[0m: Agent Starting Run: wjund09f with config:\n",
      "\u001b[34m\u001b[1mwandb\u001b[0m: \tbatch_size: 64\n",
      "\u001b[34m\u001b[1mwandb\u001b[0m: \tcell_type: GRU\n",
      "\u001b[34m\u001b[1mwandb\u001b[0m: \tdropout: 0.2\n",
      "\u001b[34m\u001b[1mwandb\u001b[0m: \tembedding_size: 256\n",
      "\u001b[34m\u001b[1mwandb\u001b[0m: \thidden_size: 512\n",
      "\u001b[34m\u001b[1mwandb\u001b[0m: \tlearning_rate: 0.0005\n",
      "\u001b[34m\u001b[1mwandb\u001b[0m: \tnum_layers: 3\n"
     ]
    },
    {
     "data": {
      "text/html": [
       "Tracking run with wandb version 0.19.9"
      ],
      "text/plain": [
       "<IPython.core.display.HTML object>"
      ]
     },
     "metadata": {},
     "output_type": "display_data"
    },
    {
     "data": {
      "text/html": [
       "Run data is saved locally in <code>/kaggle/working/wandb/run-20250520_115642-wjund09f</code>"
      ],
      "text/plain": [
       "<IPython.core.display.HTML object>"
      ]
     },
     "metadata": {},
     "output_type": "display_data"
    },
    {
     "data": {
      "text/html": [
       "Syncing run <strong><a href='https://wandb.ai/cs24m022-iit-madras-foundation/cs24m022_DA6401_Assignment3/runs/wjund09f' target=\"_blank\">stellar-sweep-20</a></strong> to <a href='https://wandb.ai/cs24m022-iit-madras-foundation/cs24m022_DA6401_Assignment3' target=\"_blank\">Weights & Biases</a> (<a href='https://wandb.me/developer-guide' target=\"_blank\">docs</a>)<br>Sweep page: <a href='https://wandb.ai/cs24m022-iit-madras-foundation/cs24m022_DA6401_Assignment3/sweeps/rxo139kw' target=\"_blank\">https://wandb.ai/cs24m022-iit-madras-foundation/cs24m022_DA6401_Assignment3/sweeps/rxo139kw</a>"
      ],
      "text/plain": [
       "<IPython.core.display.HTML object>"
      ]
     },
     "metadata": {},
     "output_type": "display_data"
    },
    {
     "data": {
      "text/html": [
       " View project at <a href='https://wandb.ai/cs24m022-iit-madras-foundation/cs24m022_DA6401_Assignment3' target=\"_blank\">https://wandb.ai/cs24m022-iit-madras-foundation/cs24m022_DA6401_Assignment3</a>"
      ],
      "text/plain": [
       "<IPython.core.display.HTML object>"
      ]
     },
     "metadata": {},
     "output_type": "display_data"
    },
    {
     "data": {
      "text/html": [
       " View sweep at <a href='https://wandb.ai/cs24m022-iit-madras-foundation/cs24m022_DA6401_Assignment3/sweeps/rxo139kw' target=\"_blank\">https://wandb.ai/cs24m022-iit-madras-foundation/cs24m022_DA6401_Assignment3/sweeps/rxo139kw</a>"
      ],
      "text/plain": [
       "<IPython.core.display.HTML object>"
      ]
     },
     "metadata": {},
     "output_type": "display_data"
    },
    {
     "data": {
      "text/html": [
       " View run at <a href='https://wandb.ai/cs24m022-iit-madras-foundation/cs24m022_DA6401_Assignment3/runs/wjund09f' target=\"_blank\">https://wandb.ai/cs24m022-iit-madras-foundation/cs24m022_DA6401_Assignment3/runs/wjund09f</a>"
      ],
      "text/plain": [
       "<IPython.core.display.HTML object>"
      ]
     },
     "metadata": {},
     "output_type": "display_data"
    },
    {
     "name": "stderr",
     "output_type": "stream",
     "text": [
      " 10%|█         | 1/10 [00:25<03:50, 25.59s/it]"
     ]
    },
    {
     "name": "stdout",
     "output_type": "stream",
     "text": [
      "Train Loss: 1.0082 | Valid Loss: 0.9056\n"
     ]
    },
    {
     "name": "stderr",
     "output_type": "stream",
     "text": [
      " 20%|██        | 2/10 [00:50<03:21, 25.21s/it]"
     ]
    },
    {
     "name": "stdout",
     "output_type": "stream",
     "text": [
      "Train Loss: 0.4439 | Valid Loss: 0.8065\n"
     ]
    },
    {
     "name": "stderr",
     "output_type": "stream",
     "text": [
      " 30%|███       | 3/10 [01:15<02:55, 25.03s/it]"
     ]
    },
    {
     "name": "stdout",
     "output_type": "stream",
     "text": [
      "Train Loss: 0.3376 | Valid Loss: 0.7715\n"
     ]
    },
    {
     "name": "stderr",
     "output_type": "stream",
     "text": [
      " 40%|████      | 4/10 [01:40<02:29, 24.95s/it]"
     ]
    },
    {
     "name": "stdout",
     "output_type": "stream",
     "text": [
      "Train Loss: 0.2729 | Valid Loss: 0.8232\n"
     ]
    },
    {
     "name": "stderr",
     "output_type": "stream",
     "text": [
      " 50%|█████     | 5/10 [02:04<02:03, 24.73s/it]"
     ]
    },
    {
     "name": "stdout",
     "output_type": "stream",
     "text": [
      "Train Loss: 0.2333 | Valid Loss: 0.8228\n"
     ]
    },
    {
     "name": "stderr",
     "output_type": "stream",
     "text": [
      " 60%|██████    | 6/10 [02:29<01:38, 24.71s/it]"
     ]
    },
    {
     "name": "stdout",
     "output_type": "stream",
     "text": [
      "Train Loss: 0.1969 | Valid Loss: 0.8273\n"
     ]
    },
    {
     "name": "stderr",
     "output_type": "stream",
     "text": [
      " 70%|███████   | 7/10 [02:54<01:14, 24.82s/it]"
     ]
    },
    {
     "name": "stdout",
     "output_type": "stream",
     "text": [
      "Train Loss: 0.1634 | Valid Loss: 0.8363\n"
     ]
    },
    {
     "name": "stderr",
     "output_type": "stream",
     "text": [
      " 80%|████████  | 8/10 [03:19<00:49, 24.98s/it]"
     ]
    },
    {
     "name": "stdout",
     "output_type": "stream",
     "text": [
      "Train Loss: 0.1445 | Valid Loss: 0.8665\n"
     ]
    },
    {
     "name": "stderr",
     "output_type": "stream",
     "text": [
      " 90%|█████████ | 9/10 [03:44<00:24, 24.92s/it]"
     ]
    },
    {
     "name": "stdout",
     "output_type": "stream",
     "text": [
      "Train Loss: 0.1317 | Valid Loss: 0.8910\n"
     ]
    },
    {
     "name": "stderr",
     "output_type": "stream",
     "text": [
      "100%|██████████| 10/10 [04:09<00:00, 24.92s/it]"
     ]
    },
    {
     "name": "stdout",
     "output_type": "stream",
     "text": [
      "Train Loss: 0.1207 | Valid Loss: 0.9490\n"
     ]
    },
    {
     "name": "stderr",
     "output_type": "stream",
     "text": [
      "\n"
     ]
    },
    {
     "name": "stdout",
     "output_type": "stream",
     "text": [
      "\n",
      "Validation Accuracy: 0.3844\n"
     ]
    },
    {
     "data": {
      "text/html": [],
      "text/plain": [
       "<IPython.core.display.HTML object>"
      ]
     },
     "metadata": {},
     "output_type": "display_data"
    },
    {
     "data": {
      "text/html": [
       "<br>    <style><br>        .wandb-row {<br>            display: flex;<br>            flex-direction: row;<br>            flex-wrap: wrap;<br>            justify-content: flex-start;<br>            width: 100%;<br>        }<br>        .wandb-col {<br>            display: flex;<br>            flex-direction: column;<br>            flex-basis: 100%;<br>            flex: 1;<br>            padding: 10px;<br>        }<br>    </style><br><div class=\"wandb-row\"><div class=\"wandb-col\"><h3>Run history:</h3><br/><table class=\"wandb\"><tr><td>epoch</td><td>▁▂▃▃▄▅▆▆▇█</td></tr><tr><td>train_loss</td><td>█▄▃▂▂▂▁▁▁▁</td></tr><tr><td>val_accuracy</td><td>▁</td></tr><tr><td>validation_loss</td><td>▆▂▁▃▃▃▄▅▆█</td></tr></table><br/></div><div class=\"wandb-col\"><h3>Run summary:</h3><br/><table class=\"wandb\"><tr><td>epoch</td><td>9</td></tr><tr><td>train_loss</td><td>0.12071</td></tr><tr><td>val_accuracy</td><td>0.38435</td></tr><tr><td>validation_loss</td><td>0.94898</td></tr></table><br/></div></div>"
      ],
      "text/plain": [
       "<IPython.core.display.HTML object>"
      ]
     },
     "metadata": {},
     "output_type": "display_data"
    },
    {
     "data": {
      "text/html": [
       " View run <strong style=\"color:#cdcd00\">embedding_size_256_num_layers_3_hidden_size_512                           _cell_type_GRU_dp_0.2_lr_0.0005_batch_64</strong> at: <a href='https://wandb.ai/cs24m022-iit-madras-foundation/cs24m022_DA6401_Assignment3/runs/wjund09f' target=\"_blank\">https://wandb.ai/cs24m022-iit-madras-foundation/cs24m022_DA6401_Assignment3/runs/wjund09f</a><br> View project at: <a href='https://wandb.ai/cs24m022-iit-madras-foundation/cs24m022_DA6401_Assignment3' target=\"_blank\">https://wandb.ai/cs24m022-iit-madras-foundation/cs24m022_DA6401_Assignment3</a><br>Synced 5 W&B file(s), 0 media file(s), 0 artifact file(s) and 0 other file(s)"
      ],
      "text/plain": [
       "<IPython.core.display.HTML object>"
      ]
     },
     "metadata": {},
     "output_type": "display_data"
    },
    {
     "data": {
      "text/html": [
       "Find logs at: <code>./wandb/run-20250520_115642-wjund09f/logs</code>"
      ],
      "text/plain": [
       "<IPython.core.display.HTML object>"
      ]
     },
     "metadata": {},
     "output_type": "display_data"
    },
    {
     "name": "stderr",
     "output_type": "stream",
     "text": [
      "\u001b[34m\u001b[1mwandb\u001b[0m: Agent Starting Run: v65s0bex with config:\n",
      "\u001b[34m\u001b[1mwandb\u001b[0m: \tbatch_size: 32\n",
      "\u001b[34m\u001b[1mwandb\u001b[0m: \tcell_type: GRU\n",
      "\u001b[34m\u001b[1mwandb\u001b[0m: \tdropout: 0.2\n",
      "\u001b[34m\u001b[1mwandb\u001b[0m: \tembedding_size: 256\n",
      "\u001b[34m\u001b[1mwandb\u001b[0m: \thidden_size: 512\n",
      "\u001b[34m\u001b[1mwandb\u001b[0m: \tlearning_rate: 0.0005\n",
      "\u001b[34m\u001b[1mwandb\u001b[0m: \tnum_layers: 3\n"
     ]
    },
    {
     "data": {
      "text/html": [
       "Tracking run with wandb version 0.19.9"
      ],
      "text/plain": [
       "<IPython.core.display.HTML object>"
      ]
     },
     "metadata": {},
     "output_type": "display_data"
    },
    {
     "data": {
      "text/html": [
       "Run data is saved locally in <code>/kaggle/working/wandb/run-20250520_120132-v65s0bex</code>"
      ],
      "text/plain": [
       "<IPython.core.display.HTML object>"
      ]
     },
     "metadata": {},
     "output_type": "display_data"
    },
    {
     "data": {
      "text/html": [
       "Syncing run <strong><a href='https://wandb.ai/cs24m022-iit-madras-foundation/cs24m022_DA6401_Assignment3/runs/v65s0bex' target=\"_blank\">peachy-sweep-21</a></strong> to <a href='https://wandb.ai/cs24m022-iit-madras-foundation/cs24m022_DA6401_Assignment3' target=\"_blank\">Weights & Biases</a> (<a href='https://wandb.me/developer-guide' target=\"_blank\">docs</a>)<br>Sweep page: <a href='https://wandb.ai/cs24m022-iit-madras-foundation/cs24m022_DA6401_Assignment3/sweeps/rxo139kw' target=\"_blank\">https://wandb.ai/cs24m022-iit-madras-foundation/cs24m022_DA6401_Assignment3/sweeps/rxo139kw</a>"
      ],
      "text/plain": [
       "<IPython.core.display.HTML object>"
      ]
     },
     "metadata": {},
     "output_type": "display_data"
    },
    {
     "data": {
      "text/html": [
       " View project at <a href='https://wandb.ai/cs24m022-iit-madras-foundation/cs24m022_DA6401_Assignment3' target=\"_blank\">https://wandb.ai/cs24m022-iit-madras-foundation/cs24m022_DA6401_Assignment3</a>"
      ],
      "text/plain": [
       "<IPython.core.display.HTML object>"
      ]
     },
     "metadata": {},
     "output_type": "display_data"
    },
    {
     "data": {
      "text/html": [
       " View sweep at <a href='https://wandb.ai/cs24m022-iit-madras-foundation/cs24m022_DA6401_Assignment3/sweeps/rxo139kw' target=\"_blank\">https://wandb.ai/cs24m022-iit-madras-foundation/cs24m022_DA6401_Assignment3/sweeps/rxo139kw</a>"
      ],
      "text/plain": [
       "<IPython.core.display.HTML object>"
      ]
     },
     "metadata": {},
     "output_type": "display_data"
    },
    {
     "data": {
      "text/html": [
       " View run at <a href='https://wandb.ai/cs24m022-iit-madras-foundation/cs24m022_DA6401_Assignment3/runs/v65s0bex' target=\"_blank\">https://wandb.ai/cs24m022-iit-madras-foundation/cs24m022_DA6401_Assignment3/runs/v65s0bex</a>"
      ],
      "text/plain": [
       "<IPython.core.display.HTML object>"
      ]
     },
     "metadata": {},
     "output_type": "display_data"
    },
    {
     "name": "stderr",
     "output_type": "stream",
     "text": [
      " 10%|█         | 1/10 [00:44<06:40, 44.46s/it]"
     ]
    },
    {
     "name": "stdout",
     "output_type": "stream",
     "text": [
      "Train Loss: 0.8795 | Valid Loss: 0.9973\n"
     ]
    },
    {
     "name": "stderr",
     "output_type": "stream",
     "text": [
      " 20%|██        | 2/10 [01:31<06:09, 46.20s/it]"
     ]
    },
    {
     "name": "stdout",
     "output_type": "stream",
     "text": [
      "Train Loss: 0.4263 | Valid Loss: 0.8765\n"
     ]
    },
    {
     "name": "stderr",
     "output_type": "stream",
     "text": [
      " 30%|███       | 3/10 [02:19<05:27, 46.79s/it]"
     ]
    },
    {
     "name": "stdout",
     "output_type": "stream",
     "text": [
      "Train Loss: 0.3306 | Valid Loss: 0.8354\n"
     ]
    },
    {
     "name": "stderr",
     "output_type": "stream",
     "text": [
      " 40%|████      | 4/10 [03:04<04:37, 46.25s/it]"
     ]
    },
    {
     "name": "stdout",
     "output_type": "stream",
     "text": [
      "Train Loss: 0.2776 | Valid Loss: 0.8782\n"
     ]
    },
    {
     "name": "stderr",
     "output_type": "stream",
     "text": [
      " 50%|█████     | 5/10 [03:49<03:48, 45.67s/it]"
     ]
    },
    {
     "name": "stdout",
     "output_type": "stream",
     "text": [
      "Train Loss: 0.2314 | Valid Loss: 0.9117\n"
     ]
    },
    {
     "name": "stderr",
     "output_type": "stream",
     "text": [
      " 60%|██████    | 6/10 [04:32<02:59, 44.87s/it]"
     ]
    },
    {
     "name": "stdout",
     "output_type": "stream",
     "text": [
      "Train Loss: 0.2018 | Valid Loss: 0.8867\n"
     ]
    },
    {
     "name": "stderr",
     "output_type": "stream",
     "text": [
      " 70%|███████   | 7/10 [05:20<02:17, 45.83s/it]"
     ]
    },
    {
     "name": "stdout",
     "output_type": "stream",
     "text": [
      "Train Loss: 0.1841 | Valid Loss: 0.8902\n"
     ]
    },
    {
     "name": "stderr",
     "output_type": "stream",
     "text": [
      " 80%|████████  | 8/10 [06:07<01:32, 46.23s/it]"
     ]
    },
    {
     "name": "stdout",
     "output_type": "stream",
     "text": [
      "Train Loss: 0.1617 | Valid Loss: 0.9462\n"
     ]
    },
    {
     "name": "stderr",
     "output_type": "stream",
     "text": [
      " 90%|█████████ | 9/10 [06:52<00:45, 45.69s/it]"
     ]
    },
    {
     "name": "stdout",
     "output_type": "stream",
     "text": [
      "Train Loss: 0.1532 | Valid Loss: 0.9470\n"
     ]
    },
    {
     "name": "stderr",
     "output_type": "stream",
     "text": [
      "100%|██████████| 10/10 [07:35<00:00, 45.53s/it]"
     ]
    },
    {
     "name": "stdout",
     "output_type": "stream",
     "text": [
      "Train Loss: 0.1451 | Valid Loss: 0.9655\n"
     ]
    },
    {
     "name": "stderr",
     "output_type": "stream",
     "text": [
      "\n"
     ]
    },
    {
     "name": "stdout",
     "output_type": "stream",
     "text": [
      "\n",
      "Validation Accuracy: 0.3731\n"
     ]
    },
    {
     "data": {
      "text/html": [],
      "text/plain": [
       "<IPython.core.display.HTML object>"
      ]
     },
     "metadata": {},
     "output_type": "display_data"
    },
    {
     "data": {
      "text/html": [
       "<br>    <style><br>        .wandb-row {<br>            display: flex;<br>            flex-direction: row;<br>            flex-wrap: wrap;<br>            justify-content: flex-start;<br>            width: 100%;<br>        }<br>        .wandb-col {<br>            display: flex;<br>            flex-direction: column;<br>            flex-basis: 100%;<br>            flex: 1;<br>            padding: 10px;<br>        }<br>    </style><br><div class=\"wandb-row\"><div class=\"wandb-col\"><h3>Run history:</h3><br/><table class=\"wandb\"><tr><td>epoch</td><td>▁▂▃▃▄▅▆▆▇█</td></tr><tr><td>train_loss</td><td>█▄▃▂▂▂▁▁▁▁</td></tr><tr><td>val_accuracy</td><td>▁</td></tr><tr><td>validation_loss</td><td>█▃▁▃▄▃▃▆▆▇</td></tr></table><br/></div><div class=\"wandb-col\"><h3>Run summary:</h3><br/><table class=\"wandb\"><tr><td>epoch</td><td>9</td></tr><tr><td>train_loss</td><td>0.14509</td></tr><tr><td>val_accuracy</td><td>0.37311</td></tr><tr><td>validation_loss</td><td>0.9655</td></tr></table><br/></div></div>"
      ],
      "text/plain": [
       "<IPython.core.display.HTML object>"
      ]
     },
     "metadata": {},
     "output_type": "display_data"
    },
    {
     "data": {
      "text/html": [
       " View run <strong style=\"color:#cdcd00\">embedding_size_256_num_layers_3_hidden_size_512                           _cell_type_GRU_dp_0.2_lr_0.0005_batch_32</strong> at: <a href='https://wandb.ai/cs24m022-iit-madras-foundation/cs24m022_DA6401_Assignment3/runs/v65s0bex' target=\"_blank\">https://wandb.ai/cs24m022-iit-madras-foundation/cs24m022_DA6401_Assignment3/runs/v65s0bex</a><br> View project at: <a href='https://wandb.ai/cs24m022-iit-madras-foundation/cs24m022_DA6401_Assignment3' target=\"_blank\">https://wandb.ai/cs24m022-iit-madras-foundation/cs24m022_DA6401_Assignment3</a><br>Synced 5 W&B file(s), 0 media file(s), 0 artifact file(s) and 0 other file(s)"
      ],
      "text/plain": [
       "<IPython.core.display.HTML object>"
      ]
     },
     "metadata": {},
     "output_type": "display_data"
    },
    {
     "data": {
      "text/html": [
       "Find logs at: <code>./wandb/run-20250520_120132-v65s0bex/logs</code>"
      ],
      "text/plain": [
       "<IPython.core.display.HTML object>"
      ]
     },
     "metadata": {},
     "output_type": "display_data"
    },
    {
     "name": "stderr",
     "output_type": "stream",
     "text": [
      "\u001b[34m\u001b[1mwandb\u001b[0m: Sweep Agent: Waiting for job.\n",
      "\u001b[34m\u001b[1mwandb\u001b[0m: Job received.\n",
      "\u001b[34m\u001b[1mwandb\u001b[0m: Agent Starting Run: 0naz0isf with config:\n",
      "\u001b[34m\u001b[1mwandb\u001b[0m: \tbatch_size: 32\n",
      "\u001b[34m\u001b[1mwandb\u001b[0m: \tcell_type: GRU\n",
      "\u001b[34m\u001b[1mwandb\u001b[0m: \tdropout: 0.2\n",
      "\u001b[34m\u001b[1mwandb\u001b[0m: \tembedding_size: 16\n",
      "\u001b[34m\u001b[1mwandb\u001b[0m: \thidden_size: 512\n",
      "\u001b[34m\u001b[1mwandb\u001b[0m: \tlearning_rate: 0.001\n",
      "\u001b[34m\u001b[1mwandb\u001b[0m: \tnum_layers: 3\n"
     ]
    },
    {
     "data": {
      "text/html": [
       "Tracking run with wandb version 0.19.9"
      ],
      "text/plain": [
       "<IPython.core.display.HTML object>"
      ]
     },
     "metadata": {},
     "output_type": "display_data"
    },
    {
     "data": {
      "text/html": [
       "Run data is saved locally in <code>/kaggle/working/wandb/run-20250520_120954-0naz0isf</code>"
      ],
      "text/plain": [
       "<IPython.core.display.HTML object>"
      ]
     },
     "metadata": {},
     "output_type": "display_data"
    },
    {
     "data": {
      "text/html": [
       "Syncing run <strong><a href='https://wandb.ai/cs24m022-iit-madras-foundation/cs24m022_DA6401_Assignment3/runs/0naz0isf' target=\"_blank\">expert-sweep-22</a></strong> to <a href='https://wandb.ai/cs24m022-iit-madras-foundation/cs24m022_DA6401_Assignment3' target=\"_blank\">Weights & Biases</a> (<a href='https://wandb.me/developer-guide' target=\"_blank\">docs</a>)<br>Sweep page: <a href='https://wandb.ai/cs24m022-iit-madras-foundation/cs24m022_DA6401_Assignment3/sweeps/rxo139kw' target=\"_blank\">https://wandb.ai/cs24m022-iit-madras-foundation/cs24m022_DA6401_Assignment3/sweeps/rxo139kw</a>"
      ],
      "text/plain": [
       "<IPython.core.display.HTML object>"
      ]
     },
     "metadata": {},
     "output_type": "display_data"
    },
    {
     "data": {
      "text/html": [
       " View project at <a href='https://wandb.ai/cs24m022-iit-madras-foundation/cs24m022_DA6401_Assignment3' target=\"_blank\">https://wandb.ai/cs24m022-iit-madras-foundation/cs24m022_DA6401_Assignment3</a>"
      ],
      "text/plain": [
       "<IPython.core.display.HTML object>"
      ]
     },
     "metadata": {},
     "output_type": "display_data"
    },
    {
     "data": {
      "text/html": [
       " View sweep at <a href='https://wandb.ai/cs24m022-iit-madras-foundation/cs24m022_DA6401_Assignment3/sweeps/rxo139kw' target=\"_blank\">https://wandb.ai/cs24m022-iit-madras-foundation/cs24m022_DA6401_Assignment3/sweeps/rxo139kw</a>"
      ],
      "text/plain": [
       "<IPython.core.display.HTML object>"
      ]
     },
     "metadata": {},
     "output_type": "display_data"
    },
    {
     "data": {
      "text/html": [
       " View run at <a href='https://wandb.ai/cs24m022-iit-madras-foundation/cs24m022_DA6401_Assignment3/runs/0naz0isf' target=\"_blank\">https://wandb.ai/cs24m022-iit-madras-foundation/cs24m022_DA6401_Assignment3/runs/0naz0isf</a>"
      ],
      "text/plain": [
       "<IPython.core.display.HTML object>"
      ]
     },
     "metadata": {},
     "output_type": "display_data"
    },
    {
     "name": "stderr",
     "output_type": "stream",
     "text": [
      " 10%|█         | 1/10 [00:44<06:43, 44.82s/it]"
     ]
    },
    {
     "name": "stdout",
     "output_type": "stream",
     "text": [
      "Train Loss: 1.0535 | Valid Loss: 0.9489\n"
     ]
    },
    {
     "name": "stderr",
     "output_type": "stream",
     "text": [
      " 20%|██        | 2/10 [01:28<05:54, 44.28s/it]"
     ]
    },
    {
     "name": "stdout",
     "output_type": "stream",
     "text": [
      "Train Loss: 0.5356 | Valid Loss: 0.8993\n"
     ]
    },
    {
     "name": "stderr",
     "output_type": "stream",
     "text": [
      " 30%|███       | 3/10 [02:11<05:04, 43.45s/it]"
     ]
    },
    {
     "name": "stdout",
     "output_type": "stream",
     "text": [
      "Train Loss: 0.4356 | Valid Loss: 0.8797\n"
     ]
    },
    {
     "name": "stderr",
     "output_type": "stream",
     "text": [
      " 40%|████      | 4/10 [02:53<04:18, 43.05s/it]"
     ]
    },
    {
     "name": "stdout",
     "output_type": "stream",
     "text": [
      "Train Loss: 0.3802 | Valid Loss: 0.9320\n"
     ]
    },
    {
     "name": "stderr",
     "output_type": "stream",
     "text": [
      " 50%|█████     | 5/10 [03:38<03:38, 43.62s/it]"
     ]
    },
    {
     "name": "stdout",
     "output_type": "stream",
     "text": [
      "Train Loss: 0.3496 | Valid Loss: 0.8923\n"
     ]
    },
    {
     "name": "stderr",
     "output_type": "stream",
     "text": [
      " 60%|██████    | 6/10 [04:27<03:01, 45.37s/it]"
     ]
    },
    {
     "name": "stdout",
     "output_type": "stream",
     "text": [
      "Train Loss: 0.3317 | Valid Loss: 0.9043\n"
     ]
    },
    {
     "name": "stderr",
     "output_type": "stream",
     "text": [
      " 70%|███████   | 7/10 [05:15<02:19, 46.52s/it]"
     ]
    },
    {
     "name": "stdout",
     "output_type": "stream",
     "text": [
      "Train Loss: 0.3123 | Valid Loss: 0.9354\n"
     ]
    },
    {
     "name": "stderr",
     "output_type": "stream",
     "text": [
      " 80%|████████  | 8/10 [06:05<01:34, 47.35s/it]"
     ]
    },
    {
     "name": "stdout",
     "output_type": "stream",
     "text": [
      "Train Loss: 0.3088 | Valid Loss: 0.9187\n"
     ]
    },
    {
     "name": "stderr",
     "output_type": "stream",
     "text": [
      " 90%|█████████ | 9/10 [06:51<00:47, 47.04s/it]"
     ]
    },
    {
     "name": "stdout",
     "output_type": "stream",
     "text": [
      "Train Loss: 0.2961 | Valid Loss: 0.9439\n"
     ]
    },
    {
     "name": "stderr",
     "output_type": "stream",
     "text": [
      "100%|██████████| 10/10 [07:34<00:00, 45.48s/it]"
     ]
    },
    {
     "name": "stdout",
     "output_type": "stream",
     "text": [
      "Train Loss: 0.2931 | Valid Loss: 0.9334\n"
     ]
    },
    {
     "name": "stderr",
     "output_type": "stream",
     "text": [
      "\n"
     ]
    },
    {
     "name": "stdout",
     "output_type": "stream",
     "text": [
      "\n",
      "Validation Accuracy: 0.3217\n"
     ]
    },
    {
     "data": {
      "text/html": [],
      "text/plain": [
       "<IPython.core.display.HTML object>"
      ]
     },
     "metadata": {},
     "output_type": "display_data"
    },
    {
     "data": {
      "text/html": [
       "<br>    <style><br>        .wandb-row {<br>            display: flex;<br>            flex-direction: row;<br>            flex-wrap: wrap;<br>            justify-content: flex-start;<br>            width: 100%;<br>        }<br>        .wandb-col {<br>            display: flex;<br>            flex-direction: column;<br>            flex-basis: 100%;<br>            flex: 1;<br>            padding: 10px;<br>        }<br>    </style><br><div class=\"wandb-row\"><div class=\"wandb-col\"><h3>Run history:</h3><br/><table class=\"wandb\"><tr><td>epoch</td><td>▁▂▃▃▄▅▆▆▇█</td></tr><tr><td>train_loss</td><td>█▃▂▂▂▁▁▁▁▁</td></tr><tr><td>val_accuracy</td><td>▁</td></tr><tr><td>validation_loss</td><td>█▃▁▆▂▃▇▅▇▆</td></tr></table><br/></div><div class=\"wandb-col\"><h3>Run summary:</h3><br/><table class=\"wandb\"><tr><td>epoch</td><td>9</td></tr><tr><td>train_loss</td><td>0.29311</td></tr><tr><td>val_accuracy</td><td>0.32171</td></tr><tr><td>validation_loss</td><td>0.93342</td></tr></table><br/></div></div>"
      ],
      "text/plain": [
       "<IPython.core.display.HTML object>"
      ]
     },
     "metadata": {},
     "output_type": "display_data"
    },
    {
     "data": {
      "text/html": [
       " View run <strong style=\"color:#cdcd00\">embedding_size_16_num_layers_3_hidden_size_512                           _cell_type_GRU_dp_0.2_lr_0.001_batch_32</strong> at: <a href='https://wandb.ai/cs24m022-iit-madras-foundation/cs24m022_DA6401_Assignment3/runs/0naz0isf' target=\"_blank\">https://wandb.ai/cs24m022-iit-madras-foundation/cs24m022_DA6401_Assignment3/runs/0naz0isf</a><br> View project at: <a href='https://wandb.ai/cs24m022-iit-madras-foundation/cs24m022_DA6401_Assignment3' target=\"_blank\">https://wandb.ai/cs24m022-iit-madras-foundation/cs24m022_DA6401_Assignment3</a><br>Synced 5 W&B file(s), 0 media file(s), 0 artifact file(s) and 0 other file(s)"
      ],
      "text/plain": [
       "<IPython.core.display.HTML object>"
      ]
     },
     "metadata": {},
     "output_type": "display_data"
    },
    {
     "data": {
      "text/html": [
       "Find logs at: <code>./wandb/run-20250520_120954-0naz0isf/logs</code>"
      ],
      "text/plain": [
       "<IPython.core.display.HTML object>"
      ]
     },
     "metadata": {},
     "output_type": "display_data"
    },
    {
     "name": "stderr",
     "output_type": "stream",
     "text": [
      "\u001b[34m\u001b[1mwandb\u001b[0m: Agent Starting Run: mfq73b00 with config:\n",
      "\u001b[34m\u001b[1mwandb\u001b[0m: \tbatch_size: 128\n",
      "\u001b[34m\u001b[1mwandb\u001b[0m: \tcell_type: GRU\n",
      "\u001b[34m\u001b[1mwandb\u001b[0m: \tdropout: 0.2\n",
      "\u001b[34m\u001b[1mwandb\u001b[0m: \tembedding_size: 64\n",
      "\u001b[34m\u001b[1mwandb\u001b[0m: \thidden_size: 512\n",
      "\u001b[34m\u001b[1mwandb\u001b[0m: \tlearning_rate: 0.0005\n",
      "\u001b[34m\u001b[1mwandb\u001b[0m: \tnum_layers: 3\n"
     ]
    },
    {
     "data": {
      "text/html": [
       "Tracking run with wandb version 0.19.9"
      ],
      "text/plain": [
       "<IPython.core.display.HTML object>"
      ]
     },
     "metadata": {},
     "output_type": "display_data"
    },
    {
     "data": {
      "text/html": [
       "Run data is saved locally in <code>/kaggle/working/wandb/run-20250520_121807-mfq73b00</code>"
      ],
      "text/plain": [
       "<IPython.core.display.HTML object>"
      ]
     },
     "metadata": {},
     "output_type": "display_data"
    },
    {
     "data": {
      "text/html": [
       "Syncing run <strong><a href='https://wandb.ai/cs24m022-iit-madras-foundation/cs24m022_DA6401_Assignment3/runs/mfq73b00' target=\"_blank\">swept-sweep-23</a></strong> to <a href='https://wandb.ai/cs24m022-iit-madras-foundation/cs24m022_DA6401_Assignment3' target=\"_blank\">Weights & Biases</a> (<a href='https://wandb.me/developer-guide' target=\"_blank\">docs</a>)<br>Sweep page: <a href='https://wandb.ai/cs24m022-iit-madras-foundation/cs24m022_DA6401_Assignment3/sweeps/rxo139kw' target=\"_blank\">https://wandb.ai/cs24m022-iit-madras-foundation/cs24m022_DA6401_Assignment3/sweeps/rxo139kw</a>"
      ],
      "text/plain": [
       "<IPython.core.display.HTML object>"
      ]
     },
     "metadata": {},
     "output_type": "display_data"
    },
    {
     "data": {
      "text/html": [
       " View project at <a href='https://wandb.ai/cs24m022-iit-madras-foundation/cs24m022_DA6401_Assignment3' target=\"_blank\">https://wandb.ai/cs24m022-iit-madras-foundation/cs24m022_DA6401_Assignment3</a>"
      ],
      "text/plain": [
       "<IPython.core.display.HTML object>"
      ]
     },
     "metadata": {},
     "output_type": "display_data"
    },
    {
     "data": {
      "text/html": [
       " View sweep at <a href='https://wandb.ai/cs24m022-iit-madras-foundation/cs24m022_DA6401_Assignment3/sweeps/rxo139kw' target=\"_blank\">https://wandb.ai/cs24m022-iit-madras-foundation/cs24m022_DA6401_Assignment3/sweeps/rxo139kw</a>"
      ],
      "text/plain": [
       "<IPython.core.display.HTML object>"
      ]
     },
     "metadata": {},
     "output_type": "display_data"
    },
    {
     "data": {
      "text/html": [
       " View run at <a href='https://wandb.ai/cs24m022-iit-madras-foundation/cs24m022_DA6401_Assignment3/runs/mfq73b00' target=\"_blank\">https://wandb.ai/cs24m022-iit-madras-foundation/cs24m022_DA6401_Assignment3/runs/mfq73b00</a>"
      ],
      "text/plain": [
       "<IPython.core.display.HTML object>"
      ]
     },
     "metadata": {},
     "output_type": "display_data"
    },
    {
     "name": "stderr",
     "output_type": "stream",
     "text": [
      " 10%|█         | 1/10 [00:14<02:09, 14.44s/it]"
     ]
    },
    {
     "name": "stdout",
     "output_type": "stream",
     "text": [
      "Train Loss: 1.4527 | Valid Loss: 1.1886\n"
     ]
    },
    {
     "name": "stderr",
     "output_type": "stream",
     "text": [
      " 20%|██        | 2/10 [00:29<01:57, 14.63s/it]"
     ]
    },
    {
     "name": "stdout",
     "output_type": "stream",
     "text": [
      "Train Loss: 0.6462 | Valid Loss: 0.8413\n"
     ]
    },
    {
     "name": "stderr",
     "output_type": "stream",
     "text": [
      " 30%|███       | 3/10 [00:43<01:41, 14.56s/it]"
     ]
    },
    {
     "name": "stdout",
     "output_type": "stream",
     "text": [
      "Train Loss: 0.4554 | Valid Loss: 0.7905\n"
     ]
    },
    {
     "name": "stderr",
     "output_type": "stream",
     "text": [
      " 40%|████      | 4/10 [00:58<01:27, 14.54s/it]"
     ]
    },
    {
     "name": "stdout",
     "output_type": "stream",
     "text": [
      "Train Loss: 0.3655 | Valid Loss: 0.7242\n"
     ]
    },
    {
     "name": "stderr",
     "output_type": "stream",
     "text": [
      " 50%|█████     | 5/10 [01:12<01:12, 14.54s/it]"
     ]
    },
    {
     "name": "stdout",
     "output_type": "stream",
     "text": [
      "Train Loss: 0.3051 | Valid Loss: 0.7738\n"
     ]
    },
    {
     "name": "stderr",
     "output_type": "stream",
     "text": [
      " 60%|██████    | 6/10 [01:27<00:58, 14.62s/it]"
     ]
    },
    {
     "name": "stdout",
     "output_type": "stream",
     "text": [
      "Train Loss: 0.2582 | Valid Loss: 0.7828\n"
     ]
    },
    {
     "name": "stderr",
     "output_type": "stream",
     "text": [
      " 70%|███████   | 7/10 [01:42<00:43, 14.64s/it]"
     ]
    },
    {
     "name": "stdout",
     "output_type": "stream",
     "text": [
      "Train Loss: 0.2280 | Valid Loss: 0.7488\n"
     ]
    },
    {
     "name": "stderr",
     "output_type": "stream",
     "text": [
      " 80%|████████  | 8/10 [01:56<00:29, 14.68s/it]"
     ]
    },
    {
     "name": "stdout",
     "output_type": "stream",
     "text": [
      "Train Loss: 0.1939 | Valid Loss: 0.8173\n"
     ]
    },
    {
     "name": "stderr",
     "output_type": "stream",
     "text": [
      " 90%|█████████ | 9/10 [02:11<00:14, 14.64s/it]"
     ]
    },
    {
     "name": "stdout",
     "output_type": "stream",
     "text": [
      "Train Loss: 0.1691 | Valid Loss: 0.7868\n"
     ]
    },
    {
     "name": "stderr",
     "output_type": "stream",
     "text": [
      "100%|██████████| 10/10 [02:26<00:00, 14.61s/it]"
     ]
    },
    {
     "name": "stdout",
     "output_type": "stream",
     "text": [
      "Train Loss: 0.1504 | Valid Loss: 0.8324\n"
     ]
    },
    {
     "name": "stderr",
     "output_type": "stream",
     "text": [
      "\n"
     ]
    },
    {
     "name": "stdout",
     "output_type": "stream",
     "text": [
      "\n",
      "Validation Accuracy: 0.3449\n"
     ]
    },
    {
     "data": {
      "text/html": [],
      "text/plain": [
       "<IPython.core.display.HTML object>"
      ]
     },
     "metadata": {},
     "output_type": "display_data"
    },
    {
     "data": {
      "text/html": [
       "<br>    <style><br>        .wandb-row {<br>            display: flex;<br>            flex-direction: row;<br>            flex-wrap: wrap;<br>            justify-content: flex-start;<br>            width: 100%;<br>        }<br>        .wandb-col {<br>            display: flex;<br>            flex-direction: column;<br>            flex-basis: 100%;<br>            flex: 1;<br>            padding: 10px;<br>        }<br>    </style><br><div class=\"wandb-row\"><div class=\"wandb-col\"><h3>Run history:</h3><br/><table class=\"wandb\"><tr><td>epoch</td><td>▁▂▃▃▄▅▆▆▇█</td></tr><tr><td>train_loss</td><td>█▄▃▂▂▂▁▁▁▁</td></tr><tr><td>val_accuracy</td><td>▁</td></tr><tr><td>validation_loss</td><td>█▃▂▁▂▂▁▂▂▃</td></tr></table><br/></div><div class=\"wandb-col\"><h3>Run summary:</h3><br/><table class=\"wandb\"><tr><td>epoch</td><td>9</td></tr><tr><td>train_loss</td><td>0.15043</td></tr><tr><td>val_accuracy</td><td>0.34488</td></tr><tr><td>validation_loss</td><td>0.83245</td></tr></table><br/></div></div>"
      ],
      "text/plain": [
       "<IPython.core.display.HTML object>"
      ]
     },
     "metadata": {},
     "output_type": "display_data"
    },
    {
     "data": {
      "text/html": [
       " View run <strong style=\"color:#cdcd00\">embedding_size_64_num_layers_3_hidden_size_512                           _cell_type_GRU_dp_0.2_lr_0.0005_batch_128</strong> at: <a href='https://wandb.ai/cs24m022-iit-madras-foundation/cs24m022_DA6401_Assignment3/runs/mfq73b00' target=\"_blank\">https://wandb.ai/cs24m022-iit-madras-foundation/cs24m022_DA6401_Assignment3/runs/mfq73b00</a><br> View project at: <a href='https://wandb.ai/cs24m022-iit-madras-foundation/cs24m022_DA6401_Assignment3' target=\"_blank\">https://wandb.ai/cs24m022-iit-madras-foundation/cs24m022_DA6401_Assignment3</a><br>Synced 5 W&B file(s), 0 media file(s), 0 artifact file(s) and 0 other file(s)"
      ],
      "text/plain": [
       "<IPython.core.display.HTML object>"
      ]
     },
     "metadata": {},
     "output_type": "display_data"
    },
    {
     "data": {
      "text/html": [
       "Find logs at: <code>./wandb/run-20250520_121807-mfq73b00/logs</code>"
      ],
      "text/plain": [
       "<IPython.core.display.HTML object>"
      ]
     },
     "metadata": {},
     "output_type": "display_data"
    },
    {
     "name": "stderr",
     "output_type": "stream",
     "text": [
      "\u001b[34m\u001b[1mwandb\u001b[0m: Agent Starting Run: vhxk54sq with config:\n",
      "\u001b[34m\u001b[1mwandb\u001b[0m: \tbatch_size: 128\n",
      "\u001b[34m\u001b[1mwandb\u001b[0m: \tcell_type: GRU\n",
      "\u001b[34m\u001b[1mwandb\u001b[0m: \tdropout: 0.2\n",
      "\u001b[34m\u001b[1mwandb\u001b[0m: \tembedding_size: 16\n",
      "\u001b[34m\u001b[1mwandb\u001b[0m: \thidden_size: 512\n",
      "\u001b[34m\u001b[1mwandb\u001b[0m: \tlearning_rate: 0.001\n",
      "\u001b[34m\u001b[1mwandb\u001b[0m: \tnum_layers: 3\n"
     ]
    },
    {
     "data": {
      "text/html": [
       "Tracking run with wandb version 0.19.9"
      ],
      "text/plain": [
       "<IPython.core.display.HTML object>"
      ]
     },
     "metadata": {},
     "output_type": "display_data"
    },
    {
     "data": {
      "text/html": [
       "Run data is saved locally in <code>/kaggle/working/wandb/run-20250520_122110-vhxk54sq</code>"
      ],
      "text/plain": [
       "<IPython.core.display.HTML object>"
      ]
     },
     "metadata": {},
     "output_type": "display_data"
    },
    {
     "data": {
      "text/html": [
       "Syncing run <strong><a href='https://wandb.ai/cs24m022-iit-madras-foundation/cs24m022_DA6401_Assignment3/runs/vhxk54sq' target=\"_blank\">crisp-sweep-24</a></strong> to <a href='https://wandb.ai/cs24m022-iit-madras-foundation/cs24m022_DA6401_Assignment3' target=\"_blank\">Weights & Biases</a> (<a href='https://wandb.me/developer-guide' target=\"_blank\">docs</a>)<br>Sweep page: <a href='https://wandb.ai/cs24m022-iit-madras-foundation/cs24m022_DA6401_Assignment3/sweeps/rxo139kw' target=\"_blank\">https://wandb.ai/cs24m022-iit-madras-foundation/cs24m022_DA6401_Assignment3/sweeps/rxo139kw</a>"
      ],
      "text/plain": [
       "<IPython.core.display.HTML object>"
      ]
     },
     "metadata": {},
     "output_type": "display_data"
    },
    {
     "data": {
      "text/html": [
       " View project at <a href='https://wandb.ai/cs24m022-iit-madras-foundation/cs24m022_DA6401_Assignment3' target=\"_blank\">https://wandb.ai/cs24m022-iit-madras-foundation/cs24m022_DA6401_Assignment3</a>"
      ],
      "text/plain": [
       "<IPython.core.display.HTML object>"
      ]
     },
     "metadata": {},
     "output_type": "display_data"
    },
    {
     "data": {
      "text/html": [
       " View sweep at <a href='https://wandb.ai/cs24m022-iit-madras-foundation/cs24m022_DA6401_Assignment3/sweeps/rxo139kw' target=\"_blank\">https://wandb.ai/cs24m022-iit-madras-foundation/cs24m022_DA6401_Assignment3/sweeps/rxo139kw</a>"
      ],
      "text/plain": [
       "<IPython.core.display.HTML object>"
      ]
     },
     "metadata": {},
     "output_type": "display_data"
    },
    {
     "data": {
      "text/html": [
       " View run at <a href='https://wandb.ai/cs24m022-iit-madras-foundation/cs24m022_DA6401_Assignment3/runs/vhxk54sq' target=\"_blank\">https://wandb.ai/cs24m022-iit-madras-foundation/cs24m022_DA6401_Assignment3/runs/vhxk54sq</a>"
      ],
      "text/plain": [
       "<IPython.core.display.HTML object>"
      ]
     },
     "metadata": {},
     "output_type": "display_data"
    },
    {
     "name": "stderr",
     "output_type": "stream",
     "text": [
      " 10%|█         | 1/10 [00:14<02:10, 14.46s/it]"
     ]
    },
    {
     "name": "stdout",
     "output_type": "stream",
     "text": [
      "Train Loss: 1.4312 | Valid Loss: 1.1411\n"
     ]
    },
    {
     "name": "stderr",
     "output_type": "stream",
     "text": [
      " 20%|██        | 2/10 [00:28<01:55, 14.47s/it]"
     ]
    },
    {
     "name": "stdout",
     "output_type": "stream",
     "text": [
      "Train Loss: 0.6589 | Valid Loss: 0.7723\n"
     ]
    },
    {
     "name": "stderr",
     "output_type": "stream",
     "text": [
      " 30%|███       | 3/10 [00:43<01:41, 14.49s/it]"
     ]
    },
    {
     "name": "stdout",
     "output_type": "stream",
     "text": [
      "Train Loss: 0.4542 | Valid Loss: 0.7657\n"
     ]
    },
    {
     "name": "stderr",
     "output_type": "stream",
     "text": [
      " 40%|████      | 4/10 [00:58<01:27, 14.58s/it]"
     ]
    },
    {
     "name": "stdout",
     "output_type": "stream",
     "text": [
      "Train Loss: 0.3596 | Valid Loss: 0.7425\n"
     ]
    },
    {
     "name": "stderr",
     "output_type": "stream",
     "text": [
      " 50%|█████     | 5/10 [01:12<01:12, 14.54s/it]"
     ]
    },
    {
     "name": "stdout",
     "output_type": "stream",
     "text": [
      "Train Loss: 0.3118 | Valid Loss: 0.7032\n"
     ]
    },
    {
     "name": "stderr",
     "output_type": "stream",
     "text": [
      " 60%|██████    | 6/10 [01:27<00:58, 14.54s/it]"
     ]
    },
    {
     "name": "stdout",
     "output_type": "stream",
     "text": [
      "Train Loss: 0.2625 | Valid Loss: 0.7717\n"
     ]
    },
    {
     "name": "stderr",
     "output_type": "stream",
     "text": [
      " 70%|███████   | 7/10 [01:41<00:43, 14.51s/it]"
     ]
    },
    {
     "name": "stdout",
     "output_type": "stream",
     "text": [
      "Train Loss: 0.2325 | Valid Loss: 0.7590\n"
     ]
    },
    {
     "name": "stderr",
     "output_type": "stream",
     "text": [
      " 80%|████████  | 8/10 [01:56<00:29, 14.53s/it]"
     ]
    },
    {
     "name": "stdout",
     "output_type": "stream",
     "text": [
      "Train Loss: 0.2054 | Valid Loss: 0.7779\n"
     ]
    },
    {
     "name": "stderr",
     "output_type": "stream",
     "text": [
      " 90%|█████████ | 9/10 [02:11<00:14, 14.72s/it]"
     ]
    },
    {
     "name": "stdout",
     "output_type": "stream",
     "text": [
      "Train Loss: 0.1879 | Valid Loss: 0.7568\n"
     ]
    },
    {
     "name": "stderr",
     "output_type": "stream",
     "text": [
      "100%|██████████| 10/10 [02:27<00:00, 14.74s/it]"
     ]
    },
    {
     "name": "stdout",
     "output_type": "stream",
     "text": [
      "Train Loss: 0.1726 | Valid Loss: 0.7811\n"
     ]
    },
    {
     "name": "stderr",
     "output_type": "stream",
     "text": [
      "\n"
     ]
    },
    {
     "name": "stdout",
     "output_type": "stream",
     "text": [
      "\n",
      "Validation Accuracy: 0.3254\n"
     ]
    },
    {
     "data": {
      "text/html": [],
      "text/plain": [
       "<IPython.core.display.HTML object>"
      ]
     },
     "metadata": {},
     "output_type": "display_data"
    },
    {
     "data": {
      "text/html": [
       "<br>    <style><br>        .wandb-row {<br>            display: flex;<br>            flex-direction: row;<br>            flex-wrap: wrap;<br>            justify-content: flex-start;<br>            width: 100%;<br>        }<br>        .wandb-col {<br>            display: flex;<br>            flex-direction: column;<br>            flex-basis: 100%;<br>            flex: 1;<br>            padding: 10px;<br>        }<br>    </style><br><div class=\"wandb-row\"><div class=\"wandb-col\"><h3>Run history:</h3><br/><table class=\"wandb\"><tr><td>epoch</td><td>▁▂▃▃▄▅▆▆▇█</td></tr><tr><td>train_loss</td><td>█▄▃▂▂▂▁▁▁▁</td></tr><tr><td>val_accuracy</td><td>▁</td></tr><tr><td>validation_loss</td><td>█▂▂▂▁▂▂▂▂▂</td></tr></table><br/></div><div class=\"wandb-col\"><h3>Run summary:</h3><br/><table class=\"wandb\"><tr><td>epoch</td><td>9</td></tr><tr><td>train_loss</td><td>0.17255</td></tr><tr><td>val_accuracy</td><td>0.32538</td></tr><tr><td>validation_loss</td><td>0.78111</td></tr></table><br/></div></div>"
      ],
      "text/plain": [
       "<IPython.core.display.HTML object>"
      ]
     },
     "metadata": {},
     "output_type": "display_data"
    },
    {
     "data": {
      "text/html": [
       " View run <strong style=\"color:#cdcd00\">embedding_size_16_num_layers_3_hidden_size_512                           _cell_type_GRU_dp_0.2_lr_0.001_batch_128</strong> at: <a href='https://wandb.ai/cs24m022-iit-madras-foundation/cs24m022_DA6401_Assignment3/runs/vhxk54sq' target=\"_blank\">https://wandb.ai/cs24m022-iit-madras-foundation/cs24m022_DA6401_Assignment3/runs/vhxk54sq</a><br> View project at: <a href='https://wandb.ai/cs24m022-iit-madras-foundation/cs24m022_DA6401_Assignment3' target=\"_blank\">https://wandb.ai/cs24m022-iit-madras-foundation/cs24m022_DA6401_Assignment3</a><br>Synced 5 W&B file(s), 0 media file(s), 0 artifact file(s) and 0 other file(s)"
      ],
      "text/plain": [
       "<IPython.core.display.HTML object>"
      ]
     },
     "metadata": {},
     "output_type": "display_data"
    },
    {
     "data": {
      "text/html": [
       "Find logs at: <code>./wandb/run-20250520_122110-vhxk54sq/logs</code>"
      ],
      "text/plain": [
       "<IPython.core.display.HTML object>"
      ]
     },
     "metadata": {},
     "output_type": "display_data"
    },
    {
     "name": "stderr",
     "output_type": "stream",
     "text": [
      "\u001b[34m\u001b[1mwandb\u001b[0m: Agent Starting Run: m7ro3ivk with config:\n",
      "\u001b[34m\u001b[1mwandb\u001b[0m: \tbatch_size: 32\n",
      "\u001b[34m\u001b[1mwandb\u001b[0m: \tcell_type: GRU\n",
      "\u001b[34m\u001b[1mwandb\u001b[0m: \tdropout: 0.2\n",
      "\u001b[34m\u001b[1mwandb\u001b[0m: \tembedding_size: 32\n",
      "\u001b[34m\u001b[1mwandb\u001b[0m: \thidden_size: 512\n",
      "\u001b[34m\u001b[1mwandb\u001b[0m: \tlearning_rate: 0.0005\n",
      "\u001b[34m\u001b[1mwandb\u001b[0m: \tnum_layers: 3\n"
     ]
    },
    {
     "data": {
      "text/html": [
       "Tracking run with wandb version 0.19.9"
      ],
      "text/plain": [
       "<IPython.core.display.HTML object>"
      ]
     },
     "metadata": {},
     "output_type": "display_data"
    },
    {
     "data": {
      "text/html": [
       "Run data is saved locally in <code>/kaggle/working/wandb/run-20250520_122418-m7ro3ivk</code>"
      ],
      "text/plain": [
       "<IPython.core.display.HTML object>"
      ]
     },
     "metadata": {},
     "output_type": "display_data"
    },
    {
     "data": {
      "text/html": [
       "Syncing run <strong><a href='https://wandb.ai/cs24m022-iit-madras-foundation/cs24m022_DA6401_Assignment3/runs/m7ro3ivk' target=\"_blank\">treasured-sweep-25</a></strong> to <a href='https://wandb.ai/cs24m022-iit-madras-foundation/cs24m022_DA6401_Assignment3' target=\"_blank\">Weights & Biases</a> (<a href='https://wandb.me/developer-guide' target=\"_blank\">docs</a>)<br>Sweep page: <a href='https://wandb.ai/cs24m022-iit-madras-foundation/cs24m022_DA6401_Assignment3/sweeps/rxo139kw' target=\"_blank\">https://wandb.ai/cs24m022-iit-madras-foundation/cs24m022_DA6401_Assignment3/sweeps/rxo139kw</a>"
      ],
      "text/plain": [
       "<IPython.core.display.HTML object>"
      ]
     },
     "metadata": {},
     "output_type": "display_data"
    },
    {
     "data": {
      "text/html": [
       " View project at <a href='https://wandb.ai/cs24m022-iit-madras-foundation/cs24m022_DA6401_Assignment3' target=\"_blank\">https://wandb.ai/cs24m022-iit-madras-foundation/cs24m022_DA6401_Assignment3</a>"
      ],
      "text/plain": [
       "<IPython.core.display.HTML object>"
      ]
     },
     "metadata": {},
     "output_type": "display_data"
    },
    {
     "data": {
      "text/html": [
       " View sweep at <a href='https://wandb.ai/cs24m022-iit-madras-foundation/cs24m022_DA6401_Assignment3/sweeps/rxo139kw' target=\"_blank\">https://wandb.ai/cs24m022-iit-madras-foundation/cs24m022_DA6401_Assignment3/sweeps/rxo139kw</a>"
      ],
      "text/plain": [
       "<IPython.core.display.HTML object>"
      ]
     },
     "metadata": {},
     "output_type": "display_data"
    },
    {
     "data": {
      "text/html": [
       " View run at <a href='https://wandb.ai/cs24m022-iit-madras-foundation/cs24m022_DA6401_Assignment3/runs/m7ro3ivk' target=\"_blank\">https://wandb.ai/cs24m022-iit-madras-foundation/cs24m022_DA6401_Assignment3/runs/m7ro3ivk</a>"
      ],
      "text/plain": [
       "<IPython.core.display.HTML object>"
      ]
     },
     "metadata": {},
     "output_type": "display_data"
    },
    {
     "name": "stderr",
     "output_type": "stream",
     "text": [
      " 10%|█         | 1/10 [00:43<06:27, 43.09s/it]"
     ]
    },
    {
     "name": "stdout",
     "output_type": "stream",
     "text": [
      "Train Loss: 1.1055 | Valid Loss: 0.9708\n"
     ]
    },
    {
     "name": "stderr",
     "output_type": "stream",
     "text": [
      " 20%|██        | 2/10 [01:26<05:45, 43.23s/it]"
     ]
    },
    {
     "name": "stdout",
     "output_type": "stream",
     "text": [
      "Train Loss: 0.5072 | Valid Loss: 0.8415\n"
     ]
    },
    {
     "name": "stderr",
     "output_type": "stream",
     "text": [
      " 30%|███       | 3/10 [02:09<05:01, 43.11s/it]"
     ]
    },
    {
     "name": "stdout",
     "output_type": "stream",
     "text": [
      "Train Loss: 0.3856 | Valid Loss: 0.8504\n"
     ]
    },
    {
     "name": "stderr",
     "output_type": "stream",
     "text": [
      " 40%|████      | 4/10 [02:52<04:17, 42.99s/it]"
     ]
    },
    {
     "name": "stdout",
     "output_type": "stream",
     "text": [
      "Train Loss: 0.3190 | Valid Loss: 0.8383\n"
     ]
    },
    {
     "name": "stderr",
     "output_type": "stream",
     "text": [
      " 50%|█████     | 5/10 [03:35<03:35, 43.01s/it]"
     ]
    },
    {
     "name": "stdout",
     "output_type": "stream",
     "text": [
      "Train Loss: 0.2705 | Valid Loss: 0.8516\n"
     ]
    },
    {
     "name": "stderr",
     "output_type": "stream",
     "text": [
      " 60%|██████    | 6/10 [04:18<02:52, 43.03s/it]"
     ]
    },
    {
     "name": "stdout",
     "output_type": "stream",
     "text": [
      "Train Loss: 0.2360 | Valid Loss: 0.8901\n"
     ]
    },
    {
     "name": "stderr",
     "output_type": "stream",
     "text": [
      " 70%|███████   | 7/10 [05:01<02:09, 43.11s/it]"
     ]
    },
    {
     "name": "stdout",
     "output_type": "stream",
     "text": [
      "Train Loss: 0.2067 | Valid Loss: 0.9052\n"
     ]
    },
    {
     "name": "stderr",
     "output_type": "stream",
     "text": [
      " 80%|████████  | 8/10 [05:48<01:28, 44.27s/it]"
     ]
    },
    {
     "name": "stdout",
     "output_type": "stream",
     "text": [
      "Train Loss: 0.1844 | Valid Loss: 0.9143\n"
     ]
    },
    {
     "name": "stderr",
     "output_type": "stream",
     "text": [
      " 90%|█████████ | 9/10 [06:37<00:45, 45.91s/it]"
     ]
    },
    {
     "name": "stdout",
     "output_type": "stream",
     "text": [
      "Train Loss: 0.1635 | Valid Loss: 0.9460\n"
     ]
    },
    {
     "name": "stderr",
     "output_type": "stream",
     "text": [
      "100%|██████████| 10/10 [07:27<00:00, 44.77s/it]"
     ]
    },
    {
     "name": "stdout",
     "output_type": "stream",
     "text": [
      "Train Loss: 0.1493 | Valid Loss: 1.0046\n"
     ]
    },
    {
     "name": "stderr",
     "output_type": "stream",
     "text": [
      "\n"
     ]
    },
    {
     "name": "stdout",
     "output_type": "stream",
     "text": [
      "\n",
      "Validation Accuracy: 0.3763\n"
     ]
    },
    {
     "data": {
      "text/html": [],
      "text/plain": [
       "<IPython.core.display.HTML object>"
      ]
     },
     "metadata": {},
     "output_type": "display_data"
    },
    {
     "data": {
      "text/html": [
       "<br>    <style><br>        .wandb-row {<br>            display: flex;<br>            flex-direction: row;<br>            flex-wrap: wrap;<br>            justify-content: flex-start;<br>            width: 100%;<br>        }<br>        .wandb-col {<br>            display: flex;<br>            flex-direction: column;<br>            flex-basis: 100%;<br>            flex: 1;<br>            padding: 10px;<br>        }<br>    </style><br><div class=\"wandb-row\"><div class=\"wandb-col\"><h3>Run history:</h3><br/><table class=\"wandb\"><tr><td>epoch</td><td>▁▂▃▃▄▅▆▆▇█</td></tr><tr><td>train_loss</td><td>█▄▃▂▂▂▁▁▁▁</td></tr><tr><td>val_accuracy</td><td>▁</td></tr><tr><td>validation_loss</td><td>▇▁▂▁▂▃▄▄▆█</td></tr></table><br/></div><div class=\"wandb-col\"><h3>Run summary:</h3><br/><table class=\"wandb\"><tr><td>epoch</td><td>9</td></tr><tr><td>train_loss</td><td>0.14927</td></tr><tr><td>val_accuracy</td><td>0.37632</td></tr><tr><td>validation_loss</td><td>1.00457</td></tr></table><br/></div></div>"
      ],
      "text/plain": [
       "<IPython.core.display.HTML object>"
      ]
     },
     "metadata": {},
     "output_type": "display_data"
    },
    {
     "data": {
      "text/html": [
       " View run <strong style=\"color:#cdcd00\">embedding_size_32_num_layers_3_hidden_size_512                           _cell_type_GRU_dp_0.2_lr_0.0005_batch_32</strong> at: <a href='https://wandb.ai/cs24m022-iit-madras-foundation/cs24m022_DA6401_Assignment3/runs/m7ro3ivk' target=\"_blank\">https://wandb.ai/cs24m022-iit-madras-foundation/cs24m022_DA6401_Assignment3/runs/m7ro3ivk</a><br> View project at: <a href='https://wandb.ai/cs24m022-iit-madras-foundation/cs24m022_DA6401_Assignment3' target=\"_blank\">https://wandb.ai/cs24m022-iit-madras-foundation/cs24m022_DA6401_Assignment3</a><br>Synced 5 W&B file(s), 0 media file(s), 0 artifact file(s) and 0 other file(s)"
      ],
      "text/plain": [
       "<IPython.core.display.HTML object>"
      ]
     },
     "metadata": {},
     "output_type": "display_data"
    },
    {
     "data": {
      "text/html": [
       "Find logs at: <code>./wandb/run-20250520_122418-m7ro3ivk/logs</code>"
      ],
      "text/plain": [
       "<IPython.core.display.HTML object>"
      ]
     },
     "metadata": {},
     "output_type": "display_data"
    },
    {
     "name": "stderr",
     "output_type": "stream",
     "text": [
      "\u001b[34m\u001b[1mwandb\u001b[0m: Agent Starting Run: 3a6fmxw9 with config:\n",
      "\u001b[34m\u001b[1mwandb\u001b[0m: \tbatch_size: 32\n",
      "\u001b[34m\u001b[1mwandb\u001b[0m: \tcell_type: GRU\n",
      "\u001b[34m\u001b[1mwandb\u001b[0m: \tdropout: 0.2\n",
      "\u001b[34m\u001b[1mwandb\u001b[0m: \tembedding_size: 256\n",
      "\u001b[34m\u001b[1mwandb\u001b[0m: \thidden_size: 512\n",
      "\u001b[34m\u001b[1mwandb\u001b[0m: \tlearning_rate: 0.0005\n",
      "\u001b[34m\u001b[1mwandb\u001b[0m: \tnum_layers: 3\n"
     ]
    },
    {
     "data": {
      "text/html": [
       "Tracking run with wandb version 0.19.9"
      ],
      "text/plain": [
       "<IPython.core.display.HTML object>"
      ]
     },
     "metadata": {},
     "output_type": "display_data"
    },
    {
     "data": {
      "text/html": [
       "Run data is saved locally in <code>/kaggle/working/wandb/run-20250520_123225-3a6fmxw9</code>"
      ],
      "text/plain": [
       "<IPython.core.display.HTML object>"
      ]
     },
     "metadata": {},
     "output_type": "display_data"
    },
    {
     "data": {
      "text/html": [
       "Syncing run <strong><a href='https://wandb.ai/cs24m022-iit-madras-foundation/cs24m022_DA6401_Assignment3/runs/3a6fmxw9' target=\"_blank\">exalted-sweep-26</a></strong> to <a href='https://wandb.ai/cs24m022-iit-madras-foundation/cs24m022_DA6401_Assignment3' target=\"_blank\">Weights & Biases</a> (<a href='https://wandb.me/developer-guide' target=\"_blank\">docs</a>)<br>Sweep page: <a href='https://wandb.ai/cs24m022-iit-madras-foundation/cs24m022_DA6401_Assignment3/sweeps/rxo139kw' target=\"_blank\">https://wandb.ai/cs24m022-iit-madras-foundation/cs24m022_DA6401_Assignment3/sweeps/rxo139kw</a>"
      ],
      "text/plain": [
       "<IPython.core.display.HTML object>"
      ]
     },
     "metadata": {},
     "output_type": "display_data"
    },
    {
     "data": {
      "text/html": [
       " View project at <a href='https://wandb.ai/cs24m022-iit-madras-foundation/cs24m022_DA6401_Assignment3' target=\"_blank\">https://wandb.ai/cs24m022-iit-madras-foundation/cs24m022_DA6401_Assignment3</a>"
      ],
      "text/plain": [
       "<IPython.core.display.HTML object>"
      ]
     },
     "metadata": {},
     "output_type": "display_data"
    },
    {
     "data": {
      "text/html": [
       " View sweep at <a href='https://wandb.ai/cs24m022-iit-madras-foundation/cs24m022_DA6401_Assignment3/sweeps/rxo139kw' target=\"_blank\">https://wandb.ai/cs24m022-iit-madras-foundation/cs24m022_DA6401_Assignment3/sweeps/rxo139kw</a>"
      ],
      "text/plain": [
       "<IPython.core.display.HTML object>"
      ]
     },
     "metadata": {},
     "output_type": "display_data"
    },
    {
     "data": {
      "text/html": [
       " View run at <a href='https://wandb.ai/cs24m022-iit-madras-foundation/cs24m022_DA6401_Assignment3/runs/3a6fmxw9' target=\"_blank\">https://wandb.ai/cs24m022-iit-madras-foundation/cs24m022_DA6401_Assignment3/runs/3a6fmxw9</a>"
      ],
      "text/plain": [
       "<IPython.core.display.HTML object>"
      ]
     },
     "metadata": {},
     "output_type": "display_data"
    },
    {
     "name": "stderr",
     "output_type": "stream",
     "text": [
      " 10%|█         | 1/10 [00:47<07:11, 47.99s/it]"
     ]
    },
    {
     "name": "stdout",
     "output_type": "stream",
     "text": [
      "Train Loss: 0.8708 | Valid Loss: 0.9096\n"
     ]
    },
    {
     "name": "stderr",
     "output_type": "stream",
     "text": [
      " 20%|██        | 2/10 [01:34<06:15, 46.98s/it]"
     ]
    },
    {
     "name": "stdout",
     "output_type": "stream",
     "text": [
      "Train Loss: 0.4254 | Valid Loss: 0.8486\n"
     ]
    },
    {
     "name": "stderr",
     "output_type": "stream",
     "text": [
      " 30%|███       | 3/10 [02:20<05:25, 46.54s/it]"
     ]
    },
    {
     "name": "stdout",
     "output_type": "stream",
     "text": [
      "Train Loss: 0.3271 | Valid Loss: 0.8257\n"
     ]
    },
    {
     "name": "stderr",
     "output_type": "stream",
     "text": [
      " 40%|████      | 4/10 [03:05<04:36, 46.08s/it]"
     ]
    },
    {
     "name": "stdout",
     "output_type": "stream",
     "text": [
      "Train Loss: 0.2741 | Valid Loss: 0.8254\n"
     ]
    },
    {
     "name": "stderr",
     "output_type": "stream",
     "text": [
      " 50%|█████     | 5/10 [03:51<03:50, 46.03s/it]"
     ]
    },
    {
     "name": "stdout",
     "output_type": "stream",
     "text": [
      "Train Loss: 0.2290 | Valid Loss: 0.8693\n"
     ]
    },
    {
     "name": "stderr",
     "output_type": "stream",
     "text": [
      " 60%|██████    | 6/10 [04:35<03:01, 45.30s/it]"
     ]
    },
    {
     "name": "stdout",
     "output_type": "stream",
     "text": [
      "Train Loss: 0.2049 | Valid Loss: 0.8879\n"
     ]
    },
    {
     "name": "stderr",
     "output_type": "stream",
     "text": [
      " 70%|███████   | 7/10 [05:18<02:13, 44.54s/it]"
     ]
    },
    {
     "name": "stdout",
     "output_type": "stream",
     "text": [
      "Train Loss: 0.1789 | Valid Loss: 0.9051\n"
     ]
    },
    {
     "name": "stderr",
     "output_type": "stream",
     "text": [
      " 80%|████████  | 8/10 [06:01<01:28, 44.07s/it]"
     ]
    },
    {
     "name": "stdout",
     "output_type": "stream",
     "text": [
      "Train Loss: 0.1685 | Valid Loss: 0.9272\n"
     ]
    },
    {
     "name": "stderr",
     "output_type": "stream",
     "text": [
      " 90%|█████████ | 9/10 [06:44<00:43, 43.68s/it]"
     ]
    },
    {
     "name": "stdout",
     "output_type": "stream",
     "text": [
      "Train Loss: 0.1502 | Valid Loss: 0.9688\n"
     ]
    },
    {
     "name": "stderr",
     "output_type": "stream",
     "text": [
      "100%|██████████| 10/10 [07:27<00:00, 44.72s/it]"
     ]
    },
    {
     "name": "stdout",
     "output_type": "stream",
     "text": [
      "Train Loss: 0.1414 | Valid Loss: 0.9686\n"
     ]
    },
    {
     "name": "stderr",
     "output_type": "stream",
     "text": [
      "\n"
     ]
    },
    {
     "name": "stdout",
     "output_type": "stream",
     "text": [
      "\n",
      "Validation Accuracy: 0.3765\n"
     ]
    },
    {
     "data": {
      "text/html": [],
      "text/plain": [
       "<IPython.core.display.HTML object>"
      ]
     },
     "metadata": {},
     "output_type": "display_data"
    },
    {
     "data": {
      "text/html": [
       "<br>    <style><br>        .wandb-row {<br>            display: flex;<br>            flex-direction: row;<br>            flex-wrap: wrap;<br>            justify-content: flex-start;<br>            width: 100%;<br>        }<br>        .wandb-col {<br>            display: flex;<br>            flex-direction: column;<br>            flex-basis: 100%;<br>            flex: 1;<br>            padding: 10px;<br>        }<br>    </style><br><div class=\"wandb-row\"><div class=\"wandb-col\"><h3>Run history:</h3><br/><table class=\"wandb\"><tr><td>epoch</td><td>▁▂▃▃▄▅▆▆▇█</td></tr><tr><td>train_loss</td><td>█▄▃▂▂▂▁▁▁▁</td></tr><tr><td>val_accuracy</td><td>▁</td></tr><tr><td>validation_loss</td><td>▅▂▁▁▃▄▅▆██</td></tr></table><br/></div><div class=\"wandb-col\"><h3>Run summary:</h3><br/><table class=\"wandb\"><tr><td>epoch</td><td>9</td></tr><tr><td>train_loss</td><td>0.14141</td></tr><tr><td>val_accuracy</td><td>0.37655</td></tr><tr><td>validation_loss</td><td>0.96859</td></tr></table><br/></div></div>"
      ],
      "text/plain": [
       "<IPython.core.display.HTML object>"
      ]
     },
     "metadata": {},
     "output_type": "display_data"
    },
    {
     "data": {
      "text/html": [
       " View run <strong style=\"color:#cdcd00\">embedding_size_256_num_layers_3_hidden_size_512                           _cell_type_GRU_dp_0.2_lr_0.0005_batch_32</strong> at: <a href='https://wandb.ai/cs24m022-iit-madras-foundation/cs24m022_DA6401_Assignment3/runs/3a6fmxw9' target=\"_blank\">https://wandb.ai/cs24m022-iit-madras-foundation/cs24m022_DA6401_Assignment3/runs/3a6fmxw9</a><br> View project at: <a href='https://wandb.ai/cs24m022-iit-madras-foundation/cs24m022_DA6401_Assignment3' target=\"_blank\">https://wandb.ai/cs24m022-iit-madras-foundation/cs24m022_DA6401_Assignment3</a><br>Synced 5 W&B file(s), 0 media file(s), 0 artifact file(s) and 0 other file(s)"
      ],
      "text/plain": [
       "<IPython.core.display.HTML object>"
      ]
     },
     "metadata": {},
     "output_type": "display_data"
    },
    {
     "data": {
      "text/html": [
       "Find logs at: <code>./wandb/run-20250520_123225-3a6fmxw9/logs</code>"
      ],
      "text/plain": [
       "<IPython.core.display.HTML object>"
      ]
     },
     "metadata": {},
     "output_type": "display_data"
    },
    {
     "name": "stderr",
     "output_type": "stream",
     "text": [
      "\u001b[34m\u001b[1mwandb\u001b[0m: Agent Starting Run: mjoqz2eu with config:\n",
      "\u001b[34m\u001b[1mwandb\u001b[0m: \tbatch_size: 128\n",
      "\u001b[34m\u001b[1mwandb\u001b[0m: \tcell_type: GRU\n",
      "\u001b[34m\u001b[1mwandb\u001b[0m: \tdropout: 0.2\n",
      "\u001b[34m\u001b[1mwandb\u001b[0m: \tembedding_size: 64\n",
      "\u001b[34m\u001b[1mwandb\u001b[0m: \thidden_size: 512\n",
      "\u001b[34m\u001b[1mwandb\u001b[0m: \tlearning_rate: 0.0005\n",
      "\u001b[34m\u001b[1mwandb\u001b[0m: \tnum_layers: 3\n"
     ]
    },
    {
     "data": {
      "text/html": [
       "Tracking run with wandb version 0.19.9"
      ],
      "text/plain": [
       "<IPython.core.display.HTML object>"
      ]
     },
     "metadata": {},
     "output_type": "display_data"
    },
    {
     "data": {
      "text/html": [
       "Run data is saved locally in <code>/kaggle/working/wandb/run-20250520_124031-mjoqz2eu</code>"
      ],
      "text/plain": [
       "<IPython.core.display.HTML object>"
      ]
     },
     "metadata": {},
     "output_type": "display_data"
    },
    {
     "data": {
      "text/html": [
       "Syncing run <strong><a href='https://wandb.ai/cs24m022-iit-madras-foundation/cs24m022_DA6401_Assignment3/runs/mjoqz2eu' target=\"_blank\">graceful-sweep-27</a></strong> to <a href='https://wandb.ai/cs24m022-iit-madras-foundation/cs24m022_DA6401_Assignment3' target=\"_blank\">Weights & Biases</a> (<a href='https://wandb.me/developer-guide' target=\"_blank\">docs</a>)<br>Sweep page: <a href='https://wandb.ai/cs24m022-iit-madras-foundation/cs24m022_DA6401_Assignment3/sweeps/rxo139kw' target=\"_blank\">https://wandb.ai/cs24m022-iit-madras-foundation/cs24m022_DA6401_Assignment3/sweeps/rxo139kw</a>"
      ],
      "text/plain": [
       "<IPython.core.display.HTML object>"
      ]
     },
     "metadata": {},
     "output_type": "display_data"
    },
    {
     "data": {
      "text/html": [
       " View project at <a href='https://wandb.ai/cs24m022-iit-madras-foundation/cs24m022_DA6401_Assignment3' target=\"_blank\">https://wandb.ai/cs24m022-iit-madras-foundation/cs24m022_DA6401_Assignment3</a>"
      ],
      "text/plain": [
       "<IPython.core.display.HTML object>"
      ]
     },
     "metadata": {},
     "output_type": "display_data"
    },
    {
     "data": {
      "text/html": [
       " View sweep at <a href='https://wandb.ai/cs24m022-iit-madras-foundation/cs24m022_DA6401_Assignment3/sweeps/rxo139kw' target=\"_blank\">https://wandb.ai/cs24m022-iit-madras-foundation/cs24m022_DA6401_Assignment3/sweeps/rxo139kw</a>"
      ],
      "text/plain": [
       "<IPython.core.display.HTML object>"
      ]
     },
     "metadata": {},
     "output_type": "display_data"
    },
    {
     "data": {
      "text/html": [
       " View run at <a href='https://wandb.ai/cs24m022-iit-madras-foundation/cs24m022_DA6401_Assignment3/runs/mjoqz2eu' target=\"_blank\">https://wandb.ai/cs24m022-iit-madras-foundation/cs24m022_DA6401_Assignment3/runs/mjoqz2eu</a>"
      ],
      "text/plain": [
       "<IPython.core.display.HTML object>"
      ]
     },
     "metadata": {},
     "output_type": "display_data"
    },
    {
     "name": "stderr",
     "output_type": "stream",
     "text": [
      " 10%|█         | 1/10 [00:15<02:17, 15.32s/it]"
     ]
    },
    {
     "name": "stdout",
     "output_type": "stream",
     "text": [
      "Train Loss: 1.4876 | Valid Loss: 1.1724\n"
     ]
    },
    {
     "name": "stderr",
     "output_type": "stream",
     "text": [
      " 20%|██        | 2/10 [00:31<02:08, 16.00s/it]"
     ]
    },
    {
     "name": "stdout",
     "output_type": "stream",
     "text": [
      "Train Loss: 0.6705 | Valid Loss: 0.8510\n"
     ]
    },
    {
     "name": "stderr",
     "output_type": "stream",
     "text": [
      " 30%|███       | 3/10 [00:47<01:51, 15.93s/it]"
     ]
    },
    {
     "name": "stdout",
     "output_type": "stream",
     "text": [
      "Train Loss: 0.4595 | Valid Loss: 0.7901\n"
     ]
    },
    {
     "name": "stderr",
     "output_type": "stream",
     "text": [
      " 40%|████      | 4/10 [01:02<01:34, 15.68s/it]"
     ]
    },
    {
     "name": "stdout",
     "output_type": "stream",
     "text": [
      "Train Loss: 0.3668 | Valid Loss: 0.7471\n"
     ]
    },
    {
     "name": "stderr",
     "output_type": "stream",
     "text": [
      " 50%|█████     | 5/10 [01:18<01:17, 15.52s/it]"
     ]
    },
    {
     "name": "stdout",
     "output_type": "stream",
     "text": [
      "Train Loss: 0.3059 | Valid Loss: 0.7261\n"
     ]
    },
    {
     "name": "stderr",
     "output_type": "stream",
     "text": [
      " 60%|██████    | 6/10 [01:33<01:01, 15.48s/it]"
     ]
    },
    {
     "name": "stdout",
     "output_type": "stream",
     "text": [
      "Train Loss: 0.2646 | Valid Loss: 0.7244\n"
     ]
    },
    {
     "name": "stderr",
     "output_type": "stream",
     "text": [
      " 70%|███████   | 7/10 [01:48<00:46, 15.46s/it]"
     ]
    },
    {
     "name": "stdout",
     "output_type": "stream",
     "text": [
      "Train Loss: 0.2305 | Valid Loss: 0.7507\n"
     ]
    },
    {
     "name": "stderr",
     "output_type": "stream",
     "text": [
      " 80%|████████  | 8/10 [02:03<00:30, 15.25s/it]"
     ]
    },
    {
     "name": "stdout",
     "output_type": "stream",
     "text": [
      "Train Loss: 0.1985 | Valid Loss: 0.7713\n"
     ]
    },
    {
     "name": "stderr",
     "output_type": "stream",
     "text": [
      " 90%|█████████ | 9/10 [02:18<00:15, 15.09s/it]"
     ]
    },
    {
     "name": "stdout",
     "output_type": "stream",
     "text": [
      "Train Loss: 0.1759 | Valid Loss: 0.7740\n"
     ]
    },
    {
     "name": "stderr",
     "output_type": "stream",
     "text": [
      "100%|██████████| 10/10 [02:33<00:00, 15.30s/it]"
     ]
    },
    {
     "name": "stdout",
     "output_type": "stream",
     "text": [
      "Train Loss: 0.1556 | Valid Loss: 0.7803\n"
     ]
    },
    {
     "name": "stderr",
     "output_type": "stream",
     "text": [
      "\n"
     ]
    },
    {
     "name": "stdout",
     "output_type": "stream",
     "text": [
      "\n",
      "Validation Accuracy: 0.3258\n"
     ]
    },
    {
     "data": {
      "text/html": [],
      "text/plain": [
       "<IPython.core.display.HTML object>"
      ]
     },
     "metadata": {},
     "output_type": "display_data"
    },
    {
     "data": {
      "text/html": [
       "<br>    <style><br>        .wandb-row {<br>            display: flex;<br>            flex-direction: row;<br>            flex-wrap: wrap;<br>            justify-content: flex-start;<br>            width: 100%;<br>        }<br>        .wandb-col {<br>            display: flex;<br>            flex-direction: column;<br>            flex-basis: 100%;<br>            flex: 1;<br>            padding: 10px;<br>        }<br>    </style><br><div class=\"wandb-row\"><div class=\"wandb-col\"><h3>Run history:</h3><br/><table class=\"wandb\"><tr><td>epoch</td><td>▁▂▃▃▄▅▆▆▇█</td></tr><tr><td>train_loss</td><td>█▄▃▂▂▂▁▁▁▁</td></tr><tr><td>val_accuracy</td><td>▁</td></tr><tr><td>validation_loss</td><td>█▃▂▁▁▁▁▂▂▂</td></tr></table><br/></div><div class=\"wandb-col\"><h3>Run summary:</h3><br/><table class=\"wandb\"><tr><td>epoch</td><td>9</td></tr><tr><td>train_loss</td><td>0.15563</td></tr><tr><td>val_accuracy</td><td>0.32584</td></tr><tr><td>validation_loss</td><td>0.78035</td></tr></table><br/></div></div>"
      ],
      "text/plain": [
       "<IPython.core.display.HTML object>"
      ]
     },
     "metadata": {},
     "output_type": "display_data"
    },
    {
     "data": {
      "text/html": [
       " View run <strong style=\"color:#cdcd00\">embedding_size_64_num_layers_3_hidden_size_512                           _cell_type_GRU_dp_0.2_lr_0.0005_batch_128</strong> at: <a href='https://wandb.ai/cs24m022-iit-madras-foundation/cs24m022_DA6401_Assignment3/runs/mjoqz2eu' target=\"_blank\">https://wandb.ai/cs24m022-iit-madras-foundation/cs24m022_DA6401_Assignment3/runs/mjoqz2eu</a><br> View project at: <a href='https://wandb.ai/cs24m022-iit-madras-foundation/cs24m022_DA6401_Assignment3' target=\"_blank\">https://wandb.ai/cs24m022-iit-madras-foundation/cs24m022_DA6401_Assignment3</a><br>Synced 5 W&B file(s), 0 media file(s), 0 artifact file(s) and 0 other file(s)"
      ],
      "text/plain": [
       "<IPython.core.display.HTML object>"
      ]
     },
     "metadata": {},
     "output_type": "display_data"
    },
    {
     "data": {
      "text/html": [
       "Find logs at: <code>./wandb/run-20250520_124031-mjoqz2eu/logs</code>"
      ],
      "text/plain": [
       "<IPython.core.display.HTML object>"
      ]
     },
     "metadata": {},
     "output_type": "display_data"
    },
    {
     "name": "stderr",
     "output_type": "stream",
     "text": [
      "\u001b[34m\u001b[1mwandb\u001b[0m: Agent Starting Run: h66z2l64 with config:\n",
      "\u001b[34m\u001b[1mwandb\u001b[0m: \tbatch_size: 32\n",
      "\u001b[34m\u001b[1mwandb\u001b[0m: \tcell_type: GRU\n",
      "\u001b[34m\u001b[1mwandb\u001b[0m: \tdropout: 0.2\n",
      "\u001b[34m\u001b[1mwandb\u001b[0m: \tembedding_size: 16\n",
      "\u001b[34m\u001b[1mwandb\u001b[0m: \thidden_size: 512\n",
      "\u001b[34m\u001b[1mwandb\u001b[0m: \tlearning_rate: 0.0005\n",
      "\u001b[34m\u001b[1mwandb\u001b[0m: \tnum_layers: 2\n"
     ]
    },
    {
     "data": {
      "text/html": [
       "Tracking run with wandb version 0.19.9"
      ],
      "text/plain": [
       "<IPython.core.display.HTML object>"
      ]
     },
     "metadata": {},
     "output_type": "display_data"
    },
    {
     "data": {
      "text/html": [
       "Run data is saved locally in <code>/kaggle/working/wandb/run-20250520_124341-h66z2l64</code>"
      ],
      "text/plain": [
       "<IPython.core.display.HTML object>"
      ]
     },
     "metadata": {},
     "output_type": "display_data"
    },
    {
     "data": {
      "text/html": [
       "Syncing run <strong><a href='https://wandb.ai/cs24m022-iit-madras-foundation/cs24m022_DA6401_Assignment3/runs/h66z2l64' target=\"_blank\">good-sweep-28</a></strong> to <a href='https://wandb.ai/cs24m022-iit-madras-foundation/cs24m022_DA6401_Assignment3' target=\"_blank\">Weights & Biases</a> (<a href='https://wandb.me/developer-guide' target=\"_blank\">docs</a>)<br>Sweep page: <a href='https://wandb.ai/cs24m022-iit-madras-foundation/cs24m022_DA6401_Assignment3/sweeps/rxo139kw' target=\"_blank\">https://wandb.ai/cs24m022-iit-madras-foundation/cs24m022_DA6401_Assignment3/sweeps/rxo139kw</a>"
      ],
      "text/plain": [
       "<IPython.core.display.HTML object>"
      ]
     },
     "metadata": {},
     "output_type": "display_data"
    },
    {
     "data": {
      "text/html": [
       " View project at <a href='https://wandb.ai/cs24m022-iit-madras-foundation/cs24m022_DA6401_Assignment3' target=\"_blank\">https://wandb.ai/cs24m022-iit-madras-foundation/cs24m022_DA6401_Assignment3</a>"
      ],
      "text/plain": [
       "<IPython.core.display.HTML object>"
      ]
     },
     "metadata": {},
     "output_type": "display_data"
    },
    {
     "data": {
      "text/html": [
       " View sweep at <a href='https://wandb.ai/cs24m022-iit-madras-foundation/cs24m022_DA6401_Assignment3/sweeps/rxo139kw' target=\"_blank\">https://wandb.ai/cs24m022-iit-madras-foundation/cs24m022_DA6401_Assignment3/sweeps/rxo139kw</a>"
      ],
      "text/plain": [
       "<IPython.core.display.HTML object>"
      ]
     },
     "metadata": {},
     "output_type": "display_data"
    },
    {
     "data": {
      "text/html": [
       " View run at <a href='https://wandb.ai/cs24m022-iit-madras-foundation/cs24m022_DA6401_Assignment3/runs/h66z2l64' target=\"_blank\">https://wandb.ai/cs24m022-iit-madras-foundation/cs24m022_DA6401_Assignment3/runs/h66z2l64</a>"
      ],
      "text/plain": [
       "<IPython.core.display.HTML object>"
      ]
     },
     "metadata": {},
     "output_type": "display_data"
    },
    {
     "name": "stderr",
     "output_type": "stream",
     "text": [
      " 10%|█         | 1/10 [00:35<05:18, 35.41s/it]"
     ]
    },
    {
     "name": "stdout",
     "output_type": "stream",
     "text": [
      "Train Loss: 1.3433 | Valid Loss: 1.1000\n"
     ]
    },
    {
     "name": "stderr",
     "output_type": "stream",
     "text": [
      " 20%|██        | 2/10 [01:10<04:42, 35.29s/it]"
     ]
    },
    {
     "name": "stdout",
     "output_type": "stream",
     "text": [
      "Train Loss: 0.6753 | Valid Loss: 0.9311\n"
     ]
    },
    {
     "name": "stderr",
     "output_type": "stream",
     "text": [
      " 30%|███       | 3/10 [01:45<04:07, 35.31s/it]"
     ]
    },
    {
     "name": "stdout",
     "output_type": "stream",
     "text": [
      "Train Loss: 0.5068 | Valid Loss: 0.8754\n"
     ]
    },
    {
     "name": "stderr",
     "output_type": "stream",
     "text": [
      " 40%|████      | 4/10 [02:21<03:32, 35.33s/it]"
     ]
    },
    {
     "name": "stdout",
     "output_type": "stream",
     "text": [
      "Train Loss: 0.4142 | Valid Loss: 0.8225\n"
     ]
    },
    {
     "name": "stderr",
     "output_type": "stream",
     "text": [
      " 50%|█████     | 5/10 [02:56<02:56, 35.26s/it]"
     ]
    },
    {
     "name": "stdout",
     "output_type": "stream",
     "text": [
      "Train Loss: 0.3501 | Valid Loss: 0.8534\n"
     ]
    },
    {
     "name": "stderr",
     "output_type": "stream",
     "text": [
      " 60%|██████    | 6/10 [03:31<02:20, 35.15s/it]"
     ]
    },
    {
     "name": "stdout",
     "output_type": "stream",
     "text": [
      "Train Loss: 0.3096 | Valid Loss: 0.8537\n"
     ]
    },
    {
     "name": "stderr",
     "output_type": "stream",
     "text": [
      " 70%|███████   | 7/10 [04:06<01:45, 35.19s/it]"
     ]
    },
    {
     "name": "stdout",
     "output_type": "stream",
     "text": [
      "Train Loss: 0.2688 | Valid Loss: 0.8543\n"
     ]
    },
    {
     "name": "stderr",
     "output_type": "stream",
     "text": [
      " 80%|████████  | 8/10 [04:41<01:10, 35.23s/it]"
     ]
    },
    {
     "name": "stdout",
     "output_type": "stream",
     "text": [
      "Train Loss: 0.2368 | Valid Loss: 0.8830\n"
     ]
    },
    {
     "name": "stderr",
     "output_type": "stream",
     "text": [
      " 90%|█████████ | 9/10 [05:16<00:35, 35.13s/it]"
     ]
    },
    {
     "name": "stdout",
     "output_type": "stream",
     "text": [
      "Train Loss: 0.2127 | Valid Loss: 0.9033\n"
     ]
    },
    {
     "name": "stderr",
     "output_type": "stream",
     "text": [
      "100%|██████████| 10/10 [05:52<00:00, 35.22s/it]"
     ]
    },
    {
     "name": "stdout",
     "output_type": "stream",
     "text": [
      "Train Loss: 0.1932 | Valid Loss: 0.9179\n"
     ]
    },
    {
     "name": "stderr",
     "output_type": "stream",
     "text": [
      "\n"
     ]
    },
    {
     "name": "stdout",
     "output_type": "stream",
     "text": [
      "\n",
      "Validation Accuracy: 0.3084\n"
     ]
    },
    {
     "data": {
      "text/html": [],
      "text/plain": [
       "<IPython.core.display.HTML object>"
      ]
     },
     "metadata": {},
     "output_type": "display_data"
    },
    {
     "data": {
      "text/html": [
       "<br>    <style><br>        .wandb-row {<br>            display: flex;<br>            flex-direction: row;<br>            flex-wrap: wrap;<br>            justify-content: flex-start;<br>            width: 100%;<br>        }<br>        .wandb-col {<br>            display: flex;<br>            flex-direction: column;<br>            flex-basis: 100%;<br>            flex: 1;<br>            padding: 10px;<br>        }<br>    </style><br><div class=\"wandb-row\"><div class=\"wandb-col\"><h3>Run history:</h3><br/><table class=\"wandb\"><tr><td>epoch</td><td>▁▂▃▃▄▅▆▆▇█</td></tr><tr><td>train_loss</td><td>█▄▃▂▂▂▁▁▁▁</td></tr><tr><td>val_accuracy</td><td>▁</td></tr><tr><td>validation_loss</td><td>█▄▂▁▂▂▂▃▃▃</td></tr></table><br/></div><div class=\"wandb-col\"><h3>Run summary:</h3><br/><table class=\"wandb\"><tr><td>epoch</td><td>9</td></tr><tr><td>train_loss</td><td>0.19318</td></tr><tr><td>val_accuracy</td><td>0.3084</td></tr><tr><td>validation_loss</td><td>0.91793</td></tr></table><br/></div></div>"
      ],
      "text/plain": [
       "<IPython.core.display.HTML object>"
      ]
     },
     "metadata": {},
     "output_type": "display_data"
    },
    {
     "data": {
      "text/html": [
       " View run <strong style=\"color:#cdcd00\">embedding_size_16_num_layers_2_hidden_size_512                           _cell_type_GRU_dp_0.2_lr_0.0005_batch_32</strong> at: <a href='https://wandb.ai/cs24m022-iit-madras-foundation/cs24m022_DA6401_Assignment3/runs/h66z2l64' target=\"_blank\">https://wandb.ai/cs24m022-iit-madras-foundation/cs24m022_DA6401_Assignment3/runs/h66z2l64</a><br> View project at: <a href='https://wandb.ai/cs24m022-iit-madras-foundation/cs24m022_DA6401_Assignment3' target=\"_blank\">https://wandb.ai/cs24m022-iit-madras-foundation/cs24m022_DA6401_Assignment3</a><br>Synced 5 W&B file(s), 0 media file(s), 0 artifact file(s) and 0 other file(s)"
      ],
      "text/plain": [
       "<IPython.core.display.HTML object>"
      ]
     },
     "metadata": {},
     "output_type": "display_data"
    },
    {
     "data": {
      "text/html": [
       "Find logs at: <code>./wandb/run-20250520_124341-h66z2l64/logs</code>"
      ],
      "text/plain": [
       "<IPython.core.display.HTML object>"
      ]
     },
     "metadata": {},
     "output_type": "display_data"
    },
    {
     "name": "stderr",
     "output_type": "stream",
     "text": [
      "\u001b[34m\u001b[1mwandb\u001b[0m: Agent Starting Run: 8t5q5aj9 with config:\n",
      "\u001b[34m\u001b[1mwandb\u001b[0m: \tbatch_size: 128\n",
      "\u001b[34m\u001b[1mwandb\u001b[0m: \tcell_type: GRU\n",
      "\u001b[34m\u001b[1mwandb\u001b[0m: \tdropout: 0.2\n",
      "\u001b[34m\u001b[1mwandb\u001b[0m: \tembedding_size: 256\n",
      "\u001b[34m\u001b[1mwandb\u001b[0m: \thidden_size: 512\n",
      "\u001b[34m\u001b[1mwandb\u001b[0m: \tlearning_rate: 0.001\n",
      "\u001b[34m\u001b[1mwandb\u001b[0m: \tnum_layers: 2\n"
     ]
    },
    {
     "data": {
      "text/html": [
       "Tracking run with wandb version 0.19.9"
      ],
      "text/plain": [
       "<IPython.core.display.HTML object>"
      ]
     },
     "metadata": {},
     "output_type": "display_data"
    },
    {
     "data": {
      "text/html": [
       "Run data is saved locally in <code>/kaggle/working/wandb/run-20250520_125012-8t5q5aj9</code>"
      ],
      "text/plain": [
       "<IPython.core.display.HTML object>"
      ]
     },
     "metadata": {},
     "output_type": "display_data"
    },
    {
     "data": {
      "text/html": [
       "Syncing run <strong><a href='https://wandb.ai/cs24m022-iit-madras-foundation/cs24m022_DA6401_Assignment3/runs/8t5q5aj9' target=\"_blank\">light-sweep-29</a></strong> to <a href='https://wandb.ai/cs24m022-iit-madras-foundation/cs24m022_DA6401_Assignment3' target=\"_blank\">Weights & Biases</a> (<a href='https://wandb.me/developer-guide' target=\"_blank\">docs</a>)<br>Sweep page: <a href='https://wandb.ai/cs24m022-iit-madras-foundation/cs24m022_DA6401_Assignment3/sweeps/rxo139kw' target=\"_blank\">https://wandb.ai/cs24m022-iit-madras-foundation/cs24m022_DA6401_Assignment3/sweeps/rxo139kw</a>"
      ],
      "text/plain": [
       "<IPython.core.display.HTML object>"
      ]
     },
     "metadata": {},
     "output_type": "display_data"
    },
    {
     "data": {
      "text/html": [
       " View project at <a href='https://wandb.ai/cs24m022-iit-madras-foundation/cs24m022_DA6401_Assignment3' target=\"_blank\">https://wandb.ai/cs24m022-iit-madras-foundation/cs24m022_DA6401_Assignment3</a>"
      ],
      "text/plain": [
       "<IPython.core.display.HTML object>"
      ]
     },
     "metadata": {},
     "output_type": "display_data"
    },
    {
     "data": {
      "text/html": [
       " View sweep at <a href='https://wandb.ai/cs24m022-iit-madras-foundation/cs24m022_DA6401_Assignment3/sweeps/rxo139kw' target=\"_blank\">https://wandb.ai/cs24m022-iit-madras-foundation/cs24m022_DA6401_Assignment3/sweeps/rxo139kw</a>"
      ],
      "text/plain": [
       "<IPython.core.display.HTML object>"
      ]
     },
     "metadata": {},
     "output_type": "display_data"
    },
    {
     "data": {
      "text/html": [
       " View run at <a href='https://wandb.ai/cs24m022-iit-madras-foundation/cs24m022_DA6401_Assignment3/runs/8t5q5aj9' target=\"_blank\">https://wandb.ai/cs24m022-iit-madras-foundation/cs24m022_DA6401_Assignment3/runs/8t5q5aj9</a>"
      ],
      "text/plain": [
       "<IPython.core.display.HTML object>"
      ]
     },
     "metadata": {},
     "output_type": "display_data"
    },
    {
     "name": "stderr",
     "output_type": "stream",
     "text": [
      " 10%|█         | 1/10 [00:12<01:48, 12.09s/it]"
     ]
    },
    {
     "name": "stdout",
     "output_type": "stream",
     "text": [
      "Train Loss: 0.9609 | Valid Loss: 0.9013\n"
     ]
    },
    {
     "name": "stderr",
     "output_type": "stream",
     "text": [
      " 20%|██        | 2/10 [00:24<01:37, 12.18s/it]"
     ]
    },
    {
     "name": "stdout",
     "output_type": "stream",
     "text": [
      "Train Loss: 0.4356 | Valid Loss: 0.8227\n"
     ]
    },
    {
     "name": "stderr",
     "output_type": "stream",
     "text": [
      " 30%|███       | 3/10 [00:36<01:24, 12.09s/it]"
     ]
    },
    {
     "name": "stdout",
     "output_type": "stream",
     "text": [
      "Train Loss: 0.3295 | Valid Loss: 0.7580\n"
     ]
    },
    {
     "name": "stderr",
     "output_type": "stream",
     "text": [
      " 40%|████      | 4/10 [00:48<01:12, 12.04s/it]"
     ]
    },
    {
     "name": "stdout",
     "output_type": "stream",
     "text": [
      "Train Loss: 0.2675 | Valid Loss: 0.7532\n"
     ]
    },
    {
     "name": "stderr",
     "output_type": "stream",
     "text": [
      " 50%|█████     | 5/10 [01:00<01:00, 12.11s/it]"
     ]
    },
    {
     "name": "stdout",
     "output_type": "stream",
     "text": [
      "Train Loss: 0.2216 | Valid Loss: 0.7720\n"
     ]
    },
    {
     "name": "stderr",
     "output_type": "stream",
     "text": [
      " 60%|██████    | 6/10 [01:12<00:48, 12.01s/it]"
     ]
    },
    {
     "name": "stdout",
     "output_type": "stream",
     "text": [
      "Train Loss: 0.1940 | Valid Loss: 0.7986\n"
     ]
    },
    {
     "name": "stderr",
     "output_type": "stream",
     "text": [
      " 70%|███████   | 7/10 [01:24<00:36, 12.00s/it]"
     ]
    },
    {
     "name": "stdout",
     "output_type": "stream",
     "text": [
      "Train Loss: 0.1737 | Valid Loss: 0.8267\n"
     ]
    },
    {
     "name": "stderr",
     "output_type": "stream",
     "text": [
      " 80%|████████  | 8/10 [01:36<00:24, 12.04s/it]"
     ]
    },
    {
     "name": "stdout",
     "output_type": "stream",
     "text": [
      "Train Loss: 0.1540 | Valid Loss: 0.8422\n"
     ]
    },
    {
     "name": "stderr",
     "output_type": "stream",
     "text": [
      " 90%|█████████ | 9/10 [01:48<00:11, 11.99s/it]"
     ]
    },
    {
     "name": "stdout",
     "output_type": "stream",
     "text": [
      "Train Loss: 0.1393 | Valid Loss: 0.8706\n"
     ]
    },
    {
     "name": "stderr",
     "output_type": "stream",
     "text": [
      "100%|██████████| 10/10 [02:00<00:00, 12.05s/it]"
     ]
    },
    {
     "name": "stdout",
     "output_type": "stream",
     "text": [
      "Train Loss: 0.1304 | Valid Loss: 0.8933\n"
     ]
    },
    {
     "name": "stderr",
     "output_type": "stream",
     "text": [
      "\n"
     ]
    },
    {
     "name": "stdout",
     "output_type": "stream",
     "text": [
      "\n",
      "Validation Accuracy: 0.3343\n"
     ]
    },
    {
     "data": {
      "text/html": [],
      "text/plain": [
       "<IPython.core.display.HTML object>"
      ]
     },
     "metadata": {},
     "output_type": "display_data"
    },
    {
     "data": {
      "text/html": [
       "<br>    <style><br>        .wandb-row {<br>            display: flex;<br>            flex-direction: row;<br>            flex-wrap: wrap;<br>            justify-content: flex-start;<br>            width: 100%;<br>        }<br>        .wandb-col {<br>            display: flex;<br>            flex-direction: column;<br>            flex-basis: 100%;<br>            flex: 1;<br>            padding: 10px;<br>        }<br>    </style><br><div class=\"wandb-row\"><div class=\"wandb-col\"><h3>Run history:</h3><br/><table class=\"wandb\"><tr><td>epoch</td><td>▁▂▃▃▄▅▆▆▇█</td></tr><tr><td>train_loss</td><td>█▄▃▂▂▂▁▁▁▁</td></tr><tr><td>val_accuracy</td><td>▁</td></tr><tr><td>validation_loss</td><td>█▄▁▁▂▃▄▅▇█</td></tr></table><br/></div><div class=\"wandb-col\"><h3>Run summary:</h3><br/><table class=\"wandb\"><tr><td>epoch</td><td>9</td></tr><tr><td>train_loss</td><td>0.1304</td></tr><tr><td>val_accuracy</td><td>0.33433</td></tr><tr><td>validation_loss</td><td>0.89333</td></tr></table><br/></div></div>"
      ],
      "text/plain": [
       "<IPython.core.display.HTML object>"
      ]
     },
     "metadata": {},
     "output_type": "display_data"
    },
    {
     "data": {
      "text/html": [
       " View run <strong style=\"color:#cdcd00\">embedding_size_256_num_layers_2_hidden_size_512                           _cell_type_GRU_dp_0.2_lr_0.001_batch_128</strong> at: <a href='https://wandb.ai/cs24m022-iit-madras-foundation/cs24m022_DA6401_Assignment3/runs/8t5q5aj9' target=\"_blank\">https://wandb.ai/cs24m022-iit-madras-foundation/cs24m022_DA6401_Assignment3/runs/8t5q5aj9</a><br> View project at: <a href='https://wandb.ai/cs24m022-iit-madras-foundation/cs24m022_DA6401_Assignment3' target=\"_blank\">https://wandb.ai/cs24m022-iit-madras-foundation/cs24m022_DA6401_Assignment3</a><br>Synced 5 W&B file(s), 0 media file(s), 0 artifact file(s) and 0 other file(s)"
      ],
      "text/plain": [
       "<IPython.core.display.HTML object>"
      ]
     },
     "metadata": {},
     "output_type": "display_data"
    },
    {
     "data": {
      "text/html": [
       "Find logs at: <code>./wandb/run-20250520_125012-8t5q5aj9/logs</code>"
      ],
      "text/plain": [
       "<IPython.core.display.HTML object>"
      ]
     },
     "metadata": {},
     "output_type": "display_data"
    },
    {
     "name": "stderr",
     "output_type": "stream",
     "text": [
      "\u001b[34m\u001b[1mwandb\u001b[0m: Agent Starting Run: tvzw6uan with config:\n",
      "\u001b[34m\u001b[1mwandb\u001b[0m: \tbatch_size: 128\n",
      "\u001b[34m\u001b[1mwandb\u001b[0m: \tcell_type: GRU\n",
      "\u001b[34m\u001b[1mwandb\u001b[0m: \tdropout: 0.2\n",
      "\u001b[34m\u001b[1mwandb\u001b[0m: \tembedding_size: 256\n",
      "\u001b[34m\u001b[1mwandb\u001b[0m: \thidden_size: 512\n",
      "\u001b[34m\u001b[1mwandb\u001b[0m: \tlearning_rate: 0.001\n",
      "\u001b[34m\u001b[1mwandb\u001b[0m: \tnum_layers: 3\n"
     ]
    },
    {
     "data": {
      "text/html": [
       "Tracking run with wandb version 0.19.9"
      ],
      "text/plain": [
       "<IPython.core.display.HTML object>"
      ]
     },
     "metadata": {},
     "output_type": "display_data"
    },
    {
     "data": {
      "text/html": [
       "Run data is saved locally in <code>/kaggle/working/wandb/run-20250520_125251-tvzw6uan</code>"
      ],
      "text/plain": [
       "<IPython.core.display.HTML object>"
      ]
     },
     "metadata": {},
     "output_type": "display_data"
    },
    {
     "data": {
      "text/html": [
       "Syncing run <strong><a href='https://wandb.ai/cs24m022-iit-madras-foundation/cs24m022_DA6401_Assignment3/runs/tvzw6uan' target=\"_blank\">toasty-sweep-30</a></strong> to <a href='https://wandb.ai/cs24m022-iit-madras-foundation/cs24m022_DA6401_Assignment3' target=\"_blank\">Weights & Biases</a> (<a href='https://wandb.me/developer-guide' target=\"_blank\">docs</a>)<br>Sweep page: <a href='https://wandb.ai/cs24m022-iit-madras-foundation/cs24m022_DA6401_Assignment3/sweeps/rxo139kw' target=\"_blank\">https://wandb.ai/cs24m022-iit-madras-foundation/cs24m022_DA6401_Assignment3/sweeps/rxo139kw</a>"
      ],
      "text/plain": [
       "<IPython.core.display.HTML object>"
      ]
     },
     "metadata": {},
     "output_type": "display_data"
    },
    {
     "data": {
      "text/html": [
       " View project at <a href='https://wandb.ai/cs24m022-iit-madras-foundation/cs24m022_DA6401_Assignment3' target=\"_blank\">https://wandb.ai/cs24m022-iit-madras-foundation/cs24m022_DA6401_Assignment3</a>"
      ],
      "text/plain": [
       "<IPython.core.display.HTML object>"
      ]
     },
     "metadata": {},
     "output_type": "display_data"
    },
    {
     "data": {
      "text/html": [
       " View sweep at <a href='https://wandb.ai/cs24m022-iit-madras-foundation/cs24m022_DA6401_Assignment3/sweeps/rxo139kw' target=\"_blank\">https://wandb.ai/cs24m022-iit-madras-foundation/cs24m022_DA6401_Assignment3/sweeps/rxo139kw</a>"
      ],
      "text/plain": [
       "<IPython.core.display.HTML object>"
      ]
     },
     "metadata": {},
     "output_type": "display_data"
    },
    {
     "data": {
      "text/html": [
       " View run at <a href='https://wandb.ai/cs24m022-iit-madras-foundation/cs24m022_DA6401_Assignment3/runs/tvzw6uan' target=\"_blank\">https://wandb.ai/cs24m022-iit-madras-foundation/cs24m022_DA6401_Assignment3/runs/tvzw6uan</a>"
      ],
      "text/plain": [
       "<IPython.core.display.HTML object>"
      ]
     },
     "metadata": {},
     "output_type": "display_data"
    },
    {
     "name": "stderr",
     "output_type": "stream",
     "text": [
      " 10%|█         | 1/10 [00:14<02:13, 14.78s/it]"
     ]
    },
    {
     "name": "stdout",
     "output_type": "stream",
     "text": [
      "Train Loss: 0.9803 | Valid Loss: 0.8979\n"
     ]
    },
    {
     "name": "stderr",
     "output_type": "stream",
     "text": [
      " 20%|██        | 2/10 [00:29<01:59, 14.95s/it]"
     ]
    },
    {
     "name": "stdout",
     "output_type": "stream",
     "text": [
      "Train Loss: 0.4158 | Valid Loss: 0.8394\n"
     ]
    },
    {
     "name": "stderr",
     "output_type": "stream",
     "text": [
      " 30%|███       | 3/10 [00:44<01:44, 14.98s/it]"
     ]
    },
    {
     "name": "stdout",
     "output_type": "stream",
     "text": [
      "Train Loss: 0.3273 | Valid Loss: 0.7979\n"
     ]
    },
    {
     "name": "stderr",
     "output_type": "stream",
     "text": [
      " 40%|████      | 4/10 [01:00<01:30, 15.14s/it]"
     ]
    },
    {
     "name": "stdout",
     "output_type": "stream",
     "text": [
      "Train Loss: 0.2647 | Valid Loss: 0.7766\n"
     ]
    },
    {
     "name": "stderr",
     "output_type": "stream",
     "text": [
      " 50%|█████     | 5/10 [01:15<01:15, 15.14s/it]"
     ]
    },
    {
     "name": "stdout",
     "output_type": "stream",
     "text": [
      "Train Loss: 0.2291 | Valid Loss: 0.7849\n"
     ]
    },
    {
     "name": "stderr",
     "output_type": "stream",
     "text": [
      " 60%|██████    | 6/10 [01:30<01:00, 15.07s/it]"
     ]
    },
    {
     "name": "stdout",
     "output_type": "stream",
     "text": [
      "Train Loss: 0.1941 | Valid Loss: 0.8000\n"
     ]
    },
    {
     "name": "stderr",
     "output_type": "stream",
     "text": [
      " 70%|███████   | 7/10 [01:45<00:45, 15.10s/it]"
     ]
    },
    {
     "name": "stdout",
     "output_type": "stream",
     "text": [
      "Train Loss: 0.1740 | Valid Loss: 0.7871\n"
     ]
    },
    {
     "name": "stderr",
     "output_type": "stream",
     "text": [
      " 80%|████████  | 8/10 [02:00<00:30, 15.22s/it]"
     ]
    },
    {
     "name": "stdout",
     "output_type": "stream",
     "text": [
      "Train Loss: 0.1613 | Valid Loss: 0.8034\n"
     ]
    },
    {
     "name": "stderr",
     "output_type": "stream",
     "text": [
      " 90%|█████████ | 9/10 [02:15<00:15, 15.14s/it]"
     ]
    },
    {
     "name": "stdout",
     "output_type": "stream",
     "text": [
      "Train Loss: 0.1461 | Valid Loss: 0.8616\n"
     ]
    },
    {
     "name": "stderr",
     "output_type": "stream",
     "text": [
      "100%|██████████| 10/10 [02:30<00:00, 15.07s/it]"
     ]
    },
    {
     "name": "stdout",
     "output_type": "stream",
     "text": [
      "Train Loss: 0.1365 | Valid Loss: 0.8908\n"
     ]
    },
    {
     "name": "stderr",
     "output_type": "stream",
     "text": [
      "\n"
     ]
    },
    {
     "name": "stdout",
     "output_type": "stream",
     "text": [
      "\n",
      "Validation Accuracy: 0.3646\n"
     ]
    },
    {
     "data": {
      "text/html": [],
      "text/plain": [
       "<IPython.core.display.HTML object>"
      ]
     },
     "metadata": {},
     "output_type": "display_data"
    },
    {
     "data": {
      "text/html": [
       "<br>    <style><br>        .wandb-row {<br>            display: flex;<br>            flex-direction: row;<br>            flex-wrap: wrap;<br>            justify-content: flex-start;<br>            width: 100%;<br>        }<br>        .wandb-col {<br>            display: flex;<br>            flex-direction: column;<br>            flex-basis: 100%;<br>            flex: 1;<br>            padding: 10px;<br>        }<br>    </style><br><div class=\"wandb-row\"><div class=\"wandb-col\"><h3>Run history:</h3><br/><table class=\"wandb\"><tr><td>epoch</td><td>▁▂▃▃▄▅▆▆▇█</td></tr><tr><td>train_loss</td><td>█▃▃▂▂▁▁▁▁▁</td></tr><tr><td>val_accuracy</td><td>▁</td></tr><tr><td>validation_loss</td><td>█▅▂▁▁▂▂▃▆█</td></tr></table><br/></div><div class=\"wandb-col\"><h3>Run summary:</h3><br/><table class=\"wandb\"><tr><td>epoch</td><td>9</td></tr><tr><td>train_loss</td><td>0.13648</td></tr><tr><td>val_accuracy</td><td>0.36462</td></tr><tr><td>validation_loss</td><td>0.89084</td></tr></table><br/></div></div>"
      ],
      "text/plain": [
       "<IPython.core.display.HTML object>"
      ]
     },
     "metadata": {},
     "output_type": "display_data"
    },
    {
     "data": {
      "text/html": [
       " View run <strong style=\"color:#cdcd00\">embedding_size_256_num_layers_3_hidden_size_512                           _cell_type_GRU_dp_0.2_lr_0.001_batch_128</strong> at: <a href='https://wandb.ai/cs24m022-iit-madras-foundation/cs24m022_DA6401_Assignment3/runs/tvzw6uan' target=\"_blank\">https://wandb.ai/cs24m022-iit-madras-foundation/cs24m022_DA6401_Assignment3/runs/tvzw6uan</a><br> View project at: <a href='https://wandb.ai/cs24m022-iit-madras-foundation/cs24m022_DA6401_Assignment3' target=\"_blank\">https://wandb.ai/cs24m022-iit-madras-foundation/cs24m022_DA6401_Assignment3</a><br>Synced 5 W&B file(s), 0 media file(s), 0 artifact file(s) and 0 other file(s)"
      ],
      "text/plain": [
       "<IPython.core.display.HTML object>"
      ]
     },
     "metadata": {},
     "output_type": "display_data"
    },
    {
     "data": {
      "text/html": [
       "Find logs at: <code>./wandb/run-20250520_125251-tvzw6uan/logs</code>"
      ],
      "text/plain": [
       "<IPython.core.display.HTML object>"
      ]
     },
     "metadata": {},
     "output_type": "display_data"
    }
   ],
   "source": [
    "wandb.agent('rxo139kw', function = sweep_hyperparameters, count = 30)"
   ]
  },
  {
   "cell_type": "markdown",
   "id": "Wp5dDXgGMFWB",
   "metadata": {
    "id": "Wp5dDXgGMFWB"
   },
   "source": [
    "## Evaluate Best Vanilla Model on Test Dataset"
   ]
  },
  {
   "cell_type": "code",
   "execution_count": 27,
   "id": "SRZpE1C8COcK",
   "metadata": {
    "colab": {
     "base_uri": "https://localhost:8080/"
    },
    "execution": {
     "iopub.execute_input": "2025-05-20T13:03:47.927042Z",
     "iopub.status.busy": "2025-05-20T13:03:47.926514Z",
     "iopub.status.idle": "2025-05-20T13:08:01.652160Z",
     "shell.execute_reply": "2025-05-20T13:08:01.651399Z",
     "shell.execute_reply.started": "2025-05-20T13:03:47.927018Z"
    },
    "id": "SRZpE1C8COcK",
    "outputId": "005fe759-4030-46ac-c7f4-98930039d691",
    "trusted": true
   },
   "outputs": [
    {
     "name": "stderr",
     "output_type": "stream",
     "text": [
      " 10%|█         | 1/10 [00:24<03:38, 24.26s/it]"
     ]
    },
    {
     "name": "stdout",
     "output_type": "stream",
     "text": [
      "Train Loss: 1.5922 | Valid Loss: 1.1444\n"
     ]
    },
    {
     "name": "stderr",
     "output_type": "stream",
     "text": [
      " 20%|██        | 2/10 [00:48<03:15, 24.42s/it]"
     ]
    },
    {
     "name": "stdout",
     "output_type": "stream",
     "text": [
      "Train Loss: 0.7158 | Valid Loss: 1.0068\n"
     ]
    },
    {
     "name": "stderr",
     "output_type": "stream",
     "text": [
      " 30%|███       | 3/10 [01:13<02:51, 24.43s/it]"
     ]
    },
    {
     "name": "stdout",
     "output_type": "stream",
     "text": [
      "Train Loss: 0.5420 | Valid Loss: 1.0317\n"
     ]
    },
    {
     "name": "stderr",
     "output_type": "stream",
     "text": [
      " 40%|████      | 4/10 [01:38<02:27, 24.57s/it]"
     ]
    },
    {
     "name": "stdout",
     "output_type": "stream",
     "text": [
      "Train Loss: 0.4400 | Valid Loss: 1.0014\n"
     ]
    },
    {
     "name": "stderr",
     "output_type": "stream",
     "text": [
      " 50%|█████     | 5/10 [02:02<02:02, 24.60s/it]"
     ]
    },
    {
     "name": "stdout",
     "output_type": "stream",
     "text": [
      "Train Loss: 0.3637 | Valid Loss: 1.0284\n"
     ]
    },
    {
     "name": "stderr",
     "output_type": "stream",
     "text": [
      " 60%|██████    | 6/10 [02:27<01:38, 24.70s/it]"
     ]
    },
    {
     "name": "stdout",
     "output_type": "stream",
     "text": [
      "Train Loss: 0.3066 | Valid Loss: 1.0625\n"
     ]
    },
    {
     "name": "stderr",
     "output_type": "stream",
     "text": [
      " 70%|███████   | 7/10 [02:53<01:15, 25.13s/it]"
     ]
    },
    {
     "name": "stdout",
     "output_type": "stream",
     "text": [
      "Train Loss: 0.2666 | Valid Loss: 1.0582\n"
     ]
    },
    {
     "name": "stderr",
     "output_type": "stream",
     "text": [
      " 80%|████████  | 8/10 [03:19<00:50, 25.36s/it]"
     ]
    },
    {
     "name": "stdout",
     "output_type": "stream",
     "text": [
      "Train Loss: 0.2321 | Valid Loss: 1.1479\n"
     ]
    },
    {
     "name": "stderr",
     "output_type": "stream",
     "text": [
      " 90%|█████████ | 9/10 [03:45<00:25, 25.60s/it]"
     ]
    },
    {
     "name": "stdout",
     "output_type": "stream",
     "text": [
      "Train Loss: 0.2074 | Valid Loss: 1.1636\n"
     ]
    },
    {
     "name": "stderr",
     "output_type": "stream",
     "text": [
      "100%|██████████| 10/10 [04:11<00:00, 25.14s/it]"
     ]
    },
    {
     "name": "stdout",
     "output_type": "stream",
     "text": [
      "Train Loss: 0.1855 | Valid Loss: 1.2250\n"
     ]
    },
    {
     "name": "stderr",
     "output_type": "stream",
     "text": [
      "\n"
     ]
    }
   ],
   "source": [
    "INPUT_SIZE = src_vocab.vocab_size\n",
    "OUTPUT_SIZE = tgt_vocab.vocab_size\n",
    "EMBEDDING_SIZE = 256\n",
    "HIDDEN_SIZE = 512\n",
    "NUM_LAYERS = 3\n",
    "CELL_TYPE = \"GRU\"\n",
    "DROPOUT = 0.2\n",
    "LEARNING_RATE = 0.0005\n",
    "BATCH_SIZE = 64\n",
    "NUM_EPOCHS = 10\n",
    "\n",
    "\n",
    "train_dataset = TransliterationDataset(TRAIN_FilePath, src_vocab, tgt_vocab)\n",
    "train_loader = DataLoader(train_dataset, batch_size=BATCH_SIZE, shuffle=True, collate_fn=collate_fn)\n",
    "\n",
    "dev_dataset = TransliterationDataset(DEV_FilePath, src_vocab, tgt_vocab)\n",
    "dev_loader = DataLoader(dev_dataset, batch_size=BATCH_SIZE, shuffle=False, collate_fn=collate_fn)\n",
    "\n",
    "test_dataset = TransliterationDataset(TEST_FilePath, src_vocab, tgt_vocab)\n",
    "test_loader = DataLoader(test_dataset, batch_size=BATCH_SIZE, shuffle=False, collate_fn=collate_fn)\n",
    "\n",
    "# Initialize encoder, decoder, and seq2seq model\n",
    "encoder = Encoder(\n",
    "    input_size=INPUT_SIZE,\n",
    "    embedding_size=EMBEDDING_SIZE,\n",
    "    hidden_size=HIDDEN_SIZE,\n",
    "    num_layers=NUM_LAYERS,\n",
    "    cell_type=CELL_TYPE,\n",
    "    dropout=DROPOUT\n",
    ")\n",
    "\n",
    "decoder = Decoder(\n",
    "    output_size=OUTPUT_SIZE,\n",
    "    embedding_size=EMBEDDING_SIZE,\n",
    "    hidden_size=HIDDEN_SIZE,\n",
    "    num_layers=NUM_LAYERS,\n",
    "    cell_type=CELL_TYPE,\n",
    "    dropout=DROPOUT\n",
    ")\n",
    "\n",
    "model = Seq2Seq(encoder, decoder, device).to(device)\n",
    "criterion = nn.CrossEntropyLoss(ignore_index=0)\n",
    "optimizer = optim.Adam(model.parameters(), lr=LEARNING_RATE)\n",
    "\n",
    "for epoch in tqdm(range(NUM_EPOCHS)):\n",
    "    # Train model\n",
    "    train_loss = train(model, train_loader, optimizer, criterion)\n",
    "    # Evaluate model\n",
    "    valid_loss = evaluate(model, dev_loader, criterion)\n",
    "\n",
    "    print(f\"Train Loss: {train_loss:.4f} | Valid Loss: {valid_loss:.4f}\")"
   ]
  },
  {
   "cell_type": "code",
   "execution_count": 28,
   "id": "jlA789kzlDmq",
   "metadata": {
    "colab": {
     "base_uri": "https://localhost:8080/"
    },
    "execution": {
     "iopub.execute_input": "2025-05-20T13:09:02.908455Z",
     "iopub.status.busy": "2025-05-20T13:09:02.907720Z",
     "iopub.status.idle": "2025-05-20T13:13:23.155093Z",
     "shell.execute_reply": "2025-05-20T13:13:23.154272Z",
     "shell.execute_reply.started": "2025-05-20T13:09:02.908433Z"
    },
    "id": "jlA789kzlDmq",
    "outputId": "72b442aa-8e3f-4ae4-cba2-0581dcf4f3bb",
    "trusted": true
   },
   "outputs": [
    {
     "name": "stdout",
     "output_type": "stream",
     "text": [
      "Train Accuracy :  83.37%\n",
      "Val Accuracy   :  38.96%\n",
      "Test Accuracy  :  39.27%\n"
     ]
    }
   ],
   "source": [
    "train_accuracy = calculate_accuracy(model, train_loader, src_vocab, tgt_vocab, device)\n",
    "val_accuracy = calculate_accuracy(model, dev_loader, src_vocab, tgt_vocab, device)\n",
    "test_accuracy = calculate_accuracy(model, test_loader, src_vocab, tgt_vocab, device)\n",
    "\n",
    "print(f\"Train Accuracy : {train_accuracy*100:6.2f}%\")\n",
    "print(f\"Val Accuracy   : {val_accuracy*100:6.2f}%\")\n",
    "print(f\"Test Accuracy  : {test_accuracy*100:6.2f}%\")"
   ]
  },
  {
   "cell_type": "code",
   "execution_count": 15,
   "id": "2mXxNWpYQvd6",
   "metadata": {
    "colab": {
     "base_uri": "https://localhost:8080/",
     "height": 260
    },
    "execution": {
     "iopub.execute_input": "2025-05-20T14:13:44.739837Z",
     "iopub.status.busy": "2025-05-20T14:13:44.739572Z",
     "iopub.status.idle": "2025-05-20T14:13:44.786366Z",
     "shell.execute_reply": "2025-05-20T14:13:44.785526Z",
     "shell.execute_reply.started": "2025-05-20T14:13:44.739820Z"
    },
    "id": "2mXxNWpYQvd6",
    "outputId": "08d6e5d3-162f-4f2c-92e4-f5e082857f42",
    "trusted": true
   },
   "outputs": [
    {
     "ename": "NameError",
     "evalue": "name 'model' is not defined",
     "output_type": "error",
     "traceback": [
      "\u001b[0;31m---------------------------------------------------------------------------\u001b[0m",
      "\u001b[0;31mNameError\u001b[0m                                 Traceback (most recent call last)",
      "\u001b[0;32m/tmp/ipykernel_35/2813852557.py\u001b[0m in \u001b[0;36m<cell line: 0>\u001b[0;34m()\u001b[0m\n\u001b[0;32m----> 1\u001b[0;31m \u001b[0mmodel\u001b[0m\u001b[0;34m.\u001b[0m\u001b[0meval\u001b[0m\u001b[0;34m(\u001b[0m\u001b[0;34m)\u001b[0m\u001b[0;34m\u001b[0m\u001b[0;34m\u001b[0m\u001b[0m\n\u001b[0m\u001b[1;32m      2\u001b[0m \u001b[0mlatin\u001b[0m \u001b[0;34m=\u001b[0m \u001b[0;34m[\u001b[0m\u001b[0;34m]\u001b[0m\u001b[0;34m\u001b[0m\u001b[0;34m\u001b[0m\u001b[0m\n\u001b[1;32m      3\u001b[0m \u001b[0mcorrect_native\u001b[0m \u001b[0;34m=\u001b[0m \u001b[0;34m[\u001b[0m\u001b[0;34m]\u001b[0m\u001b[0;34m\u001b[0m\u001b[0;34m\u001b[0m\u001b[0m\n\u001b[1;32m      4\u001b[0m \u001b[0mpredicted_native\u001b[0m \u001b[0;34m=\u001b[0m \u001b[0;34m[\u001b[0m\u001b[0;34m]\u001b[0m\u001b[0;34m\u001b[0m\u001b[0;34m\u001b[0m\u001b[0m\n\u001b[1;32m      5\u001b[0m \u001b[0;34m\u001b[0m\u001b[0m\n",
      "\u001b[0;31mNameError\u001b[0m: name 'model' is not defined"
     ]
    }
   ],
   "source": [
    "model.eval()\n",
    "latin = []\n",
    "correct_native = []\n",
    "predicted_native = []\n",
    "\n",
    "with torch.no_grad():\n",
    "    for src, tgt in test_loader:\n",
    "        src = src.to(device)\n",
    "        tgt = tgt.to(device)\n",
    "\n",
    "        batch_size = src.shape[0]\n",
    "\n",
    "        for i in range(batch_size):\n",
    "            # Get source text and actual target text\n",
    "            src_indices = src[i].tolist()\n",
    "            src_text = src_vocab.decode(src_indices)\n",
    "            actual_tgt_text = tgt_vocab.decode(tgt[i].tolist())\n",
    "\n",
    "            # Get predicted transliteration\n",
    "            predicted_tgt_text = transliterate(model, src_text, src_vocab, tgt_vocab, device)\n",
    "\n",
    "            latin.append(src_text)\n",
    "            correct_native.append(actual_tgt_text)\n",
    "            predicted_native.append(predicted_tgt_text)\n",
    "\n",
    "os.makedirs(\"predictions_vanilla\", exist_ok=True)\n",
    "df = pd.DataFrame({\n",
    "    \"Latin\": latin,\n",
    "    \"Correct Native\": correct_native,\n",
    "    \"Predicted Native\": predicted_native\n",
    "})\n",
    "df[\"Correct\"] = df[\"Correct Native\"] == df[\"Predicted Native\"]\n",
    "\n",
    "excel_path = \"predictions_vanilla/test_predictions.xlsx\"\n",
    "df.to_excel(excel_path, index=False)\n",
    "\n",
    "wandb.init(project=\"cs24m022_da6401_assignment3\", name=\"vanilla_seq2seq_run\")\n",
    "\n",
    "samples = df.sample(n=10)\n",
    "wandb_table = wandb.Table(columns=[\"Latin\", \"Correct Native\", \"Predicted Native\", \"Correct\"])\n",
    "\n",
    "for _, row in samples.iterrows():\n",
    "    wandb_table.add_data(row[\"Latin\"], row[\"Correct Native\"], row[\"Predicted Native\"], str(row[\"Correct\"]))\n",
    "\n",
    "wandb.log({\"Random Test Predictions Sample\": wandb_table})\n"
   ]
  },
  {
   "cell_type": "markdown",
   "id": "ZUCk-kTbCdgO",
   "metadata": {
    "id": "ZUCk-kTbCdgO"
   },
   "source": [
    "## SEQ2SEQ Model with Attention"
   ]
  },
  {
   "cell_type": "code",
   "execution_count": 14,
   "id": "dN6z9kwiCi62",
   "metadata": {
    "execution": {
     "iopub.execute_input": "2025-05-20T22:41:11.289813Z",
     "iopub.status.busy": "2025-05-20T22:41:11.289514Z",
     "iopub.status.idle": "2025-05-20T22:41:11.297327Z",
     "shell.execute_reply": "2025-05-20T22:41:11.296501Z",
     "shell.execute_reply.started": "2025-05-20T22:41:11.289792Z"
    },
    "id": "dN6z9kwiCi62",
    "trusted": true
   },
   "outputs": [],
   "source": [
    "class AttentionMechanism(nn.Module):\n",
    "    def __init__(self, hidden_dim):\n",
    "        super().__init__()\n",
    "        \n",
    "        # Attention layers\n",
    "        self.query_transform = nn.Sequential(\n",
    "            nn.Linear(hidden_dim, hidden_dim),\n",
    "            nn.LayerNorm(hidden_dim)\n",
    "        )\n",
    "        \n",
    "        self.key_transform = nn.Sequential(\n",
    "            nn.Linear(hidden_dim, hidden_dim),\n",
    "            nn.LayerNorm(hidden_dim)\n",
    "        )\n",
    "        \n",
    "        self.energy_transform = nn.Sequential(\n",
    "            nn.Linear(hidden_dim, hidden_dim),\n",
    "            nn.Tanh(),\n",
    "            nn.Linear(hidden_dim, 1)\n",
    "        )\n",
    "    \n",
    "    def _extract_hidden_state(self, hidden):\n",
    "        \"\"\"\n",
    "        Extract the last hidden state\n",
    "        \"\"\"\n",
    "        if isinstance(hidden, tuple):\n",
    "            return hidden[0][-1]\n",
    "        return hidden[-1]\n",
    "    \n",
    "    def _compute_attention_scores(self, query, keys):\n",
    "        \"\"\"\n",
    "        Compute attention scores using additive attention\n",
    "        \"\"\"\n",
    "        # Transform query and keys\n",
    "        query = self.query_transform(query)\n",
    "        keys = self.key_transform(keys)\n",
    "        \n",
    "        # Compute attention scores\n",
    "        query = query.unsqueeze(1)\n",
    "        combined = torch.tanh(query + keys)\n",
    "        scores = self.energy_transform(combined)\n",
    "        \n",
    "        return scores.squeeze(-1)\n",
    "    \n",
    "    def _compute_context_vector(self, attention_weights, values):\n",
    "        \"\"\"\n",
    "        Compute weighted context vector\n",
    "        \"\"\"\n",
    "        return torch.bmm(\n",
    "            attention_weights.unsqueeze(1), \n",
    "            values\n",
    "        ).squeeze(1)\n",
    "    \n",
    "    def forward(self, hidden, encoder_outputs):\n",
    "        \"\"\"\n",
    "        Compute attention weights and context vector\n",
    "        \"\"\"\n",
    "        # Get last hidden state\n",
    "        query = self._extract_hidden_state(hidden)\n",
    "        \n",
    "        # Compute attention scores\n",
    "        attention_scores = self._compute_attention_scores(query, encoder_outputs)\n",
    "        \n",
    "        # Apply softmax to get attention weights\n",
    "        attention_weights = F.softmax(attention_scores, dim=1)\n",
    "        \n",
    "        # Compute context vector\n",
    "        context = self._compute_context_vector(attention_weights, encoder_outputs)\n",
    "        \n",
    "        return context, attention_weights"
   ]
  },
  {
   "cell_type": "code",
   "execution_count": 15,
   "id": "3ax0xyCbDdYb",
   "metadata": {
    "execution": {
     "iopub.execute_input": "2025-05-20T22:41:15.739545Z",
     "iopub.status.busy": "2025-05-20T22:41:15.738759Z",
     "iopub.status.idle": "2025-05-20T22:41:15.745808Z",
     "shell.execute_reply": "2025-05-20T22:41:15.745108Z",
     "shell.execute_reply.started": "2025-05-20T22:41:15.739517Z"
    },
    "id": "3ax0xyCbDdYb",
    "trusted": true
   },
   "outputs": [],
   "source": [
    "class Attention(nn.Module):\n",
    "    def __init__(self, hidden_size):\n",
    "        super().__init__()\n",
    "\n",
    "        # Attention parameters for: e_jt = Vatt^T tanh(Uatt * s_t-1 + Watt * c_j)\n",
    "        self.Uatt = nn.Linear(hidden_size, hidden_size)\n",
    "        self.Watt = nn.Linear(hidden_size, hidden_size)\n",
    "        self.Vatt = nn.Linear(hidden_size, 1)\n",
    "\n",
    "    def forward(self, hidden, encoder_outputs):\n",
    "\n",
    "        batch_size = encoder_outputs.shape[0]\n",
    "        src_len = encoder_outputs.shape[1]\n",
    "\n",
    "        if isinstance(hidden, tuple):  # LSTM\n",
    "            hidden_state = hidden[0]\n",
    "            hidden_state = hidden_state[-1]\n",
    "        else:\n",
    "            hidden_state = hidden[-1]\n",
    "\n",
    "        hidden_expanded = hidden_state.unsqueeze(1)\n",
    "\n",
    "        # Uatt * s_t-1\n",
    "        uatt_term = self.Uatt(hidden_expanded)\n",
    "\n",
    "        # Watt * c_j\n",
    "        watt_term = self.Watt(encoder_outputs)\n",
    "\n",
    "\n",
    "        combined = torch.tanh(uatt_term + watt_term)\n",
    "\n",
    "        # Apply Vatt^T\n",
    "        energy = self.Vatt(combined)\n",
    "        energy = energy.squeeze(2)\n",
    "\n",
    "        attention_weights = F.softmax(energy, dim=1)\n",
    "\n",
    "        # Create context vector\n",
    "        context = torch.bmm(attention_weights.unsqueeze(1), encoder_outputs)\n",
    "        context = context.squeeze(1)\n",
    "\n",
    "        return context, attention_weights"
   ]
  },
  {
   "cell_type": "code",
   "execution_count": 16,
   "id": "-orSdL5SDfav",
   "metadata": {
    "execution": {
     "iopub.execute_input": "2025-05-20T22:41:19.263300Z",
     "iopub.status.busy": "2025-05-20T22:41:19.262687Z",
     "iopub.status.idle": "2025-05-20T22:41:19.273101Z",
     "shell.execute_reply": "2025-05-20T22:41:19.272223Z",
     "shell.execute_reply.started": "2025-05-20T22:41:19.263276Z"
    },
    "id": "-orSdL5SDfav",
    "trusted": true
   },
   "outputs": [],
   "source": [
    "class AttentionDecoder(nn.Module):\n",
    "    def __init__(self, output_size, embedding_size, hidden_size, attention, num_layers=1, cell_type=\"RNN\", dropout=0.0):\n",
    "        super().__init__()\n",
    "\n",
    "        if num_layers == 1:\n",
    "            dropout = 0\n",
    "\n",
    "        self.output_size = output_size\n",
    "        self.cell_type = cell_type\n",
    "        self.attention = attention\n",
    "        self.hidden_size = hidden_size\n",
    "\n",
    "        # Embedding Layer\n",
    "        self.embedding = nn.Embedding(output_size, embedding_size)\n",
    "\n",
    "        # Dropout layer\n",
    "        self.dropout = nn.Dropout(dropout)\n",
    "\n",
    "        if cell_type == \"LSTM\":\n",
    "            self.recurrent_layer = nn.LSTM(embedding_size + hidden_size, hidden_size, num_layers,\n",
    "                                         dropout=dropout, batch_first=True)\n",
    "        elif cell_type == \"GRU\":\n",
    "            self.recurrent_layer = nn.GRU(embedding_size + hidden_size, hidden_size, num_layers,\n",
    "                                        dropout=dropout, batch_first=True)\n",
    "        else: # Default (RNN)\n",
    "            self.recurrent_layer = nn.RNN(embedding_size + hidden_size, hidden_size, num_layers,\n",
    "                                        dropout=dropout, batch_first=True)\n",
    "\n",
    "        # Output layer\n",
    "        self.fc_out = nn.Linear(hidden_size * 2, output_size)\n",
    "\n",
    "    def forward(self, input, hidden, encoder_outputs):\n",
    "\n",
    "        input = input.unsqueeze(1)\n",
    "        embeddings = self.embedding(input)\n",
    "        embeddings = self.dropout(embeddings)\n",
    "\n",
    "        # Calculate attention context vector\n",
    "        context, attention_weights = self.attention(hidden, encoder_outputs)\n",
    "\n",
    "        # Concatenate embeddings and context vector\n",
    "        context = context.unsqueeze(1)\n",
    "        rnn_input = torch.cat((embeddings, context), dim=2)\n",
    "\n",
    "        if self.cell_type == \"LSTM\":\n",
    "            outputs, (hidden, cell) = self.recurrent_layer(rnn_input, hidden)\n",
    "            hidden_state = hidden\n",
    "            hidden_tuple = (hidden, cell)\n",
    "        else:\n",
    "            outputs, hidden = self.recurrent_layer(rnn_input, hidden)\n",
    "            hidden_state = hidden\n",
    "            hidden_tuple = hidden\n",
    "\n",
    "        if isinstance(hidden_state, tuple):  # LSTM\n",
    "            last_hidden = hidden_state[0][-1]\n",
    "        else:\n",
    "            last_hidden = hidden_state[-1]\n",
    "\n",
    "        last_hidden = last_hidden.squeeze(0) if last_hidden.dim() > 2 else last_hidden\n",
    "\n",
    "        outputs = outputs.squeeze(1)\n",
    "        context = context.squeeze(1)\n",
    "\n",
    "        output_vector = torch.cat((outputs, context), dim=1)\n",
    "        prediction = self.fc_out(output_vector)\n",
    "\n",
    "        return prediction, hidden_tuple, attention_weights"
   ]
  },
  {
   "cell_type": "code",
   "execution_count": 17,
   "id": "OINVoknQDiqw",
   "metadata": {
    "execution": {
     "iopub.execute_input": "2025-05-20T22:41:22.937538Z",
     "iopub.status.busy": "2025-05-20T22:41:22.937261Z",
     "iopub.status.idle": "2025-05-20T22:41:22.948977Z",
     "shell.execute_reply": "2025-05-20T22:41:22.948056Z",
     "shell.execute_reply.started": "2025-05-20T22:41:22.937517Z"
    },
    "id": "OINVoknQDiqw",
    "trusted": true
   },
   "outputs": [],
   "source": [
    "class NeuralTranslator(nn.Module):\n",
    "    def __init__(self, encoder, decoder, attention, device):\n",
    "        super().__init__()\n",
    "        self.encoder = encoder\n",
    "        self.decoder = decoder\n",
    "        self.attention = attention\n",
    "        self.device = device\n",
    "        \n",
    "        # Model configuration\n",
    "        self.config = {\n",
    "            'sos_token': 1,\n",
    "            'eos_token': 2,\n",
    "            'max_length': 50\n",
    "        }\n",
    "    \n",
    "    def _initialize_decoder_state(self, encoder_outputs):\n",
    "        \"\"\"\n",
    "        Initialize decoder state from encoder outputs\n",
    "        \"\"\"\n",
    "        if isinstance(encoder_outputs[1], tuple):\n",
    "            return encoder_outputs[1]\n",
    "        return encoder_outputs[1]\n",
    "    \n",
    "    def _process_decoder_step(self, decoder_input, decoder_hidden, encoder_outputs):\n",
    "        \"\"\"\n",
    "        Process a single decoder step\n",
    "        \"\"\"\n",
    "        return self.decoder(decoder_input, decoder_hidden, encoder_outputs)\n",
    "    \n",
    "    def _should_use_teacher_forcing(self, teacher_forcing_ratio):\n",
    "        \"\"\"\n",
    "        Determine if teacher forcing should be used\n",
    "        \"\"\"\n",
    "        return random.random() < teacher_forcing_ratio\n",
    "    \n",
    "    def forward(self, source, target, teacher_forcing_ratio=0.5):\n",
    "        \"\"\"\n",
    "        Training forward pass\n",
    "        \"\"\"\n",
    "        batch_size = source.size(0)\n",
    "        target_len = target.size(1)\n",
    "        vocab_size = self.decoder.output_size\n",
    "        \n",
    "        # Initialize output tensors\n",
    "        outputs = torch.zeros(batch_size, target_len, vocab_size).to(self.device)\n",
    "        attention_weights = torch.zeros(batch_size, target_len, source.size(1)).to(self.device)\n",
    "        \n",
    "        # Encode source sequence\n",
    "        encoder_outputs, encoder_state = self.encoder(source)\n",
    "        decoder_hidden = self._initialize_decoder_state((encoder_outputs, encoder_state))\n",
    "        \n",
    "        # Initialize decoder input\n",
    "        decoder_input = target[:, 0]\n",
    "        \n",
    "        # Generate target sequence\n",
    "        for t in range(1, target_len):\n",
    "            # Process decoder step\n",
    "            decoder_output, decoder_hidden, attention = self._process_decoder_step(\n",
    "                decoder_input, decoder_hidden, encoder_outputs\n",
    "            )\n",
    "            \n",
    "            # Store outputs\n",
    "            outputs[:, t] = decoder_output\n",
    "            attention_weights[:, t] = attention\n",
    "            \n",
    "            # Determine next input\n",
    "            if self._should_use_teacher_forcing(teacher_forcing_ratio):\n",
    "                decoder_input = targ"
   ]
  },
  {
   "cell_type": "markdown",
   "id": "0e1b50b5",
   "metadata": {
    "id": "0e1b50b5"
   },
   "source": [
    "## Training and Evaluation of Attention Seq2Seq Model"
   ]
  },
  {
   "cell_type": "code",
   "execution_count": 18,
   "id": "_Wcs_s2pRNjA",
   "metadata": {
    "execution": {
     "iopub.execute_input": "2025-05-20T22:41:29.052791Z",
     "iopub.status.busy": "2025-05-20T22:41:29.052126Z",
     "iopub.status.idle": "2025-05-20T22:41:29.058625Z",
     "shell.execute_reply": "2025-05-20T22:41:29.057960Z",
     "shell.execute_reply.started": "2025-05-20T22:41:29.052769Z"
    },
    "id": "_Wcs_s2pRNjA",
    "trusted": true
   },
   "outputs": [],
   "source": [
    "def train_model_epoch(model, data_loader, optimizer, loss_fn, max_grad_norm=1.0, teacher_ratio=0.5):\n",
    "    \"\"\"\n",
    "    Train model for one epoch\n",
    "    \"\"\"\n",
    "    model.train()\n",
    "    total_loss = 0\n",
    "    \n",
    "    for batch_idx, (source_batch, target_batch) in enumerate(data_loader):\n",
    "        # Move data to device\n",
    "        source_batch = source_batch.to(device)\n",
    "        target_batch = target_batch.to(device)\n",
    "        \n",
    "        # Clear gradients\n",
    "        optimizer.zero_grad()\n",
    "        \n",
    "        # Forward pass\n",
    "        predictions, _ = model(\n",
    "            source_batch, \n",
    "            target_batch, \n",
    "            teacher_ratio\n",
    "        )\n",
    "        \n",
    "        # Prepare tensors for loss calculation\n",
    "        batch_size, seq_len, vocab_size = predictions.shape\n",
    "        predictions = predictions[:, 1:].contiguous().view(-1, vocab_size)\n",
    "        targets = target_batch[:, 1:].contiguous().view(-1)\n",
    "        \n",
    "        # Calculate loss\n",
    "        batch_loss = loss_fn(predictions, targets)\n",
    "        \n",
    "        # Backward pass\n",
    "        batch_loss.backward()\n",
    "        \n",
    "        # Clip gradients\n",
    "        torch.nn.utils.clip_grad_norm_(\n",
    "            model.parameters(), \n",
    "            max_grad_norm\n",
    "        )\n",
    "        \n",
    "        # Update parameters\n",
    "        optimizer.step()\n",
    "        \n",
    "        # Accumulate loss\n",
    "        total_loss += batch_loss.item()\n",
    "    \n",
    "    # Return average loss\n",
    "    return total_loss / len(data_loader)"
   ]
  },
  {
   "cell_type": "code",
   "execution_count": 19,
   "id": "f07tq4frtdz7",
   "metadata": {
    "execution": {
     "iopub.execute_input": "2025-05-20T22:41:33.348929Z",
     "iopub.status.busy": "2025-05-20T22:41:33.348306Z",
     "iopub.status.idle": "2025-05-20T22:41:33.354384Z",
     "shell.execute_reply": "2025-05-20T22:41:33.353463Z",
     "shell.execute_reply.started": "2025-05-20T22:41:33.348886Z"
    },
    "id": "f07tq4frtdz7",
    "trusted": true
   },
   "outputs": [],
   "source": [
    "def evaluate_attention_model(model, val_loader, criterion):\n",
    "    model.eval()\n",
    "    epoch_loss = 0\n",
    "\n",
    "    with torch.no_grad():\n",
    "        for i, (src, tgt) in enumerate(val_loader):\n",
    "            src = src.to(device)\n",
    "            tgt = tgt.to(device)\n",
    "\n",
    "            output, _ = model.inference(src, tgt.shape[1])\n",
    "\n",
    "            # Reshape output and target for loss calculation\n",
    "            output_dim = output.shape[-1]\n",
    "            output = output[:, 1:].reshape(-1, output_dim)\n",
    "            tgt = tgt[:, 1:].reshape(-1)\n",
    "\n",
    "            # Calculate loss\n",
    "            loss = criterion(output, tgt)\n",
    "            epoch_loss += loss.item()\n",
    "\n",
    "    return epoch_loss / len(val_loader)"
   ]
  },
  {
   "cell_type": "code",
   "execution_count": 20,
   "id": "DSBVZIpNsnRL",
   "metadata": {
    "execution": {
     "iopub.execute_input": "2025-05-20T22:41:38.833840Z",
     "iopub.status.busy": "2025-05-20T22:41:38.833537Z",
     "iopub.status.idle": "2025-05-20T22:41:38.841147Z",
     "shell.execute_reply": "2025-05-20T22:41:38.840215Z",
     "shell.execute_reply.started": "2025-05-20T22:41:38.833818Z"
    },
    "id": "DSBVZIpNsnRL",
    "trusted": true
   },
   "outputs": [],
   "source": [
    "def convert_sequence(model, input_text, source_vocab, target_vocab, device, max_steps=100):\n",
    "    \"\"\"\n",
    "    Convert sequence from source to target script\n",
    "    \"\"\"\n",
    "    model.eval()\n",
    "    \n",
    "    # Process input text\n",
    "    input_tokens = source_vocab.encode(input_text)\n",
    "    input_tensor = torch.tensor([input_tokens], device=device)\n",
    "    \n",
    "    # Get encoder outputs\n",
    "    with torch.no_grad():\n",
    "        encoder_outputs, encoder_state = model.encoder(input_tensor)\n",
    "        decoder_state = encoder_state\n",
    "    \n",
    "    # Initialize generation\n",
    "    current_token = torch.tensor([[target_vocab.sos_token]], device=device)\n",
    "    output_tokens = [target_vocab.sos_token]\n",
    "    \n",
    "    # Generate output sequence\n",
    "    for _ in range(max_steps):\n",
    "        with torch.no_grad():\n",
    "            # Get decoder output\n",
    "            decoder_output, decoder_state, _ = model.decoder(\n",
    "                current_token, \n",
    "                decoder_state, \n",
    "                encoder_outputs\n",
    "            )\n",
    "            \n",
    "            # Get next token\n",
    "            next_token = decoder_output.argmax(1).item()\n",
    "            output_tokens.append(next_token)\n",
    "            \n",
    "            # Check for end token\n",
    "            if next_token == target_vocab.eos_token:\n",
    "                break\n",
    "            \n",
    "            # Update current token\n",
    "            current_token = torch.tensor([[next_token]], device=device)\n",
    "    \n",
    "    # Convert tokens to text\n",
    "    return target_vocab.decode(output_tokens, remove_special_tokens=True)"
   ]
  },
  {
   "cell_type": "code",
   "execution_count": 21,
   "id": "EDRMqeEq9OPL",
   "metadata": {
    "execution": {
     "iopub.execute_input": "2025-05-20T22:41:42.229539Z",
     "iopub.status.busy": "2025-05-20T22:41:42.229251Z",
     "iopub.status.idle": "2025-05-20T22:41:42.235701Z",
     "shell.execute_reply": "2025-05-20T22:41:42.234889Z",
     "shell.execute_reply.started": "2025-05-20T22:41:42.229518Z"
    },
    "id": "EDRMqeEq9OPL",
    "trusted": true
   },
   "outputs": [],
   "source": [
    "def evaluate_translation_accuracy(model, data_loader, source_vocab, target_vocab, device):\n",
    "    \"\"\"\n",
    "    Evaluate translation accuracy\n",
    "    \"\"\"\n",
    "    model.eval()\n",
    "    matches = 0\n",
    "    samples = 0\n",
    "    \n",
    "    with torch.no_grad():\n",
    "        for source_batch, target_batch in data_loader:\n",
    "            # Move batches to device\n",
    "            source_batch = source_batch.to(device)\n",
    "            target_batch = target_batch.to(device)\n",
    "            \n",
    "            # Process each sample in batch\n",
    "            for source_seq, target_seq in zip(source_batch, target_batch):\n",
    "                # Decode sequences\n",
    "                source_text = source_vocab.decode(source_seq.tolist())\n",
    "                target_text = target_vocab.decode(target_seq.tolist())\n",
    "                \n",
    "                # Get model prediction\n",
    "                predicted_text = translate_sequence(\n",
    "                    model, \n",
    "                    source_text, \n",
    "                    source_vocab, \n",
    "                    target_vocab, \n",
    "                    device\n",
    "                )\n",
    "                \n",
    "                # Compare prediction with target\n",
    "                if predicted_text == target_text:\n",
    "                    matches += 1\n",
    "                samples += 1\n",
    "    \n",
    "    return matches / samples\n",
    "\n",
    "def translate_sequence(model, source_text, source_vocab, target_vocab, device):\n",
    "    \"\"\"\n",
    "    Translate a single sequence\n",
    "    \"\"\"\n",
    "    # Encode source text\n",
    "    source_tokens = source_vocab.encode(source_text)\n",
    "    source_tensor = torch.tensor([source_tokens], device=device)\n",
    "    \n",
    "    # Get encoder outputs\n",
    "    encoder_outputs, encoder_state = model.encoder(source_tensor)\n",
    "    decoder_state = encoder_state\n",
    "    \n",
    "    # Initialize translation\n",
    "    current_token = torch.tensor([[target_vocab.sos_token]], device=device)\n",
    "    translated_tokens = []\n",
    "    \n",
    "    # Generate translation\n",
    "    for _ in range(100):  # Max length limit\n",
    "        # Get decoder output\n",
    "        decoder_output, decoder_state, _ = model.decoder(\n",
    "            current_token, \n",
    "            decoder_state, \n",
    "            encoder_outputs\n",
    "        )\n",
    "        \n",
    "        # Get next token\n",
    "        next_token = decoder_output.argmax(1).item()\n",
    "        translated_tokens.append(next_token)\n",
    "        \n",
    "        # Check for end token\n",
    "        if next_token == target_vocab.eos_token:\n",
    "            break\n",
    "        \n",
    "        # Update current token\n",
    "        current_token = torch.tensor([[next_token]], device=device)\n",
    "    \n",
    "    # Decode translation\n",
    "    return target_vocab.decode(translated_tokens)"
   ]
  },
  {
   "cell_type": "markdown",
   "id": "b2997852",
   "metadata": {
    "id": "b2997852"
   },
   "source": [
    "## Hyperparameter Sweep of Attention Seq2Seq Model"
   ]
  },
  {
   "cell_type": "code",
   "execution_count": 22,
   "id": "f8sokN8HymDl",
   "metadata": {
    "execution": {
     "iopub.execute_input": "2025-05-20T22:41:51.934226Z",
     "iopub.status.busy": "2025-05-20T22:41:51.933898Z",
     "iopub.status.idle": "2025-05-20T22:41:51.944105Z",
     "shell.execute_reply": "2025-05-20T22:41:51.943257Z",
     "shell.execute_reply.started": "2025-05-20T22:41:51.934203Z"
    },
    "id": "f8sokN8HymDl",
    "trusted": true
   },
   "outputs": [],
   "source": [
    "def optimize_model_parameters(config=None):\n",
    "    \"\"\"\n",
    "    Optimize model parameters using wandb sweeps\n",
    "    \"\"\"\n",
    "    with wandb.init(config=config) as run:\n",
    "        # Set run name based on parameters\n",
    "        run_name = f\"model_opt_emb{config.embedding_size}_layers{config.num_layers}_hidden{config.hidden_size}_type{config.cell_type}_drop{config.dropout}_lr{config.learning_rate}_batch{config.batch_size}\"\n",
    "        wandb.run.name = run_name\n",
    "        \n",
    "        # Add user information\n",
    "        wandb.config.update({\n",
    "            \"student_name\": \"KILAPARTHI VISHNU VARDHAN\",\n",
    "            \"student_id\": \"CS24M022\"\n",
    "        })\n",
    "        \n",
    "        # Create data loaders\n",
    "        train_data = TransliterationDataset(TRAIN_FilePath, src_vocab, tgt_vocab)\n",
    "        train_loader = DataLoader(\n",
    "            train_data, \n",
    "            batch_size=config.batch_size, \n",
    "            shuffle=True, \n",
    "            collate_fn=collate_fn\n",
    "        )\n",
    "        \n",
    "        val_data = TransliterationDataset(DEV_FilePath, src_vocab, tgt_vocab)\n",
    "        val_loader = DataLoader(\n",
    "            val_data, \n",
    "            batch_size=config.batch_size, \n",
    "            shuffle=False, \n",
    "            collate_fn=collate_fn\n",
    "        )\n",
    "        \n",
    "        # Model configuration\n",
    "        model_config = {\n",
    "            'input_dim': src_vocab.vocab_size,\n",
    "            'output_dim': tgt_vocab.vocab_size,\n",
    "            'embed_dim': config.embedding_size,\n",
    "            'hidden_dim': config.hidden_size,\n",
    "            'num_layers': config.num_layers,\n",
    "            'rnn_type': config.cell_type,\n",
    "            'drop_rate': config.dropout\n",
    "        }\n",
    "        \n",
    "        # Initialize model components\n",
    "        encoder = SequenceEncoder(**model_config)\n",
    "        attention = AttentionMechanism(model_config['hidden_dim'])\n",
    "        decoder = SequenceDecoder(\n",
    "            **model_config,\n",
    "            attention=attention\n",
    "        )\n",
    "        \n",
    "        # Create and move model to device\n",
    "        model = NeuralTranslator(encoder, decoder, attention, device).to(device)\n",
    "        \n",
    "        # Setup training\n",
    "        loss_fn = nn.CrossEntropyLoss()\n",
    "        optimizer = optim.Adam(model.parameters(), lr=config.learning_rate)\n",
    "        \n",
    "        # Training loop\n",
    "        for epoch in tqdm(range(10)):\n",
    "            # Training phase\n",
    "            train_metrics = train_model(\n",
    "                model, \n",
    "                train_loader, \n",
    "                optimizer, \n",
    "                loss_fn\n",
    "            )\n",
    "            \n",
    "            # Validation phase\n",
    "            val_metrics = evaluate_model(\n",
    "                model, \n",
    "                val_loader, \n",
    "                loss_fn\n",
    "            )\n",
    "            \n",
    "            # Log metrics\n",
    "            metrics = {\n",
    "                'epoch': epoch,\n",
    "                'train_loss': train_metrics['loss'],\n",
    "                'val_loss': val_metrics['loss']\n",
    "            }\n",
    "            wandb.log(metrics)\n",
    "            \n",
    "            print(f\"Epoch {epoch}: Train Loss = {metrics['train_loss']:.4f}, Val Loss = {metrics['val_loss']:.4f}\")\n",
    "        \n",
    "        # Final evaluation\n",
    "        accuracy = compute_accuracy(\n",
    "            model, \n",
    "            val_loader, \n",
    "            src_vocab, \n",
    "            tgt_vocab, \n",
    "            device\n",
    "        )\n",
    "        \n",
    "        print(f\"\\nFinal Validation Accuracy: {accuracy:.4f}\")\n",
    "        wandb.log({'final_accuracy': accuracy})"
   ]
  },
  {
   "cell_type": "code",
   "execution_count": null,
   "id": "vQU-N_v7HYoM",
   "metadata": {
    "execution": {
     "iopub.execute_input": "2025-05-20T22:41:57.953983Z",
     "iopub.status.busy": "2025-05-20T22:41:57.953173Z",
     "iopub.status.idle": "2025-05-20T22:41:58.356277Z",
     "shell.execute_reply": "2025-05-20T22:41:58.355355Z",
     "shell.execute_reply.started": "2025-05-20T22:41:57.953937Z"
    },
    "id": "vQU-N_v7HYoM",
    "trusted": true
   },
   "outputs": [
    {
     "name": "stdout",
     "output_type": "stream",
     "text": [
      "Create sweep with ID: tk2okbfr\n",
      "Sweep URL: https://wandb.ai/cs24m022-iit-madras-foundation/cs24m022_DA6401_Assignment3/sweeps/tk2okbfr\n"
     ]
    }
   ],
   "source": [
    "sweep_config = {\n",
    "    \"method\" : \"bayes\",\n",
    "    \"metric\" : {\"name\": \"val_accuracy\", \"goal\": \"maximize\"},\n",
    "    \"parameters\" : {\n",
    "        \"embedding_size\" : {\"values\" : [16, 32, 64, 256]},\n",
    "        \"num_layers\" : {\"values\" : [2, 3]},\n",
    "        \"hidden_size\" : {\"values\" : [32, 128, 512]},\n",
    "        \"cell_type\" : {\"values\" : [\"RNN\", \"LSTM\", \"GRU\"]},\n",
    "        \"dropout\" : {\"values\" : [ 0.2, 0.3]},\n",
    "        \"learning_rate\" : {\"values\" : [0.001, 0.0005]},\n",
    "        \"batch_size\": {\"values\": [32, 64, 128]}\n",
    "    }\n",
    "}\n",
    "\n",
    "sweep_id = wandb.sweep(sweep_config, project = \"cs24m022_DA6401_Assignment3\")"
   ]
  },
  {
   "cell_type": "code",
   "execution_count": 24,
   "id": "20cfbe33-8039-4099-b5e9-c5caac0fe48e",
   "metadata": {
    "execution": {
     "iopub.execute_input": "2025-05-20T22:42:05.323266Z",
     "iopub.status.busy": "2025-05-20T22:42:05.322440Z",
     "iopub.status.idle": "2025-05-20T22:42:10.034073Z",
     "shell.execute_reply": "2025-05-20T22:42:10.033310Z",
     "shell.execute_reply.started": "2025-05-20T22:42:05.323238Z"
    },
    "trusted": true
   },
   "outputs": [
    {
     "name": "stderr",
     "output_type": "stream",
     "text": [
      "\u001b[34m\u001b[1mwandb\u001b[0m: Agent Starting Run: nc08qgtb with config:\n",
      "\u001b[34m\u001b[1mwandb\u001b[0m: \tbatch_size: 64\n",
      "\u001b[34m\u001b[1mwandb\u001b[0m: \tcell_type: RNN\n",
      "\u001b[34m\u001b[1mwandb\u001b[0m: \tdropout: 0.2\n",
      "\u001b[34m\u001b[1mwandb\u001b[0m: \tembedding_size: 256\n",
      "\u001b[34m\u001b[1mwandb\u001b[0m: \thidden_size: 512\n",
      "\u001b[34m\u001b[1mwandb\u001b[0m: \tlearning_rate: 0.0005\n",
      "\u001b[34m\u001b[1mwandb\u001b[0m: \tnum_layers: 2\n",
      "\u001b[34m\u001b[1mwandb\u001b[0m: Ctrl + C detected. Stopping sweep.\n"
     ]
    }
   ],
   "source": [
    "sweep_id = 'ukpef1o2'\n",
    "wandb.agent('ukpef1o2', function = sweep_hyperparameters, count = 40)"
   ]
  },
  {
   "cell_type": "code",
   "execution_count": 29,
   "id": "KZk3LLbYLB-j",
   "metadata": {
    "execution": {
     "iopub.execute_input": "2025-05-20T22:55:47.327915Z",
     "iopub.status.busy": "2025-05-20T22:55:47.327235Z",
     "iopub.status.idle": "2025-05-20T22:55:47.339441Z",
     "shell.execute_reply": "2025-05-20T22:55:47.338332Z",
     "shell.execute_reply.started": "2025-05-20T22:55:47.327873Z"
    },
    "id": "KZk3LLbYLB-j",
    "trusted": true
   },
   "outputs": [],
   "source": [
    "def extract_attention_patterns(model, input_text, source_vocab, target_vocab, device, max_steps=100):\n",
    "    \"\"\"\n",
    "    Extract attention patterns during translation\n",
    "    \"\"\"\n",
    "    model.eval()\n",
    "    \n",
    "    # Convert input text to tensor\n",
    "    input_tokens = source_vocab.encode(input_text)\n",
    "    input_tensor = torch.tensor([input_tokens], device=device)\n",
    "    \n",
    "    # Get encoder outputs\n",
    "    with torch.no_grad():\n",
    "        encoder_outputs, encoder_state = model.encoder(input_tensor)\n",
    "        decoder_state = encoder_state\n",
    "    \n",
    "    # Initialize tracking\n",
    "    attention_patterns = []\n",
    "    output_tokens = []\n",
    "    \n",
    "    # Start with start token\n",
    "    current_token = torch.tensor([[target_vocab.sos_token]], device=device)\n",
    "    \n",
    "    # Generate translation\n",
    "    for _ in range(max_steps):\n",
    "        with torch.no_grad():\n",
    "            # Get decoder output and attention\n",
    "            decoder_output, decoder_state, attention = model.decoder(\n",
    "                current_token, decoder_state, encoder_outputs\n",
    "            )\n",
    "            \n",
    "            # Store attention pattern\n",
    "            attention_patterns.append(attention.squeeze().cpu().numpy())\n",
    "            \n",
    "            # Get next token\n",
    "            next_token = decoder_output.argmax(1).item()\n",
    "            output_tokens.append(next_token)\n",
    "            \n",
    "            # Check for end token\n",
    "            if next_token == target_vocab.eos_token:\n",
    "                break\n",
    "            \n",
    "            # Update current token\n",
    "            current_token = torch.tensor([[next_token]], device=device)\n",
    "    \n",
    "    return attention_patterns, output_tokens"
   ]
  },
  {
   "cell_type": "code",
   "execution_count": 30,
   "id": "ZEbziYBPDylc",
   "metadata": {
    "execution": {
     "iopub.execute_input": "2025-05-20T22:55:51.169146Z",
     "iopub.status.busy": "2025-05-20T22:55:51.168846Z",
     "iopub.status.idle": "2025-05-20T22:55:51.464881Z",
     "shell.execute_reply": "2025-05-20T22:55:51.464168Z",
     "shell.execute_reply.started": "2025-05-20T22:55:51.169126Z"
    },
    "id": "ZEbziYBPDylc",
    "trusted": true
   },
   "outputs": [],
   "source": [
    "def generate_attention_visualization(model, data_loader, source_vocab, target_vocab, device, num_examples=10):\n",
    "    \"\"\"\n",
    "    Generate attention visualization with a completely different approach\n",
    "    \"\"\"\n",
    "    model.eval()\n",
    "    \n",
    "    # Create a custom figure layout with subplots\n",
    "    fig = plt.figure(figsize=(20, 5 * num_examples))\n",
    "    gs = gridspec.GridSpec(num_examples, 2, width_ratios=[1, 2])\n",
    "    \n",
    "    # Custom color scheme for attention\n",
    "    attention_cmap = plt.cm.viridis\n",
    "    \n",
    "    # Process data in batches\n",
    "    translation_pairs = []\n",
    "    for batch in data_loader:\n",
    "        source_batch, target_batch = batch\n",
    "        for s, t in zip(source_batch, target_batch):\n",
    "            translation_pairs.append((s, t))\n",
    "    \n",
    "    # Select random examples\n",
    "    selected_pairs = random.sample(translation_pairs, min(num_examples, len(translation_pairs)))\n",
    "    \n",
    "    for idx, (source_seq, target_seq) in enumerate(selected_pairs):\n",
    "        # Decode sequences\n",
    "        source_text = source_vocab.decode(source_seq.tolist(), remove_special_tokens=True)\n",
    "        target_text = target_vocab.decode(target_seq.tolist(), remove_special_tokens=True)\n",
    "        \n",
    "        # Get attention patterns\n",
    "        attention_patterns, predicted_tokens = analyze_attention_patterns(\n",
    "            model, source_text, source_vocab, target_vocab, device\n",
    "        )\n",
    "        \n",
    "        # Create subplots for each example\n",
    "        ax1 = plt.subplot(gs[idx, 0])  # Text visualization\n",
    "        ax2 = plt.subplot(gs[idx, 1])  # Attention heatmap\n",
    "        \n",
    "        # Visualize text alignment\n",
    "        visualize_text_alignment(\n",
    "            ax1, \n",
    "            source_text, \n",
    "            target_text, \n",
    "            predicted_tokens, \n",
    "            target_vocab\n",
    "        )\n",
    "        \n",
    "        # Visualize attention heatmap\n",
    "        visualize_attention_heatmap(\n",
    "            ax2,\n",
    "            attention_patterns,\n",
    "            source_text,\n",
    "            predicted_tokens,\n",
    "            source_vocab,\n",
    "            target_vocab,\n",
    "            attention_cmap\n",
    "        )\n",
    "    \n",
    "    plt.tight_layout()\n",
    "    \n",
    "    # Log to wandb with custom formatting\n",
    "    wandb.init(project=\"translation_visualization\", name=\"attention_patterns\")\n",
    "    wandb.log({\n",
    "        \"attention_visualization\": wandb.Image(fig),\n",
    "        \"visualization_type\": \"translation_attention\",\n",
    "        \"num_examples\": num_examples\n",
    "    })\n",
    "    \n",
    "    plt.show()\n",
    "\n",
    "def analyze_attention_patterns(model, source_text, source_vocab, target_vocab, device):\n",
    "    \"\"\"\n",
    "    Analyze attention patterns during translation\n",
    "    \"\"\"\n",
    "    # Encode source text\n",
    "    source_indices = source_vocab.encode(source_text)\n",
    "    source_tensor = torch.tensor([source_indices], device=device)\n",
    "    \n",
    "    # Initialize attention tracking\n",
    "    attention_weights = []\n",
    "    predicted_tokens = []\n",
    "    \n",
    "    # Get encoder outputs\n",
    "    with torch.no_grad():\n",
    "        encoder_outputs, encoder_hidden = model.encoder(source_tensor)\n",
    "        \n",
    "        # Initialize decoder\n",
    "        decoder_hidden = model._initialize_decoder_state((encoder_outputs, encoder_hidden))\n",
    "        decoder_input = torch.tensor([[target_vocab.sos_token]], device=device)\n",
    "        \n",
    "        # Generate translation\n",
    "        for _ in range(model.config['max_length']):\n",
    "            # Get attention context\n",
    "            context, attention = model._compute_attention(decoder_hidden, encoder_outputs)\n",
    "            attention_weights.append(attention.squeeze().cpu().numpy())\n",
    "            \n",
    "            # Generate next token\n",
    "            output, decoder_hidden = model._process_decoder_step(\n",
    "                decoder_input, decoder_hidden, encoder_outputs, context\n",
    "            )\n",
    "            \n",
    "            # Get predicted token\n",
    "            predicted_token = output.argmax(1).item()\n",
    "            predicted_tokens.append(predicted_token)\n",
    "            \n",
    "            # Check for end of sequence\n",
    "            if predicted_token == target_vocab.eos_token:\n",
    "                break\n",
    "                \n",
    "            decoder_input = torch.tensor([[predicted_token]], device=device)\n",
    "    \n",
    "    return attention_weights, predicted_tokens\n",
    "\n",
    "def visualize_text_alignment(ax, source_text, target_text, predicted_tokens, target_vocab):\n",
    "    \"\"\"\n",
    "    Visualize text alignment between source and target\n",
    "    \"\"\"\n",
    "    predicted_text = target_vocab.decode(predicted_tokens, remove_special_tokens=True)\n",
    "    \n",
    "    # Create text visualization\n",
    "    ax.text(0.5, 0.7, f\"Source: {source_text}\", \n",
    "            ha='center', va='center', fontproperties=hindi_font, fontsize=12)\n",
    "    ax.text(0.5, 0.5, f\"Target: {target_text}\", \n",
    "            ha='center', va='center', fontproperties=hindi_font, fontsize=12)\n",
    "    ax.text(0.5, 0.3, f\"Predicted: {predicted_text}\", \n",
    "            ha='center', va='center', fontproperties=hindi_font, fontsize=12)\n",
    "    \n",
    "    ax.axis('off')\n",
    "\n",
    "def visualize_attention_heatmap(ax, attention_patterns, source_text, predicted_tokens, \n",
    "                              source_vocab, target_vocab, cmap):\n",
    "    \"\"\"\n",
    "    Visualize attention heatmap with custom formatting\n",
    "    \"\"\"\n",
    "    # Convert attention patterns to numpy array\n",
    "    attention_matrix = np.array(attention_patterns)\n",
    "    \n",
    "    # Get character representations\n",
    "    source_chars = [source_vocab.idx2char[i] for i in source_vocab.encode(source_text)]\n",
    "    target_chars = [target_vocab.idx2char[i] for i in predicted_tokens]\n",
    "    \n",
    "    # Create heatmap\n",
    "    im = ax.imshow(attention_matrix, cmap=cmap, aspect='auto')\n",
    "    \n",
    "    # Customize axis labels\n",
    "    ax.set_xticks(np.arange(len(source_chars)))\n",
    "    ax.set_yticks(np.arange(len(target_chars)))\n",
    "    ax.set_xticklabels(source_chars, fontproperties=hindi_font, fontsize=10)\n",
    "    ax.set_yticklabels(target_chars, fontproperties=hindi_font, fontsize=10)\n",
    "    \n",
    "    # Add colorbar\n",
    "    plt.colorbar(im, ax=ax)\n",
    "    \n",
    "    # Rotate x-axis labels\n",
    "    plt.setp(ax.get_xticklabels(), rotation=45, ha=\"right\", rotation_mode=\"anchor\")"
   ]
  },
  {
   "cell_type": "code",
   "execution_count": null,
   "id": "rhwj9QO_OTma",
   "metadata": {
    "colab": {
     "base_uri": "https://localhost:8080/",
     "height": 1000
    },
    "execution": {
     "execution_failed": "2025-05-20T22:10:50.834Z",
     "iopub.execute_input": "2025-05-20T21:29:03.337677Z",
     "iopub.status.busy": "2025-05-20T21:29:03.337226Z"
    },
    "id": "rhwj9QO_OTma",
    "outputId": "1ee2303e-aa9e-478a-8f78-3e8008333889",
    "trusted": true
   },
   "outputs": [
    {
     "name": "stderr",
     "output_type": "stream",
     "text": [
      "/tmp/ipykernel_35/3240096877.py:45: UserWarning: Glyph 8594 (\\N{RIGHTWARDS ARROW}) missing from current font.\n",
      "  plt.tight_layout()\n"
     ]
    },
    {
     "data": {
      "text/html": [
       "Changes to your `wandb` environment variables will be ignored because your `wandb` session has already started. For more information on how to modify your settings with `wandb.init()` arguments, please refer to <a href='https://wandb.me/wandb-init' target=\"_blank\">the W&B docs</a>."
      ],
      "text/plain": [
       "<IPython.core.display.HTML object>"
      ]
     },
     "metadata": {},
     "output_type": "display_data"
    },
    {
     "data": {
      "text/html": [
       "Ignoring project 'cs24m022_da6401_assignment3' when running a sweep."
      ],
      "text/plain": [
       "<IPython.core.display.HTML object>"
      ]
     },
     "metadata": {},
     "output_type": "display_data"
    },
    {
     "data": {
      "text/html": [],
      "text/plain": [
       "<IPython.core.display.HTML object>"
      ]
     },
     "metadata": {},
     "output_type": "display_data"
    },
    {
     "data": {
      "text/html": [
       " View run <strong style=\"color:#cdcd00\">attention_seq2seq_run</strong> at: <a href='https://wandb.ai/cs24m022-iit-madras-foundation/cs24m022_DA6401_Assignment3/runs/hkcetvct' target=\"_blank\">https://wandb.ai/cs24m022-iit-madras-foundation/cs24m022_DA6401_Assignment3/runs/hkcetvct</a><br> View project at: <a href='https://wandb.ai/cs24m022-iit-madras-foundation/cs24m022_DA6401_Assignment3' target=\"_blank\">https://wandb.ai/cs24m022-iit-madras-foundation/cs24m022_DA6401_Assignment3</a><br>Synced 5 W&B file(s), 1 media file(s), 2 artifact file(s) and 0 other file(s)"
      ],
      "text/plain": [
       "<IPython.core.display.HTML object>"
      ]
     },
     "metadata": {},
     "output_type": "display_data"
    },
    {
     "data": {
      "text/html": [
       "Find logs at: <code>./wandb/run-20250520_212313-hkcetvct/logs</code>"
      ],
      "text/plain": [
       "<IPython.core.display.HTML object>"
      ]
     },
     "metadata": {},
     "output_type": "display_data"
    },
    {
     "data": {
      "text/html": [
       "Tracking run with wandb version 0.19.9"
      ],
      "text/plain": [
       "<IPython.core.display.HTML object>"
      ]
     },
     "metadata": {},
     "output_type": "display_data"
    },
    {
     "data": {
      "text/html": [
       "Run data is saved locally in <code>/kaggle/working/wandb/run-20250520_212903-hkcetvct</code>"
      ],
      "text/plain": [
       "<IPython.core.display.HTML object>"
      ]
     },
     "metadata": {},
     "output_type": "display_data"
    },
    {
     "data": {
      "text/html": [
       "Syncing run <strong><a href='https://wandb.ai/cs24m022-iit-madras-foundation/cs24m022_DA6401_Assignment3/runs/hkcetvct' target=\"_blank\">Attention_Heatmap</a></strong> to <a href='https://wandb.ai/cs24m022-iit-madras-foundation/cs24m022_DA6401_Assignment3' target=\"_blank\">Weights & Biases</a> (<a href='https://wandb.me/developer-guide' target=\"_blank\">docs</a>)<br>Sweep page: <a href='https://wandb.ai/cs24m022-iit-madras-foundation/cs24m022_DA6401_Assignment3/sweeps/ukpef1o2' target=\"_blank\">https://wandb.ai/cs24m022-iit-madras-foundation/cs24m022_DA6401_Assignment3/sweeps/ukpef1o2</a>"
      ],
      "text/plain": [
       "<IPython.core.display.HTML object>"
      ]
     },
     "metadata": {},
     "output_type": "display_data"
    },
    {
     "data": {
      "text/html": [
       " View project at <a href='https://wandb.ai/cs24m022-iit-madras-foundation/cs24m022_DA6401_Assignment3' target=\"_blank\">https://wandb.ai/cs24m022-iit-madras-foundation/cs24m022_DA6401_Assignment3</a>"
      ],
      "text/plain": [
       "<IPython.core.display.HTML object>"
      ]
     },
     "metadata": {},
     "output_type": "display_data"
    },
    {
     "data": {
      "text/html": [
       " View sweep at <a href='https://wandb.ai/cs24m022-iit-madras-foundation/cs24m022_DA6401_Assignment3/sweeps/ukpef1o2' target=\"_blank\">https://wandb.ai/cs24m022-iit-madras-foundation/cs24m022_DA6401_Assignment3/sweeps/ukpef1o2</a>"
      ],
      "text/plain": [
       "<IPython.core.display.HTML object>"
      ]
     },
     "metadata": {},
     "output_type": "display_data"
    },
    {
     "data": {
      "text/html": [
       " View run at <a href='https://wandb.ai/cs24m022-iit-madras-foundation/cs24m022_DA6401_Assignment3/runs/hkcetvct' target=\"_blank\">https://wandb.ai/cs24m022-iit-madras-foundation/cs24m022_DA6401_Assignment3/runs/hkcetvct</a>"
      ],
      "text/plain": [
       "<IPython.core.display.HTML object>"
      ]
     },
     "metadata": {},
     "output_type": "display_data"
    },
    {
     "name": "stderr",
     "output_type": "stream",
     "text": [
      "/usr/local/lib/python3.11/dist-packages/wandb/sdk/data_types/image.py:307: UserWarning: Glyph 8594 (\\N{RIGHTWARDS ARROW}) missing from current font.\n",
      "  util.ensure_matplotlib_figure(data).savefig(buf, format=self.format)\n",
      "/usr/local/lib/python3.11/dist-packages/IPython/core/pylabtools.py:151: UserWarning: Glyph 8594 (\\N{RIGHTWARDS ARROW}) missing from current font.\n",
      "  fig.canvas.print_figure(bytes_io, **kw)\n"
     ]
    }
   ],
   "source": [
    "plot_attention_heatmap(model, test_loader, src_vocab, tgt_vocab, device, num_samples=10)"
   ]
  },
  {
   "cell_type": "code",
   "execution_count": null,
   "id": "KuNr7eQOsXH5",
   "metadata": {
    "execution": {
     "iopub.execute_input": "2025-05-20T23:18:51.644121Z",
     "iopub.status.busy": "2025-05-20T23:18:51.643467Z",
     "iopub.status.idle": "2025-05-20T23:18:58.733318Z",
     "shell.execute_reply": "2025-05-20T23:18:58.732575Z",
     "shell.execute_reply.started": "2025-05-20T23:18:51.644096Z"
    },
    "id": "KuNr7eQOsXH5",
    "trusted": true
   },
   "outputs": [
    {
     "name": "stdout",
     "output_type": "stream",
     "text": [
      "Sampled words: ['Damn', 'world', 'need', 'model', 'example']\n"
     ]
    },
    {
     "data": {
      "text/html": [
       "Changes to your `wandb` environment variables will be ignored because your `wandb` session has already started. For more information on how to modify your settings with `wandb.init()` arguments, please refer to <a href='https://wandb.me/wandb-init' target=\"_blank\">the W&B docs</a>."
      ],
      "text/plain": [
       "<IPython.core.display.HTML object>"
      ]
     },
     "metadata": {},
     "output_type": "display_data"
    },
    {
     "data": {
      "text/html": [
       "Ignoring project 'cs24m022_da6401_assignment3' when running a sweep."
      ],
      "text/plain": [
       "<IPython.core.display.HTML object>"
      ]
     },
     "metadata": {},
     "output_type": "display_data"
    },
    {
     "data": {
      "text/html": [],
      "text/plain": [
       "<IPython.core.display.HTML object>"
      ]
     },
     "metadata": {},
     "output_type": "display_data"
    },
    {
     "data": {
      "text/html": [
       "<br>    <style><br>        .wandb-row {<br>            display: flex;<br>            flex-direction: row;<br>            flex-wrap: wrap;<br>            justify-content: flex-start;<br>            width: 100%;<br>        }<br>        .wandb-col {<br>            display: flex;<br>            flex-direction: column;<br>            flex-basis: 100%;<br>            flex: 1;<br>            padding: 10px;<br>        }<br>    </style><br><div class=\"wandb-row\"><div class=\"wandb-col\"><h3>Run summary:</h3><br/><table class=\"wandb\"><tr><td>epoch</td><td>9</td></tr><tr><td>train_loss</td><td>0.23786</td></tr><tr><td>val_accuracy</td><td>0.33869</td></tr><tr><td>validation_loss</td><td>0.74025</td></tr></table><br/></div></div>"
      ],
      "text/plain": [
       "<IPython.core.display.HTML object>"
      ]
     },
     "metadata": {},
     "output_type": "display_data"
    },
    {
     "data": {
      "text/html": [
       " View run <strong style=\"color:#cdcd00\">embedding_size_256_num_layers_2_hidden_size_512                           _cell_type_RNN_dp_0.2_lr_0.0005_batch_64</strong> at: <a href='https://wandb.ai/cs24m022-iit-madras-foundation/cs24m022_DA6401_Assignment3/runs/nc08qgtb' target=\"_blank\">https://wandb.ai/cs24m022-iit-madras-foundation/cs24m022_DA6401_Assignment3/runs/nc08qgtb</a><br> View project at: <a href='https://wandb.ai/cs24m022-iit-madras-foundation/cs24m022_DA6401_Assignment3' target=\"_blank\">https://wandb.ai/cs24m022-iit-madras-foundation/cs24m022_DA6401_Assignment3</a><br>Synced 5 W&B file(s), 1 media file(s), 7 artifact file(s) and 0 other file(s)"
      ],
      "text/plain": [
       "<IPython.core.display.HTML object>"
      ]
     },
     "metadata": {},
     "output_type": "display_data"
    },
    {
     "data": {
      "text/html": [
       "Find logs at: <code>./wandb/run-20250520_231632-nc08qgtb/logs</code>"
      ],
      "text/plain": [
       "<IPython.core.display.HTML object>"
      ]
     },
     "metadata": {},
     "output_type": "display_data"
    },
    {
     "data": {
      "text/html": [
       "Tracking run with wandb version 0.19.9"
      ],
      "text/plain": [
       "<IPython.core.display.HTML object>"
      ]
     },
     "metadata": {},
     "output_type": "display_data"
    },
    {
     "data": {
      "text/html": [
       "Run data is saved locally in <code>/kaggle/working/wandb/run-20250520_231851-nc08qgtb</code>"
      ],
      "text/plain": [
       "<IPython.core.display.HTML object>"
      ]
     },
     "metadata": {},
     "output_type": "display_data"
    },
    {
     "data": {
      "text/html": [
       "Resuming run <strong><a href='https://wandb.ai/cs24m022-iit-madras-foundation/cs24m022_DA6401_Assignment3/runs/nc08qgtb' target=\"_blank\">embedding_size_256_num_layers_2_hidden_size_512                           _cell_type_RNN_dp_0.2_lr_0.0005_batch_64</a></strong> to <a href='https://wandb.ai/cs24m022-iit-madras-foundation/cs24m022_DA6401_Assignment3' target=\"_blank\">Weights & Biases</a> (<a href='https://wandb.me/developer-guide' target=\"_blank\">docs</a>)<br>Sweep page: <a href='https://wandb.ai/cs24m022-iit-madras-foundation/cs24m022_DA6401_Assignment3/sweeps/ukpef1o2' target=\"_blank\">https://wandb.ai/cs24m022-iit-madras-foundation/cs24m022_DA6401_Assignment3/sweeps/ukpef1o2</a>"
      ],
      "text/plain": [
       "<IPython.core.display.HTML object>"
      ]
     },
     "metadata": {},
     "output_type": "display_data"
    },
    {
     "data": {
      "text/html": [
       " View project at <a href='https://wandb.ai/cs24m022-iit-madras-foundation/cs24m022_DA6401_Assignment3' target=\"_blank\">https://wandb.ai/cs24m022-iit-madras-foundation/cs24m022_DA6401_Assignment3</a>"
      ],
      "text/plain": [
       "<IPython.core.display.HTML object>"
      ]
     },
     "metadata": {},
     "output_type": "display_data"
    },
    {
     "data": {
      "text/html": [
       " View sweep at <a href='https://wandb.ai/cs24m022-iit-madras-foundation/cs24m022_DA6401_Assignment3/sweeps/ukpef1o2' target=\"_blank\">https://wandb.ai/cs24m022-iit-madras-foundation/cs24m022_DA6401_Assignment3/sweeps/ukpef1o2</a>"
      ],
      "text/plain": [
       "<IPython.core.display.HTML object>"
      ]
     },
     "metadata": {},
     "output_type": "display_data"
    },
    {
     "data": {
      "text/html": [
       " View run at <a href='https://wandb.ai/cs24m022-iit-madras-foundation/cs24m022_DA6401_Assignment3/runs/nc08qgtb' target=\"_blank\">https://wandb.ai/cs24m022-iit-madras-foundation/cs24m022_DA6401_Assignment3/runs/nc08qgtb</a>"
      ],
      "text/plain": [
       "<IPython.core.display.HTML object>"
      ]
     },
     "metadata": {},
     "output_type": "display_data"
    },
    {
     "data": {
      "text/html": [
       "attn_4.html"
      ],
      "text/plain": [
       "<IPython.core.display.HTML object>"
      ]
     },
     "metadata": {},
     "output_type": "display_data"
    }
   ],
   "source": [
    "import os, json, random, torch, wandb\n",
    "from IPython.display import HTML\n",
    "\n",
    "# 1) Manual list of Latin words\n",
    "sampled = [\"Damn\", \"world\", \"need\", \"model\", \"example\"]\n",
    "print(\"Sampled words:\", sampled)\n",
    "\n",
    "# 2) Inline HTML generator\n",
    "def create_interactive_connectivity(attn_matrix, input_seq, output_seq, filename=\"attention.html\"):\n",
    "    html_template = \"\"\"<!DOCTYPE html><html><head><meta charset=\"UTF-8\"><title>Attention</title><style>\n",
    " body{font-family:'Arial Unicode MS','Noto Sans Devanagari',sans-serif;margin:20px;text-align:center;}\n",
    " .container{display:inline-block;}\n",
    " .controls{margin:12px;}\n",
    " .slider{width:180px;}\n",
    " .output-chars,.input-chars{display:flex;justify-content:center;margin:10px;}\n",
    " .char{padding:6px 10px;margin:3px;font-size:18px;position:relative;cursor:pointer;min-width:24px;transition:all .2s;}\n",
    " .output-char{background:#f0f0f0;border-radius:4px;}\n",
    " .input-char{background:#e0e0e0;border-radius:4px;}\n",
    " .selected{background:#4caf50;color:#fff;font-weight:bold;box-shadow:0 0 6px rgba(76,175,80,.5);}\n",
    " .highlighted{background:rgba(76,175,80,.3);transform:scale(1.1);}\n",
    " .connection-line{position:absolute;background:rgba(0,200,0,.5);height:3px;transform-origin:left center;z-index:-1;pointer-events:none;}\n",
    "</style></head><body>\n",
    " <div class=\"container\">\n",
    "  <div class=\"controls\">\n",
    "    Threshold:\n",
    "    <input id=\"thr\" type=\"range\" min=\"0\" max=\"100\" value=\"30\" class=\"slider\">\n",
    "    <span id=\"tv\">0.30</span>\n",
    "  </div>\n",
    "  <div class=\"output-chars\" id=\"outs\"></div>\n",
    "  <div class=\"input-chars\" id=\"ins\"></div>\n",
    " </div>\n",
    " <script>\n",
    "  const A={attn_matrix},IN={input_seq},OUT={output_seq};\n",
    "  let cur=0,thr=0.3;\n",
    "  function init(){renderOut();renderIn();draw();\n",
    "    document.getElementById('thr').oninput=e=>{thr=e.target.value/100;document.getElementById('tv').textContent=thr.toFixed(2);draw();};\n",
    "    window.onresize=draw;\n",
    "  }\n",
    "  function renderOut(){let c=document.getElementById('outs');c.innerHTML='';\n",
    "    OUT.forEach((ch,i)=>{let d=document.createElement('div');\n",
    "      d.className=`char output-char ${i===cur?'selected':''}`;d.textContent=ch;d.dataset.i=i;\n",
    "      d.onmouseover=d.onclick=()=>{cur=i;renderOut();draw();};c.appendChild(d);\n",
    "    });\n",
    "  }\n",
    "  function renderIn(){let c=document.getElementById('ins');c.innerHTML='';\n",
    "    IN.forEach((ch,i)=>{let d=document.createElement('div');\n",
    "      d.className='char input-char';d.textContent=ch;d.dataset.i=i;c.appendChild(d);\n",
    "    });\n",
    "  }\n",
    "  function draw(){\n",
    "    document.querySelectorAll('.connection-line').forEach(e=>e.remove());\n",
    "    document.querySelectorAll('.input-char').forEach(e=>e.classList.remove('highlighted'));\n",
    "    let o=document.querySelector(`.output-char[data-i=\"${cur}\"]`);if(!o)return;\n",
    "    let R=o.getBoundingClientRect(),W=A[cur],M=Math.max(...W);\n",
    "    W.forEach((w,i)=>{let n=w/M; if(n<thr) return;\n",
    "      let inp=document.querySelector(`.input-char[data-i=\"${i}\"]`);\n",
    "      inp.classList.add('highlighted');let S=inp.getBoundingClientRect();\n",
    "      let x1=R.left+R.width/2-window.scrollX,y1=R.top+R.height-window.scrollY,\n",
    "          x2=S.left+S.width/2-window.scrollX,y2=S.top-window.scrollY;\n",
    "      let L=Math.hypot(x2-x1,y2-y1),ang=Math.atan2(y2-y1,x2-x1)*180/Math.PI;\n",
    "      let line=document.createElement('div');line.className='connection-line';\n",
    "      Object.assign(line.style,{width:`${L}px`,left:`${x1}px`,top:`${y1}px`,transform:`rotate(${ang}deg)`,opacity:n});\n",
    "      document.body.appendChild(line);\n",
    "    });\n",
    "  }\n",
    "  document.addEventListener('DOMContentLoaded',init);\n",
    "</script></body></html>\"\"\"\n",
    "\n",
    "    # sanitize attention matrix\n",
    "    clean = []\n",
    "    for row in attn_matrix:\n",
    "        if hasattr(row, \"cpu\"):\n",
    "            row = row.cpu().numpy()\n",
    "        clean.append([float(x) for x in row])\n",
    "    attn_json = json.dumps(clean)\n",
    "    inp_json  = json.dumps(input_seq)\n",
    "    out_json  = json.dumps(output_seq)\n",
    "\n",
    "    html = html_template.replace(\"{attn_matrix}\", attn_json)\\\n",
    "                        .replace(\"{input_seq}\", inp_json)\\\n",
    "                        .replace(\"{output_seq}\", out_json)\n",
    "    with open(filename, \"w\", encoding=\"utf-8\") as f:\n",
    "        f.write(html)\n",
    "    return filename\n",
    "\n",
    "# 3) Build & log the W&B table\n",
    "wandb.init(project=\"cs24m022_da6401_assignment3\", resume=\"allow\")\n",
    "table = wandb.Table(columns=[\"Input (Latin)\", \"Prediction (Devanagari)\", \"Attention (HTML)\"])\n",
    "\n",
    "model.eval()\n",
    "for i, latin in enumerate(sampled):\n",
    "    attn_weights, pred_ids = get_attention_weights(model, latin, src_vocab, tgt_vocab, device)\n",
    "    pred_str = tgt_vocab.decode(pred_ids, remove_special_tokens=True)\n",
    "\n",
    "    html_file = create_interactive_connectivity(\n",
    "        attn_matrix=attn_weights,\n",
    "        input_seq=list(latin),\n",
    "        output_seq=list(pred_str),\n",
    "        filename=f\"attn_{i}.html\"\n",
    "    )\n",
    "    html_txt = open(html_file, \"r\", encoding=\"utf-8\").read()\n",
    "    table.add_data(latin, pred_str, wandb.Html(html_txt))\n",
    "    os.remove(html_file)\n",
    "\n",
    "# Log & summary\n",
    "wandb.log({\"Interactive_Attention_Table\": table})\n",
    "wandb.run.summary[\"Interactive_Attention_Examples\"] = table\n",
    "\n",
    "# Optional display\n",
    "display(HTML(html_file))\n"
   ]
  }
 ],
 "metadata": {
  "accelerator": "GPU",
  "colab": {
   "gpuType": "A100",
   "provenance": []
  },
  "kaggle": {
   "accelerator": "gpu",
   "dataSources": [
    {
     "datasetId": 7413548,
     "sourceId": 11804891,
     "sourceType": "datasetVersion"
    },
    {
     "datasetId": 7467893,
     "sourceId": 11882274,
     "sourceType": "datasetVersion"
    }
   ],
   "dockerImageVersionId": 31041,
   "isGpuEnabled": true,
   "isInternetEnabled": true,
   "language": "python",
   "sourceType": "notebook"
  },
  "kernelspec": {
   "display_name": "Python 3",
   "language": "python",
   "name": "python3"
  },
  "language_info": {
   "codemirror_mode": {
    "name": "ipython",
    "version": 3
   },
   "file_extension": ".py",
   "mimetype": "text/x-python",
   "name": "python",
   "nbconvert_exporter": "python",
   "pygments_lexer": "ipython3",
   "version": "3.11.11"
  },
  "papermill": {
   "default_parameters": {},
   "duration": 41852.621314,
   "end_time": "2025-05-14T18:00:15.936686",
   "environment_variables": {},
   "exception": null,
   "input_path": "__notebook__.ipynb",
   "output_path": "__notebook__.ipynb",
   "parameters": {},
   "start_time": "2025-05-14T06:22:43.315372",
   "version": "2.6.0"
  }
 },
 "nbformat": 4,
 "nbformat_minor": 5
}
